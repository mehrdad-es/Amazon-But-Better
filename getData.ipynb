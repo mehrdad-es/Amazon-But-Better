{
 "cells": [
  {
   "cell_type": "code",
   "execution_count": 1,
   "metadata": {},
   "outputs": [],
   "source": [
    "from selenium.webdriver.support import expected_conditions as EC\n",
    "from selenium.webdriver.support.wait import WebDriverWait\n",
    "from selenium.common.exceptions import NoSuchElementException\n",
    "from selenium.common.exceptions import StaleElementReferenceException\n",
    "import sys\n",
    "from selenium.webdriver import Keys, ActionChains\n",
    "from selenium.webdriver.chrome.service import Service\n",
    "from selenium import webdriver\n",
    "from selenium.webdriver.common.by import By\n",
    "from selenium.webdriver import chromium\n",
    "from selenium.webdriver.chrome.options import Options as ChromeOptions\n",
    "from selenium.webdriver.common.desired_capabilities import DesiredCapabilities\n",
    "import os\n",
    "import time\n",
    "import pandas as pd\n",
    "# import html2text as h2t\n",
    "from urllib import request\n",
    "import os,glob\n",
    "import bs4\n",
    "from PIL import Image as img\n",
    "from tqdm import tqdm\n",
    "import pickle\n",
    "import os.path as path\n",
    "import pickle"
   ]
  },
  {
   "cell_type": "code",
   "execution_count": 159,
   "metadata": {},
   "outputs": [],
   "source": [
    "chrome_options = ChromeOptions()\n",
    "# chrome_options.add_experimental_option(\"detach\", True)\n",
    "# chrome_options.add_experimental_option(\"debuggerAddress\",\"localhost:9222\")\n",
    "# chrome_options.add_argument('--headless=\"new\"')\n",
    "# chrome_options.add_argument(\"--remote-debugging-port=9222\")\n",
    "service1 = Service(executable_path=\"./chromedriver\")\n",
    "driver = webdriver.Chrome(service=service1,options=chrome_options)"
   ]
  },
  {
   "cell_type": "code",
   "execution_count": 53,
   "metadata": {},
   "outputs": [],
   "source": [
    "driver.get('https://www.amazon.ca/s?bbn=934986&rh=n%3A934986%2Cp_n_\\\n",
    "                         binding_browse-bin%3A6202019011&dc&qid=1700014074&rnid=23\\\n",
    "                         66372011&ref=lp_934986_nr_p_n_binding_browse-bin_1')\n",
    "linksOnScreen=driver.find_element(By.XPATH,'/html/body/div[1]/div[1]/div[1]/div[1]/div/span[1]/div[1]'\\\n",
    "                                  ).find_elements(By.XPATH,'./*')"
   ]
  },
  {
   "cell_type": "code",
   "execution_count": 18,
   "metadata": {},
   "outputs": [
    {
     "data": {
      "text/plain": [
       "'Results'"
      ]
     },
     "execution_count": 18,
     "metadata": {},
     "output_type": "execute_result"
    }
   ],
   "source": [
    "linksOnScreen[0].text"
   ]
  },
  {
   "cell_type": "code",
   "execution_count": 33,
   "metadata": {},
   "outputs": [],
   "source": [
    "l=[]\n",
    "for i,item in enumerate(linksOnScreen):\n",
    "    try:\n",
    "        # print(type(item.text))\n",
    "        criteria=item.text\n",
    "        if 'Kindle Edition' in criteria:\n",
    "            l.append(item)\n",
    "            # print(i)\n",
    "    except:\n",
    "        continue\n",
    "linksOnScreen=l\n",
    "testSet=linksOnScreen[:5]"
   ]
  },
  {
   "cell_type": "code",
   "execution_count": 20,
   "metadata": {},
   "outputs": [
    {
     "name": "stdout",
     "output_type": "stream",
     "text": [
      "['The Mamba Mentality: How I Play Kindle Edition', 'by Kobe Bryant (Author), Pau Gasol (Foreword), Phil Jackson (Introduction), Andrew D. Bernstein (Photographer) Format: Kindle Edition', '4.7', '27,281 ratings', 'See all formats and editions', 'Kindle Edition', '$19.99', 'Read with our free app', 'Hardcover', '$45.41', '21 Used from $39.92', '29 New from $29.57', 'Great on Kindle', 'Great Experience. Great Value.', 'Enjoy a great reading experience when you buy the Kindle edition of this book. Learn more about Great on Kindle, available in select categories.', 'The Mamba Mentality: How I Play is Kobe Bryant’s personal perspective of his life and career on the basketball court and his exceptional, insightful style of playing the game—a fitting legacy from the late Los Angeles Laker superstar.', '', 'In the wake of his retirement from professional basketball, Kobe “The Black Mamba” Bryant decided to share his vast knowledge and understanding of the game to take readers on an unprecedented journey to the core of the legendary “Mamba mentality.” Citing an obligation and an opportunity to teach young players, hardcore fans, and devoted students of the game how to play it “the right way,” The Mamba Mentality takes us inside the mind of one of the most intelligent, analytical, and creative basketball players ever.', '', 'In his own words, Bryant reveals his famously detailed approach and the steps he took to prepare mentally and physically to not just succeed at the game, but to excel. Readers will learn how Bryant studied an opponent, how he channeled his passion for the game, how he played through injuries. They’ll also get fascinating granular detail as he breaks down specific plays and match-ups from throughout his career.', '', 'Bryant’s detailed accounts are paired with stunning photographs by the Hall of Fame photographer Andrew D. Bernstein. Bernstein, long the Lakers and NBA official photographer, captured Bryant’s very first NBA photo in 1996 and his last in 2016—and hundreds of thousands in between, the record of a unique, twenty-year relationship between one athlete and one photographer.', '', 'The combination of Bryant’s narrative and Bernstein’s photos make The Mamba Mentality an unprecedented look behind the curtain at the career of one of the world’s most celebrated and fascinating athletes.', 'Read less', 'Print length', '236 pages', 'Language', 'English', 'Sticky notes', 'On Kindle Scribe', 'Publisher', 'MCD', 'Publication date', 'Oct. 23 2018', 'Due to its large file size, this book may take longer to download', 'Sponsored']\n"
     ]
    }
   ],
   "source": [
    "driver.find_element(By.XPATH,'/html/body/div[2]/div/div[3]/div[1]/div[12]/div[13]/div/div[2]/a').click()\n",
    "bookDesDiv=driver.find_element(By.ID,'centerCol').text.split('\\n')\n",
    "print(bookDesDiv)\n",
    "bookDescription=bookDesDiv[bookDesDiv.index('Enjoy a great reading experience when you buy the Kindle edition of this book. Learn more about Great on Kindle, available in select categories.')+1:bookDesDiv.index('Read \\\n",
    "less')]"
   ]
  },
  {
   "cell_type": "code",
   "execution_count": 21,
   "metadata": {},
   "outputs": [],
   "source": [
    "bookDescription=''.join(bookDescription)\n",
    "with open(f'./bios/{input(\"title of bio?\")}.txt','w') as f:\n",
    "    f.write(bookDescription)"
   ]
  },
  {
   "cell_type": "code",
   "execution_count": 18,
   "metadata": {},
   "outputs": [],
   "source": [
    "bookDesDiv=driver.find_element(By.ID,'centerCol').text.split('\\n')"
   ]
  },
  {
   "cell_type": "code",
   "execution_count": 23,
   "metadata": {},
   "outputs": [
    {
     "data": {
      "text/plain": [
       "['My Name Is Barbra Hardcover – Nov. 7 2023',\n",
       " 'by Barbra Streisand (Author)',\n",
       " '4.6',\n",
       " '147 ratings',\n",
       " 'Amazon Charts #3 this week',\n",
       " 'See all formats and editions',\n",
       " 'Kindle Edition',\n",
       " '$18.99',\n",
       " 'Read with our free app',\n",
       " 'Audiobook',\n",
       " '$0.00',\n",
       " 'Free with your Audible trial',\n",
       " 'Hardcover',\n",
       " '$44.10',\n",
       " '10 Used from $80.84',\n",
       " '21 New from $44.10',\n",
       " 'Great on Kindle',\n",
       " 'Great Experience. Great Value.',\n",
       " 'Enjoy a great reading experience when you buy the Kindle edition of this book. Learn more about Great on Kindle, available in select categories.',\n",
       " 'View Kindle Edition',\n",
       " 'The long-awaited memoir by the superstar of stage, screen, recordings, and television',\n",
       " '',\n",
       " 'Barbra Streisand is by any account a living legend, a woman who in a career spanning six decades has excelled in every area of entertainment. She is among the handful of EGOT winners (Emmy, Grammy, Oscar, and Tony) and has one of the greatest and most recognizable voices in the history of popular music. She has been nominated for a Grammy 46 times, and with Yentl she became the first woman to write, produce, direct, and star in a major motion picture. In My Name Is Barbra, she tells her own story about her life and extraordinary career, from growing up in Brooklyn to her first star-making appearances in New York nightclubs to her breakout performance in Funny Girl on stage and winning the Oscar for that performance on film. Then came a long string of successes in every medium in the years that followed. The book is, like Barbra herself, frank, funny, opinionated, and charming. She recounts her early struggles to become an actress, eventually turning to singing to earn a living; the recording of some of her acclaimed albums; the years of effort involved in making Yentl; her direction of The Prince of Tides; her friendships with figures ranging from Marlon Brando to Madeleine Albright; her political advocacy; and the fulfillment she’s found in her marriage to James Brolin.',\n",
       " ' ',\n",
       " 'No entertainer’s memoir has been more anticipated than Barbra Streisand’s, and this engrossing and delightful book will be eagerly welcomed by her millions of fans.',\n",
       " 'Read less',\n",
       " 'Print length',\n",
       " '992 pages',\n",
       " 'Language',\n",
       " 'English',\n",
       " 'Publisher',\n",
       " 'Viking',\n",
       " 'Publication date',\n",
       " 'Nov. 7 2023',\n",
       " 'Dimensions',\n",
       " '16.36 x 4.72 x 24.59 cm']"
      ]
     },
     "execution_count": 23,
     "metadata": {},
     "output_type": "execute_result"
    }
   ],
   "source": [
    "bookDesDiv"
   ]
  },
  {
   "cell_type": "code",
   "execution_count": 19,
   "metadata": {},
   "outputs": [],
   "source": [
    "title_author='|'.join(bookDesDiv[:2])"
   ]
  },
  {
   "cell_type": "code",
   "execution_count": 20,
   "metadata": {},
   "outputs": [],
   "source": [
    "bookDescription=bookDesDiv[bookDesDiv.index('')-1:bookDesDiv.index('Read \\\n",
    "less')]"
   ]
  },
  {
   "cell_type": "code",
   "execution_count": 61,
   "metadata": {},
   "outputs": [
    {
     "data": {
      "text/plain": [
       "'Killers of the Flower Moon: The Osage Murders and the Birth of the FBI Kindle Edition\\nby David Grann (Author) Format: Kindle Edition'"
      ]
     },
     "execution_count": 61,
     "metadata": {},
     "output_type": "execute_result"
    }
   ],
   "source": [
    "title_author"
   ]
  },
  {
   "cell_type": "code",
   "execution_count": 24,
   "metadata": {},
   "outputs": [
    {
     "data": {
      "text/plain": [
       "'The long-awaited memoir by the superstar of stage, screen, recordings, and televisionBarbra Streisand is by any account a living legend, a woman who in a career spanning six decades has excelled in every area of entertainment. She is among the handful of EGOT winners (Emmy, Grammy, Oscar, and Tony) and has one of the greatest and most recognizable voices in the history of popular music. She has been nominated for a Grammy 46 times, and with Yentl she became the first woman to write, produce, direct, and star in a major motion picture. In My Name Is Barbra, she tells her own story about her life and extraordinary career, from growing up in Brooklyn to her first star-making appearances in New York nightclubs to her breakout performance in Funny Girl on stage and winning the Oscar for that performance on film. Then came a long string of successes in every medium in the years that followed. The book is, like Barbra herself, frank, funny, opinionated, and charming. She recounts her early struggles to become an actress, eventually turning to singing to earn a living; the recording of some of her acclaimed albums; the years of effort involved in making Yentl; her direction of The Prince of Tides; her friendships with figures ranging from Marlon Brando to Madeleine Albright; her political advocacy; and the fulfillment she’s found in her marriage to James Brolin. No entertainer’s memoir has been more anticipated than Barbra Streisand’s, and this engrossing and delightful book will be eagerly welcomed by her millions of fans.'"
      ]
     },
     "execution_count": 24,
     "metadata": {},
     "output_type": "execute_result"
    }
   ],
   "source": [
    "''.join(bookDescription)"
   ]
  },
  {
   "cell_type": "code",
   "execution_count": 37,
   "metadata": {},
   "outputs": [],
   "source": [
    "allResultsXpath='/html/body/div[1]/div[1]/div[1]/div[1]/div/span[1]/div[1]'\n",
    "linksOnScreen=driver.find_element(By.XPATH,allResultsXpath\\\n",
    "                                  ).find_elements(By.XPATH,'//a')"
   ]
  },
  {
   "cell_type": "code",
   "execution_count": null,
   "metadata": {},
   "outputs": [],
   "source": [
    "# urls=[]\n",
    "for i in tqdm(range(75)):\n",
    "    allResultsXpath='/html/body/div[1]/div[1]/div[1]/div[1]/div/span[1]/div[1]'\n",
    "    linksOnScreen=driver.find_element(By.XPATH,allResultsXpath\\\n",
    "                                    ).find_elements(By.XPATH,'//a')\n",
    "    prevOrNext=[]\n",
    "    for item in linksOnScreen:\n",
    "        link=str(item.get_attribute('href'))\n",
    "        aria_label=str(item.get_attribute('aria-label'))\n",
    "        if 'https://www.amazon.ca/sspa/click' not in link and\\\n",
    "        'https://www.amazon.ca/s?i=stripbooks' not in link and\\\n",
    "        item.text=='Kindle Edition':\n",
    "            if link in urls:\n",
    "                print('repeated link')\n",
    "            else:\n",
    "                urls.append(link)\n",
    "        if 'Go to previous page' in aria_label or\\\n",
    "        'Go to next page' in aria_label:\n",
    "            prevOrNext.append(link)\n",
    "    # with open('urls.pkl','wb') as f:\n",
    "    #     pickle.dump(urls,f)\n",
    "    # print(prevOrNext)\n",
    "    # print(i)\n",
    "    if i==0:\n",
    "        driver.get(prevOrNext[0])\n",
    "    else:\n",
    "        driver.get(prevOrNext[1])\n"
   ]
  },
  {
   "cell_type": "code",
   "execution_count": 42,
   "metadata": {},
   "outputs": [
    {
     "data": {
      "text/plain": [
       "[None,\n",
       " None,\n",
       " 'Amazon.ca',\n",
       " None,\n",
       " 'Choose a language for shopping.',\n",
       " None,\n",
       " None,\n",
       " '0 items in cart',\n",
       " None,\n",
       " None,\n",
       " None,\n",
       " None,\n",
       " None,\n",
       " None,\n",
       " None,\n",
       " None,\n",
       " None,\n",
       " None,\n",
       " None,\n",
       " None,\n",
       " None,\n",
       " None,\n",
       " None,\n",
       " None,\n",
       " None,\n",
       " None,\n",
       " None,\n",
       " None,\n",
       " None,\n",
       " None,\n",
       " 'Open Menu',\n",
       " None,\n",
       " None,\n",
       " None,\n",
       " None,\n",
       " None,\n",
       " None,\n",
       " None,\n",
       " None,\n",
       " None,\n",
       " None,\n",
       " None,\n",
       " None,\n",
       " None,\n",
       " None,\n",
       " None,\n",
       " None,\n",
       " None,\n",
       " None,\n",
       " None,\n",
       " None,\n",
       " None,\n",
       " None,\n",
       " None,\n",
       " None,\n",
       " None,\n",
       " None,\n",
       " None,\n",
       " None,\n",
       " '',\n",
       " 'Books',\n",
       " 'Advanced Search',\n",
       " \"Today's Deals\",\n",
       " 'New Releases',\n",
       " 'Amazon Charts',\n",
       " 'Best Sellers & More',\n",
       " 'The Globe & Mail Best Sellers',\n",
       " 'New York Times Best Sellers',\n",
       " 'Best Books of the Month',\n",
       " \"Children's Books\",\n",
       " 'Textbooks',\n",
       " 'Kindle Books',\n",
       " 'Audible Audiobooks',\n",
       " 'Livres en français',\n",
       " None,\n",
       " None,\n",
       " None,\n",
       " None,\n",
       " None,\n",
       " None,\n",
       " None,\n",
       " None,\n",
       " None,\n",
       " None,\n",
       " None,\n",
       " None,\n",
       " None,\n",
       " None,\n",
       " None,\n",
       " None,\n",
       " None,\n",
       " None,\n",
       " None,\n",
       " None,\n",
       " None,\n",
       " None,\n",
       " None,\n",
       " None,\n",
       " None,\n",
       " None,\n",
       " None,\n",
       " None,\n",
       " None,\n",
       " None,\n",
       " None,\n",
       " None,\n",
       " None,\n",
       " None,\n",
       " None,\n",
       " None,\n",
       " None,\n",
       " None,\n",
       " None,\n",
       " None,\n",
       " None,\n",
       " None,\n",
       " None,\n",
       " None,\n",
       " None,\n",
       " None,\n",
       " None,\n",
       " None,\n",
       " None,\n",
       " None,\n",
       " None,\n",
       " None,\n",
       " None,\n",
       " None,\n",
       " None,\n",
       " None,\n",
       " None,\n",
       " None,\n",
       " None,\n",
       " None,\n",
       " None,\n",
       " None,\n",
       " None,\n",
       " None,\n",
       " None,\n",
       " None,\n",
       " None,\n",
       " None,\n",
       " None,\n",
       " None,\n",
       " None,\n",
       " None,\n",
       " None,\n",
       " None,\n",
       " None,\n",
       " None,\n",
       " None,\n",
       " None,\n",
       " None,\n",
       " None,\n",
       " None,\n",
       " None,\n",
       " None,\n",
       " None,\n",
       " None,\n",
       " None,\n",
       " None,\n",
       " None,\n",
       " None,\n",
       " None,\n",
       " None,\n",
       " None,\n",
       " None,\n",
       " None,\n",
       " None,\n",
       " 'View Sponsored information or leave ad feedback',\n",
       " None,\n",
       " None,\n",
       " None,\n",
       " None,\n",
       " None,\n",
       " None,\n",
       " None,\n",
       " 'View Sponsored information or leave ad feedback',\n",
       " None,\n",
       " None,\n",
       " None,\n",
       " None,\n",
       " None,\n",
       " None,\n",
       " None,\n",
       " None,\n",
       " None,\n",
       " None,\n",
       " None,\n",
       " None,\n",
       " None,\n",
       " None,\n",
       " None,\n",
       " None,\n",
       " None,\n",
       " None,\n",
       " None,\n",
       " None,\n",
       " None,\n",
       " None,\n",
       " None,\n",
       " None,\n",
       " None,\n",
       " None,\n",
       " None,\n",
       " None,\n",
       " None,\n",
       " None,\n",
       " None,\n",
       " None,\n",
       " None,\n",
       " None,\n",
       " None,\n",
       " None,\n",
       " None,\n",
       " None,\n",
       " None,\n",
       " None,\n",
       " None,\n",
       " None,\n",
       " None,\n",
       " None,\n",
       " None,\n",
       " None,\n",
       " None,\n",
       " None,\n",
       " None,\n",
       " None,\n",
       " None,\n",
       " None,\n",
       " None,\n",
       " None,\n",
       " None,\n",
       " None,\n",
       " None,\n",
       " None,\n",
       " None,\n",
       " None,\n",
       " None,\n",
       " None,\n",
       " None,\n",
       " None,\n",
       " None,\n",
       " None,\n",
       " None,\n",
       " None,\n",
       " None,\n",
       " None,\n",
       " None,\n",
       " None,\n",
       " None,\n",
       " None,\n",
       " None,\n",
       " None,\n",
       " None,\n",
       " None,\n",
       " None,\n",
       " None,\n",
       " None,\n",
       " None,\n",
       " None,\n",
       " None,\n",
       " None,\n",
       " None,\n",
       " None,\n",
       " None,\n",
       " None,\n",
       " None,\n",
       " None,\n",
       " 'View Sponsored information or leave ad feedback',\n",
       " None,\n",
       " None,\n",
       " None,\n",
       " None,\n",
       " None,\n",
       " None,\n",
       " None,\n",
       " 'View Sponsored information or leave ad feedback',\n",
       " None,\n",
       " None,\n",
       " None,\n",
       " None,\n",
       " None,\n",
       " None,\n",
       " None,\n",
       " None,\n",
       " 'View Sponsored information or leave ad feedback',\n",
       " None,\n",
       " None,\n",
       " None,\n",
       " None,\n",
       " None,\n",
       " None,\n",
       " None,\n",
       " 'View Sponsored information or leave ad feedback',\n",
       " None,\n",
       " None,\n",
       " None,\n",
       " None,\n",
       " None,\n",
       " None,\n",
       " 'Go to previous page, page 2',\n",
       " 'Go to page 1',\n",
       " 'Go to page 2',\n",
       " 'Go to page 4',\n",
       " 'Go to next page, page 4',\n",
       " None,\n",
       " None,\n",
       " 'Leave feedback on Sponsored ad',\n",
       " None,\n",
       " None,\n",
       " None,\n",
       " None,\n",
       " None,\n",
       " None,\n",
       " None,\n",
       " None,\n",
       " None,\n",
       " None,\n",
       " None,\n",
       " None,\n",
       " None,\n",
       " None,\n",
       " None,\n",
       " None,\n",
       " None,\n",
       " None,\n",
       " None,\n",
       " None,\n",
       " None,\n",
       " None,\n",
       " None,\n",
       " None,\n",
       " None,\n",
       " None,\n",
       " None,\n",
       " None,\n",
       " None,\n",
       " None,\n",
       " None,\n",
       " None,\n",
       " None,\n",
       " 'See more, Language',\n",
       " None,\n",
       " None,\n",
       " None,\n",
       " None,\n",
       " None,\n",
       " None,\n",
       " None,\n",
       " None,\n",
       " None,\n",
       " None,\n",
       " None,\n",
       " None,\n",
       " None,\n",
       " None,\n",
       " None,\n",
       " 'Leave feedback on Sponsored ad',\n",
       " 'Leave feedback on Sponsored ad',\n",
       " None,\n",
       " None,\n",
       " None,\n",
       " None,\n",
       " None,\n",
       " None,\n",
       " None,\n",
       " None,\n",
       " None,\n",
       " None,\n",
       " None,\n",
       " None,\n",
       " None,\n",
       " None,\n",
       " None,\n",
       " None,\n",
       " None,\n",
       " None,\n",
       " None,\n",
       " None,\n",
       " None,\n",
       " None,\n",
       " None,\n",
       " None,\n",
       " None,\n",
       " None,\n",
       " None,\n",
       " None,\n",
       " None,\n",
       " None,\n",
       " None,\n",
       " None,\n",
       " None,\n",
       " None,\n",
       " None,\n",
       " None,\n",
       " None,\n",
       " None,\n",
       " None,\n",
       " None,\n",
       " None,\n",
       " None,\n",
       " None,\n",
       " None,\n",
       " None,\n",
       " None,\n",
       " None,\n",
       " None,\n",
       " None,\n",
       " None,\n",
       " None,\n",
       " None,\n",
       " None,\n",
       " None,\n",
       " None,\n",
       " None,\n",
       " None,\n",
       " None,\n",
       " 'Back to top',\n",
       " None,\n",
       " None,\n",
       " None,\n",
       " None,\n",
       " None,\n",
       " None,\n",
       " None,\n",
       " None,\n",
       " None,\n",
       " None,\n",
       " None,\n",
       " None,\n",
       " None,\n",
       " None,\n",
       " None,\n",
       " None,\n",
       " None,\n",
       " None,\n",
       " None,\n",
       " None,\n",
       " None,\n",
       " None,\n",
       " None,\n",
       " None,\n",
       " 'Amazon Canada Home',\n",
       " 'Choose a language for shopping.',\n",
       " 'Choose a country/region for shopping.',\n",
       " None,\n",
       " None,\n",
       " None,\n",
       " None,\n",
       " None,\n",
       " None,\n",
       " None,\n",
       " None,\n",
       " None,\n",
       " None,\n",
       " None,\n",
       " None,\n",
       " None,\n",
       " None,\n",
       " None,\n",
       " None]"
      ]
     },
     "execution_count": 42,
     "metadata": {},
     "output_type": "execute_result"
    }
   ],
   "source": [
    "pageSelectorXpath='/html/body/div[1]/div[1]/div[1]/div[1]/div/span[1]/div[1]/div[24]/div/div'\n",
    "pagesToSelect=driver.find_element(By.XPATH,pageSelectorXpath\\\n",
    "                                  ).find_elements(By.XPATH,'//a')\n",
    "[item.get_attribute('aria-label') for item in linksOnScreen]"
   ]
  },
  {
   "cell_type": "code",
   "execution_count": 146,
   "metadata": {},
   "outputs": [],
   "source": []
  },
  {
   "cell_type": "code",
   "execution_count": 152,
   "metadata": {},
   "outputs": [
    {
     "data": {
      "text/plain": [
       "[]"
      ]
     },
     "execution_count": 152,
     "metadata": {},
     "output_type": "execute_result"
    }
   ],
   "source": []
  },
  {
   "cell_type": "code",
   "execution_count": 160,
   "metadata": {},
   "outputs": [
    {
     "name": "stderr",
     "output_type": "stream",
     "text": [
      "  8%|▊         | 94/1200 [05:19<1:02:55,  3.41s/it]"
     ]
    },
    {
     "name": "stdout",
     "output_type": "stream",
     "text": [
      "the expander was not found, do something to fix it\n"
     ]
    },
    {
     "name": "stderr",
     "output_type": "stream",
     "text": [
      "  9%|▉         | 107/1200 [06:02<59:30,  3.27s/it]  "
     ]
    },
    {
     "name": "stdout",
     "output_type": "stream",
     "text": [
      "the expander was not found, do something to fix it\n"
     ]
    },
    {
     "name": "stderr",
     "output_type": "stream",
     "text": [
      " 11%|█         | 133/1200 [07:31<1:00:54,  3.42s/it]"
     ]
    },
    {
     "name": "stdout",
     "output_type": "stream",
     "text": [
      "the expander was not found, do something to fix it\n"
     ]
    },
    {
     "name": "stderr",
     "output_type": "stream",
     "text": [
      " 16%|█▌        | 194/1200 [10:58<1:01:44,  3.68s/it]"
     ]
    },
    {
     "name": "stdout",
     "output_type": "stream",
     "text": [
      "the expander was not found, do something to fix it\n"
     ]
    },
    {
     "name": "stderr",
     "output_type": "stream",
     "text": [
      " 17%|█▋        | 203/1200 [11:28<55:43,  3.35s/it]  "
     ]
    },
    {
     "name": "stdout",
     "output_type": "stream",
     "text": [
      "the expander was not found, do something to fix it\n"
     ]
    },
    {
     "name": "stderr",
     "output_type": "stream",
     "text": [
      " 20%|██        | 240/1200 [13:28<52:59,  3.31s/it]"
     ]
    },
    {
     "name": "stdout",
     "output_type": "stream",
     "text": [
      "the expander was not found, do something to fix it\n"
     ]
    },
    {
     "name": "stderr",
     "output_type": "stream",
     "text": [
      " 22%|██▏       | 264/1200 [14:55<1:04:48,  4.15s/it]"
     ]
    },
    {
     "name": "stdout",
     "output_type": "stream",
     "text": [
      "the expander was not found, do something to fix it\n"
     ]
    },
    {
     "name": "stderr",
     "output_type": "stream",
     "text": [
      " 23%|██▎       | 276/1200 [15:33<51:11,  3.32s/it]  "
     ]
    },
    {
     "name": "stdout",
     "output_type": "stream",
     "text": [
      "the expander was not found, do something to fix it\n"
     ]
    },
    {
     "name": "stderr",
     "output_type": "stream",
     "text": [
      " 27%|██▋       | 321/1200 [18:02<46:13,  3.15s/it]"
     ]
    },
    {
     "name": "stdout",
     "output_type": "stream",
     "text": [
      "the expander was not found, do something to fix it\n"
     ]
    },
    {
     "name": "stderr",
     "output_type": "stream",
     "text": [
      " 28%|██▊       | 330/1200 [18:33<47:27,  3.27s/it]"
     ]
    },
    {
     "name": "stdout",
     "output_type": "stream",
     "text": [
      "the expander was not found, do something to fix it\n"
     ]
    },
    {
     "name": "stderr",
     "output_type": "stream",
     "text": [
      " 28%|██▊       | 335/1200 [18:48<43:46,  3.04s/it]"
     ]
    },
    {
     "name": "stdout",
     "output_type": "stream",
     "text": [
      "the expander was not found, do something to fix it\n"
     ]
    },
    {
     "name": "stderr",
     "output_type": "stream",
     "text": [
      " 29%|██▉       | 345/1200 [19:19<43:16,  3.04s/it]"
     ]
    },
    {
     "name": "stdout",
     "output_type": "stream",
     "text": [
      "the expander was not found, do something to fix it\n"
     ]
    },
    {
     "name": "stderr",
     "output_type": "stream",
     "text": [
      " 31%|███       | 367/1200 [20:30<40:58,  2.95s/it]"
     ]
    },
    {
     "name": "stdout",
     "output_type": "stream",
     "text": [
      "the expander was not found, do something to fix it\n"
     ]
    },
    {
     "name": "stderr",
     "output_type": "stream",
     "text": [
      " 31%|███       | 368/1200 [20:32<38:59,  2.81s/it]"
     ]
    },
    {
     "name": "stdout",
     "output_type": "stream",
     "text": [
      "the expander was not found, do something to fix it\n"
     ]
    },
    {
     "name": "stderr",
     "output_type": "stream",
     "text": [
      " 31%|███       | 370/1200 [20:38<40:26,  2.92s/it]"
     ]
    },
    {
     "name": "stdout",
     "output_type": "stream",
     "text": [
      "the expander was not found, do something to fix it\n"
     ]
    },
    {
     "name": "stderr",
     "output_type": "stream",
     "text": [
      " 31%|███       | 372/1200 [20:45<43:52,  3.18s/it]"
     ]
    },
    {
     "name": "stdout",
     "output_type": "stream",
     "text": [
      "the expander was not found, do something to fix it\n"
     ]
    },
    {
     "name": "stderr",
     "output_type": "stream",
     "text": [
      " 34%|███▍      | 405/1200 [22:41<42:59,  3.24s/it]"
     ]
    },
    {
     "name": "stdout",
     "output_type": "stream",
     "text": [
      "the expander was not found, do something to fix it\n"
     ]
    },
    {
     "name": "stderr",
     "output_type": "stream",
     "text": [
      " 36%|███▌      | 429/1200 [24:00<41:02,  3.19s/it]"
     ]
    },
    {
     "name": "stdout",
     "output_type": "stream",
     "text": [
      "the expander was not found, do something to fix it\n"
     ]
    },
    {
     "name": "stderr",
     "output_type": "stream",
     "text": [
      " 36%|███▌      | 431/1200 [24:06<38:33,  3.01s/it]"
     ]
    },
    {
     "name": "stdout",
     "output_type": "stream",
     "text": [
      "the expander was not found, do something to fix it\n"
     ]
    },
    {
     "name": "stderr",
     "output_type": "stream",
     "text": [
      " 36%|███▌      | 432/1200 [24:09<36:40,  2.87s/it]"
     ]
    },
    {
     "name": "stdout",
     "output_type": "stream",
     "text": [
      "the expander was not found, do something to fix it\n"
     ]
    },
    {
     "name": "stderr",
     "output_type": "stream",
     "text": [
      " 37%|███▋      | 441/1200 [24:35<36:24,  2.88s/it]"
     ]
    },
    {
     "name": "stdout",
     "output_type": "stream",
     "text": [
      "the expander was not found, do something to fix it\n"
     ]
    },
    {
     "name": "stderr",
     "output_type": "stream",
     "text": [
      " 37%|███▋      | 444/1200 [24:44<34:32,  2.74s/it]"
     ]
    },
    {
     "name": "stdout",
     "output_type": "stream",
     "text": [
      "the expander was not found, do something to fix it\n"
     ]
    },
    {
     "name": "stderr",
     "output_type": "stream",
     "text": [
      " 38%|███▊      | 459/1200 [25:31<40:59,  3.32s/it]"
     ]
    },
    {
     "name": "stdout",
     "output_type": "stream",
     "text": [
      "the expander was not found, do something to fix it\n"
     ]
    },
    {
     "name": "stderr",
     "output_type": "stream",
     "text": [
      " 41%|████      | 487/1200 [27:03<38:24,  3.23s/it]"
     ]
    },
    {
     "name": "stdout",
     "output_type": "stream",
     "text": [
      "the expander was not found, do something to fix it\n"
     ]
    },
    {
     "name": "stderr",
     "output_type": "stream",
     "text": [
      " 41%|████      | 489/1200 [27:08<35:16,  2.98s/it]"
     ]
    },
    {
     "name": "stdout",
     "output_type": "stream",
     "text": [
      "the expander was not found, do something to fix it\n"
     ]
    },
    {
     "name": "stderr",
     "output_type": "stream",
     "text": [
      " 41%|████      | 491/1200 [27:14<34:19,  2.91s/it]"
     ]
    },
    {
     "name": "stdout",
     "output_type": "stream",
     "text": [
      "the expander was not found, do something to fix it\n"
     ]
    },
    {
     "name": "stderr",
     "output_type": "stream",
     "text": [
      " 42%|████▏     | 503/1200 [27:55<44:06,  3.80s/it]"
     ]
    },
    {
     "name": "stdout",
     "output_type": "stream",
     "text": [
      "the expander was not found, do something to fix it\n"
     ]
    },
    {
     "name": "stderr",
     "output_type": "stream",
     "text": [
      " 42%|████▏     | 507/1200 [28:08<41:58,  3.63s/it]"
     ]
    },
    {
     "name": "stdout",
     "output_type": "stream",
     "text": [
      "the expander was not found, do something to fix it\n"
     ]
    },
    {
     "name": "stderr",
     "output_type": "stream",
     "text": [
      " 43%|████▎     | 515/1200 [28:36<37:12,  3.26s/it]"
     ]
    },
    {
     "name": "stdout",
     "output_type": "stream",
     "text": [
      "the expander was not found, do something to fix it\n"
     ]
    },
    {
     "name": "stderr",
     "output_type": "stream",
     "text": [
      " 44%|████▍     | 526/1200 [29:15<44:59,  4.01s/it]"
     ]
    },
    {
     "name": "stdout",
     "output_type": "stream",
     "text": [
      "the expander was not found, do something to fix it\n"
     ]
    },
    {
     "name": "stderr",
     "output_type": "stream",
     "text": [
      " 44%|████▍     | 529/1200 [29:24<37:44,  3.38s/it]"
     ]
    },
    {
     "name": "stdout",
     "output_type": "stream",
     "text": [
      "the expander was not found, do something to fix it\n"
     ]
    },
    {
     "name": "stderr",
     "output_type": "stream",
     "text": [
      " 45%|████▌     | 540/1200 [29:59<34:08,  3.10s/it]"
     ]
    },
    {
     "name": "stdout",
     "output_type": "stream",
     "text": [
      "the expander was not found, do something to fix it\n"
     ]
    },
    {
     "name": "stderr",
     "output_type": "stream",
     "text": [
      " 48%|████▊     | 580/1200 [32:15<32:52,  3.18s/it]"
     ]
    },
    {
     "name": "stdout",
     "output_type": "stream",
     "text": [
      "the expander was not found, do something to fix it\n"
     ]
    },
    {
     "name": "stderr",
     "output_type": "stream",
     "text": [
      " 49%|████▊     | 584/1200 [32:28<34:46,  3.39s/it]"
     ]
    },
    {
     "name": "stdout",
     "output_type": "stream",
     "text": [
      "the expander was not found, do something to fix it\n"
     ]
    },
    {
     "name": "stderr",
     "output_type": "stream",
     "text": [
      " 50%|████▉     | 596/1200 [33:09<34:58,  3.47s/it]"
     ]
    },
    {
     "name": "stdout",
     "output_type": "stream",
     "text": [
      "the expander was not found, do something to fix it\n"
     ]
    },
    {
     "name": "stderr",
     "output_type": "stream",
     "text": [
      " 50%|█████     | 606/1200 [33:41<31:32,  3.19s/it]"
     ]
    },
    {
     "name": "stdout",
     "output_type": "stream",
     "text": [
      "the expander was not found, do something to fix it\n"
     ]
    },
    {
     "name": "stderr",
     "output_type": "stream",
     "text": [
      " 51%|█████     | 610/1200 [33:55<32:45,  3.33s/it]"
     ]
    },
    {
     "name": "stdout",
     "output_type": "stream",
     "text": [
      "the expander was not found, do something to fix it\n"
     ]
    },
    {
     "name": "stderr",
     "output_type": "stream",
     "text": [
      " 51%|█████     | 613/1200 [34:04<31:41,  3.24s/it]"
     ]
    },
    {
     "name": "stdout",
     "output_type": "stream",
     "text": [
      "the expander was not found, do something to fix it\n"
     ]
    },
    {
     "name": "stderr",
     "output_type": "stream",
     "text": [
      " 54%|█████▍    | 651/1200 [36:10<28:54,  3.16s/it]"
     ]
    },
    {
     "name": "stdout",
     "output_type": "stream",
     "text": [
      "the expander was not found, do something to fix it\n"
     ]
    },
    {
     "name": "stderr",
     "output_type": "stream",
     "text": [
      " 55%|█████▌    | 665/1200 [37:02<35:22,  3.97s/it]"
     ]
    },
    {
     "name": "stdout",
     "output_type": "stream",
     "text": [
      "the expander was not found, do something to fix it\n"
     ]
    },
    {
     "name": "stderr",
     "output_type": "stream",
     "text": [
      " 57%|█████▋    | 682/1200 [38:33<28:56,  3.35s/it]  "
     ]
    },
    {
     "name": "stdout",
     "output_type": "stream",
     "text": [
      "the expander was not found, do something to fix it\n"
     ]
    },
    {
     "name": "stderr",
     "output_type": "stream",
     "text": [
      " 57%|█████▋    | 685/1200 [38:42<26:49,  3.13s/it]"
     ]
    },
    {
     "name": "stdout",
     "output_type": "stream",
     "text": [
      "the expander was not found, do something to fix it\n"
     ]
    },
    {
     "name": "stderr",
     "output_type": "stream",
     "text": [
      " 58%|█████▊    | 695/1200 [39:15<26:32,  3.15s/it]"
     ]
    },
    {
     "name": "stdout",
     "output_type": "stream",
     "text": [
      "the expander was not found, do something to fix it\n"
     ]
    },
    {
     "name": "stderr",
     "output_type": "stream",
     "text": [
      " 62%|██████▏   | 745/1200 [42:14<25:19,  3.34s/it]"
     ]
    },
    {
     "name": "stdout",
     "output_type": "stream",
     "text": [
      "the expander was not found, do something to fix it\n"
     ]
    },
    {
     "name": "stderr",
     "output_type": "stream",
     "text": [
      " 63%|██████▎   | 756/1200 [42:49<24:01,  3.25s/it]"
     ]
    },
    {
     "name": "stdout",
     "output_type": "stream",
     "text": [
      "the expander was not found, do something to fix it\n"
     ]
    },
    {
     "name": "stderr",
     "output_type": "stream",
     "text": [
      " 64%|██████▍   | 770/1200 [43:37<22:24,  3.13s/it]"
     ]
    },
    {
     "name": "stdout",
     "output_type": "stream",
     "text": [
      "the expander was not found, do something to fix it\n"
     ]
    },
    {
     "name": "stderr",
     "output_type": "stream",
     "text": [
      " 64%|██████▍   | 773/1200 [43:46<22:31,  3.16s/it]"
     ]
    },
    {
     "name": "stdout",
     "output_type": "stream",
     "text": [
      "the expander was not found, do something to fix it\n"
     ]
    },
    {
     "name": "stderr",
     "output_type": "stream",
     "text": [
      " 65%|██████▌   | 784/1200 [44:26<23:05,  3.33s/it]"
     ]
    },
    {
     "name": "stdout",
     "output_type": "stream",
     "text": [
      "the expander was not found, do something to fix it\n"
     ]
    },
    {
     "name": "stderr",
     "output_type": "stream",
     "text": [
      " 66%|██████▌   | 790/1200 [44:46<22:16,  3.26s/it]"
     ]
    },
    {
     "name": "stdout",
     "output_type": "stream",
     "text": [
      "the expander was not found, do something to fix it\n"
     ]
    },
    {
     "name": "stderr",
     "output_type": "stream",
     "text": [
      " 66%|██████▋   | 797/1200 [45:07<20:22,  3.03s/it]"
     ]
    },
    {
     "name": "stdout",
     "output_type": "stream",
     "text": [
      "the expander was not found, do something to fix it\n"
     ]
    },
    {
     "name": "stderr",
     "output_type": "stream",
     "text": [
      " 67%|██████▋   | 806/1200 [45:31<17:30,  2.67s/it]"
     ]
    },
    {
     "name": "stdout",
     "output_type": "stream",
     "text": [
      "the expander was not found, do something to fix it\n"
     ]
    },
    {
     "name": "stderr",
     "output_type": "stream",
     "text": [
      " 68%|██████▊   | 822/1200 [46:23<20:33,  3.26s/it]"
     ]
    },
    {
     "name": "stdout",
     "output_type": "stream",
     "text": [
      "the expander was not found, do something to fix it\n"
     ]
    },
    {
     "name": "stderr",
     "output_type": "stream",
     "text": [
      " 69%|██████▉   | 829/1200 [46:47<20:11,  3.27s/it]"
     ]
    },
    {
     "name": "stdout",
     "output_type": "stream",
     "text": [
      "the expander was not found, do something to fix it\n"
     ]
    },
    {
     "name": "stderr",
     "output_type": "stream",
     "text": [
      " 70%|██████▉   | 838/1200 [47:19<22:07,  3.67s/it]"
     ]
    },
    {
     "name": "stdout",
     "output_type": "stream",
     "text": [
      "the expander was not found, do something to fix it\n"
     ]
    },
    {
     "name": "stderr",
     "output_type": "stream",
     "text": [
      " 73%|███████▎  | 873/1200 [49:17<19:41,  3.61s/it]"
     ]
    },
    {
     "name": "stdout",
     "output_type": "stream",
     "text": [
      "the expander was not found, do something to fix it\n"
     ]
    },
    {
     "name": "stderr",
     "output_type": "stream",
     "text": [
      " 74%|███████▍  | 886/1200 [50:02<18:54,  3.61s/it]"
     ]
    },
    {
     "name": "stdout",
     "output_type": "stream",
     "text": [
      "the expander was not found, do something to fix it\n"
     ]
    },
    {
     "name": "stderr",
     "output_type": "stream",
     "text": [
      " 74%|███████▍  | 892/1200 [50:22<16:52,  3.29s/it]"
     ]
    },
    {
     "name": "stdout",
     "output_type": "stream",
     "text": [
      "the expander was not found, do something to fix it\n"
     ]
    },
    {
     "name": "stderr",
     "output_type": "stream",
     "text": [
      " 75%|███████▍  | 899/1200 [50:55<23:26,  4.67s/it]"
     ]
    },
    {
     "name": "stdout",
     "output_type": "stream",
     "text": [
      "the expander was not found, do something to fix it\n"
     ]
    },
    {
     "name": "stderr",
     "output_type": "stream",
     "text": [
      " 75%|███████▌  | 904/1200 [51:11<17:21,  3.52s/it]"
     ]
    },
    {
     "name": "stdout",
     "output_type": "stream",
     "text": [
      "the expander was not found, do something to fix it\n"
     ]
    },
    {
     "name": "stderr",
     "output_type": "stream",
     "text": [
      " 76%|███████▋  | 916/1200 [51:50<15:26,  3.26s/it]"
     ]
    },
    {
     "name": "stdout",
     "output_type": "stream",
     "text": [
      "the expander was not found, do something to fix it\n"
     ]
    },
    {
     "name": "stderr",
     "output_type": "stream",
     "text": [
      " 78%|███████▊  | 934/1200 [52:49<13:48,  3.12s/it]"
     ]
    },
    {
     "name": "stdout",
     "output_type": "stream",
     "text": [
      "the expander was not found, do something to fix it\n"
     ]
    },
    {
     "name": "stderr",
     "output_type": "stream",
     "text": [
      " 78%|███████▊  | 940/1200 [53:08<13:54,  3.21s/it]"
     ]
    },
    {
     "name": "stdout",
     "output_type": "stream",
     "text": [
      "the expander was not found, do something to fix it\n"
     ]
    },
    {
     "name": "stderr",
     "output_type": "stream",
     "text": [
      " 81%|████████  | 969/1200 [54:43<12:21,  3.21s/it]"
     ]
    },
    {
     "name": "stdout",
     "output_type": "stream",
     "text": [
      "the expander was not found, do something to fix it\n"
     ]
    },
    {
     "name": "stderr",
     "output_type": "stream",
     "text": [
      " 81%|████████▏ | 975/1200 [55:04<13:16,  3.54s/it]"
     ]
    },
    {
     "name": "stdout",
     "output_type": "stream",
     "text": [
      "the expander was not found, do something to fix it\n"
     ]
    },
    {
     "name": "stderr",
     "output_type": "stream",
     "text": [
      " 82%|████████▏ | 980/1200 [55:23<12:27,  3.40s/it]"
     ]
    },
    {
     "name": "stdout",
     "output_type": "stream",
     "text": [
      "the expander was not found, do something to fix it\n"
     ]
    },
    {
     "name": "stderr",
     "output_type": "stream",
     "text": [
      " 83%|████████▎ | 992/1200 [56:02<11:38,  3.36s/it]"
     ]
    },
    {
     "name": "stdout",
     "output_type": "stream",
     "text": [
      "the expander was not found, do something to fix it\n"
     ]
    },
    {
     "name": "stderr",
     "output_type": "stream",
     "text": [
      " 84%|████████▍ | 1008/1200 [56:56<10:54,  3.41s/it]"
     ]
    },
    {
     "name": "stdout",
     "output_type": "stream",
     "text": [
      "the expander was not found, do something to fix it\n"
     ]
    },
    {
     "name": "stderr",
     "output_type": "stream",
     "text": [
      " 84%|████████▍ | 1011/1200 [57:07<11:13,  3.56s/it]"
     ]
    },
    {
     "name": "stdout",
     "output_type": "stream",
     "text": [
      "the expander was not found, do something to fix it\n"
     ]
    },
    {
     "name": "stderr",
     "output_type": "stream",
     "text": [
      " 84%|████████▍ | 1014/1200 [57:17<10:07,  3.27s/it]"
     ]
    },
    {
     "name": "stdout",
     "output_type": "stream",
     "text": [
      "the expander was not found, do something to fix it\n"
     ]
    },
    {
     "name": "stderr",
     "output_type": "stream",
     "text": [
      " 85%|████████▌ | 1023/1200 [57:47<09:18,  3.15s/it]"
     ]
    },
    {
     "name": "stdout",
     "output_type": "stream",
     "text": [
      "the expander was not found, do something to fix it\n"
     ]
    },
    {
     "name": "stderr",
     "output_type": "stream",
     "text": [
      " 85%|████████▌ | 1024/1200 [57:49<08:51,  3.02s/it]"
     ]
    },
    {
     "name": "stdout",
     "output_type": "stream",
     "text": [
      "the expander was not found, do something to fix it\n"
     ]
    },
    {
     "name": "stderr",
     "output_type": "stream",
     "text": [
      " 86%|████████▋ | 1035/1200 [58:28<10:28,  3.81s/it]"
     ]
    },
    {
     "name": "stdout",
     "output_type": "stream",
     "text": [
      "the expander was not found, do something to fix it\n"
     ]
    },
    {
     "name": "stderr",
     "output_type": "stream",
     "text": [
      " 86%|████████▋ | 1036/1200 [58:31<09:52,  3.61s/it]"
     ]
    },
    {
     "name": "stdout",
     "output_type": "stream",
     "text": [
      "the expander was not found, do something to fix it\n"
     ]
    },
    {
     "name": "stderr",
     "output_type": "stream",
     "text": [
      " 88%|████████▊ | 1053/1200 [59:30<07:54,  3.23s/it]"
     ]
    },
    {
     "name": "stdout",
     "output_type": "stream",
     "text": [
      "the expander was not found, do something to fix it\n"
     ]
    },
    {
     "name": "stderr",
     "output_type": "stream",
     "text": [
      " 89%|████████▉ | 1065/1200 [1:00:13<08:17,  3.68s/it]"
     ]
    },
    {
     "name": "stdout",
     "output_type": "stream",
     "text": [
      "the expander was not found, do something to fix it\n"
     ]
    },
    {
     "name": "stderr",
     "output_type": "stream",
     "text": [
      " 90%|████████▉ | 1074/1200 [1:00:44<08:10,  3.89s/it]"
     ]
    },
    {
     "name": "stdout",
     "output_type": "stream",
     "text": [
      "the expander was not found, do something to fix it\n"
     ]
    },
    {
     "name": "stderr",
     "output_type": "stream",
     "text": [
      " 90%|████████▉ | 1075/1200 [1:00:47<07:44,  3.72s/it]"
     ]
    },
    {
     "name": "stdout",
     "output_type": "stream",
     "text": [
      "the expander was not found, do something to fix it\n"
     ]
    },
    {
     "name": "stderr",
     "output_type": "stream",
     "text": [
      " 90%|█████████ | 1085/1200 [1:01:19<05:57,  3.11s/it]"
     ]
    },
    {
     "name": "stdout",
     "output_type": "stream",
     "text": [
      "the expander was not found, do something to fix it\n"
     ]
    },
    {
     "name": "stderr",
     "output_type": "stream",
     "text": [
      " 92%|█████████▏| 1098/1200 [1:01:59<04:57,  2.92s/it]"
     ]
    },
    {
     "name": "stdout",
     "output_type": "stream",
     "text": [
      "the expander was not found, do something to fix it\n"
     ]
    },
    {
     "name": "stderr",
     "output_type": "stream",
     "text": [
      " 93%|█████████▎| 1115/1200 [1:02:51<04:11,  2.96s/it]"
     ]
    },
    {
     "name": "stdout",
     "output_type": "stream",
     "text": [
      "the expander was not found, do something to fix it\n"
     ]
    },
    {
     "name": "stderr",
     "output_type": "stream",
     "text": [
      " 96%|█████████▌| 1149/1200 [1:04:37<02:43,  3.21s/it]"
     ]
    },
    {
     "name": "stdout",
     "output_type": "stream",
     "text": [
      "the expander was not found, do something to fix it\n"
     ]
    },
    {
     "name": "stderr",
     "output_type": "stream",
     "text": [
      " 96%|█████████▌| 1154/1200 [1:04:53<02:23,  3.11s/it]"
     ]
    },
    {
     "name": "stdout",
     "output_type": "stream",
     "text": [
      "the expander was not found, do something to fix it\n"
     ]
    },
    {
     "name": "stderr",
     "output_type": "stream",
     "text": [
      " 96%|█████████▋| 1155/1200 [1:04:56<02:19,  3.10s/it]"
     ]
    },
    {
     "name": "stdout",
     "output_type": "stream",
     "text": [
      "the expander was not found, do something to fix it\n"
     ]
    },
    {
     "name": "stderr",
     "output_type": "stream",
     "text": [
      " 97%|█████████▋| 1164/1200 [1:05:23<01:46,  2.95s/it]"
     ]
    },
    {
     "name": "stdout",
     "output_type": "stream",
     "text": [
      "the expander was not found, do something to fix it\n"
     ]
    },
    {
     "name": "stderr",
     "output_type": "stream",
     "text": [
      " 97%|█████████▋| 1169/1200 [1:05:40<01:40,  3.23s/it]"
     ]
    },
    {
     "name": "stdout",
     "output_type": "stream",
     "text": [
      "the expander was not found, do something to fix it\n"
     ]
    },
    {
     "name": "stderr",
     "output_type": "stream",
     "text": [
      " 98%|█████████▊| 1170/1200 [1:05:43<01:36,  3.22s/it]"
     ]
    },
    {
     "name": "stdout",
     "output_type": "stream",
     "text": [
      "the expander was not found, do something to fix it\n"
     ]
    },
    {
     "name": "stderr",
     "output_type": "stream",
     "text": [
      " 98%|█████████▊| 1180/1200 [1:06:15<01:03,  3.18s/it]"
     ]
    },
    {
     "name": "stdout",
     "output_type": "stream",
     "text": [
      "the expander was not found, do something to fix it\n"
     ]
    },
    {
     "name": "stderr",
     "output_type": "stream",
     "text": [
      " 99%|█████████▉| 1187/1200 [1:06:36<00:38,  2.96s/it]"
     ]
    },
    {
     "name": "stdout",
     "output_type": "stream",
     "text": [
      "the expander was not found, do something to fix it\n"
     ]
    },
    {
     "name": "stderr",
     "output_type": "stream",
     "text": [
      " 99%|█████████▉| 1192/1200 [1:06:51<00:25,  3.16s/it]"
     ]
    },
    {
     "name": "stdout",
     "output_type": "stream",
     "text": [
      "the expander was not found, do something to fix it\n"
     ]
    },
    {
     "name": "stderr",
     "output_type": "stream",
     "text": [
      "100%|█████████▉| 1197/1200 [1:07:06<00:08,  2.92s/it]"
     ]
    },
    {
     "name": "stdout",
     "output_type": "stream",
     "text": [
      "the expander was not found, do something to fix it\n"
     ]
    },
    {
     "name": "stderr",
     "output_type": "stream",
     "text": [
      "100%|██████████| 1200/1200 [1:07:16<00:00,  3.36s/it]\n"
     ]
    }
   ],
   "source": [
    "driver.implicitly_wait(10)\n",
    "urls=pickle.load(open('./urls.pkl','rb'))\n",
    "bookTitleUrl=pickle.load(open('./bookTitleUrlDict.pkl','rb'))\n",
    "startCutOff=0\n",
    "bookTitleUrl=bookTitleUrl[:startCutOff]\n",
    "for url in tqdm(urls[startCutOff:]):\n",
    "    driver.get(url)\n",
    "    toExpand=driver.find_elements(By.XPATH,'//a[@href=\"javascript:void(0)\" and @data-action=\"a-expander-toggle\"]')\n",
    "    if len(toExpand):\n",
    "        if 'Read more' in toExpand[0].text or\\\n",
    "        'Read less' in toExpand[0].text:\n",
    "            toExpand[0].click()\n",
    "        else:\n",
    "            print('the expander was not found, do something to fix it')\n",
    "    bookDesDiv=driver.find_element(By.ID,'centerCol').text.split('\\n')\n",
    "    title_author='|'.join(bookDesDiv[:2])\n",
    "    fileName=bookDesDiv[0].replace('.','').replace('-','__').\\\n",
    "          replace(' ','_').replace(':','').replace(',','').\\\n",
    "            replace('\\'','').replace('/','_')\n",
    "    bookTitleUrl.append((fileName,url))\n",
    "    bookDescription=driver.find_element(By.ID,'bookDescription_feature_div').text.replace('\\n','').replace('Read less','')\n",
    "    with open(f'./bios/{fileName}.txt','w') as f:\n",
    "        f.write(title_author+'|'+bookDescription)\n",
    "    with open('bookTitleUrlDict.pkl','wb') as f:\n",
    "        pickle.dump(bookTitleUrl,f)"
   ]
  },
  {
   "cell_type": "code",
   "execution_count": 155,
   "metadata": {},
   "outputs": [
    {
     "data": {
      "text/plain": [
       "1200"
      ]
     },
     "execution_count": 155,
     "metadata": {},
     "output_type": "execute_result"
    }
   ],
   "source": [
    "len(urls)"
   ]
  },
  {
   "cell_type": "code",
   "execution_count": 162,
   "metadata": {},
   "outputs": [],
   "source": [
    "len(bookTitleUrl)\n",
    "bookTitleUrlDict={x:y for x,y in bookTitleUrl}"
   ]
  },
  {
   "cell_type": "code",
   "execution_count": 163,
   "metadata": {},
   "outputs": [
    {
     "data": {
      "text/plain": [
       "{'The_Woman_in_Me_Kindle_Edition': 'https://www.amazon.ca/Woman-Me-Britney-Spears-ebook/dp/B0BL1LWW6H/ref=sr_1_3?qid=1700112700&refinements=p_n_binding_browse-bin%3A6202019011&rnid=2366372011&s=books&sr=1-3',\n",
       " 'Friends_Lovers_and_the_Big_Terrible_Thing_A_Memoir_Kindle_Edition': 'https://www.amazon.ca/Friends-Lovers-Big-Terrible-Thing-ebook/dp/B09M1RPWWL/ref=sr_1_4?qid=1700112700&refinements=p_n_binding_browse-bin%3A6202019011&rnid=2366372011&s=books&sr=1-4',\n",
       " 'My_Name_Is_Barbra_Kindle_Edition': 'https://www.amazon.ca/My-Name-Barbra-Streisand-ebook/dp/B0BTGVDVPP/ref=sr_1_5?qid=1700112700&refinements=p_n_binding_browse-bin%3A6202019011&rnid=2366372011&s=books&sr=1-5',\n",
       " 'Killers_of_the_Flower_Moon_The_Osage_Murders_and_the_Birth_of_the_FBI_Kindle_Edition': 'https://www.amazon.ca/Killers-Flower-Moon-Osage-Murders-ebook/dp/B01CWZFBZ4/ref=sr_1_6?qid=1700112700&refinements=p_n_binding_browse-bin%3A6202019011&rnid=2366372011&s=books&sr=1-6',\n",
       " 'At_the_Stroke_of_Eternity_One_Woman’s_Remarkable_Near__Death_Experience_and_the_Divine_Messages_Received_Kindle_Edition': 'https://www.amazon.ca/Stroke-Eternity-Remarkable-Near-Death-Experience-ebook/dp/B0CN62P812/ref=sr_1_7?qid=1700112700&refinements=p_n_binding_browse-bin%3A6202019011&rnid=2366372011&s=books&sr=1-7',\n",
       " 'Elon_Musk_Kindle_Edition': 'https://www.amazon.ca/Elon-Musk-Walter-Isaacson-ebook/dp/B0BW9TRGKV/ref=sr_1_8?qid=1700112700&refinements=p_n_binding_browse-bin%3A6202019011&rnid=2366372011&s=books&sr=1-8',\n",
       " 'The_Seven_Husbands_of_Evelyn_Hugo_A_Novel_Kindle_Edition': 'https://www.amazon.ca/Seven-Husbands-Evelyn-Hugo-Novel-ebook/dp/B01M5IJM2U/ref=sr_1_9?qid=1700112700&refinements=p_n_binding_browse-bin%3A6202019011&rnid=2366372011&s=books&sr=1-9',\n",
       " 'Les_têtes_brûlées_Carnets_d’espoir_punk_(French_Edition)_Kindle_Edition': 'https://www.amazon.ca/t%C3%AAtes-br%C3%BBl%C3%A9es-Carnets-despoir-French-ebook/dp/B0CKC6P6P7/ref=sr_1_10?qid=1700112700&refinements=p_n_binding_browse-bin%3A6202019011&rnid=2366372011&s=books&sr=1-10',\n",
       " 'Be_Useful_Seven_Tools_for_Life_Kindle_Edition': 'https://www.amazon.ca/Be-Useful-Seven-Tools-Life-ebook/dp/B0C1FNV4DQ/ref=sr_1_13?qid=1700112700&refinements=p_n_binding_browse-bin%3A6202019011&rnid=2366372011&s=books&sr=1-13',\n",
       " 'The_48_Laws_of_Power_Kindle_Edition': 'https://www.amazon.ca/48-Laws-Power-Robert-Greene-ebook/dp/B0024CEZR6/ref=sr_1_14?qid=1700112700&refinements=p_n_binding_browse-bin%3A6202019011&rnid=2366372011&s=books&sr=1-14',\n",
       " 'Counting_the_Cost_Kindle_Edition': 'https://www.amazon.ca/Counting-Cost-Jill-Duggar-ebook/dp/B0C6L2JQX9/ref=sr_1_15?qid=1700112700&refinements=p_n_binding_browse-bin%3A6202019011&rnid=2366372011&s=books&sr=1-15',\n",
       " 'The_Fund_Ray_Dalio_Bridgewater_Associates_and_the_Unraveling_of_a_Wall_Street_Legend_Kindle_Edition': 'https://www.amazon.ca/Fund-Bridgewater-Associates-Unraveling-Street-ebook/dp/B0BST4LN26/ref=sr_1_16?qid=1700112700&refinements=p_n_binding_browse-bin%3A6202019011&rnid=2366372011&s=books&sr=1-16',\n",
       " 'Son_of_Hamas_A_Gripping_Account_of_Terror_Betrayal_Political_Intrigue_and_Unthinkable_Choices_Kindle_Edition': 'https://www.amazon.ca/Son-Hamas-Gripping-Political-Unthinkable-ebook/dp/B004QOAQ7I/ref=sr_1_17?qid=1700112700&refinements=p_n_binding_browse-bin%3A6202019011&rnid=2366372011&s=books&sr=1-17',\n",
       " 'The_Leavers_(National_Book_Award_Finalist)_A_Novel_Kindle_Edition': 'https://www.amazon.ca/Leavers-National-Book-Award-Finalist-ebook/dp/B01JKHTNCY/ref=sr_1_18?qid=1700112700&refinements=p_n_binding_browse-bin%3A6202019011&rnid=2366372011&s=books&sr=1-18',\n",
       " 'The_Road_Years_A_Memoir_Continued____Kindle_Edition': 'https://www.amazon.ca/Road-Years-Memoir-Continued-ebook/dp/B0C48YPZLB/ref=sr_1_19?qid=1700112700&refinements=p_n_binding_browse-bin%3A6202019011&rnid=2366372011&s=books&sr=1-19',\n",
       " 'The_Physics_Book_Big_Ideas_Simply_Explained_(DK_Big_Ideas)_Kindle_Edition': 'https://www.amazon.ca/Physics-Book-Ideas-Simply-Explained-ebook/dp/B082LS3KHT/ref=sr_1_20?qid=1700112700&refinements=p_n_binding_browse-bin%3A6202019011&rnid=2366372011&s=books&sr=1-20',\n",
       " 'Solito_A_Memoir_Kindle_Edition': 'https://www.amazon.ca/Solito-Memoir-Javier-Zamora-ebook/dp/B09N6T2S44/ref=sr_1_17?qid=1700112780&refinements=p_n_binding_browse-bin%3A6202019011&rnid=2366372011&s=books&sr=1-17',\n",
       " 'A_Chill_in_the_Air_An_Italian_War_Diary_1939__1940_(New_York_Review_Books_Classics)_Kindle_Edition': 'https://www.amazon.ca/Chill-Air-Italian-1939-1940-Classics-ebook/dp/B077RHRGCD/ref=sr_1_18?qid=1700112780&refinements=p_n_binding_browse-bin%3A6202019011&rnid=2366372011&s=books&sr=1-18',\n",
       " 'Enough_Kindle_Edition': 'https://www.amazon.ca/Enough-Cassidy-Hutchinson-ebook/dp/B0C3DKT462/ref=sr_1_19?qid=1700112780&refinements=p_n_binding_browse-bin%3A6202019011&rnid=2366372011&s=books&sr=1-19',\n",
       " 'Spare_Kindle_Edition': 'https://www.amazon.ca/Spare-Duke-Sussex-Prince-Harry-ebook/dp/B0BHY5TX5R/ref=sr_1_20?qid=1700112780&refinements=p_n_binding_browse-bin%3A6202019011&rnid=2366372011&s=books&sr=1-20',\n",
       " 'Israel_A_Simple_Guide_to_the_Most_Misunderstood_Country_on_Earth_Kindle_Edition': 'https://www.amazon.ca/Israel-Simple-Guide-Misunderstood-Country-ebook/dp/B08BZX1WBY/ref=sr_1_21?qid=1700112780&refinements=p_n_binding_browse-bin%3A6202019011&rnid=2366372011&s=books&sr=1-21',\n",
       " 'Being_Henry_The_Fonz____and_Beyond_Kindle_Edition': 'https://www.amazon.ca/Being-Henry-Fonz-Beyond-ebook/dp/B0BQGKJ66G/ref=sr_1_22?qid=1700112780&refinements=p_n_binding_browse-bin%3A6202019011&rnid=2366372011&s=books&sr=1-22',\n",
       " 'My_Effin_Life_Kindle_Edition': 'https://www.amazon.ca/My-Effin-Life-Geddy-Lee-ebook/dp/B0BK99YN8H/ref=sr_1_23?qid=1700112780&refinements=p_n_binding_browse-bin%3A6202019011&rnid=2366372011&s=books&sr=1-23',\n",
       " 'Pretty_Boys_Are_Poisonous_Poems_Kindle_Edition': 'https://www.amazon.ca/Pretty-Boys-Are-Poisonous-Poems-ebook/dp/B0C6KZFKCJ/ref=sr_1_24?qid=1700112780&refinements=p_n_binding_browse-bin%3A6202019011&rnid=2366372011&s=books&sr=1-24',\n",
       " 'The_Airmen_and_the_Headhunters_A_True_Story_of_Lost_Soldiers_Heroic_Tribesmen_and_the_Unlikeliest_Rescue_of_World_War_II_Kindle_Edition': 'https://www.amazon.ca/Airmen-Headhunters-Soldiers-Tribesmen-Unlikeliest-ebook/dp/B003K15IH6/ref=sr_1_27?qid=1700112780&refinements=p_n_binding_browse-bin%3A6202019011&rnid=2366372011&s=books&sr=1-27',\n",
       " 'Making_It_So_A_Memoir_Kindle_Edition': 'https://www.amazon.ca/Making-So-Memoir-Patrick-Stewart-ebook/dp/B0BV11H7CH/ref=sr_1_28?qid=1700112780&refinements=p_n_binding_browse-bin%3A6202019011&rnid=2366372011&s=books&sr=1-28',\n",
       " 'The_Duel_Diefenbaker_Pearson_and_the_Making_of_Modern_Canada_Kindle_Edition': 'https://www.amazon.ca/Duel-Diefenbaker-Pearson-Making-Modern-ebook/dp/B0BZC4CL15/ref=sr_1_29?qid=1700112780&refinements=p_n_binding_browse-bin%3A6202019011&rnid=2366372011&s=books&sr=1-29',\n",
       " 'Doppelganger_A_Trip_into_the_Mirror_World_Kindle_Edition': 'https://www.amazon.ca/Doppelganger-Trip-into-Mirror-World-ebook/dp/B0C52R7RYV/ref=sr_1_30?qid=1700112780&refinements=p_n_binding_browse-bin%3A6202019011&rnid=2366372011&s=books&sr=1-30',\n",
       " 'Elvis_and_Me_Kindle_Edition': 'https://www.amazon.ca/Elvis-Me-Priscilla-Beaulieu-Presley-ebook/dp/B0B5H6VDRN/ref=sr_1_31?qid=1700112780&refinements=p_n_binding_browse-bin%3A6202019011&rnid=2366372011&s=books&sr=1-31',\n",
       " 'Mans_Search_for_Meaning_Kindle_Edition': 'https://www.amazon.ca/Mans-Search-Meaning-Viktor-Frankl-ebook/dp/B009U9S6FI/ref=sr_1_32?qid=1700112780&refinements=p_n_binding_browse-bin%3A6202019011&rnid=2366372011&s=books&sr=1-32',\n",
       " 'Friends_mes_amours_et_cette_chose_terrible_FRIENDS_MES_AMOURS_ET_CETTE_CHOSE_[NUM_(French_Edition)_Kindle_Edition': 'https://www.amazon.ca/Friends-amours-cette-chose-terrible-ebook/dp/B0BLW2FT1D/ref=sr_1_33?qid=1700112780&refinements=p_n_binding_browse-bin%3A6202019011&rnid=2366372011&s=books&sr=1-33',\n",
       " 'The_In__Between_Unforgettable_Encounters_During_Lifes_Final_Moments_Kindle_Edition': 'https://www.amazon.ca/Between-Unforgettable-Encounters-During-Moments-ebook/dp/B0BF9KJWKX/ref=sr_1_34?qid=1700112780&refinements=p_n_binding_browse-bin%3A6202019011&rnid=2366372011&s=books&sr=1-34',\n",
       " 'If_You_Would_Have_Told_Me_A_Memoir_Kindle_Edition': 'https://www.amazon.ca/If-You-Would-Have-Told-ebook/dp/B0BTBVNDRK/ref=sr_1_33?qid=1700112787&refinements=p_n_binding_browse-bin%3A6202019011&rnid=2366372011&s=books&sr=1-33',\n",
       " 'Between_Two_Kingdoms_A_Memoir_of_a_Life_Interrupted_Kindle_Edition': 'https://www.amazon.ca/Between-Two-Kingdoms-Suleika-Jaouad-ebook/dp/B07T3XHRVC/ref=sr_1_34?qid=1700112787&refinements=p_n_binding_browse-bin%3A6202019011&rnid=2366372011&s=books&sr=1-34',\n",
       " 'Vegas_and_the_Chicago_Outfit_The_Skimming_of_Las_Vegas_Kindle_Edition': 'https://www.amazon.ca/Vegas-Chicago-Outfit-Skimming-Las-ebook/dp/B0BHXKTFRZ/ref=sr_1_35?qid=1700112787&refinements=p_n_binding_browse-bin%3A6202019011&rnid=2366372011&s=books&sr=1-35',\n",
       " 'Thanks_a_Lot_Mr_Kibblewhite_My_Story_Kindle_Edition': 'https://www.amazon.ca/Thanks-Lot-Mr-Kibblewhite-Story-ebook/dp/B079DVT6VM/ref=sr_1_36?qid=1700112787&refinements=p_n_binding_browse-bin%3A6202019011&rnid=2366372011&s=books&sr=1-36',\n",
       " 'Down_the_Drain_Kindle_Edition': 'https://www.amazon.ca/Down-Drain-Julia-Fox-ebook/dp/B0BXM2ZBYV/ref=sr_1_37?qid=1700112787&refinements=p_n_binding_browse-bin%3A6202019011&rnid=2366372011&s=books&sr=1-37',\n",
       " 'The_Art_Thief_A_True_Story_of_Love_Crime_and_a_Dangerous_Obsession_Kindle_Edition': 'https://www.amazon.ca/Art-Thief-Story-Dangerous-Obsession-ebook/dp/B0BGN5FZ45/ref=sr_1_38?qid=1700112787&refinements=p_n_binding_browse-bin%3A6202019011&rnid=2366372011&s=books&sr=1-38',\n",
       " 'Among_the_Braves_Hope_Struggle_and_Exile_in_the_Battle_for_Hong_Kong_and_the_Future_of_Global_Democracy_Kindle_Edition': 'https://www.amazon.ca/Among-Braves-Struggle-Battle-Democracy-ebook/dp/B0BXKZ3SD5/ref=sr_1_39?qid=1700112787&refinements=p_n_binding_browse-bin%3A6202019011&rnid=2366372011&s=books&sr=1-39',\n",
       " 'Where_the_Falcon_Flies_A_3400_Kilometre_Odyssey_From_My_Doorstep_to_the_Arctic_Kindle_Edition': 'https://www.amazon.ca/Where-Falcon-Flies-Kilometre-Doorstep-ebook/dp/B0BRM9VYSP/ref=sr_1_40?qid=1700112787&refinements=p_n_binding_browse-bin%3A6202019011&rnid=2366372011&s=books&sr=1-40',\n",
       " 'Kings_&_Queens_of_Great_Britain_Every_Question_Answered_Kindle_Edition': 'https://www.amazon.ca/Kings-Queens-Great-Britain-Question-ebook/dp/B01DRX7MXO/ref=sr_1_43?qid=1700112787&refinements=p_n_binding_browse-bin%3A6202019011&rnid=2366372011&s=books&sr=1-43',\n",
       " 'Network_of_Lies_The_Epic_Saga_of_Fox_News_Donald_Trump_and_the_Battle_for_American_Democracy_Kindle_Edition': 'https://www.amazon.ca/Network-Lies-Donald-American-Democracy-ebook/dp/B0C29VZWD2/ref=sr_1_44?qid=1700112787&refinements=p_n_binding_browse-bin%3A6202019011&rnid=2366372011&s=books&sr=1-44',\n",
       " 'Worthy_Kindle_Edition': 'https://www.amazon.ca/Worthy-Jada-Pinkett-Smith-ebook/dp/B0BYDS7ZRJ/ref=sr_1_45?qid=1700112787&refinements=p_n_binding_browse-bin%3A6202019011&rnid=2366372011&s=books&sr=1-45',\n",
       " 'Renegade_Defending_Democracy_and_Liberty_in_Our_Divided_Country_Kindle_Edition': 'https://www.amazon.ca/Renegade-Defending-Democracy-Liberty-Divided-ebook/dp/B0BW5DHDFJ/ref=sr_1_46?qid=1700112787&refinements=p_n_binding_browse-bin%3A6202019011&rnid=2366372011&s=books&sr=1-46',\n",
       " 'Emperor_of_Rome_Ruling_the_Ancient_Roman_World_Kindle_Edition': 'https://www.amazon.ca/Emperor-Rome-Ruling-Ancient-Roman-ebook/dp/B0BWL2VFFL/ref=sr_1_47?qid=1700112787&refinements=p_n_binding_browse-bin%3A6202019011&rnid=2366372011&s=books&sr=1-47',\n",
       " 'When_Breath_Becomes_Air_Kindle_Edition': 'https://www.amazon.ca/When-Breath-Becomes-Paul-Kalanithi-ebook/dp/B00XSSYR50/ref=sr_1_48?qid=1700112787&refinements=p_n_binding_browse-bin%3A6202019011&rnid=2366372011&s=books&sr=1-48',\n",
       " 'Shooter_The_Autobiography_of_the_Top__Ranked_Marine_Sniper_Kindle_Edition': 'https://www.amazon.ca/Shooter-Autobiography-Top-Ranked-Marine-Sniper-ebook/dp/B003J48BKU/ref=sr_1_49?qid=1700112787&refinements=p_n_binding_browse-bin%3A6202019011&rnid=2366372011&s=books&sr=1-49',\n",
       " 'By_the_Ghost_Light_Wars_Memory_and_Families_Kindle_Edition': 'https://www.amazon.ca/Ghost-Light-Wars-Memory-Families-ebook/dp/B0BZ3HTVQW/ref=sr_1_50?qid=1700112787&refinements=p_n_binding_browse-bin%3A6202019011&rnid=2366372011&s=books&sr=1-50',\n",
       " 'What_My_Bones_Know_A_Memoir_of_Healing_from_Complex_Trauma_Kindle_Edition': 'https://www.amazon.ca/What-My-Bones-Know-Healing-ebook/dp/B095MPG9CF/ref=sr_1_49?qid=1700112794&refinements=p_n_binding_browse-bin%3A6202019011&rnid=2366372011&s=books&sr=1-49',\n",
       " 'American_Prometheus_The_Inspiration_for_the_Major_Motion_Picture_OPPENHEIMER_Reprint_Edition_Kindle_Edition': 'https://www.amazon.ca/American-Prometheus-Triumph-Tragedy-Oppenheimer-ebook/dp/B000XUBEYS/ref=sr_1_50?qid=1700112794&refinements=p_n_binding_browse-bin%3A6202019011&rnid=2366372011&s=books&sr=1-50',\n",
       " 'Writers_Their_Lives_and_Works_(DK_History_Changers)_Kindle_Edition': 'https://www.amazon.ca/Writers-Their-Lives-Works-DK-ebook/dp/B08QTTVD6Q/ref=sr_1_51?qid=1700112794&refinements=p_n_binding_browse-bin%3A6202019011&rnid=2366372011&s=books&sr=1-51',\n",
       " 'Astor_The_Rise_and_Fall_of_an_American_Fortune_Kindle_Edition': 'https://www.amazon.ca/Astor-Rise-Fall-American-Fortune-ebook/dp/B0BTYXVCTV/ref=sr_1_52?qid=1700112794&refinements=p_n_binding_browse-bin%3A6202019011&rnid=2366372011&s=books&sr=1-52',\n",
       " 'Maybe_You_Should_Talk_to_Someone_A_Therapist_HER_Therapist_and_Our_Lives_Revealed_Kindle_Edition': 'https://www.amazon.ca/Maybe-You-Should-Talk-Someone-ebook/dp/B07BZ4F75T/ref=sr_1_53?qid=1700112794&refinements=p_n_binding_browse-bin%3A6202019011&rnid=2366372011&s=books&sr=1-53',\n",
       " 'Courage_to_Say_No_A_Pakistani_Female_Doctors_Battle_Against_Sexual_Exploitation_Kindle_Edition': 'https://www.amazon.ca/Courage-Say-No-Pakistani-Exploitation-ebook/dp/B07FL5NDJ3/ref=sr_1_54?qid=1700112794&refinements=p_n_binding_browse-bin%3A6202019011&rnid=2366372011&s=books&sr=1-54',\n",
       " 'Romney_A_Reckoning_Kindle_Edition': 'https://www.amazon.ca/Romney-Reckoning-McKay-Coppins-ebook/dp/B0BTZXZF4K/ref=sr_1_55?qid=1700112794&refinements=p_n_binding_browse-bin%3A6202019011&rnid=2366372011&s=books&sr=1-55',\n",
       " 'Blackbeard_The_Birth_of_America_Kindle_Edition': 'https://www.amazon.ca/Blackbeard-Birth-America-Samuel-Marquis-ebook/dp/B078YMVZ8F/ref=sr_1_56?qid=1700112794&refinements=p_n_binding_browse-bin%3A6202019011&rnid=2366372011&s=books&sr=1-56',\n",
       " 'Never_Finished_Unshackle_Your_Mind_and_Win_the_War_Within_Kindle_Edition': 'https://www.amazon.ca/Never-Finished-Unshackle-Your-Within-ebook/dp/B0BJMN7RMV/ref=sr_1_59?qid=1700112794&refinements=p_n_binding_browse-bin%3A6202019011&rnid=2366372011&s=books&sr=1-59',\n",
       " 'The_Lemon_Tree_An_Arab_a_Jew_and_the_Heart_of_the_Middle_East_Kindle_Edition': 'https://www.amazon.ca/Lemon-Tree-Arab-Heart-Middle-ebook/dp/B002UM5B8C/ref=sr_1_60?qid=1700112794&refinements=p_n_binding_browse-bin%3A6202019011&rnid=2366372011&s=books&sr=1-60',\n",
       " 'Im_Glad_My_Mom_Died_Kindle_Edition': 'https://www.amazon.ca/Im-Glad-My-Mom-Died-ebook/dp/B09JPJ833S/ref=sr_1_61?qid=1700112794&refinements=p_n_binding_browse-bin%3A6202019011&rnid=2366372011&s=books&sr=1-61',\n",
       " 'Life_in_Two_Worlds_A_Coachs_Journey_from_the_Reserve_to_the_NHL_and_Back_Kindle_Edition': 'https://www.amazon.ca/Life-Two-Worlds-Journey-Reserve-ebook/dp/B0BS2T22DB/ref=sr_1_62?qid=1700112794&refinements=p_n_binding_browse-bin%3A6202019011&rnid=2366372011&s=books&sr=1-62',\n",
       " 'Educated_Kindle_Edition': 'https://www.amazon.ca/Educated-Tara-Westover-ebook/dp/B071RQXBH2/ref=sr_1_63?qid=1700112794&refinements=p_n_binding_browse-bin%3A6202019011&rnid=2366372011&s=books&sr=1-63',\n",
       " 'SKIP_THE_PAIN_EXPERIENCE_THE_PLEASURE_Cut_the_Crap_thats_Holding_You_Back_so_You_Can_Live_the_Life_You_Love_Kindle_Edition': 'https://www.amazon.ca/SKIP-PAIN-EXPERIENCE-PLEASURE-Holding-ebook/dp/B0CML83PNN/ref=sr_1_64?qid=1700112794&refinements=p_n_binding_browse-bin%3A6202019011&rnid=2366372011&s=books&sr=1-64',\n",
       " 'The_Worlds_I_See_Curiosity_Exploration_and_Discovery_at_the_Dawn_of_AI_Kindle_Edition': 'https://www.amazon.ca/Worlds-See-Curiosity-Exploration-Discovery-ebook/dp/B0BPQSLVL6/ref=sr_1_65?qid=1700112794&refinements=p_n_binding_browse-bin%3A6202019011&rnid=2366372011&s=books&sr=1-65',\n",
       " 'Tuesdays_with_Morrie_An_Old_Man_a_Young_Man_and_Lifes_Greatest_Lesson_25th_Anniversary_Edition_Kindle_Edition': 'https://www.amazon.ca/Tuesdays-Morrie-Greatest-Lesson-Anniversary-ebook/dp/B000SEGMAU/ref=sr_1_66?qid=1700112794&refinements=p_n_binding_browse-bin%3A6202019011&rnid=2366372011&s=books&sr=1-66',\n",
       " 'Poor_Charlie’s_Almanack_The_Essential_Wit_and_Wisdom_of_Charles_T_Munger_Kindle_Edition': 'https://www.amazon.ca/Poor-Charlies-Almanack-Essential-Charles-ebook/dp/B0C5TCGPPS/ref=sr_1_65?qid=1700112802&refinements=p_n_binding_browse-bin%3A6202019011&rnid=2366372011&s=books&sr=1-65',\n",
       " 'The_Ride_of_Her_Life_The_True_Story_of_a_Woman_Her_Horse_and_Their_Last__Chance_Journey_Across_America_Kindle_Edition': 'https://www.amazon.ca/Ride-Her-Life-Last-Chance-Journey-ebook/dp/B08HL9G6ZR/ref=sr_1_66?qid=1700112802&refinements=p_n_binding_browse-bin%3A6202019011&rnid=2366372011&s=books&sr=1-66',\n",
       " 'Greenlights_Kindle_Edition': 'https://www.amazon.ca/Greenlights-Matthew-McConaughey-ebook/dp/B086823SWK/ref=sr_1_67?qid=1700112802&refinements=p_n_binding_browse-bin%3A6202019011&rnid=2366372011&s=books&sr=1-67',\n",
       " 'An_Invisible_Thread_The_True_Story_of_an_11__Year__Old_Panhandler_a_Busy_Sales_Executive_and_an_Unlikely_Meeting_with_Destiny_Kindle_Edition': 'https://www.amazon.ca/Invisible-Thread-11-Year-Old-Panhandler-Executive-ebook/dp/B004T4KXYQ/ref=sr_1_68?qid=1700112802&refinements=p_n_binding_browse-bin%3A6202019011&rnid=2366372011&s=books&sr=1-68',\n",
       " 'Finding_Me_An_Oprahs_Book_Club_Pick_Kindle_Edition': 'https://www.amazon.ca/Finding-Me-Memoir-Viola-Davis-ebook/dp/B099WXTZGM/ref=sr_1_69?qid=1700112802&refinements=p_n_binding_browse-bin%3A6202019011&rnid=2366372011&s=books&sr=1-69',\n",
       " 'Someone_Has_Led_This_Child_to_Believe_A_Memoir_Kindle_Edition': 'https://www.amazon.ca/Someone-Has-This-Child-Believe-ebook/dp/B0773NJ9KL/ref=sr_1_70?qid=1700112802&refinements=p_n_binding_browse-bin%3A6202019011&rnid=2366372011&s=books&sr=1-70',\n",
       " 'Kasher_in_the_Rye_The_True_Tale_of_a_White_Boy_from_Oakland_Who_Became_a_Drug_Addict_Criminal_Mental_Patient_and_Then_Turned_16_Kindle_Edition': 'https://www.amazon.ca/Kasher-Rye-Oakland-Criminal-Patient-ebook/dp/B004RCNGSA/ref=sr_1_71?qid=1700112802&refinements=p_n_binding_browse-bin%3A6202019011&rnid=2366372011&s=books&sr=1-71',\n",
       " 'How_to_Say_Babylon_A_Memoir_Kindle_Edition': 'https://www.amazon.ca/How-Say-Babylon-Safiya-Sinclair-ebook/dp/B0BHTL8PQX/ref=sr_1_72?qid=1700112802&refinements=p_n_binding_browse-bin%3A6202019011&rnid=2366372011&s=books&sr=1-72',\n",
       " 'Talking_to_Canadians_A_Memoir_Kindle_Edition': 'https://www.amazon.ca/Talking-Canadians-Memoir-Rick-Mercer-ebook/dp/B092CYH3V5/ref=sr_1_75?qid=1700112802&refinements=p_n_binding_browse-bin%3A6202019011&rnid=2366372011&s=books&sr=1-75',\n",
       " 'Run_Towards_the_Danger_Confrontations_with_a_Body_of_Memory_Kindle_Edition': 'https://www.amazon.ca/Run-Towards-Danger-Confrontations-Memory-ebook/dp/B096DVPD36/ref=sr_1_76?qid=1700112802&refinements=p_n_binding_browse-bin%3A6202019011&rnid=2366372011&s=books&sr=1-76',\n",
       " 'Bogeyman_Kindle_Edition': 'https://www.amazon.ca/Bogeyman-Steve-Jackson-ebook/dp/B08B7XTX6W/ref=sr_1_77?qid=1700112802&refinements=p_n_binding_browse-bin%3A6202019011&rnid=2366372011&s=books&sr=1-77',\n",
       " 'Shoe_Dog_A_Memoir_by_the_Creator_of_Nike_Kindle_Edition': 'https://www.amazon.ca/Shoe-Dog-Memoir-Creator-Nike-ebook/dp/B0176M1A44/ref=sr_1_78?qid=1700112802&refinements=p_n_binding_browse-bin%3A6202019011&rnid=2366372011&s=books&sr=1-78',\n",
       " 'Paris_The_Memoir_Kindle_Edition': 'https://www.amazon.ca/Paris-Memoir-Hilton-ebook/dp/B0B7NGZPFS/ref=sr_1_79?qid=1700112802&refinements=p_n_binding_browse-bin%3A6202019011&rnid=2366372011&s=books&sr=1-79',\n",
       " 'Cast_a_Diva_The_Hidden_Life_of_Maria_Callas_Kindle_Edition': 'https://www.amazon.ca/Cast-Diva-Hidden-Maria-Callas-ebook/dp/B096W5JQ6Q/ref=sr_1_80?qid=1700112802&refinements=p_n_binding_browse-bin%3A6202019011&rnid=2366372011&s=books&sr=1-80',\n",
       " 'If_You_Tell_A_True_Story_of_Murder_Family_Secrets_and_the_Unbreakable_Bond_of_Sisterhood_Kindle_Edition': 'https://www.amazon.ca/If-You-Tell-Unbreakable-Sisterhood-ebook/dp/B07Q5TL9SQ/ref=sr_1_81?qid=1700112802&refinements=p_n_binding_browse-bin%3A6202019011&rnid=2366372011&s=books&sr=1-81',\n",
       " 'Pageboy_A_Memoir_Kindle_Edition': 'https://www.amazon.ca/Pageboy-Elliot-Page-ebook/dp/B0B6XYGX6N/ref=sr_1_82?qid=1700112802&refinements=p_n_binding_browse-bin%3A6202019011&rnid=2366372011&s=books&sr=1-82',\n",
       " 'Passionate_Mothers_Powerful_Sons_The_Lives_of_Jennie_Jerome_Churchill_and_Sara_Delano_Roosevelt_Kindle_Edition': 'https://www.amazon.ca/Passionate-Mothers-Powerful-Sons-Churchill-ebook/dp/B0BTZQB761/ref=sr_1_81?qid=1700112809&refinements=p_n_binding_browse-bin%3A6202019011&rnid=2366372011&s=books&sr=1-81',\n",
       " 'The_Road_to_Jonestown_Jim_Jones_and_Peoples_Temple_Kindle_Edition': 'https://www.amazon.ca/Road-Jonestown-Jones-Peoples-Temple-ebook/dp/B01HMXV0AQ/ref=sr_1_82?qid=1700112809&refinements=p_n_binding_browse-bin%3A6202019011&rnid=2366372011&s=books&sr=1-82',\n",
       " 'On_Writing_A_Memoir_Of_The_Craft_(A_Memoir_of_the_Craft_(Reissue))_Kindle_Edition': 'https://www.amazon.ca/Writing-Memoir-Craft-Stephen-King-ebook/dp/B000FC0SIM/ref=sr_1_83?qid=1700112809&refinements=p_n_binding_browse-bin%3A6202019011&rnid=2366372011&s=books&sr=1-83',\n",
       " 'Wavewalker_THE_INTERNATIONAL_BESTELLING_TRUE__STORY_OF_A_YOUNG_GIRL’S_FIGHT_FOR_FREEDOM_AND_EDUCATION_Kindle_Edition': 'https://www.amazon.ca/Wavewalker-Memoir-Breaking-Suzanne-Heywood-ebook/dp/B0BZK87N22/ref=sr_1_84?qid=1700112809&refinements=p_n_binding_browse-bin%3A6202019011&rnid=2366372011&s=books&sr=1-84',\n",
       " 'A_Life_on_Our_Planet_My_Witness_Statement_and_a_Vision_for_the_Future_Kindle_Edition': 'https://www.amazon.ca/Life-Our-Planet-Witness-Statement-ebook/dp/B089CKYNT9/ref=sr_1_85?qid=1700112809&refinements=p_n_binding_browse-bin%3A6202019011&rnid=2366372011&s=books&sr=1-85',\n",
       " 'Freezing_Order_A_True_Story_of_Money_Laundering_Murder_and_Surviving_Vladimir_Putins_Wrath_Kindle_Edition': 'https://www.amazon.ca/Freezing-Order-Laundering-Surviving-Vladimir-ebook/dp/B09JPH6CW3/ref=sr_1_86?qid=1700112809&refinements=p_n_binding_browse-bin%3A6202019011&rnid=2366372011&s=books&sr=1-86',\n",
       " 'The_Company_The_Rise_and_Fall_of_the_Hudsons_Bay_Empire_Kindle_Edition': 'https://www.amazon.ca/Company-Rise-Fall-Hudsons-Empire-ebook/dp/B084FKYPJB/ref=sr_1_87?qid=1700112809&refinements=p_n_binding_browse-bin%3A6202019011&rnid=2366372011&s=books&sr=1-87',\n",
       " 'The_Class_A_Memoir_of_a_Place_a_Time_and_Us_Kindle_Edition': 'https://www.amazon.ca/Class-Memoir-Place-Time-Us-ebook/dp/B0C1FVJG8X/ref=sr_1_88?qid=1700112809&refinements=p_n_binding_browse-bin%3A6202019011&rnid=2366372011&s=books&sr=1-88',\n",
       " 'They_Called_Me_a_Lioness_A_Palestinian_Girls_Fight_for_Freedom_Kindle_Edition': 'https://www.amazon.ca/They-Called-Me-Lioness-Palestinian-ebook/dp/B09N6PSHFV/ref=sr_1_91?qid=1700112809&refinements=p_n_binding_browse-bin%3A6202019011&rnid=2366372011&s=books&sr=1-91',\n",
       " 'Crying_in_H_Mart_A_Memoir_Kindle_Edition': 'https://www.amazon.ca/Crying-Mart-Memoir-Michelle-Zauner-ebook/dp/B08DMXF7ZZ/ref=sr_1_92?qid=1700112809&refinements=p_n_binding_browse-bin%3A6202019011&rnid=2366372011&s=books&sr=1-92',\n",
       " 'Among_the_Bros_A_Fraternity_Crime_Story_Kindle_Edition': 'https://www.amazon.ca/Among-Bros-Fraternity-Crime-Story-ebook/dp/B0BPSZTS2G/ref=sr_1_93?qid=1700112809&refinements=p_n_binding_browse-bin%3A6202019011&rnid=2366372011&s=books&sr=1-93',\n",
       " 'I_Love_Russia_Reporting_from_a_Lost_Country_Kindle_Edition': 'https://www.amazon.ca/Love-Russia-Reporting-Lost-Country-ebook/dp/B0BZ3LWS8H/ref=sr_1_94?qid=1700112809&refinements=p_n_binding_browse-bin%3A6202019011&rnid=2366372011&s=books&sr=1-94',\n",
       " 'Born_a_Crime_Stories_from_a_South_African_Childhood_Kindle_Edition': 'https://www.amazon.ca/Born-Crime-Trevor-Noah-ebook/dp/B01DHWACWI/ref=sr_1_95?qid=1700112809&refinements=p_n_binding_browse-bin%3A6202019011&rnid=2366372011&s=books&sr=1-95',\n",
       " 'Take_Your_Baby_And_Run_How_nurses_blew_the_whistle_on_Canada’s_biggest_cardiac_disaster_Kindle_Edition': 'https://www.amazon.ca/Take-Your-Baby-Run-disaster-ebook/dp/B0CLYXZPJT/ref=sr_1_96?qid=1700112809&refinements=p_n_binding_browse-bin%3A6202019011&rnid=2366372011&s=books&sr=1-96',\n",
       " 'The_Glass_Castle_A_Memoir_Kindle_Edition': 'https://www.amazon.ca/Glass-Castle-Memoir-Jeannette-Walls-ebook/dp/B000OVLKMM/ref=sr_1_97?qid=1700112809&refinements=p_n_binding_browse-bin%3A6202019011&rnid=2366372011&s=books&sr=1-97',\n",
       " 'Hunting_the_Falcon_Henry_VIII_Anne_Boleyn_and_the_Marriage_That_Shook_Europe_Kindle_Edition': 'https://www.amazon.ca/Hunting-Falcon-Boleyn-Marriage-Europe-ebook/dp/B0BSFRTSWP/ref=sr_1_98?qid=1700112809&refinements=p_n_binding_browse-bin%3A6202019011&rnid=2366372011&s=books&sr=1-98',\n",
       " 'Vanderbilt_The_Rise_and_Fall_of_an_American_Dynasty_Kindle_Edition': 'https://www.amazon.ca/Vanderbilt-Rise-Fall-American-Dynasty-ebook/dp/B08R3WD7WD/ref=sr_1_97?qid=1700112817&refinements=p_n_binding_browse-bin%3A6202019011&rnid=2366372011&s=books&sr=1-97',\n",
       " 'Zen_and_the_Art_of_Motorcycle_Maintenance_An_Inquiry_Into_Values_Reprint_Edition_Kindle_Edition': 'https://www.amazon.ca/Zen-Art-Motorcycle-Maintenance-Inquiry-ebook/dp/B0026772N8/ref=sr_1_98?qid=1700112817&refinements=p_n_binding_browse-bin%3A6202019011&rnid=2366372011&s=books&sr=1-98',\n",
       " 'Finding_Baby_Holly_Lost_to_a_Cult_Surviving_My_Parents_Murders_and_Saved_by_Prayer_Kindle_Edition': 'https://www.amazon.ca/Finding-Baby-Holly-Surviving-Parents-ebook/dp/B0CCNQRNLC/ref=sr_1_99?qid=1700112817&refinements=p_n_binding_browse-bin%3A6202019011&rnid=2366372011&s=books&sr=1-99',\n",
       " 'Class_A_Memoir_of_Motherhood_Hunger_and_Higher_Education_Kindle_Edition': 'https://www.amazon.ca/Class-Memoir-Motherhood-Hunger-Education-ebook/dp/B0BTZZ485M/ref=sr_1_100?qid=1700112817&refinements=p_n_binding_browse-bin%3A6202019011&rnid=2366372011&s=books&sr=1-100',\n",
       " 'Empire_of_the_Summer_Moon_Quanah_Parker_and_the_Rise_and_Fall_of_the_Comanches_the_Most_Powerful_Indian_Tribe_in_American_History_Kindle_Edition': 'https://www.amazon.ca/Empire-Summer-Moon-Comanches-Powerful-ebook/dp/B003KN3MDG/ref=sr_1_101?qid=1700112817&refinements=p_n_binding_browse-bin%3A6202019011&rnid=2366372011&s=books&sr=1-101',\n",
       " 'Ancient_Dynasties_The_Families_that_Ruled_the_Classical_World_circa_1000_BC_to_AD_750_Kindle_Edition': 'https://www.amazon.ca/Ancient-Dynasties-Families-Ruled-Classical-ebook/dp/B07RYY5449/ref=sr_1_102?qid=1700112817&refinements=p_n_binding_browse-bin%3A6202019011&rnid=2366372011&s=books&sr=1-102',\n",
       " 'The_Next_Chapter_Making_Peace_with_Hard_Memories_Finding_Hope_All_Around_Me_and_Clearing_Space_for_Good_Things_to_Come_Kindle_Edition': 'https://www.amazon.ca/Next-Chapter-Memories-Finding-Clearing-ebook/dp/B0BPSY6DPZ/ref=sr_1_103?qid=1700112817&refinements=p_n_binding_browse-bin%3A6202019011&rnid=2366372011&s=books&sr=1-103',\n",
       " 'Night_(Night_Trilogy)_Kindle_Edition': 'https://www.amazon.ca/Night-Trilogy-Elie-Wiesel-ebook/dp/B0071VUXXA/ref=sr_1_104?qid=1700112817&refinements=p_n_binding_browse-bin%3A6202019011&rnid=2366372011&s=books&sr=1-104',\n",
       " 'Good_Morning_Monster_Five_Heroic_Journeys_to_Recovery_Kindle_Edition': 'https://www.amazon.ca/Good-Morning-Monster-Journeys-Recovery-ebook/dp/B07L7T878C/ref=sr_1_107?qid=1700112817&refinements=p_n_binding_browse-bin%3A6202019011&rnid=2366372011&s=books&sr=1-107',\n",
       " 'From_the_Ashes_My_Story_of_Being_Métis_Homeless_and_Finding_My_Way_Kindle_Edition': 'https://www.amazon.ca/Ashes-Story-Being-Homeless-Finding-ebook/dp/B07P575T5T/ref=sr_1_108?qid=1700112817&refinements=p_n_binding_browse-bin%3A6202019011&rnid=2366372011&s=books&sr=1-108',\n",
       " 'Famille_royale_(French_Edition)_Kindle_Edition': 'https://www.amazon.ca/Famille-royale-French-St%C3%A9phane-Rousseau-ebook/dp/B0BN795PRZ/ref=sr_1_109?qid=1700112817&refinements=p_n_binding_browse-bin%3A6202019011&rnid=2366372011&s=books&sr=1-109',\n",
       " 'Endgame_Inside_the_Royal_Family_and_the_Monarchys_Fight_for_Survival_Kindle_Edition': 'https://www.amazon.ca/Endgame-Inside-Family-Monarchys-Survival-ebook/dp/B0BPSX2X4Q/ref=sr_1_110?qid=1700112817&refinements=p_n_binding_browse-bin%3A6202019011&rnid=2366372011&s=books&sr=1-110',\n",
       " 'Know_My_Name_A_Memoir_Kindle_Edition': 'https://www.amazon.ca/Know-My-Name-Chanel-Miller-ebook/dp/B07SJPPTDL/ref=sr_1_111?qid=1700112817&refinements=p_n_binding_browse-bin%3A6202019011&rnid=2366372011&s=books&sr=1-111',\n",
       " 'Killing_Women_Kindle_Edition': 'https://www.amazon.ca/Killing-Women-Rod-Sadler-ebook/dp/B099J4LWNP/ref=sr_1_112?qid=1700112817&refinements=p_n_binding_browse-bin%3A6202019011&rnid=2366372011&s=books&sr=1-112',\n",
       " 'Word_by_Word_The_Secret_Life_of_Dictionaries_Kindle_Edition': 'https://www.amazon.ca/Word-Secret-Life-Dictionaries-ebook/dp/B01HA4P9VI/ref=sr_1_113?qid=1700112817&refinements=p_n_binding_browse-bin%3A6202019011&rnid=2366372011&s=books&sr=1-113',\n",
       " 'Sophie_de_Habsbourg_(Biographie)_(French_Edition)_Kindle_Edition': 'https://www.amazon.ca/Sophie-Habsbourg-Biographie-French-Jean-Paul-ebook/dp/B077ZC8N54/ref=sr_1_114?qid=1700112817&refinements=p_n_binding_browse-bin%3A6202019011&rnid=2366372011&s=books&sr=1-114',\n",
       " 'The_Light_We_Carry_Overcoming_in_Uncertain_Times_Kindle_Edition': 'https://www.amazon.ca/Light-We-Carry-Overcoming-Uncertain-ebook/dp/B0B4Z7D4BC/ref=sr_1_113?qid=1700112824&refinements=p_n_binding_browse-bin%3A6202019011&rnid=2366372011&s=books&sr=1-113',\n",
       " '438_Days_An_Extraordinary_True_Story_of_Survival_at_Sea_Kindle_Edition': 'https://www.amazon.ca/438-Days-Extraordinary-Story-Survival-ebook/dp/B00UDCHZ3K/ref=sr_1_114?qid=1700112824&refinements=p_n_binding_browse-bin%3A6202019011&rnid=2366372011&s=books&sr=1-114',\n",
       " 'Thicker_than_Water_A_Memoir_Kindle_Edition': 'https://www.amazon.ca/Thicker-than-Water-Kerry-Washington-ebook/dp/B0BT8GW8NW/ref=sr_1_115?qid=1700112824&refinements=p_n_binding_browse-bin%3A6202019011&rnid=2366372011&s=books&sr=1-115',\n",
       " 'Wintering_The_Power_of_Rest_and_Retreat_in_Difficult_Times_Kindle_Edition': 'https://www.amazon.ca/Wintering-Power-Retreat-Difficult-Times-ebook/dp/B085N3MXHZ/ref=sr_1_116?qid=1700112824&refinements=p_n_binding_browse-bin%3A6202019011&rnid=2366372011&s=books&sr=1-116',\n",
       " 'The_Boy_Who_Talked_to_Dogs_A_Memoir_Kindle_Edition': 'https://www.amazon.ca/Boy-Who-Talked-Dogs-Memoir-ebook/dp/B00MSYV186/ref=sr_1_117?qid=1700112824&refinements=p_n_binding_browse-bin%3A6202019011&rnid=2366372011&s=books&sr=1-117',\n",
       " 'The_Statesman_and_the_Storyteller_John_Hay_Mark_Twain_and_the_Rise_of_American_Imperialism_Kindle_Edition': 'https://www.amazon.ca/Statesman-Storyteller-Twain-American-Imperialism-ebook/dp/B013JBH8G0/ref=sr_1_118?qid=1700112824&refinements=p_n_binding_browse-bin%3A6202019011&rnid=2366372011&s=books&sr=1-118',\n",
       " 'Ice_and_Bone_Tracking_an_Alaskan_Serial_Killer_Kindle_Edition': 'https://www.amazon.ca/Ice-Bone-Tracking-Alaskan-Serial-ebook/dp/B08DCVBCK9/ref=sr_1_119?qid=1700112824&refinements=p_n_binding_browse-bin%3A6202019011&rnid=2366372011&s=books&sr=1-119',\n",
       " 'The_Devils_Chessboard_Allen_Dulles_the_CIA_and_the_Rise_of_Americas_Secret_Government_Kindle_Edition': 'https://www.amazon.ca/Devils-Chessboard-Dulles-Americas-Government-ebook/dp/B00SFZB93Y/ref=sr_1_120?qid=1700112824&refinements=p_n_binding_browse-bin%3A6202019011&rnid=2366372011&s=books&sr=1-120',\n",
       " 'Breathing_on_the_Roof_of_the_World_Memoir_of_a_Respiratory_Physiologist_(Springer_Biographies)_1st_ed_2017_Edition_Kindle_Edition': 'https://www.amazon.ca/Breathing-Roof-World-Respiratory-Physiologist-ebook/dp/B073DZLL4J/ref=sr_1_123?qid=1700112824&refinements=p_n_binding_browse-bin%3A6202019011&rnid=2366372011&s=books&sr=1-123',\n",
       " 'Outsider_An_Old_Man_a_Mountain_and_the_Search_for_a_Hidden_Past_Kindle_Edition': 'https://www.amazon.ca/Outsider-Mountain-Search-Hidden-Past-ebook/dp/B0B7NZHCKR/ref=sr_1_124?qid=1700112824&refinements=p_n_binding_browse-bin%3A6202019011&rnid=2366372011&s=books&sr=1-124',\n",
       " 'Extreme_Ownership_How_US_Navy_SEALs_Lead_and_Win_Kindle_Edition': 'https://www.amazon.ca/Extreme-Ownership-U-S-Navy-SEALs-ebook/dp/B0739PYQSS/ref=sr_1_125?qid=1700112824&refinements=p_n_binding_browse-bin%3A6202019011&rnid=2366372011&s=books&sr=1-125',\n",
       " 'Steve_Jobs_Kindle_Edition': 'https://www.amazon.ca/Steve-Jobs-Walter-Isaacson-ebook/dp/B004W2UBYW/ref=sr_1_126?qid=1700112824&refinements=p_n_binding_browse-bin%3A6202019011&rnid=2366372011&s=books&sr=1-126',\n",
       " 'That_Bear_Ate_My_Pants_A_Comedy_Memoir_with_Teeth_and_Claws!_Kindle_Edition': 'https://www.amazon.ca/Pants-Near-Death-Ecuadorian-Animal-Refuge-ebook/dp/B0057P6FNO/ref=sr_1_127?qid=1700112824&refinements=p_n_binding_browse-bin%3A6202019011&rnid=2366372011&s=books&sr=1-127',\n",
       " 'Unearthing_A_Story_of_Tangled_Love_and_Family_Secrets_Kindle_Edition': 'https://www.amazon.ca/Unearthing-Story-Tangled-Family-Secrets-ebook/dp/B0BG6ZFDN9/ref=sr_1_128?qid=1700112824&refinements=p_n_binding_browse-bin%3A6202019011&rnid=2366372011&s=books&sr=1-128',\n",
       " 'Napoleon_the_Great_Kindle_Edition': 'https://www.amazon.ca/Napoleon-Great-Andrew-Roberts-ebook/dp/B01G8V1TMW/ref=sr_1_129?qid=1700112824&refinements=p_n_binding_browse-bin%3A6202019011&rnid=2366372011&s=books&sr=1-129',\n",
       " 'Fighting_for_Afghanistan_A_Rogue_Historian_at_War_Kindle_Edition': 'https://www.amazon.ca/Fighting-Afghanistan-Rogue-Historian-War-ebook/dp/B00DKMWN46/ref=sr_1_130?qid=1700112824&refinements=p_n_binding_browse-bin%3A6202019011&rnid=2366372011&s=books&sr=1-130',\n",
       " 'I_Shall_Not_Hate_A_Gaza_Doctors_Journey_Kindle_Edition': 'https://www.amazon.ca/Shall-Not-Hate-Doctors-Journey-ebook/dp/B003HG5R0W/ref=sr_1_129?qid=1700112832&refinements=p_n_binding_browse-bin%3A6202019011&rnid=2366372011&s=books&sr=1-129',\n",
       " 'Meditations_by_Emperor_of_Rome_Marcus_Aurelius_Modern_English_Translation_2023_Kindle_Edition': 'https://www.amazon.ca/Meditations-Emperor-Rome-Marcus-Aurelius-ebook/dp/B0CKNKGQ8D/ref=sr_1_130?qid=1700112832&refinements=p_n_binding_browse-bin%3A6202019011&rnid=2366372011&s=books&sr=1-130',\n",
       " 'Everything_I_Know_About_Love_A_Memoir_Kindle_Edition': 'https://www.amazon.ca/Everything-Know-About-Love-Memoir-ebook/dp/B07S7QPG6J/ref=sr_1_131?qid=1700112832&refinements=p_n_binding_browse-bin%3A6202019011&rnid=2366372011&s=books&sr=1-131',\n",
       " 'Unveiled_How_Western_Liberals_Empower_Radical_Islam_Kindle_Edition': 'https://www.amazon.ca/Unveiled-Western-Liberals-Empower-Radical-ebook/dp/B07YCVN78V/ref=sr_1_132?qid=1700112832&refinements=p_n_binding_browse-bin%3A6202019011&rnid=2366372011&s=books&sr=1-132',\n",
       " 'Missing_from_Me_Kindle_Edition': 'https://www.amazon.ca/Missing-Me-Heather-Shtuka-ebook/dp/B0BMPRK8FS/ref=sr_1_133?qid=1700112832&refinements=p_n_binding_browse-bin%3A6202019011&rnid=2366372011&s=books&sr=1-133',\n",
       " 'The_Question_of_Palestine_Kindle_Edition': 'https://www.amazon.ca/Question-Palestine-Edward-W-Said-ebook/dp/B0138OGOYU/ref=sr_1_134?qid=1700112832&refinements=p_n_binding_browse-bin%3A6202019011&rnid=2366372011&s=books&sr=1-134',\n",
       " 'Diddly_Squat_Pigs_Might_Fly_Kindle_Edition': 'https://www.amazon.ca/Diddly-Squat-Pigs-Might-Fly-ebook/dp/B0CFTMLQY5/ref=sr_1_135?qid=1700112832&refinements=p_n_binding_browse-bin%3A6202019011&rnid=2366372011&s=books&sr=1-135',\n",
       " 'Nobodys_Fool_The_Life_and_Times_of_Schlitzie_the_Pinhead_Kindle_Edition': 'https://www.amazon.ca/Nobodys-Fool-Times-Schlitzie-Pinhead-ebook/dp/B07H1KDBQC/ref=sr_1_136?qid=1700112832&refinements=p_n_binding_browse-bin%3A6202019011&rnid=2366372011&s=books&sr=1-136',\n",
       " 'Tiny_Beautiful_Things_Advice_from_Dear_Sugar_(A_Reese_Witherspoon_Book_Club_Pick)_Kindle_Edition': 'https://www.amazon.ca/Tiny-Beautiful-Things-Advice-Sugar-ebook/dp/B005V2DUP4/ref=sr_1_139?qid=1700112832&refinements=p_n_binding_browse-bin%3A6202019011&rnid=2366372011&s=books&sr=1-139',\n",
       " 'A_Child_Without_a_Shadow_A_Memoir_of_a_Holocaust_Survivor_and_a_World_Famous_Doctor_Kindle_Edition': 'https://www.amazon.ca/Child-Without-Shadow-Holocaust-Survivor-ebook/dp/B0978SNC6P/ref=sr_1_140?qid=1700112832&refinements=p_n_binding_browse-bin%3A6202019011&rnid=2366372011&s=books&sr=1-140',\n",
       " 'Endurance_Shackletons_Incredible_Voyage_Kindle_Edition': 'https://www.amazon.ca/Endurance-Shackletons-Incredible-Alfred-Lansing-ebook/dp/B00IC8VF10/ref=sr_1_141?qid=1700112832&refinements=p_n_binding_browse-bin%3A6202019011&rnid=2366372011&s=books&sr=1-141',\n",
       " 'Valley_of_the_Birdtail_An_Indian_Reserve_a_White_Town_and_the_Road_to_Reconciliation_Kindle_Edition': 'https://www.amazon.ca/Valley-Birdtail-Indian-Reserve-Reconciliation-ebook/dp/B09MQR1PLQ/ref=sr_1_142?qid=1700112832&refinements=p_n_binding_browse-bin%3A6202019011&rnid=2366372011&s=books&sr=1-142',\n",
       " 'Quit_Like_a_Woman_The_Radical_Choice_to_Not_Drink_in_a_Culture_Obsessed_with_Alcohol_Kindle_Edition': 'https://www.amazon.ca/Quit-Like-Woman-Radical-Obsessed-ebook/dp/B07QWH6MKZ/ref=sr_1_143?qid=1700112832&refinements=p_n_binding_browse-bin%3A6202019011&rnid=2366372011&s=books&sr=1-143',\n",
       " 'Five_Days_in_November_Kindle_Edition': 'https://www.amazon.ca/Five-Days-November-Clint-Hill-ebook/dp/B00BSBVDH4/ref=sr_1_144?qid=1700112832&refinements=p_n_binding_browse-bin%3A6202019011&rnid=2366372011&s=books&sr=1-144',\n",
       " 'Liars_Poker_(Norton_Paperback)_Reprint_Edition_Kindle_Edition': 'https://www.amazon.ca/Liars-Poker-Norton-Paperback-Michael-ebook/dp/B003E20ZRY/ref=sr_1_145?qid=1700112832&refinements=p_n_binding_browse-bin%3A6202019011&rnid=2366372011&s=books&sr=1-145',\n",
       " 'In_Order_to_Live_A_North_Korean_Girls_Journey_to_Freedom_Kindle_Edition': 'https://www.amazon.ca/Order-Live-Korean-Journey-Freedom-ebook/dp/B00SI0B5EY/ref=sr_1_146?qid=1700112832&refinements=p_n_binding_browse-bin%3A6202019011&rnid=2366372011&s=books&sr=1-146',\n",
       " 'A_Walk_in_the_Woods_Kindle_Edition': 'https://www.amazon.ca/Walk-Woods-Bill-Bryson-ebook/dp/B005PRF5G2/ref=sr_1_145?qid=1700112839&refinements=p_n_binding_browse-bin%3A6202019011&rnid=2366372011&s=books&sr=1-145',\n",
       " 'Becoming_Kindle_Edition': 'https://www.amazon.ca/Becoming-Michelle-Obama-ebook/dp/B079ZYWJJ8/ref=sr_1_146?qid=1700112839&refinements=p_n_binding_browse-bin%3A6202019011&rnid=2366372011&s=books&sr=1-146',\n",
       " 'The_Deeper_the_Roots_A_Memoir_of_Hope_and_Home_Kindle_Edition': 'https://www.amazon.ca/Deeper-Roots-Memoir-Hope-Home-ebook/dp/B08FGVS1QT/ref=sr_1_147?qid=1700112839&refinements=p_n_binding_browse-bin%3A6202019011&rnid=2366372011&s=books&sr=1-147',\n",
       " 'Teddy_and_Booker_T_How_Two_American_Icons_Blazed_a_Path_for_Racial_Equality_Kindle_Edition': 'https://www.amazon.ca/Teddy-Booker-T-American-Equality-ebook/dp/B0BV62NDPV/ref=sr_1_148?qid=1700112839&refinements=p_n_binding_browse-bin%3A6202019011&rnid=2366372011&s=books&sr=1-148',\n",
       " 'Marathon_Revised_and_Updated_5th_Edition_The_Ultimate_Training_Guide_Advice_Plans_and_Programs_for_Half_and_Full_Marathons_Kindle_Edition': 'https://www.amazon.ca/Marathon-Revised-Updated-5th-Marathons-ebook/dp/B07STS1QLR/ref=sr_1_149?qid=1700112839&refinements=p_n_binding_browse-bin%3A6202019011&rnid=2366372011&s=books&sr=1-149',\n",
       " 'La_vie_de_ma_mère_(French_Edition)_Kindle_Edition': 'https://www.amazon.ca/vie-ma-m%C3%A8re-French-ebook/dp/B0CG2N5SQH/ref=sr_1_150?qid=1700112839&refinements=p_n_binding_browse-bin%3A6202019011&rnid=2366372011&s=books&sr=1-150',\n",
       " 'Its_the_Thought_That_Counts_Why_Mind_Over_Matter_Really_Works_Kindle_Edition': 'https://www.amazon.ca/Thought-That-Counts-David-Hamilton-ebook/dp/B003JQLEMU/ref=sr_1_151?qid=1700112839&refinements=p_n_binding_browse-bin%3A6202019011&rnid=2366372011&s=books&sr=1-151',\n",
       " 'Total_Recall_My_Unbelievably_True_Life_Story_Kindle_Edition': 'https://www.amazon.ca/Total-Recall-Unbelievably-True-Story-ebook/dp/B006VGGAC4/ref=sr_1_152?qid=1700112839&refinements=p_n_binding_browse-bin%3A6202019011&rnid=2366372011&s=books&sr=1-152',\n",
       " 'We_Were_Dreamers_An_Immigrant_Superhero_Origin_Story_Kindle_Edition': 'https://www.amazon.ca/We-Were-Dreamers-Simu-Liu-ebook/dp/B086SYNCN2/ref=sr_1_155?qid=1700112839&refinements=p_n_binding_browse-bin%3A6202019011&rnid=2366372011&s=books&sr=1-155',\n",
       " 'The_Splendid_and_the_Vile_A_Saga_of_Churchill_Family_and_Defiance_During_the_Blitz_Kindle_Edition': 'https://www.amazon.ca/Splendid-Vile-Churchill-Family-Defiance-ebook/dp/B07TRVW6VX/ref=sr_1_156?qid=1700112839&refinements=p_n_binding_browse-bin%3A6202019011&rnid=2366372011&s=books&sr=1-156',\n",
       " 'Windswept_&_Interesting_My_Autobiography_Kindle_Edition': 'https://www.amazon.ca/Windswept-Interesting-Autobiography-Billy-Connolly-ebook/dp/B08YY75PBC/ref=sr_1_157?qid=1700112839&refinements=p_n_binding_browse-bin%3A6202019011&rnid=2366372011&s=books&sr=1-157',\n",
       " 'The_\"Supreme_Gentleman\"_Killer_The_True_Story_of_an_Incel_Mass_Murderer_Kindle_Edition': 'https://www.amazon.ca/Supreme-Gentleman-Killer-Story-Murderer-ebook/dp/B08B7YQLY6/ref=sr_1_158?qid=1700112839&refinements=p_n_binding_browse-bin%3A6202019011&rnid=2366372011&s=books&sr=1-158',\n",
       " 'Agent_Garbo_The_Brilliant_Eccentric_Secret_Agent_Who_Tricked_Hitler_and_Saved_D__Day_Kindle_Edition': 'https://www.amazon.ca/Agent-Garbo-Brilliant-Eccentric-Tricked-ebook/dp/B007QV00LA/ref=sr_1_159?qid=1700112839&refinements=p_n_binding_browse-bin%3A6202019011&rnid=2366372011&s=books&sr=1-159',\n",
       " 'Permanent_Astonishment_Growing_Up_Cree_in_the_Land_of_Snow_and_Sky_Kindle_Edition': 'https://www.amazon.ca/Permanent-Astonishment-Memoir-Tomson-Highway-ebook/dp/B08RJF14V8/ref=sr_1_160?qid=1700112839&refinements=p_n_binding_browse-bin%3A6202019011&rnid=2366372011&s=books&sr=1-160',\n",
       " 'Where_Tomorrows_Arent_Promised_A_Memoir_of_Survival_and_Hope_Kindle_Edition': 'https://www.amazon.ca/Where-Tomorrows-Arent-Promised-Survival-ebook/dp/B08VJM8YMN/ref=sr_1_161?qid=1700112839&refinements=p_n_binding_browse-bin%3A6202019011&rnid=2366372011&s=books&sr=1-161',\n",
       " 'True_Believer_The_Rise_and_Fall_of_Stan_Lee_Kindle_Edition': 'https://www.amazon.ca/True-Believer-Rise-Fall-Stan-ebook/dp/B08478JWYG/ref=sr_1_162?qid=1700112839&refinements=p_n_binding_browse-bin%3A6202019011&rnid=2366372011&s=books&sr=1-162',\n",
       " 'Scattershot_Life_Music_Elton_and_Me_Kindle_Edition': 'https://www.amazon.ca/Scattershot-Life-Music-Elton-Me-ebook/dp/B0BSTXYDR1/ref=sr_1_161?qid=1700112847&refinements=p_n_binding_browse-bin%3A6202019011&rnid=2366372011&s=books&sr=1-161',\n",
       " 'Autobiography_of_a_Yogi_(Self__Realization_Fellowship)_Kindle_Edition': 'https://www.amazon.ca/Autobiography-Self-Realization-Fellowship-Paramahansa-Yogananda-ebook/dp/B00JW44IAI/ref=sr_1_162?qid=1700112847&refinements=p_n_binding_browse-bin%3A6202019011&rnid=2366372011&s=books&sr=1-162',\n",
       " '50_jours_dans_la_vie_de_Mike_Bossy_(French_Edition)_Kindle_Edition': 'https://www.amazon.ca/jours-dans-Mike-Bossy-French-ebook/dp/B0CLDBVMHC/ref=sr_1_163?qid=1700112847&refinements=p_n_binding_browse-bin%3A6202019011&rnid=2366372011&s=books&sr=1-163',\n",
       " 'Facing_the_Beast_Courage_Faith_and_Resistance_in_a_New_Dark_Age_Kindle_Edition': 'https://www.amazon.ca/Facing-Beast-Courage-Faith-Resistance-ebook/dp/B0CGRR92ZQ/ref=sr_1_164?qid=1700112847&refinements=p_n_binding_browse-bin%3A6202019011&rnid=2366372011&s=books&sr=1-164',\n",
       " 'Bringing_Up_Bébé_One_American_Mother_Discovers_the_Wisdom_of_French_Parenting_(now_with_Bébé_Day_by_Day_100_Keys_to_French_Parenting)_Kindle_Edition': 'https://www.amazon.ca/Bringing-Up-B%C3%A9b%C3%A9-Discovers-Parenting-ebook/dp/B00MNNAODK/ref=sr_1_165?qid=1700112847&refinements=p_n_binding_browse-bin%3A6202019011&rnid=2366372011&s=books&sr=1-165',\n",
       " 'The_Code_Breaker_Jennifer_Doudna_Gene_Editing_and_the_Future_of_the_Human_Race_Kindle_Edition': 'https://www.amazon.ca/Code-Breaker-Jennifer-Doudna-Editing-ebook/dp/B08G1XNG7J/ref=sr_1_166?qid=1700112847&refinements=p_n_binding_browse-bin%3A6202019011&rnid=2366372011&s=books&sr=1-166',\n",
       " 'Kitchen_Confidential_Adventures_in_the_Culinary_Underbelly_Kindle_Edition': 'https://www.amazon.ca/Kitchen-Confidential-Adventures-Culinary-Underbelly-ebook/dp/B002UM5BXW/ref=sr_1_167?qid=1700112847&refinements=p_n_binding_browse-bin%3A6202019011&rnid=2366372011&s=books&sr=1-167',\n",
       " 'Open_Book_Kindle_Edition': 'https://www.amazon.ca/Untitled-Memoir-Lou-Htims-ebook/dp/B07GVJPXV9/ref=sr_1_168?qid=1700112847&refinements=p_n_binding_browse-bin%3A6202019011&rnid=2366372011&s=books&sr=1-168',\n",
       " 'Paradise_A_totally_addictive_crime_thriller_packed_with_jaw__dropping_twists_(A_DS_Walker_Thriller_Book_2)_Kindle_Edition': 'https://www.amazon.ca/Paradise-DS-Walker-Thriller-Book-ebook/dp/B0BHNKHRDP/ref=sr_1_171?qid=1700112847&refinements=p_n_binding_browse-bin%3A6202019011&rnid=2366372011&s=books&sr=1-171',\n",
       " 'The_Kill_Jar_Obsession_Descent_and_a_Hunt_for_Detroits_Most_Notorious_Serial_Killer_Kindle_Edition': 'https://www.amazon.ca/Kill-Jar-Obsession-Detroits-Notorious-ebook/dp/B01MTDDB53/ref=sr_1_172?qid=1700112847&refinements=p_n_binding_browse-bin%3A6202019011&rnid=2366372011&s=books&sr=1-172',\n",
       " 'Dreaming_the_Beatles_The_Love_Story_of_One_Band_and_the_Whole_World_Kindle_Edition': 'https://www.amazon.ca/Dreaming-Beatles-Story-Whole-World-ebook/dp/B01A5B5JTU/ref=sr_1_173?qid=1700112847&refinements=p_n_binding_browse-bin%3A6202019011&rnid=2366372011&s=books&sr=1-173',\n",
       " 'Shakespeare_The_Man_Who_Pays_the_Rent_Kindle_Edition': 'https://www.amazon.ca/Shakespeare-Man-Who-Pays-Rent-ebook/dp/B0C3YPFB59/ref=sr_1_174?qid=1700112847&refinements=p_n_binding_browse-bin%3A6202019011&rnid=2366372011&s=books&sr=1-174',\n",
       " 'The_Golden_Spruce_A_True_Story_of_Myth_Madness_and_Greed_Kindle_Edition': 'https://www.amazon.ca/Golden-Spruce-Story-Madness-Greed-ebook/dp/B0031TZAQQ/ref=sr_1_175?qid=1700112847&refinements=p_n_binding_browse-bin%3A6202019011&rnid=2366372011&s=books&sr=1-175',\n",
       " 'The_Beethoven_Encyclopedia_Kindle_Edition': 'https://www.amazon.ca/Beethoven-Encyclopedia-Paul-Nettl-ebook/dp/B09BC998M1/ref=sr_1_176?qid=1700112847&refinements=p_n_binding_browse-bin%3A6202019011&rnid=2366372011&s=books&sr=1-176',\n",
       " 'North_Of_Normal_A_Memoir_of_My_Wilderness_Childhood_My_Unusual_Family_and_How_I_Survived_Both_Kindle_Edition': 'https://www.amazon.ca/North-Normal-Wilderness-Childhood-Counterculture-ebook/dp/B00D5TRRJK/ref=sr_1_177?qid=1700112847&refinements=p_n_binding_browse-bin%3A6202019011&rnid=2366372011&s=books&sr=1-177',\n",
       " 'War_of_the_Bloods_in_My_Veins_A_Street_Soldiers_March_Toward_Redemption_Kindle_Edition': 'https://www.amazon.ca/War-Bloods-My-Veins-Redemption-ebook/dp/B0017SV0VM/ref=sr_1_178?qid=1700112847&refinements=p_n_binding_browse-bin%3A6202019011&rnid=2366372011&s=books&sr=1-178',\n",
       " 'The_Anthropocene_Reviewed_Essays_on_a_Human__Centered_Planet_Kindle_Edition': 'https://www.amazon.ca/Anthropocene-Reviewed-John-Green-ebook/dp/B08GJVLGGX/ref=sr_1_177?qid=1700112854&refinements=p_n_binding_browse-bin%3A6202019011&rnid=2366372011&s=books&sr=1-177',\n",
       " 'The_Surrender_Experiment_My_Journey_into_Lifes_Perfection_Kindle_Edition': 'https://www.amazon.ca/Surrender-Experiment-Journey-Lifes-Perfection-ebook/dp/B00NDTUDOS/ref=sr_1_178?qid=1700112854&refinements=p_n_binding_browse-bin%3A6202019011&rnid=2366372011&s=books&sr=1-178',\n",
       " 'Lay_It_On_The_Line_A_Backstage_Pass_to_Rock_Star_Adventure_Conflict_and_TRIUMPH_Kindle_Edition': 'https://www.amazon.ca/Lay-Line-Backstage-Adventure-Conflict-ebook/dp/B0C7HK6VM5/ref=sr_1_179?qid=1700112854&refinements=p_n_binding_browse-bin%3A6202019011&rnid=2366372011&s=books&sr=1-179',\n",
       " 'The_J_R_R_Tolkien_Companion_and_Guide_Volume_2_Reader’s_Guide_PART_1_Kindle_Edition': 'https://www.amazon.ca/J-R-Tolkien-Companion-Guide-ebook/dp/B073TRDWXP/ref=sr_1_180?qid=1700112854&refinements=p_n_binding_browse-bin%3A6202019011&rnid=2366372011&s=books&sr=1-180',\n",
       " 'The_Storyteller_Tales_of_Life_and_Music_Kindle_Edition': 'https://www.amazon.ca/Storyteller-Tales-Life-Music-ebook/dp/B091Q9VCP4/ref=sr_1_181?qid=1700112854&refinements=p_n_binding_browse-bin%3A6202019011&rnid=2366372011&s=books&sr=1-181',\n",
       " 'Personal_Impressions_Updated_Edition_Kindle_Edition': 'https://www.amazon.ca/Personal-Impressions-Updated-Isaiah-Berlin-ebook/dp/B00J0HCLE2/ref=sr_1_182?qid=1700112854&refinements=p_n_binding_browse-bin%3A6202019011&rnid=2366372011&s=books&sr=1-182',\n",
       " 'Untamed_Kindle_Edition': 'https://www.amazon.ca/Untamed-Glennon-Doyle-ebook/dp/B07VSZTKJ8/ref=sr_1_183?qid=1700112854&refinements=p_n_binding_browse-bin%3A6202019011&rnid=2366372011&s=books&sr=1-183',\n",
       " 'The_Salt_Path_The_85__Week_Sunday_Times_Bestseller_from_the_Million__Copy_Bestselling_Author_Kindle_Edition': 'https://www.amazon.ca/Salt-Path-Bestseller-Shortlisted-Wainwright-ebook/dp/B0793GXSBL/ref=sr_1_184?qid=1700112854&refinements=p_n_binding_browse-bin%3A6202019011&rnid=2366372011&s=books&sr=1-184',\n",
       " 'The_Shift_Taking_Your_Life_from_Ambition_to_Meaning_Kindle_Edition': 'https://www.amazon.ca/Shift-Wayne-W-Dyer-ebook/dp/B0032JSNAU/ref=sr_1_187?qid=1700112854&refinements=p_n_binding_browse-bin%3A6202019011&rnid=2366372011&s=books&sr=1-187',\n",
       " 'How_to_Build_a_Car_The_Autobiography_of_the_World’s_Greatest_Formula_1_Designer_Kindle_Edition': 'https://www.amazon.ca/How-Build-Car-Autobiography-Greatest-ebook/dp/B073TS2ZWN/ref=sr_1_188?qid=1700112854&refinements=p_n_binding_browse-bin%3A6202019011&rnid=2366372011&s=books&sr=1-188',\n",
       " 'Beethovens_Letters_(Dover_Books_On_Music_Composers)_Kindle_Edition': 'https://www.amazon.ca/Beethovens-Letters-Dover-Books-Music-ebook/dp/B00DGBMK2Q/ref=sr_1_189?qid=1700112854&refinements=p_n_binding_browse-bin%3A6202019011&rnid=2366372011&s=books&sr=1-189',\n",
       " 'Longstreet_The_Confederate_General_Who_Defied_the_South_Kindle_Edition': 'https://www.amazon.ca/Longstreet-Confederate-General-Defied-South-ebook/dp/B0BTZY4JLW/ref=sr_1_190?qid=1700112854&refinements=p_n_binding_browse-bin%3A6202019011&rnid=2366372011&s=books&sr=1-190',\n",
       " 'Mona_Parsons_From_Privilege_to_Prison_From_Nova_Scotia_to_Nazi_Europe_Kindle_Edition': 'https://www.amazon.ca/Mona-Parsons-Privilege-Prison-Scotia-ebook/dp/B0786SN6KY/ref=sr_1_191?qid=1700112854&refinements=p_n_binding_browse-bin%3A6202019011&rnid=2366372011&s=books&sr=1-191',\n",
       " 'Lead_Sister_The_Story_of_Karen_Carpenter_Kindle_Edition': 'https://www.amazon.ca/Lead-Sister-Story-Karen-Carpenter-ebook/dp/B0C4GC69FD/ref=sr_1_192?qid=1700112854&refinements=p_n_binding_browse-bin%3A6202019011&rnid=2366372011&s=books&sr=1-192',\n",
       " 'Bad_Mormon_A_Memoir_Kindle_Edition': 'https://www.amazon.ca/Bad-Mormon-Heather-Gay-ebook/dp/B09JPK27YJ/ref=sr_1_193?qid=1700112854&refinements=p_n_binding_browse-bin%3A6202019011&rnid=2366372011&s=books&sr=1-193',\n",
       " 'Gambler_Secrets_from_a_Life_at_Risk_Kindle_Edition': 'https://www.amazon.ca/Gambler-Secrets-Life-at-Risk-ebook/dp/B0BTDVLPQF/ref=sr_1_194?qid=1700112854&refinements=p_n_binding_browse-bin%3A6202019011&rnid=2366372011&s=books&sr=1-194',\n",
       " 'The_Art_of_Clear_Thinking_A_Stealth_Fighter_Pilots_Timeless_Rules_for_Making_Tough_Decisions_Kindle_Edition': 'https://www.amazon.ca/Art-Clear-Thinking-Timeless-Decisions-ebook/dp/B0B9KTLJR1/ref=sr_1_193?qid=1700112861&refinements=p_n_binding_browse-bin%3A6202019011&rnid=2366372011&s=books&sr=1-193',\n",
       " 'Survival_in_the_Killing_Fields_Kindle_Edition': 'https://www.amazon.ca/Survival-Killing-Fields-Haing-Ngor-ebook/dp/B019NFEM42/ref=sr_1_194?qid=1700112861&refinements=p_n_binding_browse-bin%3A6202019011&rnid=2366372011&s=books&sr=1-194',\n",
       " 'Red_Notice_A_True_Story_of_High_Finance_Murder_and_One_Mans_Fight_for_Justice_Kindle_Edition': 'https://www.amazon.ca/Red-Notice-Finance-Murder-Justice-ebook/dp/B00LD1ORX6/ref=sr_1_195?qid=1700112861&refinements=p_n_binding_browse-bin%3A6202019011&rnid=2366372011&s=books&sr=1-195',\n",
       " 'The_Reason_You_Walk_A_Memoir_Kindle_Edition': 'https://www.amazon.ca/Reason-You-Walk-Memoir-ebook/dp/B00TY3ZP18/ref=sr_1_196?qid=1700112861&refinements=p_n_binding_browse-bin%3A6202019011&rnid=2366372011&s=books&sr=1-196',\n",
       " 'White_Hand_Society_The_Psychedelic_Partnership_of_Timothy_Leary_&_Allen_Ginsberg_Kindle_Edition': 'https://www.amazon.ca/White-Hand-Society-Psychedelic-Partnership-ebook/dp/B00505UPE6/ref=sr_1_197?qid=1700112861&refinements=p_n_binding_browse-bin%3A6202019011&rnid=2366372011&s=books&sr=1-197',\n",
       " 'This_Is_How_It_Always_Is_A_Novel_Kindle_Edition': 'https://www.amazon.ca/This-How-Always-Laurie-Frankel-ebook/dp/B01HW6Z3FG/ref=sr_1_198?qid=1700112861&refinements=p_n_binding_browse-bin%3A6202019011&rnid=2366372011&s=books&sr=1-198',\n",
       " 'Lawrence_of_Arabias_War_The_Arabs_the_British_and_the_Remaking_of_the_Middle_East_in_WWI_Kindle_Edition': 'https://www.amazon.ca/Lawrence-Arabias-War-British-Remaking-ebook/dp/B01EUYN6L6/ref=sr_1_199?qid=1700112861&refinements=p_n_binding_browse-bin%3A6202019011&rnid=2366372011&s=books&sr=1-199',\n",
       " 'Standing_My_Ground_A_Capitol_Police_Officers_Fight_for_Accountability_and_Good_Trouble_After_January_6th_Kindle_Edition': 'https://www.amazon.ca/Standing-My-Ground-Officers-Accountability-ebook/dp/B0BP2LDL37/ref=sr_1_200?qid=1700112861&refinements=p_n_binding_browse-bin%3A6202019011&rnid=2366372011&s=books&sr=1-200',\n",
       " 'Rescuing_Riley_Saving_Myself_A_Man_and_His_Dogs_Struggle_to_Find_Salvation_Kindle_Edition': 'https://www.amazon.ca/Rescuing-Riley-Saving-Myself-Salvation-ebook/dp/B00E25LYGI/ref=sr_1_203?qid=1700112861&refinements=p_n_binding_browse-bin%3A6202019011&rnid=2366372011&s=books&sr=1-203',\n",
       " 'When_the_War_Never_Ends_The_Voices_of_Military_Members_with_PTSD_and_Their_Families_Reprint_Edition_Kindle_Edition': 'https://www.amazon.ca/When-War-Never-Ends-Military-ebook/dp/B005G14MDE/ref=sr_1_204?qid=1700112861&refinements=p_n_binding_browse-bin%3A6202019011&rnid=2366372011&s=books&sr=1-204',\n",
       " 'The_Burden_is_Light!_(The_Eugenia_Price_Christian_Living_Collection)_Kindle_Edition': 'https://www.amazon.ca/Burden-Eugenia-Christian-Living-Collection-ebook/dp/B08TCJW4NX/ref=sr_1_205?qid=1700112861&refinements=p_n_binding_browse-bin%3A6202019011&rnid=2366372011&s=books&sr=1-205',\n",
       " 'Swimming_with_the_Viking_of_Skye_A_true_story_of_overcoming_fear_finding_confidence_and_hope_Kindle_Edition': 'https://www.amazon.ca/Swimming-Viking-Skye-overcoming-confidence-ebook/dp/B0CL5DH8S8/ref=sr_1_206?qid=1700112861&refinements=p_n_binding_browse-bin%3A6202019011&rnid=2366372011&s=books&sr=1-206',\n",
       " 'American_Black_Widow_The_shocking_true_story_of_a_preachers_wife_turned_killer_(Dangerous_Women____True_Crime_Stories)_Kindle_Edition': 'https://www.amazon.ca/American-Black-Widow-preachers-Dangerous-ebook/dp/B0C5JX6JH2/ref=sr_1_207?qid=1700112861&refinements=p_n_binding_browse-bin%3A6202019011&rnid=2366372011&s=books&sr=1-207',\n",
       " 'The_Atomic_Bomb_and_the_Origins_of_the_Cold_War_Kindle_Edition': 'https://www.amazon.ca/Atomic-Bomb-Origins-Cold-War-ebook/dp/B001JAHAI0/ref=sr_1_208?qid=1700112861&refinements=p_n_binding_browse-bin%3A6202019011&rnid=2366372011&s=books&sr=1-208',\n",
       " 'Hold_The_Line_My_story_from_the_heart_of_the_Freedom_Convoy_Kindle_Edition': 'https://www.amazon.ca/Hold-Line-story-Freedom-Convoy-ebook/dp/B0C36HDX3J/ref=sr_1_209?qid=1700112861&refinements=p_n_binding_browse-bin%3A6202019011&rnid=2366372011&s=books&sr=1-209',\n",
       " 'Troublemaker_Surviving_Hollywood_and_Scientology_Kindle_Edition': 'https://www.amazon.ca/Troublemaker-Surviving-Scientology-Leah-Remini-ebook/dp/B06XCK8KLP/ref=sr_1_210?qid=1700112861&refinements=p_n_binding_browse-bin%3A6202019011&rnid=2366372011&s=books&sr=1-210',\n",
       " 'Real_James_Dean_Intimate_Memories_from_Those_Who_Knew_Him_Best_Kindle_Edition': 'https://www.amazon.ca/Real-James-Dean-Intimate-Memories-ebook/dp/B01E0L4D0W/ref=sr_1_209?qid=1700112869&refinements=p_n_binding_browse-bin%3A6202019011&rnid=2366372011&s=books&sr=1-209',\n",
       " 'Searching_for_Franklin_New_Answers_to_the_Great_Arctic_Mystery_Kindle_Edition': 'https://www.amazon.ca/Searching-Franklin-Answers-Arctic-Mystery-ebook/dp/B0CH8LRG9K/ref=sr_1_210?qid=1700112869&refinements=p_n_binding_browse-bin%3A6202019011&rnid=2366372011&s=books&sr=1-210',\n",
       " 'Leonardo_da_Vinci_Kindle_Edition': 'https://www.amazon.ca/Leonardo-Vinci-Walter-Isaacson-ebook/dp/B071Y385Q1/ref=sr_1_211?qid=1700112869&refinements=p_n_binding_browse-bin%3A6202019011&rnid=2366372011&s=books&sr=1-211',\n",
       " 'Kardashian_Dynasty_The_Controversial_Rise_of_Americas_Royal_Family_Kindle_Edition': 'https://www.amazon.ca/Kardashian-Dynasty-Controversial-Americas-Family-ebook/dp/B010MH1AFY/ref=sr_1_212?qid=1700112869&refinements=p_n_binding_browse-bin%3A6202019011&rnid=2366372011&s=books&sr=1-212',\n",
       " 'Ngaio_Marsh_Her_Life_in_Crime_Kindle_Edition': 'https://www.amazon.ca/Ngaio-Marsh-Her-Life-Crime-ebook/dp/B002RI9AUO/ref=sr_1_213?qid=1700112869&refinements=p_n_binding_browse-bin%3A6202019011&rnid=2366372011&s=books&sr=1-213',\n",
       " 'Went_to_London_Took_the_Dog_A_Diary_From_the_Prize__winning_Author_of_Love_Nina_Kindle_Edition': 'https://www.amazon.ca/Went-London-Took-Dog-Diary-ebook/dp/B0BQ399V17/ref=sr_1_214?qid=1700112869&refinements=p_n_binding_browse-bin%3A6202019011&rnid=2366372011&s=books&sr=1-214',\n",
       " 'Leçons_dun_siècle_de_vie_(French_Edition)_Kindle_Edition': 'https://www.amazon.ca/Le%C3%A7ons-dun-si%C3%A8cle-vie-French-ebook/dp/B09629RRLJ/ref=sr_1_215?qid=1700112869&refinements=p_n_binding_browse-bin%3A6202019011&rnid=2366372011&s=books&sr=1-215',\n",
       " 'The_Devil_in_the_White_City_A_Saga_of_Magic_and_Murder_at_the_Fair_that_Changed_America_Kindle_Edition': 'https://www.amazon.ca/Devil-White-City-Changed-America-ebook/dp/B000FC0ZIA/ref=sr_1_216?qid=1700112869&refinements=p_n_binding_browse-bin%3A6202019011&rnid=2366372011&s=books&sr=1-216',\n",
       " 'The_Immortal_Life_of_Henrietta_Lacks_Kindle_Edition': 'https://www.amazon.ca/Immortal-Life-Henrietta-Lacks-ebook/dp/B00338QENI/ref=sr_1_219?qid=1700112869&refinements=p_n_binding_browse-bin%3A6202019011&rnid=2366372011&s=books&sr=1-219',\n",
       " 'Tell_Me_Everything_A_Memoir_Kindle_Edition': 'https://www.amazon.ca/Tell-Me-Everything-Minka-Kelly-ebook/dp/B0BHXJVFWL/ref=sr_1_220?qid=1700112869&refinements=p_n_binding_browse-bin%3A6202019011&rnid=2366372011&s=books&sr=1-220',\n",
       " 'Dinner_on_Monster_Island_Essays_Kindle_Edition': 'https://www.amazon.ca/Dinner-Monster-Island-Tania-Rozario-ebook/dp/B0BSFQYZ7T/ref=sr_1_221?qid=1700112869&refinements=p_n_binding_browse-bin%3A6202019011&rnid=2366372011&s=books&sr=1-221',\n",
       " 'Storyworthy_Engage_Teach_Persuade_and_Change_Your_Life_through_the_Power_of_Storytelling_Kindle_Edition': 'https://www.amazon.ca/Storyworthy-Engage-Persuade-through-Storytelling-ebook/dp/B07CV2PFYJ/ref=sr_1_222?qid=1700112869&refinements=p_n_binding_browse-bin%3A6202019011&rnid=2366372011&s=books&sr=1-222',\n",
       " 'Free__Range_Knitter_The_Yarn_Harlot_Writes_Again_Kindle_Edition': 'https://www.amazon.ca/Free-Range-Knitter-Harlot-Writes-Again-ebook/dp/B004L2KQ98/ref=sr_1_223?qid=1700112869&refinements=p_n_binding_browse-bin%3A6202019011&rnid=2366372011&s=books&sr=1-223',\n",
       " 'Jackie_Public_Private_Secret_Kindle_Edition': 'https://www.amazon.ca/Jackie-Private-J-Randy-Taraborrelli-ebook/dp/B0B9KXCD1S/ref=sr_1_224?qid=1700112869&refinements=p_n_binding_browse-bin%3A6202019011&rnid=2366372011&s=books&sr=1-224',\n",
       " 'Into_the_Abyss_How_a_Deadly_Plane_Crash_Changed_the_Lives_of_a_Pilot_a_Politician_a_Criminal_and_a_Cop_Kindle_Edition': 'https://www.amazon.ca/Into-Abyss-Changed-Politician-Criminal-ebook/dp/B008ADIPGK/ref=sr_1_225?qid=1700112869&refinements=p_n_binding_browse-bin%3A6202019011&rnid=2366372011&s=books&sr=1-225',\n",
       " 'A_House_in_the_Sky_Kindle_Edition': 'https://www.amazon.ca/House-Sky-Amanda-Lindhout-ebook/dp/B00A6CSR9I/ref=sr_1_226?qid=1700112869&refinements=p_n_binding_browse-bin%3A6202019011&rnid=2366372011&s=books&sr=1-226',\n",
       " 'The_Rigor_of_Angels_Borges_Heisenberg_Kant_and_the_Ultimate_Nature_of_Reality_Kindle_Edition': 'https://www.amazon.ca/Rigor-Angels-Heisenberg-Ultimate-Reality-ebook/dp/B0BNMFDLNK/ref=sr_1_225?qid=1700112876&refinements=p_n_binding_browse-bin%3A6202019011&rnid=2366372011&s=books&sr=1-225',\n",
       " 'Kierkegaard_A_Single_Life_Kindle_Edition': 'https://www.amazon.ca/Kierkegaard-Single-Life-Stephen-Backhouse-ebook/dp/B01863JMME/ref=sr_1_226?qid=1700112876&refinements=p_n_binding_browse-bin%3A6202019011&rnid=2366372011&s=books&sr=1-226',\n",
       " 'The_Upstairs_Delicatessen_On_Eating_Reading_Reading_About_Eating_and_Eating_While_Reading_Kindle_Edition': 'https://www.amazon.ca/Upstairs-Delicatessen-Eating-Reading-About-ebook/dp/B0BQGHJM5L/ref=sr_1_227?qid=1700112876&refinements=p_n_binding_browse-bin%3A6202019011&rnid=2366372011&s=books&sr=1-227',\n",
       " 'George_Harrison_The_Reluctant_Beatle_Kindle_Edition': 'https://www.amazon.ca/George-Harrison-Reluctant-Philip-Norman-ebook/dp/B0BTZZNC2H/ref=sr_1_228?qid=1700112876&refinements=p_n_binding_browse-bin%3A6202019011&rnid=2366372011&s=books&sr=1-228',\n",
       " 'The_Unlikely_Duke_Memoirs_of_an_eclectic_life____from_rock_n_roll_to_Badminton_House_Kindle_Edition': 'https://www.amazon.ca/Unlikely-Duke-Memoirs-eclectic-Badminton-ebook/dp/B0C9CK1K3L/ref=sr_1_229?qid=1700112876&refinements=p_n_binding_browse-bin%3A6202019011&rnid=2366372011&s=books&sr=1-229',\n",
       " 'Mon_cancer_quelle_chance_!_(French_Edition)_Kindle_Edition': 'https://www.amazon.ca/Mon-cancer-quelle-chance-French-ebook/dp/B0C1HJFYFY/ref=sr_1_230?qid=1700112876&refinements=p_n_binding_browse-bin%3A6202019011&rnid=2366372011&s=books&sr=1-230',\n",
       " 'Great__Uncle_Harry_A_Tale_of_War_and_Empire_Kindle_Edition': 'https://www.amazon.ca/Great-Uncle-Harry-Tale-War-Empire-ebook/dp/B0BXNMZRD6/ref=sr_1_231?qid=1700112876&refinements=p_n_binding_browse-bin%3A6202019011&rnid=2366372011&s=books&sr=1-231',\n",
       " 'Coeur_policier____Tome_2_30_nouveaux_récits_dinterventions_marquantes_(French_Edition)_Kindle_Edition': 'https://www.amazon.ca/Coeur-policier-nouveaux-dinterventions-marquantes-ebook/dp/B0CLDKKSYN/ref=sr_1_232?qid=1700112876&refinements=p_n_binding_browse-bin%3A6202019011&rnid=2366372011&s=books&sr=1-232',\n",
       " 'You_Could_Make_This_Place_Beautiful_A_Memoir_Kindle_Edition': 'https://www.amazon.ca/Could-Make-This-Place-Beautiful-ebook/dp/B0B3Y8QQ6R/ref=sr_1_235?qid=1700112876&refinements=p_n_binding_browse-bin%3A6202019011&rnid=2366372011&s=books&sr=1-235',\n",
       " 'Becoming_Free_Indeed_My_Story_of_Disentangling_Faith_from_Fear_Kindle_Edition': 'https://www.amazon.ca/Becoming-Free-Indeed-Story-Disentangling-ebook/dp/B0BGDMFYX7/ref=sr_1_236?qid=1700112876&refinements=p_n_binding_browse-bin%3A6202019011&rnid=2366372011&s=books&sr=1-236',\n",
       " 'Because_They_Hate_A_Survivor_of_Islamic_Terror_Warns_America_Kindle_Edition': 'https://www.amazon.ca/Because-They-Hate-Survivor-Islamic-ebook/dp/B000QTEA7Y/ref=sr_1_237?qid=1700112876&refinements=p_n_binding_browse-bin%3A6202019011&rnid=2366372011&s=books&sr=1-237',\n",
       " 'The_Wretched_of_the_Earth_Kindle_Edition': 'https://www.amazon.ca/Wretched-Earth-Frantz-Fanon-ebook/dp/B008UX35WY/ref=sr_1_238?qid=1700112876&refinements=p_n_binding_browse-bin%3A6202019011&rnid=2366372011&s=books&sr=1-238',\n",
       " 'Talk_to_Strangers_The_Yes_Theory_Story_Kindle_Edition': 'https://www.amazon.ca/Talk-Strangers-Yes-Theory-Story-ebook/dp/B0CGWMJPS2/ref=sr_1_239?qid=1700112876&refinements=p_n_binding_browse-bin%3A6202019011&rnid=2366372011&s=books&sr=1-239',\n",
       " 'No_Finish_Line_Kindle_Edition': 'https://www.amazon.ca/No-Finish-Line-Johnny-Ruffo-ebook/dp/B0B59N9JG3/ref=sr_1_240?qid=1700112876&refinements=p_n_binding_browse-bin%3A6202019011&rnid=2366372011&s=books&sr=1-240',\n",
       " 'Mighty_Bad_Land_A_Perilous_Expedition_to_Antarctica_Reveals_Clues_to_an_Eighth_Continent_Kindle_Edition': 'https://www.amazon.ca/Mighty-Bad-Land-Expedition-Antarctica-ebook/dp/B0BQJX8X18/ref=sr_1_241?qid=1700112876&refinements=p_n_binding_browse-bin%3A6202019011&rnid=2366372011&s=books&sr=1-241',\n",
       " 'Fate_is_the_hunter_Kindle_Edition': 'https://www.amazon.ca/Fate-hunter-Gan-K-Ernest-ebook/dp/B0CN4BQCJP/ref=sr_1_242?qid=1700112876&refinements=p_n_binding_browse-bin%3A6202019011&rnid=2366372011&s=books&sr=1-242',\n",
       " 'Power_and_the_Idealists_Or_the_Passion_of_Joschka_Fischer_and_Its_Aftermath_Kindle_Edition': 'https://www.amazon.ca/Power-Idealists-Passion-Joschka-Aftermath-ebook/dp/B01AH39NMK/ref=sr_1_241?qid=1700112883&refinements=p_n_binding_browse-bin%3A6202019011&rnid=2366372011&s=books&sr=1-241',\n",
       " 'The_Housekeeper_Love_Death_and_Prizefighting_Kindle_Edition': 'https://www.amazon.ca/Housekeeper-Love-Death-Prizefighting-ebook/dp/B01EGEU3U2/ref=sr_1_242?qid=1700112883&refinements=p_n_binding_browse-bin%3A6202019011&rnid=2366372011&s=books&sr=1-242',\n",
       " 'Prousts_Duchess_How_Three_Celebrated_Women_Captured_the_Imagination_of_Fin__de__Siecle_Paris_Kindle_Edition': 'https://www.amazon.ca/Prousts-Duchess-Imagination-Fin-Siecle-ebook/dp/B074DH1R9N/ref=sr_1_243?qid=1700112883&refinements=p_n_binding_browse-bin%3A6202019011&rnid=2366372011&s=books&sr=1-243',\n",
       " 'Up_and_Down_with_The_Rolling_Stones____My_Rollercoaster_Ride_with_Keith_Richards_Kindle_Edition': 'https://www.amazon.ca/Up-Down-Rolling-Stones-Rollercoaster-ebook/dp/B007XDXU9A/ref=sr_1_244?qid=1700112883&refinements=p_n_binding_browse-bin%3A6202019011&rnid=2366372011&s=books&sr=1-244',\n",
       " 'The_Choice_Embrace_the_Possible_Kindle_Edition': 'https://www.amazon.ca/Choice-Embrace-Possible-Edith-Eger-ebook/dp/B01HMXRZ6O/ref=sr_1_245?qid=1700112883&refinements=p_n_binding_browse-bin%3A6202019011&rnid=2366372011&s=books&sr=1-245',\n",
       " 'Born_to_Run_Kindle_Edition': 'https://www.amazon.ca/Born-Run-Christopher-McDougall-ebook/dp/B0028MBKVG/ref=sr_1_246?qid=1700112883&refinements=p_n_binding_browse-bin%3A6202019011&rnid=2366372011&s=books&sr=1-246',\n",
       " 'Murphy’s_Logic_Insights_from_45_Years_in_the_News_Business_Kindle_Edition': 'https://www.amazon.ca/Murphys-Logic-Insights-Years-Business-ebook/dp/B0CLL1WJSV/ref=sr_1_247?qid=1700112883&refinements=p_n_binding_browse-bin%3A6202019011&rnid=2366372011&s=books&sr=1-247',\n",
       " 'Every_Man_for_Himself_and_God_Against_All_A_Memoir_Kindle_Edition': 'https://www.amazon.ca/Every-Man-Himself-God-Against-ebook/dp/B0BS2RRF2J/ref=sr_1_248?qid=1700112883&refinements=p_n_binding_browse-bin%3A6202019011&rnid=2366372011&s=books&sr=1-248',\n",
       " 'Dying_to_Be_Me_My_Journey_from_Cancer_to_Near_Death_to_True_Healing_Kindle_Edition': 'https://www.amazon.ca/Dying-Be-Me-Journey-Healing-ebook/dp/B096DP5KL6/ref=sr_1_251?qid=1700112883&refinements=p_n_binding_browse-bin%3A6202019011&rnid=2366372011&s=books&sr=1-251',\n",
       " 'Aquinas_at_Prayer_The_Bible_Mysticism_and_Poetry_Kindle_Edition': 'https://www.amazon.ca/Aquinas-Prayer-Bible-Mysticism-Poetry-ebook/dp/B00DJ5L6B0/ref=sr_1_252?qid=1700112883&refinements=p_n_binding_browse-bin%3A6202019011&rnid=2366372011&s=books&sr=1-252',\n",
       " 'A_Promised_Land_Kindle_Edition': 'https://www.amazon.ca/Promised-Land-Barack-Obama-ebook/dp/B08GJZFBYV/ref=sr_1_253?qid=1700112883&refinements=p_n_binding_browse-bin%3A6202019011&rnid=2366372011&s=books&sr=1-253',\n",
       " 'Thomas_Jefferson_The_Art_of_Power_Kindle_Edition': 'https://www.amazon.ca/Thomas-Jefferson-Power-Jon-Meacham-ebook/dp/B0089EHKE8/ref=sr_1_254?qid=1700112883&refinements=p_n_binding_browse-bin%3A6202019011&rnid=2366372011&s=books&sr=1-254',\n",
       " 'This_Much_is_True_Theres_never_been_a_memoir_so_packed_with_eye__popping_hilarious_and_candid_stories_DAILY_MAIL_Kindle_Edition': 'https://www.amazon.ca/This-Much-True-eye-popping-hilarious-ebook/dp/B097MGGTFG/ref=sr_1_255?qid=1700112883&refinements=p_n_binding_browse-bin%3A6202019011&rnid=2366372011&s=books&sr=1-255',\n",
       " 'One_Up_On_Wall_Street_How_To_Use_What_You_Already_Know_To_Make_Money_In_Kindle_Edition': 'https://www.amazon.ca/One-Up-Wall-Street-Already-ebook/dp/B006YDFYW6/ref=sr_1_256?qid=1700112883&refinements=p_n_binding_browse-bin%3A6202019011&rnid=2366372011&s=books&sr=1-256',\n",
       " 'Secrets_of_the_Autistic_Millionaire_Everything_I_know_about_Autism_ASD_and_Aspergers_that_I_wish_Id_known_back_then_Kindle_Edition': 'https://www.amazon.ca/Secrets-Autistic-Millionaire-Everything-Aspergers-ebook/dp/B09KGF6685/ref=sr_1_257?qid=1700112883&refinements=p_n_binding_browse-bin%3A6202019011&rnid=2366372011&s=books&sr=1-257',\n",
       " 'Awakening_Through_Moments_of_Choice_A_Memoir_of_Divine_Guidance_Kindle_Edition': 'https://www.amazon.ca/Awakening-Through-Moments-Choice-Guidance-ebook/dp/B0BFJVPPBL/ref=sr_1_258?qid=1700112883&refinements=p_n_binding_browse-bin%3A6202019011&rnid=2366372011&s=books&sr=1-258',\n",
       " 'The_Cable_King_the_life_of_John_Pender_Kindle_Edition': 'https://www.amazon.ca/Cable-King-life-John-Pender-ebook/dp/B07BTFW143/ref=sr_1_257?qid=1700112891&refinements=p_n_binding_browse-bin%3A6202019011&rnid=2366372011&s=books&sr=1-257',\n",
       " 'Into_Thin_Air_Kindle_Edition': 'https://www.amazon.ca/Into-Thin-Air-Jon-Krakauer-ebook/dp/B000FC1ITK/ref=sr_1_258?qid=1700112891&refinements=p_n_binding_browse-bin%3A6202019011&rnid=2366372011&s=books&sr=1-258',\n",
       " 'Write_Your_Way_A_Handbook_for_Indie_Publishers_Choosing_Your_Own_Path_in_Canada_Kindle_Edition': 'https://www.amazon.ca/Write-Your-Way-Handbook-Publishers-ebook/dp/B0CN5DJNQM/ref=sr_1_259?qid=1700112891&refinements=p_n_binding_browse-bin%3A6202019011&rnid=2366372011&s=books&sr=1-259',\n",
       " 'The_Happiest_Man_on_Earth_The_Beautiful_Life_of_an_Auschwitz_Survivor_Kindle_Edition': 'https://www.amazon.ca/Happiest-Man-Earth-Beautiful-Auschwitz-ebook/dp/B08LVS5Q9K/ref=sr_1_260?qid=1700112891&refinements=p_n_binding_browse-bin%3A6202019011&rnid=2366372011&s=books&sr=1-260',\n",
       " 'High_Achiever_The_Incredible_True_Story_of_One_Addicts_Double_Life_Kindle_Edition': 'https://www.amazon.ca/High-Achiever-Incredible-Addicts-Double-ebook/dp/B07QCLBDFX/ref=sr_1_261?qid=1700112891&refinements=p_n_binding_browse-bin%3A6202019011&rnid=2366372011&s=books&sr=1-261',\n",
       " 'The_Secret_Life_of_John_le_Carre_Kindle_Edition': 'https://www.amazon.ca/Secret-Life-John-Carre-ebook/dp/B0BSV7WZT3/ref=sr_1_262?qid=1700112891&refinements=p_n_binding_browse-bin%3A6202019011&rnid=2366372011&s=books&sr=1-262',\n",
       " 'Lets_Pretend_This_Never_Happened_Kindle_Edition': 'https://www.amazon.ca/Lets-Pretend-This-Never-Happened-ebook/dp/B0065S8R38/ref=sr_1_263?qid=1700112891&refinements=p_n_binding_browse-bin%3A6202019011&rnid=2366372011&s=books&sr=1-263',\n",
       " 'Friends_Lovers_and_the_Big_Terrible_Thing_Die_Autobiografie_des_FRIENDS__Stars____Deutsche_Ausgabe_(German_Edition)_Kindle_Edition': 'https://www.amazon.ca/Friends-Lovers-Terrible-Thing-Autobiografie-ebook/dp/B09Y9GNVNH/ref=sr_1_264?qid=1700112891&refinements=p_n_binding_browse-bin%3A6202019011&rnid=2366372011&s=books&sr=1-264',\n",
       " 'Where_the_Light_Fell_A_Memoir_Kindle_Edition': 'https://www.amazon.ca/Where-Light-Fell-Philip-Yancey-ebook/dp/B08SJRN95Z/ref=sr_1_267?qid=1700112891&refinements=p_n_binding_browse-bin%3A6202019011&rnid=2366372011&s=books&sr=1-267',\n",
       " 'Sure_Ill_Join_Your_Cult_A_Memoir_of_Mental_Illness_and_the_Quest_to_Belong_Anywhere_Kindle_Edition': 'https://www.amazon.ca/Sure-Ill-Join-Your-Cult-ebook/dp/B0BVMWR1ND/ref=sr_1_268?qid=1700112891&refinements=p_n_binding_browse-bin%3A6202019011&rnid=2366372011&s=books&sr=1-268',\n",
       " 'Not_That_Fancy_Simple_Lessons_on_Living_Loving_Eating_and_Dusting_Off_Your_Boots_Kindle_Edition': 'https://www.amazon.ca/Not-That-Fancy-Lessons-Dusting-ebook/dp/B0BYYXSVL2/ref=sr_1_269?qid=1700112891&refinements=p_n_binding_browse-bin%3A6202019011&rnid=2366372011&s=books&sr=1-269',\n",
       " '超越生死_李連杰尋找李連杰_(人物)_(Traditional_Chinese_Edition)_Kindle_Edition': 'https://www.amazon.ca/%E8%B6%85%E8%B6%8A%E7%94%9F%E6%AD%BB-%E6%9D%8E%E9%80%A3%E6%9D%B0%E5%B0%8B%E6%89%BE%E6%9D%8E%E9%80%A3%E6%9D%B0-%E4%BA%BA%E7%89%A9-Traditional-Chinese-ebook/dp/B0CLN8MJFS/ref=sr_1_270?qid=1700112891&refinements=p_n_binding_browse-bin%3A6202019011&rnid=2366372011&s=books&sr=1-270',\n",
       " 'The_Last_Lecture_Kindle_Edition': 'https://www.amazon.ca/Last-Lecture-Randy-Pausch-ebook/dp/B00139VU7E/ref=sr_1_271?qid=1700112891&refinements=p_n_binding_browse-bin%3A6202019011&rnid=2366372011&s=books&sr=1-271',\n",
       " 'Confronting_the_Chaos_A_Rogue_Historian_Returns_to_Afghanistan_Kindle_Edition': 'https://www.amazon.ca/Confronting-Chaos-Historian-Returns-Afghanistan-ebook/dp/B00MLDAP4A/ref=sr_1_272?qid=1700112891&refinements=p_n_binding_browse-bin%3A6202019011&rnid=2366372011&s=books&sr=1-272',\n",
       " 'Six_Walks_In_the_Footsteps_of_Henry_David_Thoreau_Kindle_Edition': 'https://www.amazon.ca/Six-Walks-Footsteps-Henry-Thoreau-ebook/dp/B09BZZQVPV/ref=sr_1_273?qid=1700112891&refinements=p_n_binding_browse-bin%3A6202019011&rnid=2366372011&s=books&sr=1-273',\n",
       " 'Seeking_Social_Democracy_Seven_Decades_in_the_Fight_for_Equality_Kindle_Edition': 'https://www.amazon.ca/Seeking-Social-Democracy-Decades-Equality-ebook/dp/B0C7HKFKDM/ref=sr_1_274?qid=1700112891&refinements=p_n_binding_browse-bin%3A6202019011&rnid=2366372011&s=books&sr=1-274',\n",
       " 'A_Plague_of_Murder_The_Rise_and_Rise_of_Serial_Killing_in_the_Modern_Age_Kindle_Edition': 'https://www.amazon.ca/Plague-Murder-Serial-Killing-Modern-ebook/dp/B087WN817J/ref=sr_1_273?qid=1700112898&refinements=p_n_binding_browse-bin%3A6202019011&rnid=2366372011&s=books&sr=1-273',\n",
       " 'Why_Be_Happy_When_You_Could_Be_Normal?_Kindle_Edition': 'https://www.amazon.ca/Why-Happy-When-Could-Normal-ebook/dp/B004JN1CK6/ref=sr_1_274?qid=1700112898&refinements=p_n_binding_browse-bin%3A6202019011&rnid=2366372011&s=books&sr=1-274',\n",
       " 'Sister_of_Darkness_The_Chronicles_of_a_Modern_Exorcist_Kindle_Edition': 'https://www.amazon.ca/Sister-Darkness-Chronicles-Modern-Exorcist-ebook/dp/B01MSCRJ6P/ref=sr_1_275?qid=1700112898&refinements=p_n_binding_browse-bin%3A6202019011&rnid=2366372011&s=books&sr=1-275',\n",
       " 'Behind_a_Thin_Green_Line_The_Memoir_of_an_Undercover_Game_Warden_Kindle_Edition': 'https://www.amazon.ca/Behind-Thin-Green-Line-Undercover-ebook/dp/B07691KZF6/ref=sr_1_276?qid=1700112898&refinements=p_n_binding_browse-bin%3A6202019011&rnid=2366372011&s=books&sr=1-276',\n",
       " 'Straighten_Up_and_Fly_Right_The_Life_and_Music_of_Nat_King_Cole_(Cultural_Biographies)_Kindle_Edition': 'https://www.amazon.ca/Straighten-Up-Fly-Right-Biographies-ebook/dp/B08541P74L/ref=sr_1_277?qid=1700112898&refinements=p_n_binding_browse-bin%3A6202019011&rnid=2366372011&s=books&sr=1-277',\n",
       " 'Braving_the_Wilderness_The_Quest_for_True_Belonging_and_the_Courage_to_Stand_Alone_Kindle_Edition': 'https://www.amazon.ca/Braving-Wilderness-Quest-Belonging-Courage-ebook/dp/B06XFLFSRY/ref=sr_1_278?qid=1700112898&refinements=p_n_binding_browse-bin%3A6202019011&rnid=2366372011&s=books&sr=1-278',\n",
       " 'Everything_All_at_Once_A_Memoir_Kindle_Edition': 'https://www.amazon.ca/Everything-All-at-Once-Memoir-ebook/dp/B0BDD4MFBK/ref=sr_1_279?qid=1700112898&refinements=p_n_binding_browse-bin%3A6202019011&rnid=2366372011&s=books&sr=1-279',\n",
       " 'The_Demon_of_Unrest_A_Saga_of_Hubris_Heartbreak_and_Heroism_at_the_Dawn_of_the_Civil_War_Kindle_Edition': 'https://www.amazon.ca/Demon-Unrest-Hubris-Heartbreak-Heroism-ebook/dp/B0CDKLBD2W/ref=sr_1_280?qid=1700112898&refinements=p_n_binding_browse-bin%3A6202019011&rnid=2366372011&s=books&sr=1-280',\n",
       " 'Looking_Up_A_Memoir_about_Lifes_Sudden_Exits_Kindle_Edition': 'https://www.amazon.ca/Looking-Up-Memoir-about-Sudden-ebook/dp/B0CN67F23W/ref=sr_1_283?qid=1700112898&refinements=p_n_binding_browse-bin%3A6202019011&rnid=2366372011&s=books&sr=1-283',\n",
       " 'Jungle_(Movie_Tie__In_Edition)_A_Harrowing_True_Story_of_Survival_in_the_Amazon_Kindle_Edition': 'https://www.amazon.ca/Jungle-Movie-Tie-Harrowing-Survival-ebook/dp/B01MUEH1M3/ref=sr_1_284?qid=1700112898&refinements=p_n_binding_browse-bin%3A6202019011&rnid=2366372011&s=books&sr=1-284',\n",
       " 'Fat_Girl_Walking_Sex_Food_Love_and_Being_Comfortable_in_Your_Skin…Every_Inch_of_It_Kindle_Edition': 'https://www.amazon.ca/Fat-Girl-Walking-Being-Comfortable-ebook/dp/B00MMFN7YC/ref=sr_1_285?qid=1700112898&refinements=p_n_binding_browse-bin%3A6202019011&rnid=2366372011&s=books&sr=1-285',\n",
       " 'Dianas_Secret_London_Kindle_Edition': 'https://www.amazon.ca/Dianas-Secret-London-Ken-Wharfe-ebook/dp/B0CCYR6CXG/ref=sr_1_286?qid=1700112898&refinements=p_n_binding_browse-bin%3A6202019011&rnid=2366372011&s=books&sr=1-286',\n",
       " 'A_Jesuit_in_the_Forbidden_City_Matteo_Ricci_1552__1610_Reprint_Edition_Kindle_Edition': 'https://www.amazon.ca/Jesuit-Forbidden-City-Matteo-1552-1610-ebook/dp/B005QMJ3C8/ref=sr_1_287?qid=1700112898&refinements=p_n_binding_browse-bin%3A6202019011&rnid=2366372011&s=books&sr=1-287',\n",
       " 'The_Devils_Gap_The_Untold_Story_of_Canadas_First_Suicide_Bomber_Kindle_Edition': 'https://www.amazon.ca/Devils-Gap-Untold-Canadas-Suicide-ebook/dp/B072W9529R/ref=sr_1_288?qid=1700112898&refinements=p_n_binding_browse-bin%3A6202019011&rnid=2366372011&s=books&sr=1-288',\n",
       " 'The_Lonely_City_Adventures_in_the_Art_of_Being_Alone_Kindle_Edition': 'https://www.amazon.ca/Lonely-City-Adventures-Being-Alone-ebook/dp/B00VE68J5W/ref=sr_1_289?qid=1700112898&refinements=p_n_binding_browse-bin%3A6202019011&rnid=2366372011&s=books&sr=1-289',\n",
       " 'You_Get_Bigger_as_You_Go_Bruce_Cockburns_Influence_and_Evolution_Kindle_Edition': 'https://www.amazon.ca/You-Get-Bigger-Cockburns-Influence-ebook/dp/B0CN3SSCDP/ref=sr_1_290?qid=1700112898&refinements=p_n_binding_browse-bin%3A6202019011&rnid=2366372011&s=books&sr=1-290',\n",
       " 'Love_Behind_Bars_The_True_Story_of_an_American_Prisoners_Wife_Kindle_Edition': 'https://www.amazon.ca/Love-Behind-Bars-American-Prisoners-ebook/dp/B084VV3W2D/ref=sr_1_289?qid=1700112905&refinements=p_n_binding_browse-bin%3A6202019011&rnid=2366372011&s=books&sr=1-289',\n",
       " 'Into_the_Wild_Kindle_Edition': 'https://www.amazon.ca/Into-Wild-Jon-Krakauer-ebook/dp/B000SEFNMS/ref=sr_1_290?qid=1700112905&refinements=p_n_binding_browse-bin%3A6202019011&rnid=2366372011&s=books&sr=1-290',\n",
       " 'Dead_in_the_Water_A_True_Story_of_Hijacking_Murder_and_a_Global_Maritime_Conspiracy_Kindle_Edition': 'https://www.amazon.ca/Dead-Water-Hijacking-Maritime-Conspiracy-ebook/dp/B096WWDDZ4/ref=sr_1_291?qid=1700112905&refinements=p_n_binding_browse-bin%3A6202019011&rnid=2366372011&s=books&sr=1-291',\n",
       " 'Beyond_the_Ten_Decoding_the_Woo_Woo_Kindle_Edition': 'https://www.amazon.ca/Beyond-Ten-Decoding-Woo-ebook/dp/B0BRR16TMB/ref=sr_1_292?qid=1700112905&refinements=p_n_binding_browse-bin%3A6202019011&rnid=2366372011&s=books&sr=1-292',\n",
       " 'A_Tale_Of_Love_And_Darkness_Kindle_Edition': 'https://www.amazon.ca/Tale-Love-Darkness-Amos-Oz-ebook/dp/B004H1U2HE/ref=sr_1_293?qid=1700112905&refinements=p_n_binding_browse-bin%3A6202019011&rnid=2366372011&s=books&sr=1-293',\n",
       " 'The_House_of_Morgan_An_American_Banking_Dynasty_and_the_Rise_of_Modern_Finance_Kindle_Edition': 'https://www.amazon.ca/House-Morgan-American-Banking-Dynasty-ebook/dp/B003CIQ57E/ref=sr_1_294?qid=1700112905&refinements=p_n_binding_browse-bin%3A6202019011&rnid=2366372011&s=books&sr=1-294',\n",
       " 'Boswells_Edinburgh_Journals_1767__1786_Kindle_Edition': 'https://www.amazon.ca/Boswells-Edinburgh-Journals-Hugh-Milne-ebook/dp/B06XX1C1KN/ref=sr_1_295?qid=1700112905&refinements=p_n_binding_browse-bin%3A6202019011&rnid=2366372011&s=books&sr=1-295',\n",
       " 'Gangsters_vs_Nazis_How_Jewish_Mobsters_Battled_Nazis_in_WW2_Era_America_Kindle_Edition': 'https://www.amazon.ca/Gangsters-vs-Nazis-Mobsters-Battled-ebook/dp/B09BKDB8Y5/ref=sr_1_296?qid=1700112905&refinements=p_n_binding_browse-bin%3A6202019011&rnid=2366372011&s=books&sr=1-296',\n",
       " 'We_Dont_Know_Ourselves_A_Personal_History_of_Modern_Ireland_Kindle_Edition': 'https://www.amazon.ca/We-Dont-Know-Ourselves-Personal-ebook/dp/B08X96MBQ8/ref=sr_1_299?qid=1700112905&refinements=p_n_binding_browse-bin%3A6202019011&rnid=2366372011&s=books&sr=1-299',\n",
       " 'Drinking_the_Sea_at_Gaza_Days_and_Nights_in_a_Land_Under_Siege_Kindle_Edition': 'https://www.amazon.ca/Drinking-Sea-Gaza-Nights-Under-ebook/dp/B00NKBEFWK/ref=sr_1_300?qid=1700112905&refinements=p_n_binding_browse-bin%3A6202019011&rnid=2366372011&s=books&sr=1-300',\n",
       " 'Elvis_and_Ginger_Elvis_Presleys_Fiancée_and_Last_Love_Finally_Tells_Her_Story_Kindle_Edition': 'https://www.amazon.ca/Elvis-Ginger-Presleys-Fianc%C3%A9e-Finally-ebook/dp/B00G3L6LN0/ref=sr_1_301?qid=1700112905&refinements=p_n_binding_browse-bin%3A6202019011&rnid=2366372011&s=books&sr=1-301',\n",
       " 'This_Is_Going_to_Hurt_Secret_Diaries_of_a_Young_Doctor_Kindle_Edition': 'https://www.amazon.ca/This-Going-Hurt-Secret-Diaries-ebook/dp/B098QQGD52/ref=sr_1_302?qid=1700112905&refinements=p_n_binding_browse-bin%3A6202019011&rnid=2366372011&s=books&sr=1-302',\n",
       " 'Letters_to_My_Palestinian_Neighbor_Kindle_Edition': 'https://www.amazon.ca/Letters-Palestinian-Neighbor-Yossi-Halevi-ebook/dp/B07S9S3B5Z/ref=sr_1_303?qid=1700112905&refinements=p_n_binding_browse-bin%3A6202019011&rnid=2366372011&s=books&sr=1-303',\n",
       " 'Animal_Camp_Lessons_in_Love_and_Hope_from_Rescued_Farm_Animals_Kindle_Edition': 'https://www.amazon.ca/Animal-Camp-Reflections-Veganism-Sanctuary-ebook/dp/B0067MZGMW/ref=sr_1_304?qid=1700112905&refinements=p_n_binding_browse-bin%3A6202019011&rnid=2366372011&s=books&sr=1-304',\n",
       " 'The_Other_Wes_Moore_One_Name_Two_Fates_Kindle_Edition': 'https://www.amazon.ca/Other-Wes-Moore-Name-Fates-ebook/dp/B0036S4CQG/ref=sr_1_305?qid=1700112905&refinements=p_n_binding_browse-bin%3A6202019011&rnid=2366372011&s=books&sr=1-305',\n",
       " 'Lean_In_Women_Work_and_the_Will_to_Lead_Kindle_Edition': 'https://www.amazon.ca/Lean-Women-Work-Will-Lead-ebook/dp/B009LMTDL0/ref=sr_1_306?qid=1700112905&refinements=p_n_binding_browse-bin%3A6202019011&rnid=2366372011&s=books&sr=1-306',\n",
       " 'Call_the_Midwife_A_Memoir_of_Birth_Joy_and_Hard_Times_(The_Midwife_Trilogy_Book_1)_Kindle_Edition': 'https://www.amazon.ca/Call-Midwife-Memoir-Birth-Trilogy-ebook/dp/B008MFVH0C/ref=sr_1_305?qid=1700112912&refinements=p_n_binding_browse-bin%3A6202019011&rnid=2366372011&s=books&sr=1-305',\n",
       " 'The_Mysterious_Case_of_Rudolf_Diesel_Genius_Power_and_Deception_on_the_Eve_of_World_War_I_Kindle_Edition': 'https://www.amazon.ca/Mysterious-Case-Rudolf-Diesel-Deception-ebook/dp/B0BV123PC8/ref=sr_1_306?qid=1700112912&refinements=p_n_binding_browse-bin%3A6202019011&rnid=2366372011&s=books&sr=1-306',\n",
       " 'The_Tennis_Partner_A_Doctors_Story_of_Friendship_and_Loss_Kindle_Edition': 'https://www.amazon.ca/Tennis-Partner-Doctors-Story-Friendship-ebook/dp/B0CKT7N5VW/ref=sr_1_307?qid=1700112912&refinements=p_n_binding_browse-bin%3A6202019011&rnid=2366372011&s=books&sr=1-307',\n",
       " 'Creativity_Inc_(The_Expanded_Edition)_Overcoming_the_Unseen_Forces_That_Stand_in_the_Way_of_True_Inspiration_Kindle_Edition': 'https://www.amazon.ca/Creativity-Inc-Overcoming-Unseen-Inspiration-ebook/dp/B00GL3HU4Y/ref=sr_1_308?qid=1700112912&refinements=p_n_binding_browse-bin%3A6202019011&rnid=2366372011&s=books&sr=1-308',\n",
       " 'Becoming_a_Matriarch_Kindle_Edition': 'https://www.amazon.ca/Becoming-Matriarch-Helen-Knott-ebook/dp/B0BZ3M9JHF/ref=sr_1_309?qid=1700112912&refinements=p_n_binding_browse-bin%3A6202019011&rnid=2366372011&s=books&sr=1-309',\n",
       " 'The_Palace_Papers_Inside_the_House_of_Windsor____the_Truth_and_the_Turmoil_Kindle_Edition': 'https://www.amazon.ca/Palace-Papers-Inside-Windsor-Turmoil-ebook/dp/B09H2H7ZLQ/ref=sr_1_310?qid=1700112912&refinements=p_n_binding_browse-bin%3A6202019011&rnid=2366372011&s=books&sr=1-310',\n",
       " 'Opposable_Thumbs_How_Siskel_&_Ebert_Changed_Movies_Forever_Kindle_Edition': 'https://www.amazon.ca/Opposable-Thumbs-Siskel-Changed-Forever-ebook/dp/B0BP5VQWKC/ref=sr_1_311?qid=1700112912&refinements=p_n_binding_browse-bin%3A6202019011&rnid=2366372011&s=books&sr=1-311',\n",
       " 'The_Pat_Conroy_Cookbook_Recipes_and_Stories_of_My_Life_(Random_House_Large_Print_Biography)_Kindle_Edition': 'https://www.amazon.ca/Pat-Conroy-Cookbook-Recipes-Biography-ebook/dp/B002J05INS/ref=sr_1_312?qid=1700112912&refinements=p_n_binding_browse-bin%3A6202019011&rnid=2366372011&s=books&sr=1-312',\n",
       " 'Unbroken_A_World_War_II_Story_of_Survival_Resilience_and_Redemption_Kindle_Edition': 'https://www.amazon.ca/Unbroken-World-Survival-Resilience-Redemption-ebook/dp/B003WUYPPG/ref=sr_1_315?qid=1700112912&refinements=p_n_binding_browse-bin%3A6202019011&rnid=2366372011&s=books&sr=1-315',\n",
       " 'An_Immigrants_Love_Letter_to_the_West_Kindle_Edition': 'https://www.amazon.ca/Immigrants-Love-Letter-West-ebook/dp/B09RWMLNYH/ref=sr_1_316?qid=1700112912&refinements=p_n_binding_browse-bin%3A6202019011&rnid=2366372011&s=books&sr=1-316',\n",
       " 'Enchantment_Awakening_Wonder_in_an_Anxious_Age_Kindle_Edition': 'https://www.amazon.ca/Enchantment-Awakening-Wonder-Anxious-Age-ebook/dp/B0B4RJ7PVW/ref=sr_1_317?qid=1700112912&refinements=p_n_binding_browse-bin%3A6202019011&rnid=2366372011&s=books&sr=1-317',\n",
       " 'Three_Worlds_Memoirs_of_an_Arab__Jew_Kindle_Edition': 'https://www.amazon.ca/Three-Worlds-Arab-Jew-Avi-Shlaim-ebook/dp/B0BHTPY9YM/ref=sr_1_318?qid=1700112912&refinements=p_n_binding_browse-bin%3A6202019011&rnid=2366372011&s=books&sr=1-318',\n",
       " 'Bad_Dog!_A_Memoir_of_Love_Beauty_and_Redemption_in_Dark_Places_Kindle_Edition': 'https://www.amazon.ca/Bad-Dog-Memoir-Beauty-Redemption-ebook/dp/B00J8ZZSTG/ref=sr_1_319?qid=1700112912&refinements=p_n_binding_browse-bin%3A6202019011&rnid=2366372011&s=books&sr=1-319',\n",
       " 'Chasing_Bright_Medusas_A_Life_of_Willa_Cather_Kindle_Edition': 'https://www.amazon.ca/Chasing-Bright-Medusas-Willa-Cather-ebook/dp/B0BS2VQZDP/ref=sr_1_320?qid=1700112912&refinements=p_n_binding_browse-bin%3A6202019011&rnid=2366372011&s=books&sr=1-320',\n",
       " 'Things_I_Should_Have_Said_Kindle_Edition': 'https://www.amazon.ca/Things-I-Should-Have-Said-ebook/dp/B097MKH994/ref=sr_1_321?qid=1700112912&refinements=p_n_binding_browse-bin%3A6202019011&rnid=2366372011&s=books&sr=1-321',\n",
       " 'Becoming_Elisabeth_Elliot_Kindle_Edition': 'https://www.amazon.ca/Becoming-Elisabeth-Elliot-Ellen-Vaughn-ebook/dp/B08DQPK3B8/ref=sr_1_322?qid=1700112912&refinements=p_n_binding_browse-bin%3A6202019011&rnid=2366372011&s=books&sr=1-322',\n",
       " 'Stringer_A_Reporters_Journey_in_the_Congo_Kindle_Edition': 'https://www.amazon.ca/Stringer-Reporters-Journey-Anjan-Sundaram-ebook/dp/B00DXKJ2I0/ref=sr_1_321?qid=1700112920&refinements=p_n_binding_browse-bin%3A6202019011&rnid=2366372011&s=books&sr=1-321',\n",
       " 'The_Litvinenko_File_The_Life_and_Death_of_a_Russian_Spy_Kindle_Edition': 'https://www.amazon.ca/Litvinenko-File-Life-Death-Russian-ebook/dp/B000V21132/ref=sr_1_322?qid=1700112920&refinements=p_n_binding_browse-bin%3A6202019011&rnid=2366372011&s=books&sr=1-322',\n",
       " 'Gay_Girl_Good_God_The_Story_of_Who_I_Was_and_Who_God_Has_Always_Been_Kindle_Edition': 'https://www.amazon.ca/Gay-Girl-Good-God-Always-ebook/dp/B07DV2YQ31/ref=sr_1_323?qid=1700112920&refinements=p_n_binding_browse-bin%3A6202019011&rnid=2366372011&s=books&sr=1-323',\n",
       " 'Dirt_Work_An_Education_in_the_Woods_Kindle_Edition': 'https://www.amazon.ca/Dirt-Work-Education-Christine-Byl-ebook/dp/B008ED69MS/ref=sr_1_324?qid=1700112920&refinements=p_n_binding_browse-bin%3A6202019011&rnid=2366372011&s=books&sr=1-324',\n",
       " 'A_Woman_of_No_Importance_The_Untold_Story_of_the_American_Spy_Who_Helped_Win_World_War_II_Kindle_Edition': 'https://www.amazon.ca/Woman-No-Importance-Untold-American-ebook/dp/B07DN155VV/ref=sr_1_325?qid=1700112920&refinements=p_n_binding_browse-bin%3A6202019011&rnid=2366372011&s=books&sr=1-325',\n",
       " 'Husband_Hunting_with_Confidance_Kindle_Edition': 'https://www.amazon.ca/Husband-Hunting-Confidance-Fidan-Shevket-ebook/dp/B0CLH3ZT1L/ref=sr_1_326?qid=1700112920&refinements=p_n_binding_browse-bin%3A6202019011&rnid=2366372011&s=books&sr=1-326',\n",
       " 'Under_Cover_Inside_the_Shady_World_of_Organized_Crime_and_the_RCMP_Kindle_Edition': 'https://www.amazon.ca/Under-Cover-Inside-Organized-R-C-M-P-ebook/dp/B0CLLMDDYR/ref=sr_1_327?qid=1700112920&refinements=p_n_binding_browse-bin%3A6202019011&rnid=2366372011&s=books&sr=1-327',\n",
       " 'The_Unknown_Battle_of_Midway_The_Destruction_of_the_American_Torpedo_Squadrons_(The_Yale_Library_of_Military_History)_Kindle_Edition': 'https://www.amazon.ca/Battle-Midway-Destruction-American-Squadrons-ebook/dp/B0015MYT2M/ref=sr_1_328?qid=1700112920&refinements=p_n_binding_browse-bin%3A6202019011&rnid=2366372011&s=books&sr=1-328',\n",
       " 'Follow_the_Angels_Follow_the_Doves_The_Bass_Reeves_Trilogy_Book_One_Kindle_Edition': 'https://www.amazon.ca/Follow-Angels-Doves-Reeves-Trilogy-ebook/dp/B07ZQW29JL/ref=sr_1_331?qid=1700112920&refinements=p_n_binding_browse-bin%3A6202019011&rnid=2366372011&s=books&sr=1-331',\n",
       " 'The_38_Letters_from_JD_Rockefeller_to_his_son_Perspectives_Ideology_and_Wisdom_(English_Version)_2nd_Edition_Kindle_Edition': 'https://www.amazon.ca/Letters-J-D-Rockefeller-his-son-ebook/dp/B08HM8G5VD/ref=sr_1_332?qid=1700112920&refinements=p_n_binding_browse-bin%3A6202019011&rnid=2366372011&s=books&sr=1-332',\n",
       " 'Undoctored_The_brand_new_No_1_Sunday_Times_bestseller_from_the_author_of_This_Is_Going_To_Hurt’_Kindle_Edition': 'https://www.amazon.ca/Undoctored-brand-Sunday-bestseller-author-ebook/dp/B0C6DN7CBN/ref=sr_1_333?qid=1700112920&refinements=p_n_binding_browse-bin%3A6202019011&rnid=2366372011&s=books&sr=1-333',\n",
       " 'Lost_Connections_Uncovering_the_Real_Causes_of_Depression_–_and_the_Unexpected_Solutions_Kindle_Edition': 'https://www.amazon.ca/Lost-Connections-Uncovering-Depression-Unexpected-ebook/dp/B07583XJRW/ref=sr_1_334?qid=1700112920&refinements=p_n_binding_browse-bin%3A6202019011&rnid=2366372011&s=books&sr=1-334',\n",
       " 'Touching_the_Void_Kindle_Edition': 'https://www.amazon.ca/Touching-Void-Joe-Simpson-ebook/dp/B00AR0DN3Y/ref=sr_1_335?qid=1700112920&refinements=p_n_binding_browse-bin%3A6202019011&rnid=2366372011&s=books&sr=1-335',\n",
       " 'Memoirs_of_an_Early_Arab_Feminist_The_Life_and_Activism_of_Anbara_Salam_Khalidi_Kindle_Edition': 'https://www.amazon.ca/Memoirs-Early-Arab-Feminist-Activism-ebook/dp/B077L46BZ2/ref=sr_1_336?qid=1700112920&refinements=p_n_binding_browse-bin%3A6202019011&rnid=2366372011&s=books&sr=1-336',\n",
       " 'Generals_Son_Journey_of_an_Israeli_in_Palestine_Kindle_Edition': 'https://www.amazon.ca/Generals-Son-Journey-Israeli-Palestine-ebook/dp/B01CN2HRH6/ref=sr_1_337?qid=1700112920&refinements=p_n_binding_browse-bin%3A6202019011&rnid=2366372011&s=books&sr=1-337',\n",
       " 'Maos_America_A_Survivors_Warning_Kindle_Edition': 'https://www.amazon.ca/Maos-America-Survivors-Van-Fleet-ebook/dp/B0BWY3JV76/ref=sr_1_338?qid=1700112920&refinements=p_n_binding_browse-bin%3A6202019011&rnid=2366372011&s=books&sr=1-338',\n",
       " 'The_Forgotten_Child_The_powerful_true_story_of_a_boy_abandoned_as_a_baby_and_left_to_die_Kindle_Edition': 'https://www.amazon.ca/Forgotten-Child-powerful-story-abandoned-ebook/dp/B07GTSK164/ref=sr_1_337?qid=1700112927&refinements=p_n_binding_browse-bin%3A6202019011&rnid=2366372011&s=books&sr=1-337',\n",
       " 'Our_Band_Could_Be_Your_Life_Scenes_from_the_American_Indie_Underground_1981__1991_Kindle_Edition': 'https://www.amazon.ca/Our-Band-Could-Your-Life-ebook/dp/B009CM4BXY/ref=sr_1_338?qid=1700112927&refinements=p_n_binding_browse-bin%3A6202019011&rnid=2366372011&s=books&sr=1-338',\n",
       " 'Nobody_Does_it_Better_The_Complete_Uncensored_Unauthorized_Oral_History_of_James_Bond_Kindle_Edition': 'https://www.amazon.ca/Nobody-Does-Better-Uncensored-Unauthorized-ebook/dp/B07QPH65XM/ref=sr_1_339?qid=1700112927&refinements=p_n_binding_browse-bin%3A6202019011&rnid=2366372011&s=books&sr=1-339',\n",
       " 'Wandering_through_Life_A_Memoir_Kindle_Edition': 'https://www.amazon.ca/Wandering-through-Life-Donna-Leon-ebook/dp/B0BZ61B8G2/ref=sr_1_340?qid=1700112927&refinements=p_n_binding_browse-bin%3A6202019011&rnid=2366372011&s=books&sr=1-340',\n",
       " 'Stories_of_the_Sahara_Kindle_Edition': 'https://www.amazon.ca/Stories-Sahara-Sanmao-ebook/dp/B07SJHD8BT/ref=sr_1_341?qid=1700112927&refinements=p_n_binding_browse-bin%3A6202019011&rnid=2366372011&s=books&sr=1-341',\n",
       " 'The_Plot_The_Political_Assassination_of_Boris_Johnson_Kindle_Edition': 'https://www.amazon.ca/Plot-Political-Assassination-Boris-Johnson-ebook/dp/B0CBLTVL5C/ref=sr_1_342?qid=1700112927&refinements=p_n_binding_browse-bin%3A6202019011&rnid=2366372011&s=books&sr=1-342',\n",
       " 'Entirely_Up_to_You_Darling_Kindle_Edition': 'https://www.amazon.ca/Entirely-You-Darling-Diana-Hawkins-ebook/dp/B00N3Q0RT2/ref=sr_1_343?qid=1700112927&refinements=p_n_binding_browse-bin%3A6202019011&rnid=2366372011&s=books&sr=1-343',\n",
       " 'Audrey_Hepburn_A_Charmed_Life_Kindle_Edition': 'https://www.amazon.ca/Audrey-Hepburn-Charmed-Robyn-Karney-ebook/dp/B01N5GXAF0/ref=sr_1_344?qid=1700112927&refinements=p_n_binding_browse-bin%3A6202019011&rnid=2366372011&s=books&sr=1-344',\n",
       " 'Dreams_of_My_Father__Family_Friendship_and_Loyalty_Kindle_Edition': 'https://www.amazon.ca/Dreams-My-Father-Friendship-Loyalty-ebook/dp/B0BRWX2FZ7/ref=sr_1_347?qid=1700112927&refinements=p_n_binding_browse-bin%3A6202019011&rnid=2366372011&s=books&sr=1-347',\n",
       " 'These_Precious_Days_Essays_Kindle_Edition': 'https://www.amazon.ca/These-Precious-Days-Ann-Patchett-ebook/dp/B08VMXDSLM/ref=sr_1_348?qid=1700112927&refinements=p_n_binding_browse-bin%3A6202019011&rnid=2366372011&s=books&sr=1-348',\n",
       " 'The_Extraordinary_Life_of_an_Ordinary_Man_A_Memoir_Kindle_Edition': 'https://www.amazon.ca/Extraordinary-Life-Ordinary-Man-Memoir-ebook/dp/B09QZKMHFH/ref=sr_1_349?qid=1700112927&refinements=p_n_binding_browse-bin%3A6202019011&rnid=2366372011&s=books&sr=1-349',\n",
       " 'Genghis_Khan_and_the_Making_of_the_Modern_World_Kindle_Edition': 'https://www.amazon.ca/Genghis-Khan-Making-Modern-World-ebook/dp/B000FCK206/ref=sr_1_350?qid=1700112927&refinements=p_n_binding_browse-bin%3A6202019011&rnid=2366372011&s=books&sr=1-350',\n",
       " 'Outlaw_Waylon_Willie_Kris_and_the_Renegades_of_Nashville_Kindle_Edition': 'https://www.amazon.ca/Outlaw-Waylon-Willie-Renegades-Nashville-ebook/dp/B009NF6FG6/ref=sr_1_351?qid=1700112927&refinements=p_n_binding_browse-bin%3A6202019011&rnid=2366372011&s=books&sr=1-351',\n",
       " 'Saints_on_Earth_A_Biographical_Companion_to_\"Common_Worship\"_A_Biographical_Companion_to_Common_Worship_(Common_Worship_Services_and_Prayers_for_the_Church_of_England)_Kindle_Edition': 'https://www.amazon.ca/Saints-Earth-Biographical-Companion-Services-ebook/dp/B0096QZ4K0/ref=sr_1_352?qid=1700112927&refinements=p_n_binding_browse-bin%3A6202019011&rnid=2366372011&s=books&sr=1-352',\n",
       " 'The_Twenty__Ninth_Day_Surviving_a_Grizzly_Attack_in_the_Canadian_Tundra_Kindle_Edition': 'https://www.amazon.ca/Twenty-Ninth-Day-Surviving-Grizzly-Canadian-ebook/dp/B0BVXTH11V/ref=sr_1_353?qid=1700112927&refinements=p_n_binding_browse-bin%3A6202019011&rnid=2366372011&s=books&sr=1-353',\n",
       " 'An_Astronauts_Guide_to_Life_on_Earth_Kindle_Edition': 'https://www.amazon.ca/Astronauts-Guide-Life-Earth-ebook/dp/B00DPTL1TW/ref=sr_1_354?qid=1700112927&refinements=p_n_binding_browse-bin%3A6202019011&rnid=2366372011&s=books&sr=1-354',\n",
       " 'To_The_Hebrides_Samuel_Johnsons_Journey_to_the_Western_Islands_and_James_Boswells_Journal_of_a_Tour_Kindle_Edition': 'https://www.amazon.ca/Hebrides-Johnsons-Journey-Scotland-Boswells-ebook/dp/B06Y1VN784/ref=sr_1_353?qid=1700112934&refinements=p_n_binding_browse-bin%3A6202019011&rnid=2366372011&s=books&sr=1-353',\n",
       " 'Milton_Friedman_The_Last_Conservative_Kindle_Edition': 'https://www.amazon.ca/Milton-Friedman-Conservative-Jennifer-Burns-ebook/dp/B0BQGG8ZLV/ref=sr_1_354?qid=1700112934&refinements=p_n_binding_browse-bin%3A6202019011&rnid=2366372011&s=books&sr=1-354',\n",
       " 'The_Complete_Idiots_Guide_to_the_Mafia_2nd_Edition_A_Fascinating_Exploration_of_the_Real_People_Who_Inspired_The_Sopranos_Kindle_Edition': 'https://www.amazon.ca/Complete-Idiots-Guide-Mafia-2nd-ebook/dp/B00AR180CC/ref=sr_1_355?qid=1700112934&refinements=p_n_binding_browse-bin%3A6202019011&rnid=2366372011&s=books&sr=1-355',\n",
       " 'of_this_earth_A_Mennonite_Boyhood_In_The_Boreal_Forest_Kindle_Edition': 'https://www.amazon.ca/this-earth-Mennonite-Boyhood-Boreal-ebook/dp/B01LK7GH26/ref=sr_1_356?qid=1700112934&refinements=p_n_binding_browse-bin%3A6202019011&rnid=2366372011&s=books&sr=1-356',\n",
       " 'Bowie_on_Bowie_Interviews_and_Encounters_with_David_Bowie_(Musicians_in_Their_Own_Words_Book_8)_Kindle_Edition': 'https://www.amazon.ca/Bowie-Interviews-Encounters-David-Musicians-ebook/dp/B00VDHH9S0/ref=sr_1_357?qid=1700112934&refinements=p_n_binding_browse-bin%3A6202019011&rnid=2366372011&s=books&sr=1-357',\n",
       " 'In_My_Own_Moccasins_A_Memoir_of_Resilience_(The_Regina_Collection)_Kindle_Edition': 'https://www.amazon.ca/My-Own-Moccasins-Resilience-Collection-ebook/dp/B07ZS2NGP4/ref=sr_1_358?qid=1700112934&refinements=p_n_binding_browse-bin%3A6202019011&rnid=2366372011&s=books&sr=1-358',\n",
       " 'With_the_Old_Breed_At_Peleliu_and_Okinawa_Kindle_Edition': 'https://www.amazon.ca/Old-Breed-At-Peleliu-Okinawa-ebook/dp/B000VMFDW2/ref=sr_1_359?qid=1700112934&refinements=p_n_binding_browse-bin%3A6202019011&rnid=2366372011&s=books&sr=1-359',\n",
       " 'From_Scratch_A_Memoir_of_Love_Sicily_and_Finding_Home_Kindle_Edition': 'https://www.amazon.ca/Scratch-Memoir-Love-Sicily-Finding-ebook/dp/B07MGS7X6Y/ref=sr_1_360?qid=1700112934&refinements=p_n_binding_browse-bin%3A6202019011&rnid=2366372011&s=books&sr=1-360',\n",
       " 'Guts_A_Graphic_Novel_Kindle_Edition': 'https://www.amazon.ca/Guts-Raina-Telgemeier-ebook/dp/B07HPHCT1C/ref=sr_1_363?qid=1700112934&refinements=p_n_binding_browse-bin%3A6202019011&rnid=2366372011&s=books&sr=1-363',\n",
       " 'A_Stolen_Life_A_Memoir_Kindle_Edition': 'https://www.amazon.ca/Stolen-Life-Memoir-Jaycee-Dugard-ebook/dp/B004ZZS4CC/ref=sr_1_364?qid=1700112934&refinements=p_n_binding_browse-bin%3A6202019011&rnid=2366372011&s=books&sr=1-364',\n",
       " 'First_to_Leave_the_Party_My_Life_with_Ordinary_People_Who_Happen_to_be_Famous_Kindle_Edition': 'https://www.amazon.ca/First-Leave-Party-Ordinary-People-ebook/dp/B0BZM94P4F/ref=sr_1_365?qid=1700112934&refinements=p_n_binding_browse-bin%3A6202019011&rnid=2366372011&s=books&sr=1-365',\n",
       " 'Clanlands_in_New_Zealand_Kiwis_Kilts_and_an_Adventure_Down_Under_Kindle_Edition': 'https://www.amazon.ca/Clanlands-New-Zealand-Kiwis-Adventure-ebook/dp/B0C33DD5LB/ref=sr_1_366?qid=1700112934&refinements=p_n_binding_browse-bin%3A6202019011&rnid=2366372011&s=books&sr=1-366',\n",
       " 'Uncle_of_the_Year_&_Other_Debatable_Triumphs_Kindle_Edition': 'https://www.amazon.ca/Uncle-Year-Other-Debatable-Triumphs-ebook/dp/B0B9WL6FS9/ref=sr_1_367?qid=1700112934&refinements=p_n_binding_browse-bin%3A6202019011&rnid=2366372011&s=books&sr=1-367',\n",
       " 'Silver_Bullets_(A_Lefty_Mendieta_Novel_(1))_Kindle_Edition': 'https://www.amazon.ca/Silver-Bullets-%C3%89lmer-Mendoza-ebook/dp/B07TV32VWJ/ref=sr_1_368?qid=1700112934&refinements=p_n_binding_browse-bin%3A6202019011&rnid=2366372011&s=books&sr=1-368',\n",
       " 'Hudson_Taylor_in_Early_Years_Kindle_Edition': 'https://www.amazon.ca/Hudson-Taylor-Early-Years-Howard-ebook/dp/B00GW3XBK0/ref=sr_1_369?qid=1700112934&refinements=p_n_binding_browse-bin%3A6202019011&rnid=2366372011&s=books&sr=1-369',\n",
       " 'The_First_Canadian_William_Lyon_Mackenzie_King_1874____1950_Kindle_Edition': 'https://www.amazon.ca/First-Canadian-William-Lyon-Mackenzie-ebook/dp/B0793TKYGN/ref=sr_1_370?qid=1700112934&refinements=p_n_binding_browse-bin%3A6202019011&rnid=2366372011&s=books&sr=1-370',\n",
       " 'Flash_The_Making_of_Weegee_the_Famous_Kindle_Edition': 'https://www.amazon.ca/Flash-Making-Weegee-Christopher-Bonanos-ebook/dp/B074ZR3ZLK/ref=sr_1_369?qid=1700112941&refinements=p_n_binding_browse-bin%3A6202019011&rnid=2366372011&s=books&sr=1-369',\n",
       " 'Electric_Don_Quixote_The_Definitive_Story_Of_Frank_Zappa_Kindle_Edition': 'https://www.amazon.ca/Electric-Don-Quixote-Definitive-Story-ebook/dp/B002XGIC9K/ref=sr_1_370?qid=1700112941&refinements=p_n_binding_browse-bin%3A6202019011&rnid=2366372011&s=books&sr=1-370',\n",
       " '40_Game_Changers_in_World_History_(2_In_1);_A_Note_on_the_Lives_and_Impact_of_these_Great_Minds_&_Historical_Figures_(Military_Religious_Explorers_Scientists__(The_Game_Changers_In_World_History_Book_3)_Kindle_Edition': 'https://www.amazon.ca/Changers-Historical-Religious-Explorers-Scientists-ebook/dp/B0CM6RH6DJ/ref=sr_1_371?qid=1700112941&refinements=p_n_binding_browse-bin%3A6202019011&rnid=2366372011&s=books&sr=1-371',\n",
       " 'The_Invention_of_the_Jewish_People_Kindle_Edition': 'https://www.amazon.ca/Invention-Jewish-People-Shlomo-Sand-ebook/dp/B004GXATG2/ref=sr_1_372?qid=1700112941&refinements=p_n_binding_browse-bin%3A6202019011&rnid=2366372011&s=books&sr=1-372',\n",
       " 'Bibi_My_Story_Kindle_Edition': 'https://www.amazon.ca/Bibi-My-Story-Benjamin-Netanyahu-ebook/dp/B09XVQ9CNC/ref=sr_1_373?qid=1700112941&refinements=p_n_binding_browse-bin%3A6202019011&rnid=2366372011&s=books&sr=1-373',\n",
       " 'The_Chancellor_The_Remarkable_Odyssey_of_Angela_Merkel_Kindle_Edition': 'https://www.amazon.ca/Chancellor-Remarkable-Odyssey-Angela-Merkel-ebook/dp/B08VJMY8KW/ref=sr_1_374?qid=1700112941&refinements=p_n_binding_browse-bin%3A6202019011&rnid=2366372011&s=books&sr=1-374',\n",
       " 'First_and_Always_A_New_Portrait_of_George_Washington_Kindle_Edition': 'https://www.amazon.ca/First-Always-Portrait-George-Washington-ebook/dp/B086D7MPVP/ref=sr_1_375?qid=1700112941&refinements=p_n_binding_browse-bin%3A6202019011&rnid=2366372011&s=books&sr=1-375',\n",
       " 'A_Black_American_Missionary_in_Canada_The_Life_and_Letters_of_Lewis_Champion_Chambers_(McGill__Queens_Studies_in_the_History_of_Religion_Book_97)_Kindle_Edition': 'https://www.amazon.ca/Black-American-Missionary-Canada-McGill-Queens-ebook/dp/B0B2J1WFPP/ref=sr_1_376?qid=1700112941&refinements=p_n_binding_browse-bin%3A6202019011&rnid=2366372011&s=books&sr=1-376',\n",
       " 'Zealot_The_Life_and_Times_of_Jesus_of_Nazareth_Kindle_Edition': 'https://www.amazon.ca/Zealot-Life-Times-Jesus-Nazareth-ebook/dp/B00BRUQ7ZY/ref=sr_1_379?qid=1700112941&refinements=p_n_binding_browse-bin%3A6202019011&rnid=2366372011&s=books&sr=1-379',\n",
       " 'You_Never_Know_A_Memoir_Kindle_Edition': 'https://www.amazon.ca/Untitled-Tom-Selleck-ebook/dp/B07QSQSXL6/ref=sr_1_380?qid=1700112941&refinements=p_n_binding_browse-bin%3A6202019011&rnid=2366372011&s=books&sr=1-380',\n",
       " 'The_Memoirs_of_Miss_Chief_Eagle_Testickle_Vol_1_A_True_and_Exact_Accounting_of_the_History_of_Turtle_Island_Kindle_Edition': 'https://www.amazon.ca/Memoirs-Miss-Chief-Eagle-Testickle-ebook/dp/B0C8Y3T9YN/ref=sr_1_381?qid=1700112941&refinements=p_n_binding_browse-bin%3A6202019011&rnid=2366372011&s=books&sr=1-381',\n",
       " 'Talking_as_Fast_as_I_Can_From_Gilmore_Girls_to_Gilmore_Girls_(and_Everything_in_Between)_Kindle_Edition': 'https://www.amazon.ca/Talking-Fast-Can-Gilmore-Everything-ebook/dp/B01G0GD07M/ref=sr_1_382?qid=1700112941&refinements=p_n_binding_browse-bin%3A6202019011&rnid=2366372011&s=books&sr=1-382',\n",
       " 'Proof_of_Heaven_A_Neurosurgeons_Journey_into_the_Afterlife_Kindle_Edition': 'https://www.amazon.ca/Proof-Heaven-Neurosurgeons-Journey-Afterlife-ebook/dp/B008AK8FHM/ref=sr_1_383?qid=1700112941&refinements=p_n_binding_browse-bin%3A6202019011&rnid=2366372011&s=books&sr=1-383',\n",
       " 'Pancho_Villa_A_Life_from_Beginning_to_End_(History_of_Mexico)_Kindle_Edition': 'https://www.amazon.ca/Pancho-Villa-Beginning-History-Mexico-ebook/dp/B09DD7HFLN/ref=sr_1_384?qid=1700112941&refinements=p_n_binding_browse-bin%3A6202019011&rnid=2366372011&s=books&sr=1-384',\n",
       " 'The_Girl_on_the_Balcony_Olivia_Hussey_Finds_Life_after_Romeo_and_Juliet_Kindle_Edition': 'https://www.amazon.ca/Girl-Balcony-Olivia-Hussey-Juliet-ebook/dp/B0776DVFZF/ref=sr_1_385?qid=1700112941&refinements=p_n_binding_browse-bin%3A6202019011&rnid=2366372011&s=books&sr=1-385',\n",
       " 'Disloyal_A_Memoir_The_True_Story_of_the_Former_Personal_Attorney_to_President_Donald_J_Trump_Kindle_Edition': 'https://www.amazon.ca/Disloyal-Memoir-Personal-Attorney-President-ebook/dp/B08FXTSKLJ/ref=sr_1_386?qid=1700112941&refinements=p_n_binding_browse-bin%3A6202019011&rnid=2366372011&s=books&sr=1-386',\n",
       " 'Open_Kindle_Edition': 'https://www.amazon.ca/Open-Andre-Agassi-ebook/dp/B003062GEE/ref=sr_1_385?qid=1700112949&refinements=p_n_binding_browse-bin%3A6202019011&rnid=2366372011&s=books&sr=1-385',\n",
       " 'Say_Nothing_A_True_Story_of_Murder_and_Memory_in_Northern_Ireland_Kindle_Edition': 'https://www.amazon.ca/Say-Nothing-Murder-Northern-Ireland-ebook/dp/B07CWGBK5K/ref=sr_1_386?qid=1700112949&refinements=p_n_binding_browse-bin%3A6202019011&rnid=2366372011&s=books&sr=1-386',\n",
       " 'The_Art_of_Waiting_On_Fertility_Medicine_and_Motherhood_Kindle_Edition': 'https://www.amazon.ca/Art-Waiting-Fertility-Medicine-Motherhood-ebook/dp/B01LSP8CI2/ref=sr_1_387?qid=1700112949&refinements=p_n_binding_browse-bin%3A6202019011&rnid=2366372011&s=books&sr=1-387',\n",
       " 'Walker_RN_The_Greatest_U__Boat_Hunter_of_the_Battle_of_the_Atlantic_(Submarine_Warfare_in_World_War_Two)_Kindle_Edition': 'https://www.amazon.ca/Walker-R-N-Greatest-Atlantic-Submarine-ebook/dp/B0C4M9MPX1/ref=sr_1_388?qid=1700112949&refinements=p_n_binding_browse-bin%3A6202019011&rnid=2366372011&s=books&sr=1-388',\n",
       " 'Journey_into_the_Whirlwind_The_Critically_Acclaimed_Memoir_of_Stalins_Reign_of_Terror_Kindle_Edition': 'https://www.amazon.ca/Journey-into-Whirlwind-Eugenia-Ginzburg-ebook/dp/B00DKMZEB0/ref=sr_1_389?qid=1700112949&refinements=p_n_binding_browse-bin%3A6202019011&rnid=2366372011&s=books&sr=1-389',\n",
       " 'Here_We_Go_Again_Recipes_and_Inspiration_to_Level_Up_Your_Leftovers_Kindle_Edition': 'https://www.amazon.ca/Here-We-Again-Inspiration-Leftovers-ebook/dp/B0BRJ6PSPT/ref=sr_1_390?qid=1700112949&refinements=p_n_binding_browse-bin%3A6202019011&rnid=2366372011&s=books&sr=1-390',\n",
       " 'Lady_in_Waiting_My_Extraordinary_Life_in_the_Shadow_of_the_Crown_Kindle_Edition': 'https://www.amazon.ca/Lady-Waiting-Extraordinary-Shadow-Crown-ebook/dp/B07V1LRG13/ref=sr_1_391?qid=1700112949&refinements=p_n_binding_browse-bin%3A6202019011&rnid=2366372011&s=books&sr=1-391',\n",
       " 'The_Nazi_Officers_Wife_How_One_Jewish_Woman_Survived_The_Holocaust_Kindle_Edition': 'https://www.amazon.ca/Nazi-Officers-Wife-Survived-Holocaust-ebook/dp/B006ID6NDQ/ref=sr_1_392?qid=1700112949&refinements=p_n_binding_browse-bin%3A6202019011&rnid=2366372011&s=books&sr=1-392',\n",
       " 'Behind_the_Fireplace_Memoirs_of_a_girl_working_in_the_Dutch_Resistance_Kindle_Edition': 'https://www.amazon.ca/Behind-Fireplace-Memoirs-working-Resistance-ebook/dp/B01B1PDYSW/ref=sr_1_395?qid=1700112949&refinements=p_n_binding_browse-bin%3A6202019011&rnid=2366372011&s=books&sr=1-395',\n",
       " 'Bernard_Tapie_Leçons_de_vie_de_mort_et_damour_(French_Edition)_Kindle_Edition': 'https://www.amazon.ca/Bernard-Tapie-Le%C3%A7ons-damour-French-ebook/dp/B08Y4T8J2V/ref=sr_1_396?qid=1700112949&refinements=p_n_binding_browse-bin%3A6202019011&rnid=2366372011&s=books&sr=1-396',\n",
       " 'Who_By_Fire_War_Atonement_and_the_Resurrection_of_Leonard_Cohen_Kindle_Edition': 'https://www.amazon.ca/Who-Fire-Atonement-Resurrection-Leonard-ebook/dp/B09FYVLXN1/ref=sr_1_397?qid=1700112949&refinements=p_n_binding_browse-bin%3A6202019011&rnid=2366372011&s=books&sr=1-397',\n",
       " 'Breadsong_How_Baking_Changed_Our_Lives_Kindle_Edition': 'https://www.amazon.ca/Breadsong-How-Baking-Changed-Lives-ebook/dp/B0B3F1XNB4/ref=sr_1_398?qid=1700112949&refinements=p_n_binding_browse-bin%3A6202019011&rnid=2366372011&s=books&sr=1-398',\n",
       " 'Grimoire_Girl_A_Memoir_of_Magic_and_Mischief_Kindle_Edition': 'https://www.amazon.ca/Grimoire-Girl-Hilarie-Burton-Morgan-ebook/dp/B0B7NBLV9C/ref=sr_1_399?qid=1700112949&refinements=p_n_binding_browse-bin%3A6202019011&rnid=2366372011&s=books&sr=1-399',\n",
       " 'Mind_Over_Matter_Hard__Won_Battles_on_the_Road_to_Hope_Kindle_Edition': 'https://www.amazon.ca/Mind-Over-Matter-Hard-Won-Battles-ebook/dp/B09PZVF87M/ref=sr_1_400?qid=1700112949&refinements=p_n_binding_browse-bin%3A6202019011&rnid=2366372011&s=books&sr=1-400',\n",
       " 'Find_a_Way_Kindle_Edition': 'https://www.amazon.ca/Find-Way-Diana-Nyad-ebook/dp/B00SPVPXVC/ref=sr_1_401?qid=1700112949&refinements=p_n_binding_browse-bin%3A6202019011&rnid=2366372011&s=books&sr=1-401',\n",
       " 'US_Army_Insider_Missions_2_Underground_Cities_Giants_&_Spaceports_(Secret_Space_Programs_Book_9)_Kindle_Edition': 'https://www.amazon.ca/Army-Insider-Missions-Underground-Spaceports-ebook/dp/B0CJR792RD/ref=sr_1_402?qid=1700112949&refinements=p_n_binding_browse-bin%3A6202019011&rnid=2366372011&s=books&sr=1-402',\n",
       " 'Sunshine_Girl_An_Unexpected_Life_Kindle_Edition': 'https://www.amazon.ca/Sunshine-Girl-Unexpected-Julianna-Margulies-ebook/dp/B08FZM9WB2/ref=sr_1_401?qid=1700112956&refinements=p_n_binding_browse-bin%3A6202019011&rnid=2366372011&s=books&sr=1-401',\n",
       " 'Abroad_in_Japan_The_No_1_Sunday_Times_Bestseller_Kindle_Edition': 'https://www.amazon.ca/Abroad-Japan-Chris-Broad-ebook/dp/B0BPHC3K9S/ref=sr_1_402?qid=1700112956&refinements=p_n_binding_browse-bin%3A6202019011&rnid=2366372011&s=books&sr=1-402',\n",
       " 'Dirtbag_Massachusetts_A_Confessional_Kindle_Edition': 'https://www.amazon.ca/Dirtbag-Massachusetts-Confessional-Isaac-Fitzgerald-ebook/dp/B097T5JR84/ref=sr_1_403?qid=1700112956&refinements=p_n_binding_browse-bin%3A6202019011&rnid=2366372011&s=books&sr=1-403',\n",
       " 'Jack_Ruby_The_Many_Faces_of_Oswalds_Assassin_Kindle_Edition': 'https://www.amazon.ca/Jack-Ruby-Faces-Oswalds-Assassin-ebook/dp/B0C1T8R295/ref=sr_1_404?qid=1700112956&refinements=p_n_binding_browse-bin%3A6202019011&rnid=2366372011&s=books&sr=1-404',\n",
       " 'Sam_Walton_Made_In_America_Kindle_Edition': 'https://www.amazon.ca/Sam-Walton-Made-America-ebook/dp/B008ZPG704/ref=sr_1_405?qid=1700112956&refinements=p_n_binding_browse-bin%3A6202019011&rnid=2366372011&s=books&sr=1-405',\n",
       " 'Bohemian_Ghosts_A_Memoir_Kindle_Edition': 'https://www.amazon.ca/Bohemian-Ghosts-Dewey-Paul-Moffitt-ebook/dp/B00KWPC4ZW/ref=sr_1_406?qid=1700112956&refinements=p_n_binding_browse-bin%3A6202019011&rnid=2366372011&s=books&sr=1-406',\n",
       " 'The_Real_Anthony_Fauci_Bill_Gates_Big_Pharma_and_the_Global_War_on_Democracy_and_Public_Health_(Children’s_Health_Defense)_Kindle_Edition': 'https://www.amazon.ca/Real-Anthony-Fauci-Democracy-Childrens-ebook/dp/B08X5YWRRP/ref=sr_1_407?qid=1700112956&refinements=p_n_binding_browse-bin%3A6202019011&rnid=2366372011&s=books&sr=1-407',\n",
       " 'Between_Two_Worlds_Lessons_from_the_Other_Side_Kindle_Edition': 'https://www.amazon.ca/Between-Two-Worlds-Lessons-Other-ebook/dp/B01DTAPXRM/ref=sr_1_408?qid=1700112956&refinements=p_n_binding_browse-bin%3A6202019011&rnid=2366372011&s=books&sr=1-408',\n",
       " 'The_Mamba_Mentality_How_I_Play_Kindle_Edition': 'https://www.amazon.ca/Mamba-Mentality-How-Play-ebook/dp/B07DC3WRKT/ref=sr_1_411?qid=1700112956&refinements=p_n_binding_browse-bin%3A6202019011&rnid=2366372011&s=books&sr=1-411',\n",
       " 'ADHD_According_to_Zoë_The_Real_Deal_on_Relationships_Finding_Your_Focus_and_Finding_Your_Keys_Kindle_Edition': 'https://www.amazon.ca/ADHD-According-Zo%C3%AB-Relationships-Finding-ebook/dp/B00E3L0VBK/ref=sr_1_412?qid=1700112956&refinements=p_n_binding_browse-bin%3A6202019011&rnid=2366372011&s=books&sr=1-412',\n",
       " 'The_Boy_From_Block_66_A_WW2_Jewish_Holocaust_Survival_True_Story_(Heroic_Children_of_World_War_II_Book_1)_Kindle_Edition': 'https://www.amazon.ca/Boy-Block-66-Holocaust-Survival-ebook/dp/B0BRY1FSFN/ref=sr_1_413?qid=1700112956&refinements=p_n_binding_browse-bin%3A6202019011&rnid=2366372011&s=books&sr=1-413',\n",
       " 'American_Autopsy_One_Medical_Examiners_Decades__Long_Fight_for_Racial_Justice_in_a_Broken_Legal_System_Kindle_Edition': 'https://www.amazon.ca/American-Autopsy-Medical-Examiners-Decades-Long-ebook/dp/B09Y4PFZP2/ref=sr_1_414?qid=1700112956&refinements=p_n_binding_browse-bin%3A6202019011&rnid=2366372011&s=books&sr=1-414',\n",
       " 'I_Let_Him_Go_The_heartbreaking_book_from_the_mother_of_James_Bulger_The_heartbreaking_book_from_the_mother_of_James_Bulger____updated_for_the_30th_anniversary_in_memory_of_James_Kindle_Edition': 'https://www.amazon.ca/Let-Him-Go-heartbreaking-anniversary-ebook/dp/B0CCYNWN9P/ref=sr_1_415?qid=1700112956&refinements=p_n_binding_browse-bin%3A6202019011&rnid=2366372011&s=books&sr=1-415',\n",
       " 'Dominique_Ansel_The_Secret_Recipes_Kindle_Edition': 'https://www.amazon.ca/Dominique-Ansel-Secret-Recipes-Chef-ebook/dp/B00EB9Z9WA/ref=sr_1_416?qid=1700112956&refinements=p_n_binding_browse-bin%3A6202019011&rnid=2366372011&s=books&sr=1-416',\n",
       " 'Nowhere_for_Very_Long_The_Unexpected_Road_to_an_Unconventional_Life_Kindle_Edition': 'https://www.amazon.ca/Nowhere-Very-Long-Unexpected-Unconventional-ebook/dp/B098QQY8KV/ref=sr_1_417?qid=1700112956&refinements=p_n_binding_browse-bin%3A6202019011&rnid=2366372011&s=books&sr=1-417',\n",
       " 'Turn_the_Ship_Around!_A_True_Story_of_Turning_Followers_into_Leaders_Kindle_Edition': 'https://www.amazon.ca/Turn-Ship-Around-Turning-Followers-ebook/dp/B00AFPVP0Y/ref=sr_1_418?qid=1700112956&refinements=p_n_binding_browse-bin%3A6202019011&rnid=2366372011&s=books&sr=1-418',\n",
       " 'Bhagavan_and_Bhakta_Kindle_Edition': 'https://www.amazon.ca/Bhagavan-Bhakta-Sadhvi-Vrinda-Om-ebook/dp/B0CK82HNGS/ref=sr_1_417?qid=1700112963&refinements=p_n_binding_browse-bin%3A6202019011&rnid=2366372011&s=books&sr=1-417',\n",
       " 'True_Reconciliation_How_to_Be_a_Force_for_Change_Kindle_Edition': 'https://www.amazon.ca/True-Reconciliation-How-Force-Change-ebook/dp/B09WTSFL3H/ref=sr_1_418?qid=1700112963&refinements=p_n_binding_browse-bin%3A6202019011&rnid=2366372011&s=books&sr=1-418',\n",
       " 'Seeking_Allah_Finding_Jesus_A_Devout_Muslim_Encounters_Christianity_Kindle_Edition': 'https://www.amazon.ca/Seeking-Allah-Finding-Jesus-Christianity-ebook/dp/B07BB54FS5/ref=sr_1_419?qid=1700112963&refinements=p_n_binding_browse-bin%3A6202019011&rnid=2366372011&s=books&sr=1-419',\n",
       " 'Agatha_Christie_The_Sunday_Times_Bestseller_Kindle_Edition': 'https://www.amazon.ca/Agatha-Christie-Very-Elusive-Woman-ebook/dp/B09NKPNC9D/ref=sr_1_420?qid=1700112963&refinements=p_n_binding_browse-bin%3A6202019011&rnid=2366372011&s=books&sr=1-420',\n",
       " 'William_L_Shirer_Twentieth_Century_Journey_The_Start_1904–1930;_The_Nightmare_Years_1930–1940;_A_Natives_Return_1945–1988_Kindle_Edition': 'https://www.amazon.ca/William-Shirer-Twentieth-1904-1930-Nightmare-ebook/dp/B08L9JTCYQ/ref=sr_1_421?qid=1700112963&refinements=p_n_binding_browse-bin%3A6202019011&rnid=2366372011&s=books&sr=1-421',\n",
       " 'Alone_Against_the_North_An_Expedition_into_the_Unknown_Kindle_Edition': 'https://www.amazon.ca/Alone-Against-North-Expedition-into-ebook/dp/B00TY3ZP8G/ref=sr_1_422?qid=1700112963&refinements=p_n_binding_browse-bin%3A6202019011&rnid=2366372011&s=books&sr=1-422',\n",
       " 'Before_I_Leave_You_A_Memoir_on_Suicide_Addiction_and_Healing_Kindle_Edition': 'https://www.amazon.ca/Before-Leave-You-Suicide-Addiction-ebook/dp/B084N8GX2Y/ref=sr_1_423?qid=1700112963&refinements=p_n_binding_browse-bin%3A6202019011&rnid=2366372011&s=books&sr=1-423',\n",
       " 'Living_on_a_Thin_Line_Kindle_Edition': 'https://www.amazon.ca/Living-Thin-Line-Dave-Davies-ebook/dp/B09X5C4LQ1/ref=sr_1_424?qid=1700112963&refinements=p_n_binding_browse-bin%3A6202019011&rnid=2366372011&s=books&sr=1-424',\n",
       " 'Back_to_Japan_The_Life_and_Art_of_Master_Kimono_Painter_Kunihiko_Moriguchi_Kindle_Edition': 'https://www.amazon.ca/Back-Japan-Painter-Kunihiko-Moriguchi-ebook/dp/B08V52B6CH/ref=sr_1_427?qid=1700112963&refinements=p_n_binding_browse-bin%3A6202019011&rnid=2366372011&s=books&sr=1-427',\n",
       " 'My_Grandmothers_Hands_Racialized_Trauma_and_the_Pathway_to_Mending_Our_Hearts_and_Bodies_Kindle_Edition': 'https://www.amazon.ca/My-Grandmothers-Hands-Racialized-Pathway-ebook/dp/B0727L1NGJ/ref=sr_1_428?qid=1700112963&refinements=p_n_binding_browse-bin%3A6202019011&rnid=2366372011&s=books&sr=1-428',\n",
       " 'Think_Youll_Be_Happy_Moving_Through_Grief_with_Grit_Grace_and_Gratitude_Kindle_Edition': 'https://www.amazon.ca/Think-Youll-Be-Happy-Gratitude-ebook/dp/B0BSFR1RT2/ref=sr_1_429?qid=1700112963&refinements=p_n_binding_browse-bin%3A6202019011&rnid=2366372011&s=books&sr=1-429',\n",
       " 'The_Many_Lives_of_Mama_Love_A_Memoir_of_Lying_Stealing_Writing_and_Healing_Kindle_Edition': 'https://www.amazon.ca/Many-Lives-Mama-Love-Stealing-ebook/dp/B0BPDNW33W/ref=sr_1_430?qid=1700112963&refinements=p_n_binding_browse-bin%3A6202019011&rnid=2366372011&s=books&sr=1-430',\n",
       " 'Broken_Silence_A_Triumphant_Journey_of_a_Human_Trafficking_Victim_to_an_Inspirational_Advocate_Kindle_Edition': 'https://www.amazon.ca/Broken-Silence-Triumphant-Trafficking-Inspirational-ebook/dp/B0734YNBY3/ref=sr_1_431?qid=1700112963&refinements=p_n_binding_browse-bin%3A6202019011&rnid=2366372011&s=books&sr=1-431',\n",
       " 'Grandma_Gatewoods_Walk_The_Inspiring_Story_of_the_Woman_Who_Saved_the_Appalachian_Trail_Kindle_Edition': 'https://www.amazon.ca/Grandma-Gatewoods-Walk-Inspiring-Appalachian-ebook/dp/B00IQY2Q0O/ref=sr_1_432?qid=1700112963&refinements=p_n_binding_browse-bin%3A6202019011&rnid=2366372011&s=books&sr=1-432',\n",
       " 'And_No_Birds_Sang_Kindle_Edition': 'https://www.amazon.ca/No-Birds-Sang-Farley-Mowat-ebook/dp/B0082FPA50/ref=sr_1_433?qid=1700112963&refinements=p_n_binding_browse-bin%3A6202019011&rnid=2366372011&s=books&sr=1-433',\n",
       " 'El_Legado_del_Fuego_(Spanish_Edition)_Kindle_Edition': 'https://www.amazon.ca/El-Legado-del-Fuego-Spanish-ebook/dp/B0CLKY7ZGR/ref=sr_1_434?qid=1700112963&refinements=p_n_binding_browse-bin%3A6202019011&rnid=2366372011&s=books&sr=1-434',\n",
       " 'Ive_Been_Thinking_Kindle_Edition': 'https://www.amazon.ca/Ive-Been-Thinking-Daniel-Dennett-ebook/dp/B0BWGQCQ6G/ref=sr_1_433?qid=1700112970&refinements=p_n_binding_browse-bin%3A6202019011&rnid=2366372011&s=books&sr=1-433',\n",
       " 'Inciting_Joy_Essays_Kindle_Edition': 'https://www.amazon.ca/Inciting-Joy-Essays-Ross-Gay-ebook/dp/B09TGQ2T9J/ref=sr_1_434?qid=1700112970&refinements=p_n_binding_browse-bin%3A6202019011&rnid=2366372011&s=books&sr=1-434',\n",
       " 'A_Shift_in_Time_How_Historical_Documents_Reveal_the_Surprising_Truth_about_Jesus_Kindle_Edition': 'https://www.amazon.ca/Shift-Time-Historical-Documents-Surprising-ebook/dp/B01C6D0L16/ref=sr_1_435?qid=1700112970&refinements=p_n_binding_browse-bin%3A6202019011&rnid=2366372011&s=books&sr=1-435',\n",
       " 'SOG_Codename_Dynamite_A_MACV__SOG_1__0s_Personal_Journal_Kindle_Edition': 'https://www.amazon.ca/SOG-Codename-Dynamite-MACV-SOG-Personal-ebook/dp/B0CBNP66BR/ref=sr_1_436?qid=1700112970&refinements=p_n_binding_browse-bin%3A6202019011&rnid=2366372011&s=books&sr=1-436',\n",
       " 'Hard_Pill_To_Swallow_My_Manic_Memoir_Kindle_Edition': 'https://www.amazon.ca/Hard-Pill-Swallow-Manic-Memoir-ebook/dp/B0CK7Q4CHT/ref=sr_1_437?qid=1700112970&refinements=p_n_binding_browse-bin%3A6202019011&rnid=2366372011&s=books&sr=1-437',\n",
       " 'The_Three_Stooges_An_Illustrated_History_From_Amalgamated_Morons_to_American_Icons_Kindle_Edition': 'https://www.amazon.ca/Three-Stooges-Illustrated-Amalgamated-American-ebook/dp/B00DTEL2S8/ref=sr_1_438?qid=1700112970&refinements=p_n_binding_browse-bin%3A6202019011&rnid=2366372011&s=books&sr=1-438',\n",
       " 'Red_Roulette_An_Insiders_Story_of_Wealth_Power_Corruption_and_Vengeance_in_Todays_China_Kindle_Edition': 'https://www.amazon.ca/Red-Roulette-Insiders-Corruption-Vengeance-ebook/dp/B08VJP821L/ref=sr_1_439?qid=1700112970&refinements=p_n_binding_browse-bin%3A6202019011&rnid=2366372011&s=books&sr=1-439',\n",
       " 'Karma_My_Autobiography_Kindle_Edition': 'https://www.amazon.ca/Karma-My-Autobiography-Boy-George-ebook/dp/B0CM6Y4RXG/ref=sr_1_440?qid=1700112970&refinements=p_n_binding_browse-bin%3A6202019011&rnid=2366372011&s=books&sr=1-440',\n",
       " 'Operation_Highjump_The_diary_of_a_young_sailor_Kindle_Edition': 'https://www.amazon.ca/Operation-Highjump-diary-young-sailor-ebook/dp/B0062AHKH8/ref=sr_1_443?qid=1700112970&refinements=p_n_binding_browse-bin%3A6202019011&rnid=2366372011&s=books&sr=1-443',\n",
       " 'Freak_Out_the_Squares_Life_in_a_band_called_Pulp_Kindle_Edition': 'https://www.amazon.ca/Freak-Out-Squares-Russell-Senior-ebook/dp/B016MSRS44/ref=sr_1_444?qid=1700112970&refinements=p_n_binding_browse-bin%3A6202019011&rnid=2366372011&s=books&sr=1-444',\n",
       " 'The_Light_Kindle_Edition': 'https://www.amazon.ca/Light-Raman-Vaidya-ebook/dp/B0CLKH9WBZ/ref=sr_1_445?qid=1700112970&refinements=p_n_binding_browse-bin%3A6202019011&rnid=2366372011&s=books&sr=1-445',\n",
       " 'Twelve_Against_the_Gods_Kindle_Edition': 'https://www.amazon.ca/Twelve-Against-Gods-William-Bolitho-ebook/dp/B0738ZPYX6/ref=sr_1_446?qid=1700112970&refinements=p_n_binding_browse-bin%3A6202019011&rnid=2366372011&s=books&sr=1-446',\n",
       " 'Fifteen_Years_A_Deplorable_A_White_House_Memoir_Kindle_Edition': 'https://www.amazon.ca/Fifteen-Years-Deplorable-White-Memoir-ebook/dp/B07QN13VSB/ref=sr_1_447?qid=1700112970&refinements=p_n_binding_browse-bin%3A6202019011&rnid=2366372011&s=books&sr=1-447',\n",
       " 'A_Pretoria_Boy_The_Story_of_South_Africas_Public_Enemy_Number_1_Kindle_Edition': 'https://www.amazon.ca/Pretoria-Boy-Africas-Public-Number-ebook/dp/B09B1M1CGX/ref=sr_1_448?qid=1700112970&refinements=p_n_binding_browse-bin%3A6202019011&rnid=2366372011&s=books&sr=1-448',\n",
       " 'K____Kaltenbrunner_Kindle_Edition': 'https://www.amazon.ca/K-Kaltenbrunner-Arthur-Birago-ebook/dp/B098PJPK95/ref=sr_1_449?qid=1700112970&refinements=p_n_binding_browse-bin%3A6202019011&rnid=2366372011&s=books&sr=1-449',\n",
       " 'The_Children’s_Nurse_A_WWII_Historical_Survival_Novel_Based_on_a_True_Story_Kindle_Edition': 'https://www.amazon.ca/Childrens-Nurse-Historical-Survival-Novel-ebook/dp/B0CGHPZD6N/ref=sr_1_450?qid=1700112970&refinements=p_n_binding_browse-bin%3A6202019011&rnid=2366372011&s=books&sr=1-450',\n",
       " 'Dédé_(French_Edition)_Kindle_Edition': 'https://www.amazon.ca/D%C3%A9d%C3%A9-French-Christian-Quesnel-ebook/dp/B0CMBD48ZS/ref=sr_1_449?qid=1700112976&refinements=p_n_binding_browse-bin%3A6202019011&rnid=2366372011&s=books&sr=1-449',\n",
       " 'The_Diary_of_a_Young_Girl_Kindle_Edition': 'https://www.amazon.ca/Diary-Young-Girl-Anne-Frank-ebook/dp/B0041OT9W6/ref=sr_1_450?qid=1700112976&refinements=p_n_binding_browse-bin%3A6202019011&rnid=2366372011&s=books&sr=1-450',\n",
       " 'Yall_Eat_Yet?_Welcome_to_the_Pretty_B*tchin_Kitchen_Kindle_Edition': 'https://www.amazon.ca/Yall-Eat-Yet-Welcome-Kitchen-ebook/dp/B0BDZPBS49/ref=sr_1_451?qid=1700112976&refinements=p_n_binding_browse-bin%3A6202019011&rnid=2366372011&s=books&sr=1-451',\n",
       " 'I_Dont_Need_Therapy_(and_other_lies_Ive_told_myself)_Kindle_Edition': 'https://www.amazon.ca/Dont-Need-Therapy-other-myself-ebook/dp/B0BXM9HSZR/ref=sr_1_452?qid=1700112976&refinements=p_n_binding_browse-bin%3A6202019011&rnid=2366372011&s=books&sr=1-452',\n",
       " 'House_of_Darkness_House_of_Light_The_True_Story_Volume_One_Kindle_Edition': 'https://www.amazon.ca/House-Darkness-Light-True-Story-ebook/dp/B07958V28P/ref=sr_1_453?qid=1700112976&refinements=p_n_binding_browse-bin%3A6202019011&rnid=2366372011&s=books&sr=1-453',\n",
       " 'On_the_Origin_of_Time_Stephen_Hawkings_Final_Theory_Kindle_Edition': 'https://www.amazon.ca/Origin-Time-Thomas-Hertog-ebook/dp/B09N73FX8Q/ref=sr_1_454?qid=1700112976&refinements=p_n_binding_browse-bin%3A6202019011&rnid=2366372011&s=books&sr=1-454',\n",
       " 'Love_Pamela_A_Memoir_of_Prose_Poetry_and_Truth_Kindle_Edition': 'https://www.amazon.ca/Love-Pamela-Anderson-ebook/dp/B0B7NH1LVR/ref=sr_1_455?qid=1700112976&refinements=p_n_binding_browse-bin%3A6202019011&rnid=2366372011&s=books&sr=1-455',\n",
       " 'Beyond_the_Miracle_Worker_The_Remarkable_Life_of_Anne_Sullivan_Macy_and_Her_Extraordinary_Friendship_with_Helen_Keller_Kindle_Edition': 'https://www.amazon.ca/Beyond-Miracle-Worker-Remarkable-Extraordinary-ebook/dp/B007Y39IYU/ref=sr_1_456?qid=1700112976&refinements=p_n_binding_browse-bin%3A6202019011&rnid=2366372011&s=books&sr=1-456',\n",
       " 'Consortes_reales_(Spanish_Edition)_Kindle_Edition': 'https://www.amazon.ca/Consortes-reales-Spanish-Cristina-Barreiro-ebook/dp/B0CJRVLH1Y/ref=sr_1_459?qid=1700112976&refinements=p_n_binding_browse-bin%3A6202019011&rnid=2366372011&s=books&sr=1-459',\n",
       " 'I_Dont_Like_Mondays_The_True_Story_Behind_America’s_First_Modern_School_Shooting_Kindle_Edition': 'https://www.amazon.ca/Dont-Like-Mondays-Americas-Shooting-ebook/dp/B0BTSHHMD5/ref=sr_1_460?qid=1700112976&refinements=p_n_binding_browse-bin%3A6202019011&rnid=2366372011&s=books&sr=1-460',\n",
       " 'Big_League_Babble_On_The_Misadventures_of_a_Rabble__Rousing_Sportscaster_and_Why_He_Should_Be_Dead_By_Now_Kindle_Edition': 'https://www.amazon.ca/Big-League-Babble-Misadventures-Rabble-Rousing-ebook/dp/B01N6IR967/ref=sr_1_461?qid=1700112976&refinements=p_n_binding_browse-bin%3A6202019011&rnid=2366372011&s=books&sr=1-461',\n",
       " 'Rules_of_the_Road_Breakdowns_on_the_Musical_Highway_Kindle_Edition': 'https://www.amazon.ca/Rules-Road-Breakdowns-Musical-Highway-ebook/dp/B0CMDGBF3R/ref=sr_1_462?qid=1700112976&refinements=p_n_binding_browse-bin%3A6202019011&rnid=2366372011&s=books&sr=1-462',\n",
       " 'The_Year_of_Less_How_I_Stopped_Shopping_Gave_Away_My_Belongings_and_Discovered_Life_is_Worth_More_Than_Anything_You_Can_Buy_in_a_Store_Kindle_Edition': 'https://www.amazon.ca/Year-Less-Shopping-Belongings-Discovered-ebook/dp/B0767XNB47/ref=sr_1_463?qid=1700112976&refinements=p_n_binding_browse-bin%3A6202019011&rnid=2366372011&s=books&sr=1-463',\n",
       " 'Seven_Fallen_Feathers_Racism_Death_and_Hard_Truths_in_a_Northern_City_Kindle_Edition': 'https://www.amazon.ca/Seven-Fallen-Feathers-Racism-Northern-ebook/dp/B074KKBPWP/ref=sr_1_464?qid=1700112976&refinements=p_n_binding_browse-bin%3A6202019011&rnid=2366372011&s=books&sr=1-464',\n",
       " 'Finding_Zsa_Zsa_The_Gabors_behind_the_Legend_Kindle_Edition': 'https://www.amazon.ca/Finding-Zsa-Gabors-behind-Legend-ebook/dp/B07K61WC71/ref=sr_1_465?qid=1700112976&refinements=p_n_binding_browse-bin%3A6202019011&rnid=2366372011&s=books&sr=1-465',\n",
       " 'Captain_Cook_Master_of_the_Seas_Kindle_Edition': 'https://www.amazon.ca/Captain-Cook-Master-Frank-McLynn-ebook/dp/B0054LXSEA/ref=sr_1_466?qid=1700112976&refinements=p_n_binding_browse-bin%3A6202019011&rnid=2366372011&s=books&sr=1-466',\n",
       " 'Oath_and_Honor_A_Memoir_and_a_Warning_Kindle_Edition': 'https://www.amazon.ca/Oath-Honor-Warning-Liz-Cheney-ebook/dp/B0C2PKJVMF/ref=sr_1_465?qid=1700112983&refinements=p_n_binding_browse-bin%3A6202019011&rnid=2366372011&s=books&sr=1-465',\n",
       " 'Pride_amid_Prejudice_(Modern_Military_Memoirs)_Kindle_Edition': 'https://www.amazon.ca/Pride-amid-Prejudice-Necole-Belanger-ebook/dp/B0CLCD14S7/ref=sr_1_466?qid=1700112983&refinements=p_n_binding_browse-bin%3A6202019011&rnid=2366372011&s=books&sr=1-466',\n",
       " 'The_Lyrics_1956_to_the_Present_Kindle_Edition': 'https://www.amazon.ca/Lyrics-1956-Present-Paul-McCartney-ebook/dp/B0C4C3LZKG/ref=sr_1_467?qid=1700112983&refinements=p_n_binding_browse-bin%3A6202019011&rnid=2366372011&s=books&sr=1-467',\n",
       " 'Beyond_The_Crossroads_A_Journey_From_Grief_To_Grace_Kindle_Edition': 'https://www.amazon.ca/Beyond-Crossroads-Journey-Grief-Grace-ebook/dp/B0CMGLXRBM/ref=sr_1_468?qid=1700112983&refinements=p_n_binding_browse-bin%3A6202019011&rnid=2366372011&s=books&sr=1-468',\n",
       " 'The_Pigeon_Tunnel_Stories_from_My_Life_Kindle_Edition': 'https://www.amazon.ca/Pigeon-Tunnel-Stories-My-Life-ebook/dp/B01D9H1RY8/ref=sr_1_469?qid=1700112983&refinements=p_n_binding_browse-bin%3A6202019011&rnid=2366372011&s=books&sr=1-469',\n",
       " 'Over_the_Edge_of_the_World_Magellans_Terrifying_Circumnavigation_of_the_Globe_Kindle_Edition': 'https://www.amazon.ca/Over-Edge-World-Terrifying-Circumnavigation-ebook/dp/B0018ND8B6/ref=sr_1_470?qid=1700112983&refinements=p_n_binding_browse-bin%3A6202019011&rnid=2366372011&s=books&sr=1-470',\n",
       " 'Long_Beach_Knights_Kindle_Edition': 'https://www.amazon.ca/Long-Beach-Knights-Victor-Kimola-ebook/dp/B0CKS176LR/ref=sr_1_471?qid=1700112983&refinements=p_n_binding_browse-bin%3A6202019011&rnid=2366372011&s=books&sr=1-471',\n",
       " 'The_Game_Penetrating_the_Secret_Society_of_Pickup_Artists_Kindle_Edition': 'https://www.amazon.ca/Game-Penetrating-Secret-Society-Artists-ebook/dp/B007MAXHUG/ref=sr_1_472?qid=1700112983&refinements=p_n_binding_browse-bin%3A6202019011&rnid=2366372011&s=books&sr=1-472',\n",
       " 'Hitler_Downfall_1939__1945_Kindle_Edition': 'https://www.amazon.ca/Hitler-Downfall-1939-1945-Volker-Ullrich-ebook/dp/B082S2TG11/ref=sr_1_475?qid=1700112983&refinements=p_n_binding_browse-bin%3A6202019011&rnid=2366372011&s=books&sr=1-475',\n",
       " 'Benjamin_Franklin_An_American_Life_Kindle_Edition': 'https://www.amazon.ca/Benjamin-Franklin-American-Walter-Isaacson-ebook/dp/B000FBJG4U/ref=sr_1_476?qid=1700112983&refinements=p_n_binding_browse-bin%3A6202019011&rnid=2366372011&s=books&sr=1-476',\n",
       " 'Hope_–_How_Street_Dogs_Taught_Me_the_Meaning_of_Life_Featuring_Rodney_McMuffin_and_King_Whacker_Kindle_Edition': 'https://www.amazon.ca/Hope-Meaning-Featuring-McMuffin-Whacker-ebook/dp/B0BWM83D4K/ref=sr_1_477?qid=1700112983&refinements=p_n_binding_browse-bin%3A6202019011&rnid=2366372011&s=books&sr=1-477',\n",
       " 'The_Blue_Tattoo_The_Life_of_Olive_Oatman_(Women_in_the_West)_Kindle_Edition': 'https://www.amazon.ca/Blue-Tattoo-Olive-Oatman-Women-ebook/dp/B00KBEITQC/ref=sr_1_478?qid=1700112983&refinements=p_n_binding_browse-bin%3A6202019011&rnid=2366372011&s=books&sr=1-478',\n",
       " 'The_Girl_with_Seven_Names_A_North_Korean_Defector’s_Story_Kindle_Edition': 'https://www.amazon.ca/Girl-Seven-Names-Korean-Defectors-ebook/dp/B00JD3ZL9U/ref=sr_1_479?qid=1700112983&refinements=p_n_binding_browse-bin%3A6202019011&rnid=2366372011&s=books&sr=1-479',\n",
       " 'Dirty_Linen_The_Troubles_in_My_Home_Place_Kindle_Edition': 'https://www.amazon.ca/Dirty-Linen-Troubles-Home-Place-ebook/dp/B0CL4N59ZY/ref=sr_1_480?qid=1700112983&refinements=p_n_binding_browse-bin%3A6202019011&rnid=2366372011&s=books&sr=1-480',\n",
       " 'Beautiful_Writers_A_Journey_of_Big_Dreams_and_Messy_Manuscripts____with_Tricks_of_the_Trade_from_Bestselling_Authors_Kindle_Edition': 'https://www.amazon.ca/Beautiful-Writers-Journey-Manuscripts-Bestselling-ebook/dp/B09MHKGCDK/ref=sr_1_481?qid=1700112983&refinements=p_n_binding_browse-bin%3A6202019011&rnid=2366372011&s=books&sr=1-481',\n",
       " 'Robin_Kindle_Edition': 'https://www.amazon.ca/Robin-Dave-Itzkoff-ebook/dp/B076B17NZP/ref=sr_1_482?qid=1700112983&refinements=p_n_binding_browse-bin%3A6202019011&rnid=2366372011&s=books&sr=1-482',\n",
       " 'Why_Mahler?_How_One_Man_and_Ten_Symphonies_Changed_Our_World_Kindle_Edition': 'https://www.amazon.ca/Why-Mahler-Symphonies-Changed-World-ebook/dp/B003WUYOVG/ref=sr_1_481?qid=1700112991&refinements=p_n_binding_browse-bin%3A6202019011&rnid=2366372011&s=books&sr=1-481',\n",
       " 'Z’s_Odyssey_Kindle_Edition': 'https://www.amazon.ca/Zs-Odyssey-Stefan-Franzen-ebook/dp/B0CGYMN6TV/ref=sr_1_482?qid=1700112991&refinements=p_n_binding_browse-bin%3A6202019011&rnid=2366372011&s=books&sr=1-482',\n",
       " 'Breaking_Through_My_Life_in_Science_Kindle_Edition': 'https://www.amazon.ca/Breaking-Through-My-Life-Science-ebook/dp/B0BS33QZR3/ref=sr_1_483?qid=1700112991&refinements=p_n_binding_browse-bin%3A6202019011&rnid=2366372011&s=books&sr=1-483',\n",
       " 'The_Autobiography_of_Malcolm_X_Kindle_Edition': 'https://www.amazon.ca/Autobiography-Malcolm-X-MALCOLM-ebook/dp/B013ZNNX5C/ref=sr_1_484?qid=1700112991&refinements=p_n_binding_browse-bin%3A6202019011&rnid=2366372011&s=books&sr=1-484',\n",
       " 'On_the_Farm_Robert_William_Pickton_and_the_Tragic_Story_of_Vancouvers_Missing_Women_Kindle_Edition': 'https://www.amazon.ca/Farm-William-Pickton-Vancouvers-Missing-ebook/dp/B003ZDO2GW/ref=sr_1_485?qid=1700112991&refinements=p_n_binding_browse-bin%3A6202019011&rnid=2366372011&s=books&sr=1-485',\n",
       " 'Chasing_Kona_From_back_of_the_pack_smoker_to_racing_the_Ironman_World_Championships_in_Kona_Kindle_Edition': 'https://www.amazon.ca/Chasing-Kona-smoker-Ironman-Championships-ebook/dp/B077QKFPZ6/ref=sr_1_486?qid=1700112991&refinements=p_n_binding_browse-bin%3A6202019011&rnid=2366372011&s=books&sr=1-486',\n",
       " 'Igor_I_Sikorsky_Big_Dreams_Big_Planes_and_the_Rise_of_Helicopters_(Titans_of_Fortune)_Kindle_Edition': 'https://www.amazon.ca/Igor-I-Sikorsky-Helicopters-Fortune-ebook/dp/B006LFQ1NI/ref=sr_1_487?qid=1700112991&refinements=p_n_binding_browse-bin%3A6202019011&rnid=2366372011&s=books&sr=1-487',\n",
       " 'Night_Intruder_A_Personal_Account_of_the_Radar_War_Between_the_RAF_and_Luftwaffe_Night__Fighter_Forces_(Memoirs_of_World_War_Two_in_the_Air_Book_1)_Kindle_Edition': 'https://www.amazon.ca/Night-Intruder-Personal-Luftwaffe-Night-Fighter-ebook/dp/B0C6MGBX72/ref=sr_1_488?qid=1700112991&refinements=p_n_binding_browse-bin%3A6202019011&rnid=2366372011&s=books&sr=1-488',\n",
       " 'De_Lwów_a_León_Un_testimonio_de_heroísmo_fe_valor_y_nobleza_(Spanish_Edition)_Kindle_Edition': 'https://www.amazon.ca/Lw%C3%B3w-Le%C3%B3n-testimonio-hero%C3%ADsmo-nobleza-ebook/dp/B0B6MTRDZR/ref=sr_1_491?qid=1700112991&refinements=p_n_binding_browse-bin%3A6202019011&rnid=2366372011&s=books&sr=1-491',\n",
       " 'Loriot_100_Seiten_Reclam_100_Seiten_(German_Edition)_Kindle_Edition': 'https://www.amazon.ca/Loriot-100-Seiten-Reclam-German-ebook/dp/B0BX4MGL3K/ref=sr_1_492?qid=1700112991&refinements=p_n_binding_browse-bin%3A6202019011&rnid=2366372011&s=books&sr=1-492',\n",
       " 'Beyond_Work_Experience_Hidden_Life_Lessons_in_Employment_[Print_Replica]_Kindle_Edition': 'https://www.amazon.ca/Beyond-Work-Experience-Lessons-Employment-ebook/dp/B0CLH4SJS5/ref=sr_1_493?qid=1700112991&refinements=p_n_binding_browse-bin%3A6202019011&rnid=2366372011&s=books&sr=1-493',\n",
       " 'Tu_técriras_NON_dans_le_front_Le_combat_de_Stéphanie_Raymond_contre_les_Forces_armées_canadiennes_(French_Edition)_Kindle_Edition': 'https://www.amazon.ca/t%C3%A9criras-NON-dans-front-canadiennes-ebook/dp/B0CLD9JDNK/ref=sr_1_494?qid=1700112991&refinements=p_n_binding_browse-bin%3A6202019011&rnid=2366372011&s=books&sr=1-494',\n",
       " 'Notre_dernier_voyage_(French_Edition)_Kindle_Edition': 'https://www.amazon.ca/dernier-voyage-French-Jean-Marie-Lapointe-ebook/dp/B0CL4VC3T6/ref=sr_1_495?qid=1700112991&refinements=p_n_binding_browse-bin%3A6202019011&rnid=2366372011&s=books&sr=1-495',\n",
       " 'Porter_plainte_(French_Edition)_Kindle_Edition': 'https://www.amazon.ca/Porter-plainte-French-L%C3%A9a-Clermont-Dion-ebook/dp/B0CL3LYCJH/ref=sr_1_496?qid=1700112991&refinements=p_n_binding_browse-bin%3A6202019011&rnid=2366372011&s=books&sr=1-496',\n",
       " 'Healing_When_a_Nurse_Becomes_a_Patient_Kindle_Edition': 'https://www.amazon.ca/Healing-When-Nurse-Becomes-Patient-ebook/dp/B09JS7KK78/ref=sr_1_497?qid=1700112991&refinements=p_n_binding_browse-bin%3A6202019011&rnid=2366372011&s=books&sr=1-497',\n",
       " 'Mother_Nature_A_5000__Mile_Journey_to_Discover_if_a_Mother_and_Son_Can_Survive_Their_Differences_Kindle_Edition': 'https://www.amazon.ca/Mother-Nature-000-Mile-Discover-Differences-ebook/dp/B0BV6G3CJT/ref=sr_1_498?qid=1700112991&refinements=p_n_binding_browse-bin%3A6202019011&rnid=2366372011&s=books&sr=1-498',\n",
       " 'The_Evil_Within_Murdered_by_her_stepbrother_–_the_crime_that_shocked_a_nation_The_heartbreaking_story_of_Becky_Watts_by_her_father_Kindle_Edition': 'https://www.amazon.ca/Evil-Within-Murdered-stepbrother-heartbreaking-ebook/dp/B019MIKTJM/ref=sr_1_497?qid=1700112997&refinements=p_n_binding_browse-bin%3A6202019011&rnid=2366372011&s=books&sr=1-497',\n",
       " 'The_River_of_Doubt_Theodore_Roosevelts_Darkest_Journey_Kindle_Edition': 'https://www.amazon.ca/River-Doubt-Theodore-Roosevelts-Darkest-ebook/dp/B000Q9ITGW/ref=sr_1_498?qid=1700112997&refinements=p_n_binding_browse-bin%3A6202019011&rnid=2366372011&s=books&sr=1-498',\n",
       " 'The_Color_of_Water_Kindle_Edition': 'https://www.amazon.ca/Color-Water-James-McBride-ebook/dp/B001EGQNCI/ref=sr_1_499?qid=1700112997&refinements=p_n_binding_browse-bin%3A6202019011&rnid=2366372011&s=books&sr=1-499',\n",
       " 'Rise_The_Brand_New_Autobiography_Kindle_Edition': 'https://www.amazon.ca/Rise-Brand-Autobiography-Siya-Kolisi-ebook/dp/B0936M6Q8C/ref=sr_1_500?qid=1700112997&refinements=p_n_binding_browse-bin%3A6202019011&rnid=2366372011&s=books&sr=1-500',\n",
       " 'Ken_Reids_Hometown_Hockey_Heroes_Kindle_Edition': 'https://www.amazon.ca/Ken-Reids-Hometown-Hockey-Heroes-ebook/dp/B0BTZVX2VV/ref=sr_1_501?qid=1700112997&refinements=p_n_binding_browse-bin%3A6202019011&rnid=2366372011&s=books&sr=1-501',\n",
       " 'Charles_Dickens_and_the_Great_Theatre_of_the_World_Kindle_Edition': 'https://www.amazon.ca/Charles-Dickens-Great-Theatre-World-ebook/dp/B005WKGMXW/ref=sr_1_502?qid=1700112997&refinements=p_n_binding_browse-bin%3A6202019011&rnid=2366372011&s=books&sr=1-502',\n",
       " 'The_View_from_the_Bridge_Memories_of_Star_Trek_and_a_Life_in_Hollywood_Kindle_Edition': 'https://www.amazon.ca/View-Bridge-Memories-Star-Hollywood-ebook/dp/B002IEUV5A/ref=sr_1_503?qid=1700112997&refinements=p_n_binding_browse-bin%3A6202019011&rnid=2366372011&s=books&sr=1-503',\n",
       " 'The_Selected_Works_of_Edward_Said_1966____2006_Expanded_Edition_Kindle_Edition': 'https://www.amazon.ca/Edward-Said-Reader-W-ebook/dp/B000XUDFVS/ref=sr_1_504?qid=1700112997&refinements=p_n_binding_browse-bin%3A6202019011&rnid=2366372011&s=books&sr=1-504',\n",
       " 'Becoming_Abraham_Lincoln_The_Coming_of_Age_of_Our_Greatest_President_Kindle_Edition': 'https://www.amazon.ca/Becoming-Abraham-Lincoln-Greatest-President-ebook/dp/B06XYVSD64/ref=sr_1_507?qid=1700112997&refinements=p_n_binding_browse-bin%3A6202019011&rnid=2366372011&s=books&sr=1-507',\n",
       " 'The_History_of_Sketch_Comedy_A_Journey_through_the_Art_and_Craft_of_Humor_Kindle_Edition': 'https://www.amazon.ca/History-Sketch-Comedy-Journey-through-ebook/dp/B0BZTKMYVM/ref=sr_1_508?qid=1700112997&refinements=p_n_binding_browse-bin%3A6202019011&rnid=2366372011&s=books&sr=1-508',\n",
       " 'Lloyd__Jones_on_the_Christian_Life_Doctrine_and_Life_as_Fuel_and_Fire_(Theologians_on_the_Christian_Life)_Kindle_Edition': 'https://www.amazon.ca/Lloyd-Jones-Christian-Foreword-Sinclair-Ferguson-ebook/dp/B079XZTZCG/ref=sr_1_509?qid=1700112997&refinements=p_n_binding_browse-bin%3A6202019011&rnid=2366372011&s=books&sr=1-509',\n",
       " 'Hell_on_the_Border_The_Bass_Reeves_Trilogy_Book_Two_Kindle_Edition': 'https://www.amazon.ca/Hell-Border-Bass-Reeves-Trilogy-ebook/dp/B08MQGGMH9/ref=sr_1_510?qid=1700112997&refinements=p_n_binding_browse-bin%3A6202019011&rnid=2366372011&s=books&sr=1-510',\n",
       " 'A_Mind_Spread_Out_on_the_Ground_Kindle_Edition': 'https://www.amazon.ca/Mind-Spread-Out-Ground-ebook/dp/B07F5ZKWHR/ref=sr_1_511?qid=1700112997&refinements=p_n_binding_browse-bin%3A6202019011&rnid=2366372011&s=books&sr=1-511',\n",
       " 'Halfbreed_Kindle_Edition': 'https://www.amazon.ca/Halfbreed-Maria-Campbell-ebook/dp/B07PBSB58L/ref=sr_1_512?qid=1700112997&refinements=p_n_binding_browse-bin%3A6202019011&rnid=2366372011&s=books&sr=1-512',\n",
       " 'The_Dictionary_People_The_Unsung_Heroes_Who_Created_the_Oxford_English_Dictionary_Kindle_Edition': 'https://www.amazon.ca/Dictionary-People-Unsung-Created-English-ebook/dp/B0BSKRM11N/ref=sr_1_513?qid=1700112997&refinements=p_n_binding_browse-bin%3A6202019011&rnid=2366372011&s=books&sr=1-513',\n",
       " 'In_the_Pines_A_Lynching_A_Lie_A_Reckoning_Kindle_Edition': 'https://www.amazon.ca/Pines-Lynching-Lie-Reckoning-ebook/dp/B0BXKY89PY/ref=sr_1_514?qid=1700112997&refinements=p_n_binding_browse-bin%3A6202019011&rnid=2366372011&s=books&sr=1-514',\n",
       " 'GAY_MOMENTS_The_Story_Bundle_Gay_First_Time_Short_Stories_Kindle_Edition': 'https://www.amazon.ca/GAY-MOMENTS-Story-Bundle-Stories-ebook/dp/B00TMXJK2K/ref=sr_1_513?qid=1700113005&refinements=p_n_binding_browse-bin%3A6202019011&rnid=2366372011&s=books&sr=1-513',\n",
       " '44_Chapters_About_4_Men_Kindle_Edition': 'https://www.amazon.ca/44-Chapters-About-4-Men-ebook/dp/B07Z3LRHJ1/ref=sr_1_514?qid=1700113005&refinements=p_n_binding_browse-bin%3A6202019011&rnid=2366372011&s=books&sr=1-514',\n",
       " 'Luck_or_Something_Like_It_A_Memoir_Kindle_Edition': 'https://www.amazon.ca/Luck-Something-Like-Kenny-Rogers-ebook/dp/B004XVN7ZM/ref=sr_1_515?qid=1700113005&refinements=p_n_binding_browse-bin%3A6202019011&rnid=2366372011&s=books&sr=1-515',\n",
       " 'Me_Talk_Pretty_One_Day_1st_Edition_Kindle_Edition': 'https://www.amazon.ca/Me-Talk-Pretty-One-Day-ebook/dp/B000SEJHRA/ref=sr_1_516?qid=1700113005&refinements=p_n_binding_browse-bin%3A6202019011&rnid=2366372011&s=books&sr=1-516',\n",
       " 'Betrayal_in_Blue_The_Shocking_Memoir_of_the_Scandal_That_Rocked_the_NYPD_Kindle_Edition': 'https://www.amazon.ca/Betrayal-Blue-Shocking-Memoir-Scandal-ebook/dp/B088WH1LMS/ref=sr_1_517?qid=1700113005&refinements=p_n_binding_browse-bin%3A6202019011&rnid=2366372011&s=books&sr=1-517',\n",
       " 'I_Survived_I_married_a_charming_man_Then_he_tried_to_kill_me_A_true_story_Kindle_Edition': 'https://www.amazon.ca/Survived-married-charming-tried-story-ebook/dp/B0811Z6JQD/ref=sr_1_518?qid=1700113005&refinements=p_n_binding_browse-bin%3A6202019011&rnid=2366372011&s=books&sr=1-518',\n",
       " 'SCAN_in_the_News_Media_Kindle_Edition': 'https://www.amazon.ca/SCAN-News-Media-Avinoam-Sapir-ebook/dp/B0C7PY9CZ3/ref=sr_1_519?qid=1700113005&refinements=p_n_binding_browse-bin%3A6202019011&rnid=2366372011&s=books&sr=1-519',\n",
       " 'The_Killing_of_Crazy_Horse_Kindle_Edition': 'https://www.amazon.ca/Killing-Crazy-Horse-Thomas-Powers-ebook/dp/B003F3PMMK/ref=sr_1_520?qid=1700113005&refinements=p_n_binding_browse-bin%3A6202019011&rnid=2366372011&s=books&sr=1-520',\n",
       " 'MOTHERCARE_On_Obligation_Love_Death_and_Ambivalence_Kindle_Edition': 'https://www.amazon.ca/MOTHERCARE-Obligation-Love-Death-Ambivalence-ebook/dp/B09NVH2TKT/ref=sr_1_523?qid=1700113005&refinements=p_n_binding_browse-bin%3A6202019011&rnid=2366372011&s=books&sr=1-523',\n",
       " 'Mortuary_Confidential_Undertakers_Spill_the_Dirt_Kindle_Edition': 'https://www.amazon.ca/Mortuary-Confidential-Undertakers-Spill-Dirt-ebook/dp/B003CNQ4G6/ref=sr_1_524?qid=1700113005&refinements=p_n_binding_browse-bin%3A6202019011&rnid=2366372011&s=books&sr=1-524',\n",
       " 'Us_and_Them_Canada_Canadians_and_The_Beatles_Kindle_Edition': 'https://www.amazon.ca/Us-Them-Canada-Canadians-Beatles-ebook/dp/B0CHF15KH8/ref=sr_1_525?qid=1700113005&refinements=p_n_binding_browse-bin%3A6202019011&rnid=2366372011&s=books&sr=1-525',\n",
       " 'I_Know_Why_the_Caged_Bird_Sings_Kindle_Edition': 'https://www.amazon.ca/Know-Why-Caged-Bird-Sings-ebook/dp/B0026LTNFO/ref=sr_1_526?qid=1700113005&refinements=p_n_binding_browse-bin%3A6202019011&rnid=2366372011&s=books&sr=1-526',\n",
       " '紅色賭盤_令中共高層害怕，直擊現代中國金權交易背後的腐敗內幕_(焦點系列)_(Traditional_Chinese_Edition)_Kindle_Edition': 'https://www.amazon.ca/%E7%B4%85%E8%89%B2%E8%B3%AD%E7%9B%A4-%E4%BB%A4%E4%B8%AD%E5%85%B1%E9%AB%98%E5%B1%A4%E5%AE%B3%E6%80%95%EF%BC%8C%E7%9B%B4%E6%93%8A%E7%8F%BE%E4%BB%A3%E4%B8%AD%E5%9C%8B%E9%87%91%E6%AC%8A%E4%BA%A4%E6%98%93%E8%83%8C%E5%BE%8C%E7%9A%84%E8%85%90%E6%95%97%E5%85%A7%E5%B9%95-%E7%84%A6%E9%BB%9E%E7%B3%BB%E5%88%97-Traditional-Chinese-ebook/dp/B0BSDLVJWS/ref=sr_1_527?qid=1700113005&refinements=p_n_binding_browse-bin%3A6202019011&rnid=2366372011&s=books&sr=1-527',\n",
       " 'Wrestling_With_His_Angel_The_Political_Life_of_Abraham_Lincoln_Vol_II_1849__1856_Kindle_Edition': 'https://www.amazon.ca/Wrestling-His-Angel-Political-1849-1856-ebook/dp/B01HMXRVR2/ref=sr_1_528?qid=1700113005&refinements=p_n_binding_browse-bin%3A6202019011&rnid=2366372011&s=books&sr=1-528',\n",
       " 'The_First_Stampede_of_Flores_LaDue_The_True_Love_Story_of_Florence_and_Guy_Weadick_and_the_Beginning_of_the_Calgary_Stampede_Kindle_Edition': 'https://www.amazon.ca/First-Stampede-Flores-LaDue-Beginning-ebook/dp/B004W3FW5E/ref=sr_1_529?qid=1700113005&refinements=p_n_binding_browse-bin%3A6202019011&rnid=2366372011&s=books&sr=1-529',\n",
       " 'All_the_Powers_of_Earth_The_Political_Life_of_Abraham_Lincoln_Vol_III_1856__1860_Kindle_Edition': 'https://www.amazon.ca/All-Powers-Earth-Political-1856-1860-ebook/dp/B07P5FY8CS/ref=sr_1_530?qid=1700113005&refinements=p_n_binding_browse-bin%3A6202019011&rnid=2366372011&s=books&sr=1-530',\n",
       " 'The_Voice_(My_Spiritual_Journey_Book_1)_Kindle_Edition': 'https://www.amazon.ca/Voice-My-Spiritual-Journey-Book-ebook/dp/B0CLKZS3K3/ref=sr_1_529?qid=1700113013&refinements=p_n_binding_browse-bin%3A6202019011&rnid=2366372011&s=books&sr=1-529',\n",
       " 'Autobiography_of_a_Face_Kindle_Edition': 'https://www.amazon.ca/Autobiography-Face-Lucy-Grealy-ebook/dp/B004H1UEO0/ref=sr_1_530?qid=1700113013&refinements=p_n_binding_browse-bin%3A6202019011&rnid=2366372011&s=books&sr=1-530',\n",
       " 'The_Billionaire_Murders_The_Mysterious_Deaths_of_Barry_and_Honey_Sherman_Kindle_Edition': 'https://www.amazon.ca/Billionaire-Murders-Mysterious-Deaths-Sherman-ebook/dp/B07PWT43JP/ref=sr_1_531?qid=1700113013&refinements=p_n_binding_browse-bin%3A6202019011&rnid=2366372011&s=books&sr=1-531',\n",
       " 'Phase_Line_Green_The_Battle_for_Hue_1968_Kindle_Edition': 'https://www.amazon.ca/Phase-Line-Green-Battle-1968-ebook/dp/B00A9WE98S/ref=sr_1_532?qid=1700113013&refinements=p_n_binding_browse-bin%3A6202019011&rnid=2366372011&s=books&sr=1-532',\n",
       " 'The_Dirty_Tricks_Department_Stanley_Lovell_the_OSS_and_the_Masterminds_of_World_War_II_Secret_Warfare_Kindle_Edition': 'https://www.amazon.ca/Dirty-Tricks-Department-Stanley-Masterminds-ebook/dp/B09Y45YPYW/ref=sr_1_533?qid=1700113013&refinements=p_n_binding_browse-bin%3A6202019011&rnid=2366372011&s=books&sr=1-533',\n",
       " 'Confessions_of_a_Bookseller_Kindle_Edition': 'https://www.amazon.ca/Confessions-Bookseller-Shaun-Bythell-ebook/dp/B08528D5B6/ref=sr_1_534?qid=1700113013&refinements=p_n_binding_browse-bin%3A6202019011&rnid=2366372011&s=books&sr=1-534',\n",
       " 'Winners_and_Losers_Entrepreneurial_Lessons_from_30000_CEOs_on_How_to_Come_Out_on_Top_Kindle_Edition': 'https://www.amazon.ca/Winners-Losers-Entrepreneurial-Lessons-CEOs-ebook/dp/B0CDJTHW6M/ref=sr_1_535?qid=1700113013&refinements=p_n_binding_browse-bin%3A6202019011&rnid=2366372011&s=books&sr=1-535',\n",
       " 'The_Soul_of_A_New_Machine_Kindle_Edition': 'https://www.amazon.ca/Soul-New-Machine-Tracy-Kidder-ebook/dp/B005HG4W9W/ref=sr_1_536?qid=1700113013&refinements=p_n_binding_browse-bin%3A6202019011&rnid=2366372011&s=books&sr=1-536',\n",
       " 'War_on_Ivermectin_The_Medicine_that_Saved_Millions_and_Could_Have_Ended_the_Pandemic_Kindle_Edition': 'https://www.amazon.ca/War-Ivermectin-Medicine-Millions-Pandemic-ebook/dp/B09T4K2YTV/ref=sr_1_539?qid=1700113013&refinements=p_n_binding_browse-bin%3A6202019011&rnid=2366372011&s=books&sr=1-539',\n",
       " 'Dont_Come_Crying_Home_A_Boys_Life_in_Dr_Barnardos_Homes_Kindle_Edition': 'https://www.amazon.ca/Dont-Come-Crying-Home-Barnardos-ebook/dp/B00VKNNZ0I/ref=sr_1_540?qid=1700113013&refinements=p_n_binding_browse-bin%3A6202019011&rnid=2366372011&s=books&sr=1-540',\n",
       " 'In_the_Form_of_a_Question_The_Joys_and_Rewards_of_a_Curious_Life_Kindle_Edition': 'https://www.amazon.ca/Form-Question-Joys-Rewards-Curious-ebook/dp/B0BV18SPMC/ref=sr_1_541?qid=1700113013&refinements=p_n_binding_browse-bin%3A6202019011&rnid=2366372011&s=books&sr=1-541',\n",
       " 'The_Fran_Lebowitz_Reader_Kindle_Edition': 'https://www.amazon.ca/Fran-Lebowitz-Reader-ebook/dp/B004C43ETY/ref=sr_1_542?qid=1700113013&refinements=p_n_binding_browse-bin%3A6202019011&rnid=2366372011&s=books&sr=1-542',\n",
       " 'The_Doctor_Who_Fooled_the_World_Science_Deception_and_the_War_on_Vaccines_Kindle_Edition': 'https://www.amazon.ca/Doctor-Who-Fooled-World-Deception-ebook/dp/B07VXX9589/ref=sr_1_543?qid=1700113013&refinements=p_n_binding_browse-bin%3A6202019011&rnid=2366372011&s=books&sr=1-543',\n",
       " 'Naked_Determination_41_Stories_About_Overcoming_Fear_Kindle_Edition': 'https://www.amazon.ca/Naked-Determination-Stories-About-Overcoming-ebook/dp/B009WCYASU/ref=sr_1_544?qid=1700113013&refinements=p_n_binding_browse-bin%3A6202019011&rnid=2366372011&s=books&sr=1-544',\n",
       " 'Out_of_Place_A_Memoir_Kindle_Edition': 'https://www.amazon.ca/Out-Place-Edward-W-Said-ebook/dp/B009JU5ICC/ref=sr_1_545?qid=1700113013&refinements=p_n_binding_browse-bin%3A6202019011&rnid=2366372011&s=books&sr=1-545',\n",
       " 'Prairie_Tale_A_Memoir_Kindle_Edition': 'https://www.amazon.ca/Prairie-Tale-Memoir-Melissa-Gilbert-ebook/dp/B002ASFPQ4/ref=sr_1_546?qid=1700113013&refinements=p_n_binding_browse-bin%3A6202019011&rnid=2366372011&s=books&sr=1-546',\n",
       " 'Dear_Jacob_A_Mothers_Journey_of_Hope_Kindle_Edition': 'https://www.amazon.ca/Dear-Jacob-Mothers-Journey-Hope-ebook/dp/B0BVYF4H69/ref=sr_1_545?qid=1700113021&refinements=p_n_binding_browse-bin%3A6202019011&rnid=2366372011&s=books&sr=1-545',\n",
       " 'While_You_Were_Out_An_Intimate_Family_Portrait_of_Mental_Illness_in_an_Era_of_Silence_Kindle_Edition': 'https://www.amazon.ca/While-You-Were-Out-Intimate-ebook/dp/B0B9KVYRQ5/ref=sr_1_546?qid=1700113021&refinements=p_n_binding_browse-bin%3A6202019011&rnid=2366372011&s=books&sr=1-546',\n",
       " 'What_the_Dead_Know_Learning_About_Life_as_a_New_York_City_Death_Investigator_Kindle_Edition': 'https://www.amazon.ca/What-Dead-Know-Learning-Investigator-ebook/dp/B0BHTLF1V5/ref=sr_1_547?qid=1700113021&refinements=p_n_binding_browse-bin%3A6202019011&rnid=2366372011&s=books&sr=1-547',\n",
       " 'Empress_of_the_Nile_The_Daredevil_Archaeologist_Who_Saved_Egypts_Ancient_Temples_from_Destruction_Kindle_Edition': 'https://www.amazon.ca/Empress-Nile-Daredevil-Archaeologist-Destruction-ebook/dp/B0B2MKMS27/ref=sr_1_548?qid=1700113021&refinements=p_n_binding_browse-bin%3A6202019011&rnid=2366372011&s=books&sr=1-548',\n",
       " 'G__Man_(Pulitzer_Prize_Winner)_J_Edgar_Hoover_and_the_Making_of_the_American_Century_Kindle_Edition': 'https://www.amazon.ca/G-Man-Hoover-Making-American-Century-ebook/dp/B09R6SYF8G/ref=sr_1_549?qid=1700113021&refinements=p_n_binding_browse-bin%3A6202019011&rnid=2366372011&s=books&sr=1-549',\n",
       " 'Just_Kids_A_National_Book_Award_Winner_Kindle_Edition': 'https://www.amazon.ca/Just-Kids-Patti-Smith-ebook/dp/B003F1WM2K/ref=sr_1_550?qid=1700113021&refinements=p_n_binding_browse-bin%3A6202019011&rnid=2366372011&s=books&sr=1-550',\n",
       " 'How_to_Change_Your_Mind_What_the_New_Science_of_Psychedelics_Teaches_Us_About_Consciousness_Dying_Addiction_Depression_and_Transcendence_Kindle_Edition': 'https://www.amazon.ca/Change-Your-Mind-Consciousness-Transcendence-ebook/dp/B076GPJXWZ/ref=sr_1_551?qid=1700113021&refinements=p_n_binding_browse-bin%3A6202019011&rnid=2366372011&s=books&sr=1-551',\n",
       " 'A_Memoir_of_My_Former_Self_A_Life_in_Writing_Kindle_Edition': 'https://www.amazon.ca/Memoir-My-Former-Self-Writing-ebook/dp/B0C785PNKY/ref=sr_1_552?qid=1700113021&refinements=p_n_binding_browse-bin%3A6202019011&rnid=2366372011&s=books&sr=1-552',\n",
       " 'Wild_(Oprahs_Book_Club_20_Digital_Edition)_From_Lost_to_Found_on_the_Pacific_Crest_Trail_Kindle_Edition': 'https://www.amazon.ca/Wild-Oprahs-Book-Club-Digital-ebook/dp/B005CRQ4XI/ref=sr_1_555?qid=1700113021&refinements=p_n_binding_browse-bin%3A6202019011&rnid=2366372011&s=books&sr=1-555',\n",
       " 'Einstein_His_Life_and_Universe_Kindle_Edition': 'https://www.amazon.ca/Einstein-Life-Universe-Walter-Isaacson-ebook/dp/B000PC0S0K/ref=sr_1_556?qid=1700113021&refinements=p_n_binding_browse-bin%3A6202019011&rnid=2366372011&s=books&sr=1-556',\n",
       " 'Infidel_Kindle_Edition': 'https://www.amazon.ca/Infidel-Ayaan-Hirsi-Ali-ebook/dp/B000NY12CI/ref=sr_1_557?qid=1700113021&refinements=p_n_binding_browse-bin%3A6202019011&rnid=2366372011&s=books&sr=1-557',\n",
       " 'A_Heart_That_Works_Kindle_Edition': 'https://www.amazon.ca/Heart-That-Works-Rob-Delaney-ebook/dp/B0B3TDC89Z/ref=sr_1_558?qid=1700113021&refinements=p_n_binding_browse-bin%3A6202019011&rnid=2366372011&s=books&sr=1-558',\n",
       " 'Dancing_in_the_Mosque_An_Afghan_Mothers_Letter_to_Her_Son_Kindle_Edition': 'https://www.amazon.ca/Dancing-Mosque-Afghan-Mothers-Letter-ebook/dp/B09RKBXPF6/ref=sr_1_559?qid=1700113021&refinements=p_n_binding_browse-bin%3A6202019011&rnid=2366372011&s=books&sr=1-559',\n",
       " 'Disability_Visibility_First__Person_Stories_from_the_Twenty__First_Century_Kindle_Edition': 'https://www.amazon.ca/Disability-Visibility-First-Person-Stories-Twenty-First-ebook/dp/B082ZQBL98/ref=sr_1_560?qid=1700113021&refinements=p_n_binding_browse-bin%3A6202019011&rnid=2366372011&s=books&sr=1-560',\n",
       " '100_Inventions_That_Changed_the_World_(Popular_Science)_Kindle_Edition': 'https://www.amazon.ca/100-Inventions-That-Changed-World-ebook/dp/B01NBAJUYN/ref=sr_1_561?qid=1700113021&refinements=p_n_binding_browse-bin%3A6202019011&rnid=2366372011&s=books&sr=1-561',\n",
       " 'I_Heard_Her_Call_My_Name_A_Memoir_of_Transition_Kindle_Edition': 'https://www.amazon.ca/Heard-Her-Call-Name-Transition-ebook/dp/B0C56QJ85P/ref=sr_1_562?qid=1700113021&refinements=p_n_binding_browse-bin%3A6202019011&rnid=2366372011&s=books&sr=1-562',\n",
       " 'KISS_SANS_FARD_Lautobiographie_de_Gene_Simmons_(French_Edition)_Kindle_Edition': 'https://www.amazon.ca/KISS-SANS-Lautobiographie-Simmons-French-ebook/dp/B00GHT9EP0/ref=sr_1_561?qid=1700113029&refinements=p_n_binding_browse-bin%3A6202019011&rnid=2366372011&s=books&sr=1-561',\n",
       " 'Churchill_A_Life_Kindle_Edition': 'https://www.amazon.ca/Churchill-Life-Martin-Gilbert-ebook/dp/B07XG4LZCY/ref=sr_1_562?qid=1700113029&refinements=p_n_binding_browse-bin%3A6202019011&rnid=2366372011&s=books&sr=1-562',\n",
       " 'Thunderstruck_Kindle_Edition': 'https://www.amazon.ca/Thunderstruck-Times-bestselling-author-Larson-ebook/dp/B000JMKR4S/ref=sr_1_563?qid=1700113029&refinements=p_n_binding_browse-bin%3A6202019011&rnid=2366372011&s=books&sr=1-563',\n",
       " 'The_Last_Voyage_of_Columbus_Being_the_Epic_Tale_of_the_Great_Captains_Fourth_Expedition_Including_Accounts_of_Swordfight_Mutiny_Shipwreck_Gold_War_Hurricane_and_Discovery_Kindle_Edition': 'https://www.amazon.ca/Last-Voyage-Columbus-Expedition-Swordfight-ebook/dp/B000FCK6XO/ref=sr_1_564?qid=1700113029&refinements=p_n_binding_browse-bin%3A6202019011&rnid=2366372011&s=books&sr=1-564',\n",
       " 'The_Swedish_Art_of_Aging_Exuberantly_Life_Wisdom_from_Someone_Who_Will_(Probably)_Die_Before_You_(The_Swedish_Art_of_Living_&_Dying_Series)_Kindle_Edition': 'https://www.amazon.ca/Swedish-Art-Aging-Well-Probably-ebook/dp/B09JPGWC14/ref=sr_1_565?qid=1700113029&refinements=p_n_binding_browse-bin%3A6202019011&rnid=2366372011&s=books&sr=1-565',\n",
       " 'The_Nine_Lives_of_Charlotte_Taylor_Kindle_Edition': 'https://www.amazon.ca/Nine-Lives-Charlotte-Taylor-ebook/dp/B004HW6GPK/ref=sr_1_566?qid=1700113029&refinements=p_n_binding_browse-bin%3A6202019011&rnid=2366372011&s=books&sr=1-566',\n",
       " 'Titan_The_Life_of_John_D_Rockefeller_Sr_Kindle_Edition': 'https://www.amazon.ca/Titan-Life-John-Rockefeller-Sr-ebook/dp/B000XUDGHG/ref=sr_1_567?qid=1700113029&refinements=p_n_binding_browse-bin%3A6202019011&rnid=2366372011&s=books&sr=1-567',\n",
       " 'Adventures_of_a_Medical_Student_(The_Adventure_of_Life)_Kindle_Edition': 'https://www.amazon.ca/Adventures-Medical-Student-Adventure-Life-ebook/dp/B0B9LF89R4/ref=sr_1_568?qid=1700113029&refinements=p_n_binding_browse-bin%3A6202019011&rnid=2366372011&s=books&sr=1-568',\n",
       " 'The_Last_Outlaws_The_Desperate_Final_Days_of_the_Dalton_Gang_Kindle_Edition': 'https://www.amazon.ca/Last-Outlaws-Desperate-Final-Dalton-ebook/dp/B0BQGJ5ZTM/ref=sr_1_571?qid=1700113029&refinements=p_n_binding_browse-bin%3A6202019011&rnid=2366372011&s=books&sr=1-571',\n",
       " 'Secret_Desires_of_the_One_Percent_Kindle_Edition': 'https://www.amazon.ca/Secret-Desires-Percent-Anna-Gristina-ebook/dp/B0BPJSMGWJ/ref=sr_1_572?qid=1700113029&refinements=p_n_binding_browse-bin%3A6202019011&rnid=2366372011&s=books&sr=1-572',\n",
       " 'Lessons_From_Critical_Thinkers_Methods_for_Clear_Thinking_and_Analysis_in_Everyday_Situations_from_the_Greatest_Thinkers_in_History_(The_critical_thinker_Book_2)_Kindle_Edition': 'https://www.amazon.ca/Lessons-Critical-Thinkers-Thinking-Situations-ebook/dp/B07M8CYGFM/ref=sr_1_573?qid=1700113029&refinements=p_n_binding_browse-bin%3A6202019011&rnid=2366372011&s=books&sr=1-573',\n",
       " 'Who_am_I?_Vulnerability_=_Powerability_Kindle_Edition': 'https://www.amazon.ca/Who-am-I-Vulnerability-Powerability-ebook/dp/B0CBZZBMHR/ref=sr_1_574?qid=1700113029&refinements=p_n_binding_browse-bin%3A6202019011&rnid=2366372011&s=books&sr=1-574',\n",
       " 'The_Sober_Diaries_How_one_woman_stopped_drinking_and_started_living_Kindle_Edition': 'https://www.amazon.ca/Sober-Diaries-stopped-drinking-started-ebook/dp/B06W9J1V6D/ref=sr_1_575?qid=1700113029&refinements=p_n_binding_browse-bin%3A6202019011&rnid=2366372011&s=books&sr=1-575',\n",
       " 'The_Life_of_Marpa_the_Translator_Seeing_Accomplishes_All_Kindle_Edition': 'https://www.amazon.ca/Life-Marpa-Translator-Seeing-Accomplishes-ebook/dp/B071YBRP8R/ref=sr_1_576?qid=1700113029&refinements=p_n_binding_browse-bin%3A6202019011&rnid=2366372011&s=books&sr=1-576',\n",
       " 'French_Boy_A_1950s_Franco__American_Childhood_(Books_about_Franco__Americans)_Kindle_Edition': 'https://www.amazon.ca/French-Boy-Franco-American-Childhood-Franco-Americans-ebook/dp/B0CLL1VZNT/ref=sr_1_577?qid=1700113029&refinements=p_n_binding_browse-bin%3A6202019011&rnid=2366372011&s=books&sr=1-577',\n",
       " 'They_Left_Us_Everything_A_Memoir_Kindle_Edition': 'https://www.amazon.ca/They-Left-Us-Everything-Memoir-ebook/dp/B00IO3M8H8/ref=sr_1_578?qid=1700113029&refinements=p_n_binding_browse-bin%3A6202019011&rnid=2366372011&s=books&sr=1-578',\n",
       " '21__Hit_Wonder_Flopping_My_Way_to_the_Top_of_the_Charts_Kindle_Edition': 'https://www.amazon.ca/21-Hit-Wonder-Flopping-Way-Charts-ebook/dp/B09RQH3FJW/ref=sr_1_577?qid=1700113036&refinements=p_n_binding_browse-bin%3A6202019011&rnid=2366372011&s=books&sr=1-577',\n",
       " 'The_Great_War_for_Civilisation_The_Conquest_of_the_Middle_East_UK_ed_Edition_Kindle_Edition': 'https://www.amazon.ca/Great-War-Civilisation-Conquest-Middle-ebook/dp/B00K4Q3HY6/ref=sr_1_578?qid=1700113036&refinements=p_n_binding_browse-bin%3A6202019011&rnid=2366372011&s=books&sr=1-578',\n",
       " 'GAY_MOMENTS_The_Story_Bundle_No_4_Gay_First_Time_Stories_Kindle_Edition': 'https://www.amazon.ca/GAY-MOMENTS-Story-Bundle-Stories-ebook/dp/B06XNN4WXQ/ref=sr_1_579?qid=1700113036&refinements=p_n_binding_browse-bin%3A6202019011&rnid=2366372011&s=books&sr=1-579',\n",
       " 'Wherever_the_Road_Leads_A_Memoir_of_Love_Travel_and_a_Van_Kindle_Edition': 'https://www.amazon.ca/Wherever-Road-Leads-Memoir-Travel-ebook/dp/B08C2BFZXD/ref=sr_1_580?qid=1700113036&refinements=p_n_binding_browse-bin%3A6202019011&rnid=2366372011&s=books&sr=1-580',\n",
       " 'GAY_MOMENTS_The_Story_Bundle_No_3_Gay_First_Time_Short_Stories_Kindle_Edition': 'https://www.amazon.ca/GAY-MOMENTS-Story-Bundle-Stories-ebook/dp/B01NBSKS3B/ref=sr_1_581?qid=1700113036&refinements=p_n_binding_browse-bin%3A6202019011&rnid=2366372011&s=books&sr=1-581',\n",
       " 'Call_You_When_I_Land_A_Memoir_Kindle_Edition': 'https://www.amazon.ca/Call-You-When-Land-Memoir-ebook/dp/B0BNJCMD7C/ref=sr_1_582?qid=1700113036&refinements=p_n_binding_browse-bin%3A6202019011&rnid=2366372011&s=books&sr=1-582',\n",
       " 'Choice_Not_Fate_The_Life_and_Times_of_Trevor_Manuel_Kindle_Edition': 'https://www.amazon.ca/Choice-Fate-Times-Trevor-Manuel-ebook/dp/B06XD8WYCW/ref=sr_1_583?qid=1700113036&refinements=p_n_binding_browse-bin%3A6202019011&rnid=2366372011&s=books&sr=1-583',\n",
       " 'Gandhis_Truth_On_the_Origins_of_Militant_Nonviolence_Kindle_Edition': 'https://www.amazon.ca/Gandhis-Truth-Origins-Militant-Nonviolence-ebook/dp/B00CHH2G92/ref=sr_1_584?qid=1700113036&refinements=p_n_binding_browse-bin%3A6202019011&rnid=2366372011&s=books&sr=1-584',\n",
       " 'Last_of_the_Great_Scouts_The_Life_Story_of_William_F_Cody____\"Buffalo_Bill\"_Kindle_Edition': 'https://www.amazon.ca/Last-Great-Scouts-William-Buffalo-ebook/dp/B094JRSC9P/ref=sr_1_587?qid=1700113036&refinements=p_n_binding_browse-bin%3A6202019011&rnid=2366372011&s=books&sr=1-587',\n",
       " 'Who_Killed_My_Daughter?_The_Startling_True_Story_of_a_Mothers_Search_for_Her_Daughters_Murderer_Kindle_Edition': 'https://www.amazon.ca/Who-Killed-Daughter-Startling-Daughters-ebook/dp/B008L8GLC4/ref=sr_1_588?qid=1700113036&refinements=p_n_binding_browse-bin%3A6202019011&rnid=2366372011&s=books&sr=1-588',\n",
       " 'The_Seleukid_Empire_of_Antiochus_III_223–187_BC_Kindle_Edition': 'https://www.amazon.ca/Seleukid-Empire-Antiochus-III-223-187-ebook/dp/B00USAEPHG/ref=sr_1_589?qid=1700113036&refinements=p_n_binding_browse-bin%3A6202019011&rnid=2366372011&s=books&sr=1-589',\n",
       " 'Lessons_Learned_From_the_Short_Stories_of_My_Life_Kindle_Edition': 'https://www.amazon.ca/Lessons-Learned-Short-Stories-Life-ebook/dp/B0CKXX8ZBF/ref=sr_1_590?qid=1700113036&refinements=p_n_binding_browse-bin%3A6202019011&rnid=2366372011&s=books&sr=1-590',\n",
       " 'Anxiety_Rx_A_New_Prescription_for_Anxiety_Relief_from_the_Doctor_Who_Created_It_Kindle_Edition': 'https://www.amazon.ca/Anxiety-Rx-Prescription-Relief-Created-ebook/dp/B08KPN8ZPV/ref=sr_1_591?qid=1700113036&refinements=p_n_binding_browse-bin%3A6202019011&rnid=2366372011&s=books&sr=1-591',\n",
       " 'Eat_Pray_Love_One_Womans_Search_for_Everything_Across_Italy_India_and_Indonesia_Kindle_Edition': 'https://www.amazon.ca/Eat-Pray-Love-10th-Anniversary-Everything-ebook/dp/B000PDYVVG/ref=sr_1_592?qid=1700113036&refinements=p_n_binding_browse-bin%3A6202019011&rnid=2366372011&s=books&sr=1-592',\n",
       " 'The_Enigma_of_Ted_Bundy_The_Questions_and_Controversies_Surrounding_Americas_Most_Infamous_Serial_Killer_Kindle_Edition': 'https://www.amazon.ca/Enigma-Ted-Bundy-Controversies-Surrounding-ebook/dp/B09CT4585V/ref=sr_1_593?qid=1700113036&refinements=p_n_binding_browse-bin%3A6202019011&rnid=2366372011&s=books&sr=1-593',\n",
       " 'An_Unfinished_Life_John_F_Kennedy_1917____1963_Kindle_Edition': 'https://www.amazon.ca/Unfinished-Life-John-Kennedy-1917-ebook/dp/B000Q67H36/ref=sr_1_594?qid=1700113036&refinements=p_n_binding_browse-bin%3A6202019011&rnid=2366372011&s=books&sr=1-594',\n",
       " 'Rise_of_the_Rocket_Girls_The_Women_Who_Propelled_Us_from_Missiles_to_the_Moon_to_Mars_Kindle_Edition': 'https://www.amazon.ca/Rise-Rocket-Girls-Propelled-Missiles-ebook/dp/B013CATQPY/ref=sr_1_593?qid=1700113042&refinements=p_n_binding_browse-bin%3A6202019011&rnid=2366372011&s=books&sr=1-593',\n",
       " 'Only_Say_Good_Things_Surviving_Playboy_and_Finding_Myself_Kindle_Edition': 'https://www.amazon.ca/Only-Say-Good-Things-Surviving-ebook/dp/B0C3ZPTGF8/ref=sr_1_594?qid=1700113042&refinements=p_n_binding_browse-bin%3A6202019011&rnid=2366372011&s=books&sr=1-594',\n",
       " 'Spurgeon_on_the_Christian_Life_Alive_in_Christ_(Theologians_on_the_Christian_Life)_Kindle_Edition': 'https://www.amazon.ca/Spurgeon-Christian-Life-Christ-Theologians-ebook/dp/B075JL1YVB/ref=sr_1_595?qid=1700113042&refinements=p_n_binding_browse-bin%3A6202019011&rnid=2366372011&s=books&sr=1-595',\n",
       " 'No_Ordinary_Time_Franklin_&_Eleanor_Roosevelt_The_Home_Front_in_World_War_II_Kindle_Edition': 'https://www.amazon.ca/No-Ordinary-Time-Franklin-Roosevelt-ebook/dp/B002HJV79U/ref=sr_1_596?qid=1700113042&refinements=p_n_binding_browse-bin%3A6202019011&rnid=2366372011&s=books&sr=1-596',\n",
       " 'The_Longest_Race_Inside_the_Secret_World_of_Abuse_Doping_and_Deception_on_Nikes_Elite_Running_Team_Kindle_Edition': 'https://www.amazon.ca/Longest-Race-Inside-Deception-Running-ebook/dp/B0B3YC57XP/ref=sr_1_597?qid=1700113042&refinements=p_n_binding_browse-bin%3A6202019011&rnid=2366372011&s=books&sr=1-597',\n",
       " 'La_Mère_L’histoire_de_sa_vie_(French_Edition)_Kindle_Edition': 'https://www.amazon.ca/M%C3%A8re-Lhistoire-vie-French-ebook/dp/B00AGYXD0E/ref=sr_1_598?qid=1700113042&refinements=p_n_binding_browse-bin%3A6202019011&rnid=2366372011&s=books&sr=1-598',\n",
       " 'The_Last_of_the_Presidents_Men_Kindle_Edition': 'https://www.amazon.ca/Last-Presidents-Men-Bob-Woodward-ebook/dp/B01069KL0I/ref=sr_1_599?qid=1700113042&refinements=p_n_binding_browse-bin%3A6202019011&rnid=2366372011&s=books&sr=1-599',\n",
       " 'Taste_My_Life_Through_Food_Kindle_Edition': 'https://www.amazon.ca/Taste-My-Life-Through-Food-ebook/dp/B08JCFVKYZ/ref=sr_1_600?qid=1700113042&refinements=p_n_binding_browse-bin%3A6202019011&rnid=2366372011&s=books&sr=1-600',\n",
       " 'Variable_Valve_Timings_Memoirs_of_a_car_tragic_Kindle_Edition': 'https://www.amazon.ca/Variable-Valve-Timings-Memoirs-tragic-ebook/dp/B0CBRKS44Z/ref=sr_1_603?qid=1700113042&refinements=p_n_binding_browse-bin%3A6202019011&rnid=2366372011&s=books&sr=1-603',\n",
       " 'The_Secret_Lives_of_Bats_My_Adventures_with_the_Worlds_Most_Misunderstood_Mammals_Kindle_Edition': 'https://www.amazon.ca/Secret-Lives-Bats-Adventures-Misunderstood-ebook/dp/B00QPHUSJU/ref=sr_1_604?qid=1700113042&refinements=p_n_binding_browse-bin%3A6202019011&rnid=2366372011&s=books&sr=1-604',\n",
       " 'SÍ_SEÑOR_My_Liverpool_Years____THE_LONG__AWAITED_MEMOIR_FROM_A_LIVERPOOL_LEGEND_Kindle_Edition': 'https://www.amazon.ca/S%C3%8D-SE%C3%91OR-Liverpool-LONG-AWAITED-LIVERPOOL-ebook/dp/B0CL8QZVTH/ref=sr_1_605?qid=1700113042&refinements=p_n_binding_browse-bin%3A6202019011&rnid=2366372011&s=books&sr=1-605',\n",
       " 'Mary_Magdalene_Revealed_The_First_Apostle_Her_Feminist_Gospel_&_the_Christianity_We_Havent_Tried_Yet_Kindle_Edition': 'https://www.amazon.ca/Mary-Magdalene-Revealed-Feminist-Christianity-ebook/dp/B07PLK57L4/ref=sr_1_606?qid=1700113042&refinements=p_n_binding_browse-bin%3A6202019011&rnid=2366372011&s=books&sr=1-606',\n",
       " 'The_Heathen_Horde_A_gripping_historical_adventure_thriller_of_kings_and_Vikings_in_early_medieval_Britain_(Alfred_the_Great_Book_1)_Kindle_Edition': 'https://www.amazon.ca/Heathen-Horde-gripping-historical-adventure-ebook/dp/B0C45R3M5S/ref=sr_1_607?qid=1700113042&refinements=p_n_binding_browse-bin%3A6202019011&rnid=2366372011&s=books&sr=1-607',\n",
       " 'What_the_****_is_Normal?!_Kindle_Edition': 'https://www.amazon.ca/What-Normal-Francesca-Martinez-ebook/dp/B00HNW6X3G/ref=sr_1_608?qid=1700113042&refinements=p_n_binding_browse-bin%3A6202019011&rnid=2366372011&s=books&sr=1-608',\n",
       " 'Driven_An_Autobiography_Kindle_Edition': 'https://www.amazon.ca/Driven-Autobiography-Larry-H-Miller-ebook/dp/B003JBI76G/ref=sr_1_609?qid=1700113042&refinements=p_n_binding_browse-bin%3A6202019011&rnid=2366372011&s=books&sr=1-609',\n",
       " 'Unmasking_AI_My_Mission_to_Protect_What_Is_Human_in_a_World_of_Machines_Kindle_Edition': 'https://www.amazon.ca/Unmasking-AI-Mission-Protect-Machines-ebook/dp/B0C3YK7NSN/ref=sr_1_610?qid=1700113042&refinements=p_n_binding_browse-bin%3A6202019011&rnid=2366372011&s=books&sr=1-610',\n",
       " 'Revenge_How_Donald_Trump_Weaponized_the_US_Department_of_Justice_Against_His_Critics_Kindle_Edition': 'https://www.amazon.ca/Revenge-Weaponized-Department-Justice-Against-ebook/dp/B0B6YZNNP7/ref=sr_1_609?qid=1700113049&refinements=p_n_binding_browse-bin%3A6202019011&rnid=2366372011&s=books&sr=1-609',\n",
       " 'A_Memoir_of_Heartbreak_Kindle_Edition': 'https://www.amazon.ca/Memoir-Heartbreak-Victoria-DAriano-ebook/dp/B0CK45F3CG/ref=sr_1_610?qid=1700113049&refinements=p_n_binding_browse-bin%3A6202019011&rnid=2366372011&s=books&sr=1-610',\n",
       " 'GAY_MOMENTS_The_Story_Bundle_No_2_Gay_First_Time_Short_Stories_Kindle_Edition': 'https://www.amazon.ca/GAY-MOMENTS-Story-Bundle-Stories-ebook/dp/B00YQAKBWW/ref=sr_1_611?qid=1700113049&refinements=p_n_binding_browse-bin%3A6202019011&rnid=2366372011&s=books&sr=1-611',\n",
       " 'Smoke_Gets_in_Your_Eyes_And_Other_Lessons_from_the_Crematory_Kindle_Edition': 'https://www.amazon.ca/Smoke-Gets-Your-Eyes-Crematory-ebook/dp/B00J8R3MYW/ref=sr_1_612?qid=1700113049&refinements=p_n_binding_browse-bin%3A6202019011&rnid=2366372011&s=books&sr=1-612',\n",
       " 'The_Great_Depression_A_Diary_Kindle_Edition': 'https://www.amazon.ca/Great-Depression-Diary-Benjamin-Roth-ebook/dp/B002TJLEVE/ref=sr_1_613?qid=1700113049&refinements=p_n_binding_browse-bin%3A6202019011&rnid=2366372011&s=books&sr=1-613',\n",
       " 'Rodolphe_et_les_secrets_de_Mayerling_(TEMPUS_t_175)_(French_Edition)_Kindle_Edition': 'https://www.amazon.ca/Rodolphe-secrets-Mayerling-TEMPUS-French-ebook/dp/B01MQFJAKE/ref=sr_1_614?qid=1700113049&refinements=p_n_binding_browse-bin%3A6202019011&rnid=2366372011&s=books&sr=1-614',\n",
       " 'And_We_Are_Not_Saved_The_Elusive_Quest_for_Racial_Justice_Kindle_Edition': 'https://www.amazon.ca/We-Are-Not-Saved-Elusive-ebook/dp/B002BWP5UA/ref=sr_1_615?qid=1700113049&refinements=p_n_binding_browse-bin%3A6202019011&rnid=2366372011&s=books&sr=1-615',\n",
       " 'Between_the_World_and_Me_Kindle_Edition': 'https://www.amazon.ca/Between-World-Me-Ta-Nehisi-Coates-ebook/dp/B00SEFAIRI/ref=sr_1_616?qid=1700113049&refinements=p_n_binding_browse-bin%3A6202019011&rnid=2366372011&s=books&sr=1-616',\n",
       " 'Live_Wire_Long__Winded_Short_Stories_Kindle_Edition': 'https://www.amazon.ca/Live-Wire-Long-Winded-Short-Stories-ebook/dp/B099WXQ8MX/ref=sr_1_619?qid=1700113049&refinements=p_n_binding_browse-bin%3A6202019011&rnid=2366372011&s=books&sr=1-619',\n",
       " 'Suzuki_The_Man_and_His_Dream_to_Teach_the_Children_of_the_World_Kindle_Edition': 'https://www.amazon.ca/Suzuki-Dream-Teach-Children-World-ebook/dp/B0B3JTN93J/ref=sr_1_620?qid=1700113049&refinements=p_n_binding_browse-bin%3A6202019011&rnid=2366372011&s=books&sr=1-620',\n",
       " 'To_Heaven_and_Back_A_Doctors_Extraordinary_Account_of_Her_Death_Heaven_Angels_and_Life_Again_A_True_Story_Kindle_Edition': 'https://www.amazon.ca/Heaven-Back-Doctors-Extraordinary-Account-ebook/dp/B0085CAIZ2/ref=sr_1_621?qid=1700113049&refinements=p_n_binding_browse-bin%3A6202019011&rnid=2366372011&s=books&sr=1-621',\n",
       " 'Escaping_Budapest_A_WW2_Historical_Novel_Based_on_a_True_Story_Kindle_Edition': 'https://www.amazon.ca/Escaping-Budapest-Historical-Novel-Based-ebook/dp/B0CGDTBZ7D/ref=sr_1_622?qid=1700113049&refinements=p_n_binding_browse-bin%3A6202019011&rnid=2366372011&s=books&sr=1-622',\n",
       " 'Die_exzentrische_Lebensgeschichte_des_Künstlers_und_Verbrechers_Benvenuto_Cellini_(German_Edition)_Kindle_Edition': 'https://www.amazon.ca/exzentrische-Lebensgeschichte-K%C3%BCnstlers-Verbrechers-Benvenuto-ebook/dp/B08VDN7GKQ/ref=sr_1_623?qid=1700113049&refinements=p_n_binding_browse-bin%3A6202019011&rnid=2366372011&s=books&sr=1-623',\n",
       " 'Setting_the_Table_The_Transforming_Power_of_Hospitality_in_Business_Reprint_Edition_Kindle_Edition': 'https://www.amazon.ca/Setting-Table-Transforming-Hospitality-Business-ebook/dp/B000OI0FCQ/ref=sr_1_624?qid=1700113049&refinements=p_n_binding_browse-bin%3A6202019011&rnid=2366372011&s=books&sr=1-624',\n",
       " 'Running_the_Dream_One_Summer_Living_Training_and_Racing_with_a_Team_of_World__Class_Runners_Half_My_Age_Kindle_Edition': 'https://www.amazon.ca/Running-Dream-Training-World-Class-Runners-ebook/dp/B085GKR5BL/ref=sr_1_625?qid=1700113049&refinements=p_n_binding_browse-bin%3A6202019011&rnid=2366372011&s=books&sr=1-625',\n",
       " 'The_Serial_Killer’s_Wife_The_addictive_bestselling_crime_thriller_sensation____so_shocking_it_should_come_with_a_warning!_Soon_to_be_a_major_TV_series__new_crime_thriller_and_a_must__read_for_2021_Kindle_Edition': 'https://www.amazon.ca/Serial-Killers-Wife-addictive-must-read-ebook/dp/B08N5MQYJ5/ref=sr_1_626?qid=1700113049&refinements=p_n_binding_browse-bin%3A6202019011&rnid=2366372011&s=books&sr=1-626',\n",
       " 'Cant_Hurt_Me__Master_Your_Mind_and_Defy_the_Odds____Clean_Edition_Kindle_Edition': 'https://www.amazon.ca/Cant-Hurt-Me-Master-Clean-ebook/dp/B085TCV73F/ref=sr_1_625?qid=1700113056&refinements=p_n_binding_browse-bin%3A6202019011&rnid=2366372011&s=books&sr=1-625',\n",
       " 'The_Clash_on_the_Clash_Interviews_and_Encounters_(Musicians_in_Their_Own_Words_Book_14)_Kindle_Edition': 'https://www.amazon.ca/Clash-Interviews-Encounters-Musicians-Their-ebook/dp/B07281WNNC/ref=sr_1_626?qid=1700113056&refinements=p_n_binding_browse-bin%3A6202019011&rnid=2366372011&s=books&sr=1-626',\n",
       " 'Playing_With_Fire_The_Highest_Highs_and_Lowest_Lows_of_Theo_Fleury_Kindle_Edition': 'https://www.amazon.ca/Playing-Fire-Highest-Lowest-Fleury-ebook/dp/B00563KF2E/ref=sr_1_627?qid=1700113056&refinements=p_n_binding_browse-bin%3A6202019011&rnid=2366372011&s=books&sr=1-627',\n",
       " 'La_mujer_que_soy_(Spanish_Edition)_Kindle_Edition': 'https://www.amazon.ca/mujer-que-soy-Spanish-ebook/dp/B0CBQGJ8MV/ref=sr_1_628?qid=1700113056&refinements=p_n_binding_browse-bin%3A6202019011&rnid=2366372011&s=books&sr=1-628',\n",
       " 'In_the_Dream_House_A_Memoir_Kindle_Edition': 'https://www.amazon.ca/Dream-House-Carmen-Maria-Machado-ebook/dp/B07MCRGQYR/ref=sr_1_629?qid=1700113056&refinements=p_n_binding_browse-bin%3A6202019011&rnid=2366372011&s=books&sr=1-629',\n",
       " 'Im_Not_a_Large_I_Am_a_Medium!_Heartfelt_Memories_of_a_Lifetime_of_Mediumship_Kindle_Edition': 'https://www.amazon.ca/Not-Large-Medium-Heartfelt-Mediumship-ebook/dp/B07YCLV6ZH/ref=sr_1_630?qid=1700113056&refinements=p_n_binding_browse-bin%3A6202019011&rnid=2366372011&s=books&sr=1-630',\n",
       " 'Franco_(TEMPUS_t_18)_(French_Edition)_Kindle_Edition': 'https://www.amazon.ca/Franco-TEMPUS-t-18-French-ebook/dp/B072C3NCWW/ref=sr_1_631?qid=1700113056&refinements=p_n_binding_browse-bin%3A6202019011&rnid=2366372011&s=books&sr=1-631',\n",
       " 'Blood_Dust_and_Snow_Diaries_of_a_Panzer_Commander_in_Germany_and_on_the_Eastern_Front_1938__1943_Kindle_Edition': 'https://www.amazon.ca/Blood-Dust-Snow-Commander-1938-1943-ebook/dp/B0BLCZM789/ref=sr_1_632?qid=1700113056&refinements=p_n_binding_browse-bin%3A6202019011&rnid=2366372011&s=books&sr=1-632',\n",
       " 'Will_Kindle_Edition': 'https://www.amazon.ca/Will-Mark-Manson-ebook/dp/B096LPZXCH/ref=sr_1_635?qid=1700113056&refinements=p_n_binding_browse-bin%3A6202019011&rnid=2366372011&s=books&sr=1-635',\n",
       " 'Memories_Dreams_Reflections_Kindle_Edition': 'https://www.amazon.ca/Memories-Dreams-Reflections-Carl-Gustav-ebook/dp/B004FYZK52/ref=sr_1_636?qid=1700113056&refinements=p_n_binding_browse-bin%3A6202019011&rnid=2366372011&s=books&sr=1-636',\n",
       " 'Guston_in_Time_Remembering_Philip_Guston_Kindle_Edition': 'https://www.amazon.ca/Guston-Time-Ross-Feld-ebook/dp/B098PXDWK4/ref=sr_1_637?qid=1700113056&refinements=p_n_binding_browse-bin%3A6202019011&rnid=2366372011&s=books&sr=1-637',\n",
       " 'The_Years_Kindle_Edition': 'https://www.amazon.ca/Years-Annie-Ernaux-ebook/dp/B07465HWS3/ref=sr_1_638?qid=1700113056&refinements=p_n_binding_browse-bin%3A6202019011&rnid=2366372011&s=books&sr=1-638',\n",
       " 'Glorious_Rock_Bottom_A_shocking_story_told_with_heart_and_hope_You_wont_be_able_to_put_it_down_Dolly_Alderton_Kindle_Edition': 'https://www.amazon.ca/Glorious-Rock-Bottom-shocking-Alderton-ebook/dp/B09199MTJM/ref=sr_1_639?qid=1700113056&refinements=p_n_binding_browse-bin%3A6202019011&rnid=2366372011&s=books&sr=1-639',\n",
       " 'Marcia_Williams_The_Life_and_Times_of_Baroness_Falkender_Kindle_Edition': 'https://www.amazon.ca/Marcia-Williams-Life-Lady-Falkender-ebook/dp/B0B57V1C85/ref=sr_1_640?qid=1700113056&refinements=p_n_binding_browse-bin%3A6202019011&rnid=2366372011&s=books&sr=1-640',\n",
       " 'Le_Sablier_Otage_au_Sahara_pendant_450_jours_(French_Edition)_Kindle_Edition': 'https://www.amazon.ca/Sablier-Otage-Sahara-pendant-French-ebook/dp/B08QN6ZB31/ref=sr_1_641?qid=1700113056&refinements=p_n_binding_browse-bin%3A6202019011&rnid=2366372011&s=books&sr=1-641',\n",
       " 'Skeletons_on_the_Zahara_A_True_Story_of_Survival_Kindle_Edition': 'https://www.amazon.ca/Skeletons-Zahara-True-Story-Survival-ebook/dp/B000FC1AO8/ref=sr_1_642?qid=1700113056&refinements=p_n_binding_browse-bin%3A6202019011&rnid=2366372011&s=books&sr=1-642',\n",
       " 'En_el_nombre_de_la_Reyna_Reinas_de_Hispania_(Narrador_de_la_Historia)_(Spanish_Edition)_Kindle_Edition': 'https://www.amazon.ca/En-nombre-Reyna-Hispania-Narrador-ebook/dp/B0CM2K8KR5/ref=sr_1_641?qid=1700113064&refinements=p_n_binding_browse-bin%3A6202019011&rnid=2366372011&s=books&sr=1-641',\n",
       " 'Everything_Nothing_Someone_A_Memoir_Kindle_Edition': 'https://www.amazon.ca/Everything-Nothing-Someone-Alice-Carri%C3%A8re-ebook/dp/B0B71FMWGM/ref=sr_1_642?qid=1700113064&refinements=p_n_binding_browse-bin%3A6202019011&rnid=2366372011&s=books&sr=1-642',\n",
       " 'Once_a_King_The_Lost_Memoir_of_Edward_VIII_Kindle_Edition': 'https://www.amazon.ca/Once-King-Lost-Memoir-Edward-ebook/dp/B0CH7Y6W4T/ref=sr_1_643?qid=1700113064&refinements=p_n_binding_browse-bin%3A6202019011&rnid=2366372011&s=books&sr=1-643',\n",
       " 'To_Raise_the_Fallen_A_Selection_of_the_War_Letters_Prayers_and_Spiritual_Writings_of_Fr_Willie_Doyle_Kindle_Edition': 'https://www.amazon.ca/Raise-Fallen-Selection-Spiritual-Writings-ebook/dp/B07K8VRJKR/ref=sr_1_644?qid=1700113064&refinements=p_n_binding_browse-bin%3A6202019011&rnid=2366372011&s=books&sr=1-644',\n",
       " 'We_Never_Die_Secrets_of_the_Afterlife_Kindle_Edition': 'https://www.amazon.ca/We-Never-Die-Secrets-Afterlife-ebook/dp/B09JPJ7H8H/ref=sr_1_645?qid=1700113064&refinements=p_n_binding_browse-bin%3A6202019011&rnid=2366372011&s=books&sr=1-645',\n",
       " 'Traitor_King_The_Scandalous_Exile_of_the_Duke_&_Duchess_of_Windsor_Kindle_Edition': 'https://www.amazon.ca/Traitor-King-Scandalous-Duchess-Windsor-ebook/dp/B09JPFGK2Q/ref=sr_1_646?qid=1700113064&refinements=p_n_binding_browse-bin%3A6202019011&rnid=2366372011&s=books&sr=1-646',\n",
       " 'The_End_of_the_Peace_Process_Oslo_and_After_Kindle_Edition': 'https://www.amazon.ca/End-Peace-Process-Oslo-After-ebook/dp/B000XU4TCW/ref=sr_1_647?qid=1700113064&refinements=p_n_binding_browse-bin%3A6202019011&rnid=2366372011&s=books&sr=1-647',\n",
       " 'Bush_Runner_The_Adventures_of_Pierre__Esprit_Radisson_(Untold_Lives_Series)_Kindle_Edition': 'https://www.amazon.ca/Bush-Runner-Adventures-Pierre-Esprit-Radisson-ebook/dp/B07D5JSWVR/ref=sr_1_648?qid=1700113064&refinements=p_n_binding_browse-bin%3A6202019011&rnid=2366372011&s=books&sr=1-648',\n",
       " 'Awe_The_New_Science_of_Everyday_Wonder_and_How_It_Can_Transform_Your_Life_Kindle_Edition': 'https://www.amazon.ca/Awe-Science-Everyday-Wonder-Transform-ebook/dp/B09X52Q7SS/ref=sr_1_651?qid=1700113064&refinements=p_n_binding_browse-bin%3A6202019011&rnid=2366372011&s=books&sr=1-651',\n",
       " 'Milos_Eyes_How_a_Blind_Equestrian_and_Her_\"Seeing_Eye_Horse\"_Saved_Each_Other_Kindle_Edition': 'https://www.amazon.ca/Milos-Eyes-Blind-Equestrian-Seeing-ebook/dp/B0B2TB88WQ/ref=sr_1_652?qid=1700113064&refinements=p_n_binding_browse-bin%3A6202019011&rnid=2366372011&s=books&sr=1-652',\n",
       " 'Fear_and_Loathing_in_Las_Vegas_A_Savage_Journey_to_the_Heart_of_the_American_Dream_Kindle_Edition': 'https://www.amazon.ca/Fear-Loathing-Las-Vegas-American-ebook/dp/B003WUYQG4/ref=sr_1_653?qid=1700113064&refinements=p_n_binding_browse-bin%3A6202019011&rnid=2366372011&s=books&sr=1-653',\n",
       " 'The_Beast_A_Chilling_True_Story_of_a_Psychopathic_Child_Killer_(True_Crime)_Kindle_Edition': 'https://www.amazon.ca/Beast-Chilling-Story-Psychopathic-Killer-ebook/dp/B09N45G2TC/ref=sr_1_654?qid=1700113064&refinements=p_n_binding_browse-bin%3A6202019011&rnid=2366372011&s=books&sr=1-654',\n",
       " 'Leslie_F*cking_Jones_Kindle_Edition': 'https://www.amazon.ca/Leslie-F-cking-Jones-ebook/dp/B0BY9J7P7J/ref=sr_1_655?qid=1700113064&refinements=p_n_binding_browse-bin%3A6202019011&rnid=2366372011&s=books&sr=1-655',\n",
       " 'Furiously_Happy_A_Funny_Book_About_Horrible_Things_Kindle_Edition': 'https://www.amazon.ca/Furiously-Happy-Funny-Horrible-Things-ebook/dp/B00V37BC4C/ref=sr_1_656?qid=1700113064&refinements=p_n_binding_browse-bin%3A6202019011&rnid=2366372011&s=books&sr=1-656',\n",
       " 'Tower_of_Lies_What_My_Eighteen_Years_of_Working_With_Donald_Trump_Reveals_About_Him_Kindle_Edition': 'https://www.amazon.ca/Tower-Lies-Eighteen-Working-Reveals-ebook/dp/B08L62QB55/ref=sr_1_657?qid=1700113064&refinements=p_n_binding_browse-bin%3A6202019011&rnid=2366372011&s=books&sr=1-657',\n",
       " 'Next_Level_Basic_The_Definitive_Basic_Bitch_Handbook_Kindle_Edition': 'https://www.amazon.ca/Next-Level-Basic-Definitive-Handbook-ebook/dp/B07KWDXB66/ref=sr_1_658?qid=1700113064&refinements=p_n_binding_browse-bin%3A6202019011&rnid=2366372011&s=books&sr=1-658',\n",
       " 'Differ_We_Must_How_Lincoln_Succeeded_in_a_Divided_America_Kindle_Edition': 'https://www.amazon.ca/Differ-We-Must-Lincoln-Succeeded-ebook/dp/B0BRM45XXB/ref=sr_1_657?qid=1700113071&refinements=p_n_binding_browse-bin%3A6202019011&rnid=2366372011&s=books&sr=1-657',\n",
       " 'The_Indifferent_Stars_Above_The_Harrowing_Saga_of_the_Donner_Party_Kindle_Edition': 'https://www.amazon.ca/Indifferent-Stars-Above-Harrowing-Donner-ebook/dp/B0026SCNDQ/ref=sr_1_658?qid=1700113071&refinements=p_n_binding_browse-bin%3A6202019011&rnid=2366372011&s=books&sr=1-658',\n",
       " 'Maid_Hard_Work_Low_Pay_and_a_Mothers_Will_to_Survive_Kindle_Edition': 'https://www.amazon.ca/Maid-Hard-Work-Mothers-Survive-ebook/dp/B07CWPRXFG/ref=sr_1_659?qid=1700113071&refinements=p_n_binding_browse-bin%3A6202019011&rnid=2366372011&s=books&sr=1-659',\n",
       " 'Boyd_The_Fighter_Pilot_Who_Changed_the_Art_of_War_Kindle_Edition': 'https://www.amazon.ca/Boyd-Fighter-Pilot-Who-Changed-ebook/dp/B000FA5UEG/ref=sr_1_660?qid=1700113071&refinements=p_n_binding_browse-bin%3A6202019011&rnid=2366372011&s=books&sr=1-660',\n",
       " 'My_Friend_Anne_Frank_The_Inspiring_and_Heartbreaking_True_Story_of_Best_Friends_Torn_Apart_and_Reunited_Against_All_Odds_Kindle_Edition': 'https://www.amazon.ca/Friend-Anne-Frank-Inspiring-Heartbreaking-ebook/dp/B0BH4JFYTQ/ref=sr_1_661?qid=1700113071&refinements=p_n_binding_browse-bin%3A6202019011&rnid=2366372011&s=books&sr=1-661',\n",
       " 'A_Bold_Return_to_Giving_a_Damn_One_Farm_Six_Generations_and_the_Future_of_Food_Kindle_Edition': 'https://www.amazon.ca/Bold-Return-Giving-Damn-Generations-ebook/dp/B0BS2TYFTW/ref=sr_1_662?qid=1700113071&refinements=p_n_binding_browse-bin%3A6202019011&rnid=2366372011&s=books&sr=1-662',\n",
       " 'Sis_Dont_Settle_How_to_Stay_Smart_in_Matters_of_the_Heart_Kindle_Edition': 'https://www.amazon.ca/Sis-Dont-Settle-Smart-Matters-ebook/dp/B08YYGL3HJ/ref=sr_1_663?qid=1700113071&refinements=p_n_binding_browse-bin%3A6202019011&rnid=2366372011&s=books&sr=1-663',\n",
       " 'Steve_Jobs_A_Life_from_Beginning_to_End_(Biographies_of_Business_Leaders)_Kindle_Edition': 'https://www.amazon.ca/Steve-Jobs-Beginning-Biographies-Business-ebook/dp/B0BVMXWVGQ/ref=sr_1_664?qid=1700113071&refinements=p_n_binding_browse-bin%3A6202019011&rnid=2366372011&s=books&sr=1-664',\n",
       " 'That_Bird_Has_My_Wings_An_Oprahs_Book_Club_Pick_Kindle_Edition': 'https://www.amazon.ca/That-Bird-Has-Wings-Autobiography-ebook/dp/B002OMZTYO/ref=sr_1_667?qid=1700113071&refinements=p_n_binding_browse-bin%3A6202019011&rnid=2366372011&s=books&sr=1-667',\n",
       " 'I_Saw_Ramallah_Kindle_Edition': 'https://www.amazon.ca/I-Saw-Ramallah-Mourid-Barghouti-ebook/dp/B001NJUO9O/ref=sr_1_668?qid=1700113071&refinements=p_n_binding_browse-bin%3A6202019011&rnid=2366372011&s=books&sr=1-668',\n",
       " 'Rez_Rules_My_Indictment_of_Canadas_and_Americas_Systemic_Racism_Against_Indigenous_Peoples_Kindle_Edition': 'https://www.amazon.ca/Rez-Rules-Indictment-Americas-Indigenous-ebook/dp/B097SJNMQG/ref=sr_1_669?qid=1700113071&refinements=p_n_binding_browse-bin%3A6202019011&rnid=2366372011&s=books&sr=1-669',\n",
       " 'Me_Elton_John_Official_Autobiography_Kindle_Edition': 'https://www.amazon.ca/Me-Elton-John-Official-Autobiography-ebook/dp/B07PK1ZF4K/ref=sr_1_670?qid=1700113071&refinements=p_n_binding_browse-bin%3A6202019011&rnid=2366372011&s=books&sr=1-670',\n",
       " 'The_Undoing_Project_A_Friendship_That_Changed_Our_Minds_Kindle_Edition': 'https://www.amazon.ca/Undoing-Project-Friendship-Changed-Minds-ebook/dp/B01GI6S7EK/ref=sr_1_671?qid=1700113071&refinements=p_n_binding_browse-bin%3A6202019011&rnid=2366372011&s=books&sr=1-671',\n",
       " 'Endure_How_to_Work_Hard_Outlast_and_Keep_Hammering_Kindle_Edition': 'https://www.amazon.ca/Endure-Work-Hard-Outlast-Hammering-ebook/dp/B09BLWGW9D/ref=sr_1_672?qid=1700113071&refinements=p_n_binding_browse-bin%3A6202019011&rnid=2366372011&s=books&sr=1-672',\n",
       " 'Casino_Love_and_Honor_in_Las_Vegas_Kindle_Edition': 'https://www.amazon.ca/Casino-Love-Honor-Las-Vegas-ebook/dp/B01LXOUHHY/ref=sr_1_673?qid=1700113071&refinements=p_n_binding_browse-bin%3A6202019011&rnid=2366372011&s=books&sr=1-673',\n",
       " 'A_Lucky_Child_A_Memoir_of_Surviving_Auschwitz_as_a_Young_Boy_Kindle_Edition': 'https://www.amazon.ca/Lucky-Child-Memoir-Surviving-Auschwitz-ebook/dp/B0025VO4K4/ref=sr_1_674?qid=1700113071&refinements=p_n_binding_browse-bin%3A6202019011&rnid=2366372011&s=books&sr=1-674',\n",
       " 'The_Year_of_Magical_Thinking_National_Book_Award_Winner_(Vintage_International)_Kindle_Edition': 'https://www.amazon.ca/Year-Magical-Thinking-Vintage-International-ebook/dp/B000OI0FS0/ref=sr_1_673?qid=1700113080&refinements=p_n_binding_browse-bin%3A6202019011&rnid=2366372011&s=books&sr=1-673',\n",
       " 'Feeding_My_Mother_Comfort_and_Laughter_in_the_Kitchen_as_My_Mom_Lives_with_Memory_Loss_Kindle_Edition': 'https://www.amazon.ca/Feeding-My-Mother-Comfort-Laughter-ebook/dp/B06XR19BW4/ref=sr_1_674?qid=1700113080&refinements=p_n_binding_browse-bin%3A6202019011&rnid=2366372011&s=books&sr=1-674',\n",
       " 'Warren_Buffett_Book_of_Investing_Wisdom_350_Quotes_from_the_Worlds_Most_Successful_Investor_Kindle_Edition': 'https://www.amazon.ca/Warren-Buffett-Book-Investing-Wisdom-ebook/dp/B08TB3VX2J/ref=sr_1_675?qid=1700113080&refinements=p_n_binding_browse-bin%3A6202019011&rnid=2366372011&s=books&sr=1-675',\n",
       " 'The_Stranger_in_the_Woods_The_Extraordinary_Story_of_the_Last_True_Hermit_Kindle_Edition': 'https://www.amazon.ca/Stranger-Woods-Extraordinary-Story-Hermit-ebook/dp/B01GYPY884/ref=sr_1_676?qid=1700113080&refinements=p_n_binding_browse-bin%3A6202019011&rnid=2366372011&s=books&sr=1-676',\n",
       " 'Lincoln_and_McClellan_The_Troubled_Partnership_between_a_President_and_His_General_Kindle_Edition': 'https://www.amazon.ca/Lincoln-McClellan-Troubled-Partnership-President-ebook/dp/B003QP3NGE/ref=sr_1_677?qid=1700113080&refinements=p_n_binding_browse-bin%3A6202019011&rnid=2366372011&s=books&sr=1-677',\n",
       " 'LAmant_(Minuit)_(French_Edition)_Kindle_Edition': 'https://www.amazon.ca/LAmant-Minuit-French-Marguerite-Duras-ebook/dp/B01A724OUC/ref=sr_1_678?qid=1700113080&refinements=p_n_binding_browse-bin%3A6202019011&rnid=2366372011&s=books&sr=1-678',\n",
       " 'Open_Heart_A_Cardiac_Surgeons_Stories_of_Life_and_Death_on_the_Operating_Table_Kindle_Edition': 'https://www.amazon.ca/Open-Heart-Cardiac-Surgeons-Operating-ebook/dp/B01K3WN59M/ref=sr_1_679?qid=1700113080&refinements=p_n_binding_browse-bin%3A6202019011&rnid=2366372011&s=books&sr=1-679',\n",
       " 'All_Creatures_Great_and_Small_The_Classic_Memoirs_of_a_Yorkshire_Country_Vet_Kindle_Edition': 'https://www.amazon.ca/All-Creatures-Great-Small-Yorkshire-ebook/dp/B00844PIRO/ref=sr_1_680?qid=1700113080&refinements=p_n_binding_browse-bin%3A6202019011&rnid=2366372011&s=books&sr=1-680',\n",
       " 'Upstairs_&_Downstairs_My_Life_In_Service_as_a_Lady’s_Maid_Kindle_Edition': 'https://www.amazon.ca/Diamonds-Dinner-Ladys-1930s-Stately-ebook/dp/B00ER83USA/ref=sr_1_683?qid=1700113080&refinements=p_n_binding_browse-bin%3A6202019011&rnid=2366372011&s=books&sr=1-683',\n",
       " 'The_Pyramid_Code_Unlocking_the_Mysticism_and_History_of_the_Pyramids_Kindle_Edition': 'https://www.amazon.ca/Pyramid-Code-Unlocking-Mysticism-Pyramids-ebook/dp/B0CHBJXS3Q/ref=sr_1_684?qid=1700113080&refinements=p_n_binding_browse-bin%3A6202019011&rnid=2366372011&s=books&sr=1-684',\n",
       " 'Twelve_Patients_Life_and_Death_at_Bellevue_Hospital_(The_Inspiration_for_the_NBC_Kindle_Edition': 'https://www.amazon.ca/Twelve-Patients-Bellevue-Hospital-Inspiration-ebook/dp/B005S8O9CO/ref=sr_1_685?qid=1700113080&refinements=p_n_binding_browse-bin%3A6202019011&rnid=2366372011&s=books&sr=1-685',\n",
       " 'Ill_Be_Gone_in_the_Dark_One_Womans_Obsessive_Search_for_the_Golden_State_Killer_Kindle_Edition': 'https://www.amazon.ca/Ill-Be-Gone-Dark-Obsessive-ebook/dp/B07HF88TL7/ref=sr_1_686?qid=1700113080&refinements=p_n_binding_browse-bin%3A6202019011&rnid=2366372011&s=books&sr=1-686',\n",
       " 'ROCKING_THE_FAIRWAYS_Kindle_Edition': 'https://www.amazon.ca/ROCKING-FAIRWAYS-RICHARD-FISH-ebook/dp/B01K953354/ref=sr_1_687?qid=1700113080&refinements=p_n_binding_browse-bin%3A6202019011&rnid=2366372011&s=books&sr=1-687',\n",
       " 'Breathe_A_Life_in_Flow_Kindle_Edition': 'https://www.amazon.ca/Breathe-Life-Flow-Rickson-Gracie-ebook/dp/B08N1C4PBY/ref=sr_1_688?qid=1700113080&refinements=p_n_binding_browse-bin%3A6202019011&rnid=2366372011&s=books&sr=1-688',\n",
       " 'Rogers_v_Rogers_The_Battle_for_Control_of_Canadas_Telecom_Empire_Kindle_Edition': 'https://www.amazon.ca/Rogers-v-Control-Canadas-Telecom-ebook/dp/B0CM5QKZ21/ref=sr_1_689?qid=1700113080&refinements=p_n_binding_browse-bin%3A6202019011&rnid=2366372011&s=books&sr=1-689',\n",
       " 'Raúl_Alfonsín_El_planisferio_invertido_(Spanish_Edition)_Kindle_Edition': 'https://www.amazon.ca/Ra%C3%BAl-Alfons%C3%ADn-planisferio-invertido-Spanish-ebook/dp/B0BKLPTTKX/ref=sr_1_690?qid=1700113080&refinements=p_n_binding_browse-bin%3A6202019011&rnid=2366372011&s=books&sr=1-690',\n",
       " 'Breaking_History_A_White_House_Memoir_Kindle_Edition': 'https://www.amazon.ca/Breaking-History-White-House-Memoir-ebook/dp/B09PBTMH89/ref=sr_1_689?qid=1700113087&refinements=p_n_binding_browse-bin%3A6202019011&rnid=2366372011&s=books&sr=1-689',\n",
       " 'Her_Space_Her_Time_How_Trailblazing_Women_Scientists_Decoded_the_Hidden_Universe_Kindle_Edition': 'https://www.amazon.ca/Her-Space-Time-Trailblazing-Scientists-ebook/dp/B0BZ3J8PZT/ref=sr_1_690?qid=1700113087&refinements=p_n_binding_browse-bin%3A6202019011&rnid=2366372011&s=books&sr=1-690',\n",
       " 'Two_Roads_Home_Hitler_Stalin_and_the_Miraculous_Survival_of_My_Family_Kindle_Edition': 'https://www.amazon.ca/Two-Roads-Home-Miraculous-Survival-ebook/dp/B0BQLTMGLS/ref=sr_1_691?qid=1700113087&refinements=p_n_binding_browse-bin%3A6202019011&rnid=2366372011&s=books&sr=1-691',\n",
       " 'Ukraine_Diary_Kindle_Edition': 'https://www.amazon.ca/Ukraine-Diary-Henri-J-Nouwen-ebook/dp/B0BTQRZ43T/ref=sr_1_692?qid=1700113087&refinements=p_n_binding_browse-bin%3A6202019011&rnid=2366372011&s=books&sr=1-692',\n",
       " 'The_Score_Takes_Care_of_Itself_My_Philosophy_of_Leadership_Kindle_Edition': 'https://www.amazon.ca/Score-Takes-Care-Itself-Philosophy-ebook/dp/B002G54Y04/ref=sr_1_693?qid=1700113087&refinements=p_n_binding_browse-bin%3A6202019011&rnid=2366372011&s=books&sr=1-693',\n",
       " 'Pain_Hustlers_Crime_and_Punishment_at_an_Opioid_Startup_Originally_published_as_The_Hard_Sell_Kindle_Edition': 'https://www.amazon.ca/Pain-Hustlers-Punishment-Originally-published-ebook/dp/B0C6G9BJWC/ref=sr_1_694?qid=1700113087&refinements=p_n_binding_browse-bin%3A6202019011&rnid=2366372011&s=books&sr=1-694',\n",
       " 'Leading_with_the_Heart_Coach_Ks_Successful_Strategies_for_Basketball_Business_and_Life_Kindle_Edition': 'https://www.amazon.ca/Leading-Heart-Successful-Strategies-Basketball-ebook/dp/B0038OBIMO/ref=sr_1_695?qid=1700113087&refinements=p_n_binding_browse-bin%3A6202019011&rnid=2366372011&s=books&sr=1-695',\n",
       " 'Sorry_Im_Late_I_Didnt_Want_to_Come_One_Introverts_Year_of_Saying_Yes_Kindle_Edition': 'https://www.amazon.ca/Sorry-Late-Didnt-Want-Come-ebook/dp/B07QBYMM8V/ref=sr_1_696?qid=1700113087&refinements=p_n_binding_browse-bin%3A6202019011&rnid=2366372011&s=books&sr=1-696',\n",
       " 'Jimmy_Buffett_A_Good_Life_All_the_Way_Kindle_Edition': 'https://www.amazon.ca/Jimmy-Buffett-Good-Life-All-ebook/dp/B01HMXRYVA/ref=sr_1_699?qid=1700113087&refinements=p_n_binding_browse-bin%3A6202019011&rnid=2366372011&s=books&sr=1-699',\n",
       " 'White_Mouse_Kindle_Edition': 'https://www.amazon.ca/White-Mouse-Nancy-Wake-ebook/dp/B00B3OBVWS/ref=sr_1_700?qid=1700113087&refinements=p_n_binding_browse-bin%3A6202019011&rnid=2366372011&s=books&sr=1-700',\n",
       " '\"Indian\"_in_the_Cabinet_Speaking_Truth_to_Power_Kindle_Edition': 'https://www.amazon.ca/Indian-Cabinet-Speaking-Truth-Power-ebook/dp/B08Y922W3R/ref=sr_1_701?qid=1700113087&refinements=p_n_binding_browse-bin%3A6202019011&rnid=2366372011&s=books&sr=1-701',\n",
       " 'Sparkles_Story_Thrown_Away_Children_Kindle_Edition': 'https://www.amazon.ca/Sparkles-Story-Thrown-Away-Children-ebook/dp/B0CKTTW3NH/ref=sr_1_702?qid=1700113087&refinements=p_n_binding_browse-bin%3A6202019011&rnid=2366372011&s=books&sr=1-702',\n",
       " 'The_Art_of_Learning_An_Inner_Journey_to_Optimal_Performance_Kindle_Edition': 'https://www.amazon.ca/Art-Learning-Journey-Optimal-Performance-ebook/dp/B000QCQ970/ref=sr_1_703?qid=1700113087&refinements=p_n_binding_browse-bin%3A6202019011&rnid=2366372011&s=books&sr=1-703',\n",
       " 'Baba_Vanga_The_Controversial_Life_and_Legacy_of_the_Influential_Bulgarian_Mystic_Kindle_Edition': 'https://www.amazon.ca/Baba-Vanga-Controversial-Influential-Bulgarian-ebook/dp/B08VF7YGDQ/ref=sr_1_704?qid=1700113087&refinements=p_n_binding_browse-bin%3A6202019011&rnid=2366372011&s=books&sr=1-704',\n",
       " 'The_Rural_Diaries_Love_Livestock_and_Big_Life_Lessons_Down_on_Mischief_Farm_Kindle_Edition': 'https://www.amazon.ca/Rural-Diaries-Hilarie-Burton-ebook/dp/B07F14THZT/ref=sr_1_705?qid=1700113087&refinements=p_n_binding_browse-bin%3A6202019011&rnid=2366372011&s=books&sr=1-705',\n",
       " 'The_Interesting_Narrative_and_Other_Writings_Revised_Edition_(Penguin_Classics)_Revised_Edition_Kindle_Edition': 'https://www.amazon.ca/Interesting-Narrative-Other-Writings-Classics-ebook/dp/B002EBDOQK/ref=sr_1_706?qid=1700113087&refinements=p_n_binding_browse-bin%3A6202019011&rnid=2366372011&s=books&sr=1-706',\n",
       " 'Beyond_the_Wand_The_Magic_and_Mayhem_of_Growing_Up_a_Wizard_Kindle_Edition': 'https://www.amazon.ca/Beyond-Wand-Mayhem-Growing-Wizard-ebook/dp/B09ZXMG884/ref=sr_1_705?qid=1700113095&refinements=p_n_binding_browse-bin%3A6202019011&rnid=2366372011&s=books&sr=1-705',\n",
       " 'Hunting_LeRoux_The_Inside_Story_of_the_DEA_Takedown_of_a_Criminal_Genius_and_His_Empire_Kindle_Edition': 'https://www.amazon.ca/Hunting-LeRoux-Inside-Takedown-Criminal-ebook/dp/B079WVBLML/ref=sr_1_706?qid=1700113095&refinements=p_n_binding_browse-bin%3A6202019011&rnid=2366372011&s=books&sr=1-706',\n",
       " 'Master_Slave_Husband_Wife_An_Epic_Journey_from_Slavery_to_Freedom_Kindle_Edition': 'https://www.amazon.ca/Master-Slave-Husband-Wife-Journey-ebook/dp/B0B3Y6S4TZ/ref=sr_1_707?qid=1700113095&refinements=p_n_binding_browse-bin%3A6202019011&rnid=2366372011&s=books&sr=1-707',\n",
       " 'Coeur_policier_COEUR_POLICIER_[NUM]_(French_Edition)_Kindle_Edition': 'https://www.amazon.ca/Coeur-policier-French-Marie-Andr%C3%A9e-Fallu-ebook/dp/B08FTF1SC5/ref=sr_1_708?qid=1700113095&refinements=p_n_binding_browse-bin%3A6202019011&rnid=2366372011&s=books&sr=1-708',\n",
       " 'Jennies_Boy_A_Newfoundland_Childhood_Kindle_Edition': 'https://www.amazon.ca/Jennies-Boy-Newfoundland-Wayne-Johnston-ebook/dp/B09NXMV75L/ref=sr_1_709?qid=1700113095&refinements=p_n_binding_browse-bin%3A6202019011&rnid=2366372011&s=books&sr=1-709',\n",
       " 'Behind_the_Seams_My_Life_in_Rhinestones_Kindle_Edition': 'https://www.amazon.ca/Behind-Seams-My-Life-Rhinestones-ebook/dp/B0BVDVCM8V/ref=sr_1_710?qid=1700113095&refinements=p_n_binding_browse-bin%3A6202019011&rnid=2366372011&s=books&sr=1-710',\n",
       " 'Paul_A_Biography_Kindle_Edition': 'https://www.amazon.ca/Paul-Biography-N-T-Wright-ebook/dp/B072L5DTCH/ref=sr_1_711?qid=1700113095&refinements=p_n_binding_browse-bin%3A6202019011&rnid=2366372011&s=books&sr=1-711',\n",
       " 'Building_a_Life_Worth_Living_A_Memoir_Kindle_Edition': 'https://www.amazon.ca/Building-Life-Worth-Living-Memoir-ebook/dp/B07QFN6GFJ/ref=sr_1_712?qid=1700113095&refinements=p_n_binding_browse-bin%3A6202019011&rnid=2366372011&s=books&sr=1-712',\n",
       " 'The_Wolfpack_The_Millennial_Mobsters_Who_Brought_Chaos_and_the_Cartels_to_the_Canadian_Underworld_Kindle_Edition': 'https://www.amazon.ca/Wolfpack-Millennial-Mobsters-Canadian-Underworld-ebook/dp/B0827377T8/ref=sr_1_715?qid=1700113095&refinements=p_n_binding_browse-bin%3A6202019011&rnid=2366372011&s=books&sr=1-715',\n",
       " 'If_I_Live_Until_Morning_A_True_Story_of_Adventure_Tragedy_and_Transformation_Kindle_Edition': 'https://www.amazon.ca/Live-Until-Morning-Adventure-Transformation-ebook/dp/B07QCJDWF6/ref=sr_1_716?qid=1700113095&refinements=p_n_binding_browse-bin%3A6202019011&rnid=2366372011&s=books&sr=1-716',\n",
       " 'Hidden_Valley_Road_Inside_the_Mind_of_an_American_Family_Kindle_Edition': 'https://www.amazon.ca/Hidden-Valley-Road-Inside-American-ebook/dp/B07V79W1VC/ref=sr_1_717?qid=1700113095&refinements=p_n_binding_browse-bin%3A6202019011&rnid=2366372011&s=books&sr=1-717',\n",
       " 'Hells_Half__Acre_The_Untold_Story_of_the_Benders_a_Serial_Killer_Family_on_the_American_Frontier_Kindle_Edition': 'https://www.amazon.ca/Hells-Half-Acre-Benders-American-Frontier-ebook/dp/B098JKL3DB/ref=sr_1_718?qid=1700113095&refinements=p_n_binding_browse-bin%3A6202019011&rnid=2366372011&s=books&sr=1-718',\n",
       " 'Acid_for_the_Children_A_Memoir_Kindle_Edition': 'https://www.amazon.ca/Acid-Children-Memoir-Flea-ebook/dp/B01BKSLGY4/ref=sr_1_719?qid=1700113095&refinements=p_n_binding_browse-bin%3A6202019011&rnid=2366372011&s=books&sr=1-719',\n",
       " 'Famous_Father_Girl_A_Memoir_of_Growing_Up_Bernstein_Kindle_Edition': 'https://www.amazon.ca/Famous-Father-Girl-Growing-Bernstein-ebook/dp/B071K5W9PP/ref=sr_1_720?qid=1700113095&refinements=p_n_binding_browse-bin%3A6202019011&rnid=2366372011&s=books&sr=1-720',\n",
       " 'Doom_Guy_Life_in_First_Person_Kindle_Edition': 'https://www.amazon.ca/Doom-Guy-Life-First-Person-ebook/dp/B09S3R44WM/ref=sr_1_721?qid=1700113095&refinements=p_n_binding_browse-bin%3A6202019011&rnid=2366372011&s=books&sr=1-721',\n",
       " 'One_Hundred_Saturdays_Stella_Levi_and_the_Search_for_a_Lost_World_Kindle_Edition': 'https://www.amazon.ca/One-Hundred-Saturdays-Stella-Search-ebook/dp/B09RX3S3MD/ref=sr_1_722?qid=1700113095&refinements=p_n_binding_browse-bin%3A6202019011&rnid=2366372011&s=books&sr=1-722',\n",
       " 'The_Man_Who_Solved_the_Market_How_Jim_Simons_Launched_the_Quant_Revolution_Kindle_Edition': 'https://www.amazon.ca/Man-Who-Solved-Market-Revolution-ebook/dp/B07P1NNTSD/ref=sr_1_721?qid=1700113103&refinements=p_n_binding_browse-bin%3A6202019011&rnid=2366372011&s=books&sr=1-721',\n",
       " 'The_Red_Book_A_Readers_Edition_(Philemon)_Kindle_Edition': 'https://www.amazon.ca/Red-Book-Readers-Philemon-ebook/dp/B00FEIHM2M/ref=sr_1_722?qid=1700113103&refinements=p_n_binding_browse-bin%3A6202019011&rnid=2366372011&s=books&sr=1-722',\n",
       " 'The_Ride_of_a_Lifetime_Lessons_Learned_from_15_Years_as_CEO_of_the_Walt_Disney_Company_Kindle_Edition': 'https://www.amazon.ca/Ride-Lifetime-Lessons-Learned-Company-ebook/dp/B07PF6XTD8/ref=sr_1_723?qid=1700113103&refinements=p_n_binding_browse-bin%3A6202019011&rnid=2366372011&s=books&sr=1-723',\n",
       " 'Hopscotch_A_Novel_(Pantheon_Modern_Writers_Series)_Kindle_Edition': 'https://www.amazon.ca/Hopscotch-Novel-Pantheon-Modern-Writers-ebook/dp/B00LRIXLC8/ref=sr_1_724?qid=1700113103&refinements=p_n_binding_browse-bin%3A6202019011&rnid=2366372011&s=books&sr=1-724',\n",
       " 'The_Underworld_Journeys_to_the_Depths_of_the_Ocean_Kindle_Edition': 'https://www.amazon.ca/Underworld-Journeys-Depths-Ocean-ebook/dp/B0BL738ZLL/ref=sr_1_725?qid=1700113103&refinements=p_n_binding_browse-bin%3A6202019011&rnid=2366372011&s=books&sr=1-725',\n",
       " 'If_I_Knew_Then_Finding_wisdom_in_failure_and_power_in_aging_Kindle_Edition': 'https://www.amazon.ca/If-Knew-Then-Finding-failure-ebook/dp/B084M5N4R4/ref=sr_1_726?qid=1700113103&refinements=p_n_binding_browse-bin%3A6202019011&rnid=2366372011&s=books&sr=1-726',\n",
       " 'Quietly_Hostile_Essays_Kindle_Edition': 'https://www.amazon.ca/Quietly-Hostile-Essays-Samantha-Irby-ebook/dp/B0B9W93C22/ref=sr_1_727?qid=1700113103&refinements=p_n_binding_browse-bin%3A6202019011&rnid=2366372011&s=books&sr=1-727',\n",
       " 'How_Not_to_Be_a_Politician_A_Memoir_Kindle_Edition': 'https://www.amazon.ca/How-Not-Be-Politician-Memoir-ebook/dp/B0BV99YP1G/ref=sr_1_728?qid=1700113103&refinements=p_n_binding_browse-bin%3A6202019011&rnid=2366372011&s=books&sr=1-728',\n",
       " 'Whats_Left_Unsaid_My_Life_at_the_Center_of_Power_Politics_&_Crisis_Kindle_Edition': 'https://www.amazon.ca/Whats-Left-Unsaid-Center-Politics-ebook/dp/B0C2X3M7F5/ref=sr_1_731?qid=1700113103&refinements=p_n_binding_browse-bin%3A6202019011&rnid=2366372011&s=books&sr=1-731',\n",
       " 'Tucker_Kindle_Edition': 'https://www.amazon.ca/Tucker-Chadwick-Moore-ebook/dp/B0CC6HZ25D/ref=sr_1_732?qid=1700113103&refinements=p_n_binding_browse-bin%3A6202019011&rnid=2366372011&s=books&sr=1-732',\n",
       " 'Landlines_The_No_1_Sunday_Times_bestseller_about_a_thousand__mile_journey_across_Britain_from_the_author_of_The_Salt_Path_Kindle_Edition': 'https://www.amazon.ca/Landlines-remarkable-thousand-mile-million-copy-bestselling-ebook/dp/B09V553P69/ref=sr_1_733?qid=1700113103&refinements=p_n_binding_browse-bin%3A6202019011&rnid=2366372011&s=books&sr=1-733',\n",
       " 'Read_This_or_Die!_Persuading_Yourself_to_a_Better_Life_Kindle_Edition': 'https://www.amazon.ca/Read-This-Die-Persuading-Yourself-ebook/dp/B0B8DCHPVK/ref=sr_1_734?qid=1700113103&refinements=p_n_binding_browse-bin%3A6202019011&rnid=2366372011&s=books&sr=1-734',\n",
       " 'Deliver_Me_from_Nowhere_The_Making_of_Bruce_Springsteens_Nebraska_Kindle_Edition': 'https://www.amazon.ca/Deliver-Me-Nowhere-Springsteens-Nebraska-ebook/dp/B0B8HB6L5X/ref=sr_1_735?qid=1700113103&refinements=p_n_binding_browse-bin%3A6202019011&rnid=2366372011&s=books&sr=1-735',\n",
       " 'The_Wild_Silence_The_Sunday_Times_Bestseller_from_the_Million__Copy_Bestselling_Author_of_The_Salt_Path_Kindle_Edition': 'https://www.amazon.ca/Wild-Silence-Raynor-Winn-ebook/dp/B07YN6LB6P/ref=sr_1_736?qid=1700113103&refinements=p_n_binding_browse-bin%3A6202019011&rnid=2366372011&s=books&sr=1-736',\n",
       " 'World_Order_Kindle_Edition': 'https://www.amazon.ca/World-Order-Henry-Kissinger-ebook/dp/B00INIXVMK/ref=sr_1_737?qid=1700113103&refinements=p_n_binding_browse-bin%3A6202019011&rnid=2366372011&s=books&sr=1-737',\n",
       " 'Things_I_Learned_from_Falling_A_Memoir_Kindle_Edition': 'https://www.amazon.ca/Things-I-Learned-Falling-Memoir-ebook/dp/B08HM15YXD/ref=sr_1_738?qid=1700113103&refinements=p_n_binding_browse-bin%3A6202019011&rnid=2366372011&s=books&sr=1-738',\n",
       " 'The_Butchering_Art_Joseph_Listers_Quest_to_Transform_the_Grisly_World_of_Victorian_Medicine_Kindle_Edition': 'https://www.amazon.ca/Butchering-Art-Transform-Victorian-Medicine-ebook/dp/B06WP6RDRP/ref=sr_1_737?qid=1700113110&refinements=p_n_binding_browse-bin%3A6202019011&rnid=2366372011&s=books&sr=1-737',\n",
       " 'Toi_mon_bébé_prématuré_Témoignage_(French_Edition)_Kindle_Edition': 'https://www.amazon.ca/Toi-mon-b%C3%A9b%C3%A9-pr%C3%A9matur%C3%A9-T%C3%A9moignage-ebook/dp/B08887CY3W/ref=sr_1_738?qid=1700113110&refinements=p_n_binding_browse-bin%3A6202019011&rnid=2366372011&s=books&sr=1-738',\n",
       " 'Six_Women_of_Salem_The_Untold_Story_of_the_Accused_and_Their_Accusers_in_the_Salem_Witch_Trials_Kindle_Edition': 'https://www.amazon.ca/Six-Women-Salem-Accused-Accusers-ebook/dp/B00C4GRW2M/ref=sr_1_739?qid=1700113110&refinements=p_n_binding_browse-bin%3A6202019011&rnid=2366372011&s=books&sr=1-739',\n",
       " 'They_All_Love_Jack_Busting_the_Ripper_Kindle_Edition': 'https://www.amazon.ca/They-All-Love-Jack-Busting-ebook/dp/B00LSRQZO4/ref=sr_1_740?qid=1700113110&refinements=p_n_binding_browse-bin%3A6202019011&rnid=2366372011&s=books&sr=1-740',\n",
       " 'Tiananmen_Exiles_Voices_of_the_Struggle_for_Democracy_in_China_(Palgrave_Studies_in_Oral_History)_2014th_Edition_Kindle_Edition': 'https://www.amazon.ca/Tiananmen-Exiles-Struggle-Democracy-Palgrave-ebook/dp/B00KO09L42/ref=sr_1_741?qid=1700113110&refinements=p_n_binding_browse-bin%3A6202019011&rnid=2366372011&s=books&sr=1-741',\n",
       " 'Stravinsky_A_Creative_Spring_Russia_and_France_1882__1934_Kindle_Edition': 'https://www.amazon.ca/Stravinsky-Creative-Spring-Russia-1882-1934-ebook/dp/B08B5F7TL3/ref=sr_1_742?qid=1700113110&refinements=p_n_binding_browse-bin%3A6202019011&rnid=2366372011&s=books&sr=1-742',\n",
       " 'Urban_Outlaw_Dirt_Don’t_Slow_You_Down_Kindle_Edition': 'https://www.amazon.ca/Urban-Outlaw-Dirt-Dont-Slow-ebook/dp/B01N4MGCFW/ref=sr_1_743?qid=1700113110&refinements=p_n_binding_browse-bin%3A6202019011&rnid=2366372011&s=books&sr=1-743',\n",
       " 'The_Class_of_1846_From_West_Point_to_Appomattox_Stonewall_Jackson_George_McClellan_and_Their_Brothers_From_West_Point_to_Appomattox_Stonewall_Jackson_George_McClellan_and_Their_Br_others_Kindle_Edition': 'https://www.amazon.ca/Class-1846-Appomattox-Stonewall-McClellan-ebook/dp/B004FEG36M/ref=sr_1_744?qid=1700113110&refinements=p_n_binding_browse-bin%3A6202019011&rnid=2366372011&s=books&sr=1-744',\n",
       " 'The_Captain_Was_a_Doctor_The_Long_War_and_Uneasy_Peace_of_POW_John_Reid_Kindle_Edition': 'https://www.amazon.ca/Captain-Was-Doctor-Uneasy-Peace-ebook/dp/B082WSGN61/ref=sr_1_747?qid=1700113110&refinements=p_n_binding_browse-bin%3A6202019011&rnid=2366372011&s=books&sr=1-747',\n",
       " 'Strong_Female_Character_Kindle_Edition': 'https://www.amazon.ca/Strong-Female-Character-Fern-Brady-ebook/dp/B0BSWCL8H9/ref=sr_1_748?qid=1700113110&refinements=p_n_binding_browse-bin%3A6202019011&rnid=2366372011&s=books&sr=1-748',\n",
       " 'Kiss_the_Red_Stairs_The_Holocaust_Once_Removed_A_Memoir_Kindle_Edition': 'https://www.amazon.ca/Kiss-Red-Stairs-Holocaust-Removed-ebook/dp/B09BHZYT37/ref=sr_1_749?qid=1700113110&refinements=p_n_binding_browse-bin%3A6202019011&rnid=2366372011&s=books&sr=1-749',\n",
       " '100%_nature_Confidences_(French_Edition)_Kindle_Edition': 'https://www.amazon.ca/100-nature-Confidences-Marthe-Laverdi%C3%A8re-ebook/dp/B0BXFMW9Y3/ref=sr_1_750?qid=1700113110&refinements=p_n_binding_browse-bin%3A6202019011&rnid=2366372011&s=books&sr=1-750',\n",
       " 'Memoirs_of_a_Militant_My_Years_in_the_Khiam_Womens_Prison_Kindle_Edition': 'https://www.amazon.ca/Memoirs-Militant-Years-Womens-Prison-ebook/dp/B0B4T9B967/ref=sr_1_751?qid=1700113110&refinements=p_n_binding_browse-bin%3A6202019011&rnid=2366372011&s=books&sr=1-751',\n",
       " 'The_Temporary_European_Lessons_and_Confessions_of_a_Professional_Traveler_Kindle_Edition': 'https://www.amazon.ca/Temporary-European-Behind-Scenes-Professional-ebook/dp/B093CW5KN4/ref=sr_1_752?qid=1700113110&refinements=p_n_binding_browse-bin%3A6202019011&rnid=2366372011&s=books&sr=1-752',\n",
       " 'Radical_Curiosity_One_Mans_Search_for_Cosmic_Magic_and_a_Purposeful_Life_Kindle_Edition': 'https://www.amazon.ca/Radical-Curiosity-Search-Cosmic-Purposeful-ebook/dp/B08V7PZK5V/ref=sr_1_753?qid=1700113110&refinements=p_n_binding_browse-bin%3A6202019011&rnid=2366372011&s=books&sr=1-753',\n",
       " 'Fire_Lover_A_True_Story_Kindle_Edition': 'https://www.amazon.ca/Fire-Lover-Story-Joseph-Wambaugh-ebook/dp/B01LXAFQ68/ref=sr_1_754?qid=1700113110&refinements=p_n_binding_browse-bin%3A6202019011&rnid=2366372011&s=books&sr=1-754',\n",
       " 'Shakespeare_His_Life_and_Works_(DK_Ultimate_Guides)_Kindle_Edition': 'https://www.amazon.ca/Shakespeare-Life-Works-Alan-Riding-ebook/dp/B09896Z9ZZ/ref=sr_1_753?qid=1700113118&refinements=p_n_binding_browse-bin%3A6202019011&rnid=2366372011&s=books&sr=1-753',\n",
       " 'Instead_Navigating_the_Adventures_of_a_Childfree_Life____A_Memoir_Kindle_Edition': 'https://www.amazon.ca/Instead-Navigating-Adventures-Childfree-Memoir-ebook/dp/B0C66RYSYH/ref=sr_1_754?qid=1700113118&refinements=p_n_binding_browse-bin%3A6202019011&rnid=2366372011&s=books&sr=1-754',\n",
       " 'The_Good_Nurse_A_True_Story_of_Medicine_Madness_and_Murder_Kindle_Edition': 'https://www.amazon.ca/Good-Nurse-Medicine-Madness-Murder-ebook/dp/B004QX078C/ref=sr_1_755?qid=1700113118&refinements=p_n_binding_browse-bin%3A6202019011&rnid=2366372011&s=books&sr=1-755',\n",
       " 'Culottées_Des_femmes_qui_ne_font_que_ce_quelles_veulent_(Tome_1)_(French_Edition)_Kindle_Edition': 'https://www.amazon.ca/Culott%C3%A9es-femmes-quelles-veulent-French-ebook/dp/B01LFJS2PY/ref=sr_1_756?qid=1700113118&refinements=p_n_binding_browse-bin%3A6202019011&rnid=2366372011&s=books&sr=1-756',\n",
       " 'Et_moi_et_moi_et_moi_(French_Edition)_Kindle_Edition': 'https://www.amazon.ca/moi-French-ebook/dp/B0CJN2X16J/ref=sr_1_757?qid=1700113118&refinements=p_n_binding_browse-bin%3A6202019011&rnid=2366372011&s=books&sr=1-757',\n",
       " 'The_Bettencourt_Affair_The_Worlds_Richest_Woman_and_the_Scandal_That_Rocked_Paris_Kindle_Edition': 'https://www.amazon.ca/Bettencourt-Affair-Worlds-Richest-Scandal-ebook/dp/B01N8SL7FF/ref=sr_1_758?qid=1700113118&refinements=p_n_binding_browse-bin%3A6202019011&rnid=2366372011&s=books&sr=1-758',\n",
       " 'Steve_McQueen_A_Biography_Kindle_Edition': 'https://www.amazon.ca/Steve-McQueen-Biography-Marc-Eliot-ebook/dp/B004LROUYK/ref=sr_1_759?qid=1700113118&refinements=p_n_binding_browse-bin%3A6202019011&rnid=2366372011&s=books&sr=1-759',\n",
       " 'Based_on_a_True_Story_A_Memoir_Kindle_Edition': 'https://www.amazon.ca/Based-True-Story-Norm-Macdonald-ebook/dp/B01E3QHZGI/ref=sr_1_760?qid=1700113118&refinements=p_n_binding_browse-bin%3A6202019011&rnid=2366372011&s=books&sr=1-760',\n",
       " 'Hidden_Harvest_Kindle_Edition': 'https://www.amazon.ca/Hidden-Harvest-Mark-Coakley-ebook/dp/B00I4ZS6X6/ref=sr_1_763?qid=1700113118&refinements=p_n_binding_browse-bin%3A6202019011&rnid=2366372011&s=books&sr=1-763',\n",
       " 'Jerusalem_The_Story_of_a_City_and_a_Family_Kindle_Edition': 'https://www.amazon.ca/Jerusalem-Family-Portrait-Boaz-Yakin-ebook/dp/B00C7VWZBW/ref=sr_1_764?qid=1700113118&refinements=p_n_binding_browse-bin%3A6202019011&rnid=2366372011&s=books&sr=1-764',\n",
       " 'La_source_(French_Edition)_Kindle_Edition': 'https://www.amazon.ca/source-French-F%C3%A9lix-S%C3%A9guin-ebook/dp/B08M3V21Z7/ref=sr_1_765?qid=1700113118&refinements=p_n_binding_browse-bin%3A6202019011&rnid=2366372011&s=books&sr=1-765',\n",
       " 'Lultime_Anthologie_Biker_Une_Introduction_Aux_Livres_Sur_Les_Clubs_De_Motards_Et_Les_Motards_Hors__La__Loi_(French_Edition)_Kindle_Edition': 'https://www.amazon.ca/Lultime-Anthologie-Biker-Hors-Loi-ebook/dp/B0C1QXMRTD/ref=sr_1_766?qid=1700113118&refinements=p_n_binding_browse-bin%3A6202019011&rnid=2366372011&s=books&sr=1-766',\n",
       " 'The_Last_Spike_The_Great_Railway_1881__1885_Kindle_Edition': 'https://www.amazon.ca/Last-Spike-Great-Railway-1881-1885-ebook/dp/B004H3W40U/ref=sr_1_767?qid=1700113118&refinements=p_n_binding_browse-bin%3A6202019011&rnid=2366372011&s=books&sr=1-767',\n",
       " 'Molecules_of_Emotion_The_Science_Behind_Mind__Body_Medicine_1st_Edition_Kindle_Edition': 'https://www.amazon.ca/Molecules-Emotion-Science-Mind-Body-Medicine-ebook/dp/B003L77V74/ref=sr_1_768?qid=1700113118&refinements=p_n_binding_browse-bin%3A6202019011&rnid=2366372011&s=books&sr=1-768',\n",
       " 'Major_General_George_H_Sharpe_and_the_Creation_of_American_Military_Intelligence_in_the_Civil_War_Kindle_Edition': 'https://www.amazon.ca/General-Creation-American-Military-Intelligence-ebook/dp/B07FN3Q3ZN/ref=sr_1_769?qid=1700113118&refinements=p_n_binding_browse-bin%3A6202019011&rnid=2366372011&s=books&sr=1-769',\n",
       " 'Vida_y_pensamiento_de_Antonio_Gramsci_1926____1937_1926__1937_(Universitaria_nº_374)_(Spanish_Edition)_Kindle_Edition': 'https://www.amazon.ca/pensamiento-Antonio-Gramsci-1926-1937-Universitaria-ebook/dp/B086MKKZYB/ref=sr_1_770?qid=1700113118&refinements=p_n_binding_browse-bin%3A6202019011&rnid=2366372011&s=books&sr=1-770',\n",
       " 'Coco_Chanel_Une_couturière_à_contre__courant_(Grandes_Personnalités_t_34)_(French_Edition)_Kindle_Edition': 'https://www.amazon.ca/Coco-Chanel-couturi%C3%A8re-contre-courant-Personnalit%C3%A9s-ebook/dp/B01AWUBJ48/ref=sr_1_769?qid=1700113125&refinements=p_n_binding_browse-bin%3A6202019011&rnid=2366372011&s=books&sr=1-769',\n",
       " 'Ludwig_van_Beethoven_(Biography_in_3_Volumes)_Kindle_Edition': 'https://www.amazon.ca/Ludwig-van-Beethoven-Biography-Volumes-ebook/dp/B0CMWJD46W/ref=sr_1_770?qid=1700113125&refinements=p_n_binding_browse-bin%3A6202019011&rnid=2366372011&s=books&sr=1-770',\n",
       " 'Madonna_A_Rebel_Life_Kindle_Edition': 'https://www.amazon.ca/Madonna-Rebel-Life-Mary-Gabriel-ebook/dp/B09NVTLXPS/ref=sr_1_771?qid=1700113125&refinements=p_n_binding_browse-bin%3A6202019011&rnid=2366372011&s=books&sr=1-771',\n",
       " 'Étienne_Boulay_Le_parcours_dun_battant_(French_Edition)_Kindle_Edition': 'https://www.amazon.ca/%C3%89tienne-Boulay-parcours-battant-French-ebook/dp/B07J9P9PM5/ref=sr_1_772?qid=1700113125&refinements=p_n_binding_browse-bin%3A6202019011&rnid=2366372011&s=books&sr=1-772',\n",
       " 'TI_SI_WHAT_TI_SI_(It_is_What_It_Is)_Es_lo_que_es_(Spanish_Edition)_Kindle_Edition': 'https://www.amazon.ca/TI-SI-WHAT-What-Spanish-ebook/dp/B0CD358LDQ/ref=sr_1_773?qid=1700113125&refinements=p_n_binding_browse-bin%3A6202019011&rnid=2366372011&s=books&sr=1-773',\n",
       " 'Revenge_Meghan_Harry_and_the_War_Between_the_Windsors_Kindle_Edition': 'https://www.amazon.ca/Revenge-Meghan-Harry-Between-Windsors-ebook/dp/B0B8T6YV25/ref=sr_1_774?qid=1700113125&refinements=p_n_binding_browse-bin%3A6202019011&rnid=2366372011&s=books&sr=1-774',\n",
       " 'Pardon_My_French_How_a_Grumpy_American_Fell_in_Love_with_France_Kindle_Edition': 'https://www.amazon.ca/Pardon-My-French-Grumpy-American-ebook/dp/B016HBYRKO/ref=sr_1_775?qid=1700113125&refinements=p_n_binding_browse-bin%3A6202019011&rnid=2366372011&s=books&sr=1-775',\n",
       " 'Let_My_People_Go_Surfing_The_Education_of_a_Reluctant_Businessman____Including_10_More_Years_of_Business_Unusual_Kindle_Edition': 'https://www.amazon.ca/Let-People-Surfing-Education-Businessman-Including-ebook/dp/B01A6EQFZ8/ref=sr_1_776?qid=1700113125&refinements=p_n_binding_browse-bin%3A6202019011&rnid=2366372011&s=books&sr=1-776',\n",
       " 'Behind_the_Kingdoms_Veil_Inside_the_New_Saudi_Arabia_Under_Crown_Prince_Mohammed_bin_Salman_Kindle_Edition': 'https://www.amazon.ca/Behind-Kingdoms-Veil-Mohammed-history-ebook/dp/B096H4477X/ref=sr_1_779?qid=1700113125&refinements=p_n_binding_browse-bin%3A6202019011&rnid=2366372011&s=books&sr=1-779',\n",
       " 'Finale_at_Flensburg_The_Story_Of_Field_Marshal_Montgomerys_Battle_For_The_Baltic_(Forgotten_Aspects_of_World_War_Two)_Kindle_Edition': 'https://www.amazon.ca/Finale-Flensburg-Marshal-Montgomerys-Forgotten-ebook/dp/B0CMQK3656/ref=sr_1_780?qid=1700113125&refinements=p_n_binding_browse-bin%3A6202019011&rnid=2366372011&s=books&sr=1-780',\n",
       " 'The_Menendez_Murders_The_Shocking_Untold_Story_of_the_Menendez_Family_and_the_Killings_that_Stunned_the_Nation_Kindle_Edition': 'https://www.amazon.ca/Menendez-Murders-Shocking-Killings-Stunned-ebook/dp/B076N3G7NK/ref=sr_1_781?qid=1700113125&refinements=p_n_binding_browse-bin%3A6202019011&rnid=2366372011&s=books&sr=1-781',\n",
       " 'The_Diary_of_Anaïs_Nin_1931–1934_Vol_1_(1931__1934)_(The_Diary_of_Anais_Nin)_Kindle_Edition': 'https://www.amazon.ca/Diary-Anais-Nin-1931-1934-Vol-ebook/dp/B005G05S1K/ref=sr_1_782?qid=1700113125&refinements=p_n_binding_browse-bin%3A6202019011&rnid=2366372011&s=books&sr=1-782',\n",
       " 'Somebodys_Daughter_A_Memoir_Kindle_Edition': 'https://www.amazon.ca/Somebodys-Daughter-Ashley-C-Ford-ebook/dp/B08FGSQYND/ref=sr_1_783?qid=1700113125&refinements=p_n_binding_browse-bin%3A6202019011&rnid=2366372011&s=books&sr=1-783',\n",
       " 'Hirohito_And_The_Making_Of_Modern_Japan_Kindle_Edition': 'https://www.amazon.ca/Hirohito-Making-Modern-Japan-Herbert-ebook/dp/B00128Z202/ref=sr_1_784?qid=1700113125&refinements=p_n_binding_browse-bin%3A6202019011&rnid=2366372011&s=books&sr=1-784',\n",
       " 'Madly_Deeply_The_Diaries_of_Alan_Rickman_Kindle_Edition': 'https://www.amazon.ca/Madly-Deeply-Diaries-Alan-Rickman-ebook/dp/B09NTK2HF1/ref=sr_1_785?qid=1700113125&refinements=p_n_binding_browse-bin%3A6202019011&rnid=2366372011&s=books&sr=1-785',\n",
       " 'Fatima_Meer_Memories_of_Love_and_Struggle_Kindle_Edition': 'https://www.amazon.ca/Fatima-Meer-Memories-Love-Struggle-ebook/dp/B08NV6LB9P/ref=sr_1_786?qid=1700113125&refinements=p_n_binding_browse-bin%3A6202019011&rnid=2366372011&s=books&sr=1-786',\n",
       " 'Wifedom_Mrs_Orwells_Invisible_Life_Kindle_Edition': 'https://www.amazon.ca/Wifedom-Mrs-Orwells-Invisible-Life-ebook/dp/B0BF8RQZFZ/ref=sr_1_785?qid=1700113132&refinements=p_n_binding_browse-bin%3A6202019011&rnid=2366372011&s=books&sr=1-785',\n",
       " '27_Summers_My_Journey_to_Freedom_Forgiveness_and_Redemption_During_My_Time_in_Angola_Prison_Kindle_Edition': 'https://www.amazon.ca/27-Summers-Journey-Forgiveness-Redemption-ebook/dp/B0BYYWVRZB/ref=sr_1_786?qid=1700113132&refinements=p_n_binding_browse-bin%3A6202019011&rnid=2366372011&s=books&sr=1-786',\n",
       " 'Travis_Kelce_The_Inspiring_Story_of_One_of_Footballs_Star_Tight_Ends_(Football_Biography_Books)_Kindle_Edition': 'https://www.amazon.ca/Travis-Kelce-Inspiring-Footballs-Biography-ebook/dp/B0CMCK3G68/ref=sr_1_787?qid=1700113132&refinements=p_n_binding_browse-bin%3A6202019011&rnid=2366372011&s=books&sr=1-787',\n",
       " 'Never_Mind_Well_Do_It_Ourselves_The_Inside_Story_of_How_a_Team_of_Renegades_Broke_Rules_Shattered_Barriers_and_Launched_a_Drone_Warfare_Revolution_Kindle_Edition': 'https://www.amazon.ca/Never-Mind-Well-Ourselves-Renegades-ebook/dp/B06XD1Z5N1/ref=sr_1_788?qid=1700113132&refinements=p_n_binding_browse-bin%3A6202019011&rnid=2366372011&s=books&sr=1-788',\n",
       " 'Let_There_Be_Rock_The_Story_of_AC_DC_Kindle_Edition': 'https://www.amazon.ca/Let-There-Be-Rock-Story-ebook/dp/B086BGRVL5/ref=sr_1_789?qid=1700113132&refinements=p_n_binding_browse-bin%3A6202019011&rnid=2366372011&s=books&sr=1-789',\n",
       " '21st_Century_MK__Ultra_Slave_A_Vintage_Transhuman_Tale_Kindle_Edition': 'https://www.amazon.ca/21st-Century-MK-Ultra-Slave-Transhuman-ebook/dp/B0BCDZBPYS/ref=sr_1_790?qid=1700113132&refinements=p_n_binding_browse-bin%3A6202019011&rnid=2366372011&s=books&sr=1-790',\n",
       " 'A_Life_with_Words_A_Writers_Memoir_(Phyllis_Bruce_Editions)_Kindle_Edition': 'https://www.amazon.ca/Life-Words-Writers-Phyllis-Editions-ebook/dp/B00QZCTWEW/ref=sr_1_802?qid=1700113139&refinements=p_n_binding_browse-bin%3A6202019011&rnid=2366372011&s=books&sr=1-802',\n",
       " 'An_Unruled_Body_Kindle_Edition': 'https://www.amazon.ca/Unruled-Body-Ani-Gjika-ebook/dp/B0CB6NZDBF/ref=sr_1_792?qid=1700113132&refinements=p_n_binding_browse-bin%3A6202019011&rnid=2366372011&s=books&sr=1-792',\n",
       " 'Jimmy_Memoirs_of_My_Life_as_A_Piper_Kindle_Edition': 'https://www.amazon.ca/Jimmy-Memoirs-My-Life-Piper-ebook/dp/B09QRMSMTF/ref=sr_1_795?qid=1700113132&refinements=p_n_binding_browse-bin%3A6202019011&rnid=2366372011&s=books&sr=1-795',\n",
       " 'CARLTON_The_Final_Say_Kindle_Edition': 'https://www.amazon.ca/CARLTON-Final-Say-Carlton-Leach-ebook/dp/B09JZGC53K/ref=sr_1_803?qid=1700113139&refinements=p_n_binding_browse-bin%3A6202019011&rnid=2366372011&s=books&sr=1-803',\n",
       " 'Soldier_of_Orange_One_Mans_Dynamic_Story_of_Hollands_Secret_War_Against_the_Nazis_Kindle_Edition': 'https://www.amazon.ca/Soldier-Orange-Dynamic-Hollands-Against-ebook/dp/B0BS6WXBGY/ref=sr_1_801?qid=1700113139&refinements=p_n_binding_browse-bin%3A6202019011&rnid=2366372011&s=books&sr=1-801',\n",
       " 'Janey_and_the_Miniatures_The_Story_of_an_Abandoned_Cat_and_Her_Kittens_(The_Accidental_Orphanage)_Kindle_Edition': 'https://www.amazon.ca/Janey-Miniatures-Abandoned-Accidental-Orphanage-ebook/dp/B0CLKZLL57/ref=sr_1_798?qid=1700113132&refinements=p_n_binding_browse-bin%3A6202019011&rnid=2366372011&s=books&sr=1-798',\n",
       " 'Ace_of_Spies_The_True_Story_of_Sidney_Reilly_(Revealing_History_(Paperback))_Kindle_Edition': 'https://www.amazon.ca/Ace-Spies-Revealing-History-Paperback-ebook/dp/B01JNFKGPQ/ref=sr_1_806?qid=1700113139&refinements=p_n_binding_browse-bin%3A6202019011&rnid=2366372011&s=books&sr=1-806',\n",
       " '時代人物的另一張臉_(Traditional_Chinese_Edition)_Kindle_Edition': 'https://www.amazon.ca/%E6%99%82%E4%BB%A3%E4%BA%BA%E7%89%A9%E7%9A%84%E5%8F%A6%E4%B8%80%E5%BC%B5%E8%87%89-Traditional-Chinese-%E9%84%AD%E4%BD%A9%E8%8A%AC-ebook/dp/B07M8YMQDP/ref=sr_1_800?qid=1700113132&refinements=p_n_binding_browse-bin%3A6202019011&rnid=2366372011&s=books&sr=1-800',\n",
       " 'Can_Yaman_Un_sueño_para_siempre_La_verdadera_historia_(1)_(Spanish_Edition)_Kindle_Edition': 'https://www.amazon.ca/Can-Yaman-sue%C3%B1o-para-siempre-ebook/dp/B08YS4GQ9Z/ref=sr_1_801?qid=1700113132&refinements=p_n_binding_browse-bin%3A6202019011&rnid=2366372011&s=books&sr=1-801',\n",
       " 'Grandpa_Charlie_The_Untold_Story_of_Whitey_Bulger_Kindle_Edition': 'https://www.amazon.ca/Grandpa-Charlie-Untold-Whitey-Bulger-ebook/dp/B015EEQ6I6/ref=sr_1_807?qid=1700113139&refinements=p_n_binding_browse-bin%3A6202019011&rnid=2366372011&s=books&sr=1-807',\n",
       " 'Lange_qui_est_tombé_du_ciel_Récit_de_voyages_raconté_par_un_amuseur_public_(French_Edition)_Kindle_Edition': 'https://www.amazon.ca/Lange-qui-est-tomb%C3%A9-ciel-ebook/dp/B0CN4BGT3F/ref=sr_1_804?qid=1700113139&refinements=p_n_binding_browse-bin%3A6202019011&rnid=2366372011&s=books&sr=1-804',\n",
       " 'With_You_Every_Step_A_Celebration_of_Friendship_by_Rob_Burrow_and_Kevin_Sinfield_Kindle_Edition': 'https://www.amazon.ca/You-Every-Step-Celebration-Friendship-ebook/dp/B0CC9J992N/ref=sr_1_805?qid=1700113139&refinements=p_n_binding_browse-bin%3A6202019011&rnid=2366372011&s=books&sr=1-805',\n",
       " 'Unbroken_My_Fight_for_Survival_Hope_and_Justice_for_Indigenous_Women_and_Girls_Kindle_Edition': 'https://www.amazon.ca/Unbroken-Fight-Survival-Justice-Indigenous-ebook/dp/B0BG1FTBR6/ref=sr_1_808?qid=1700113139&refinements=p_n_binding_browse-bin%3A6202019011&rnid=2366372011&s=books&sr=1-808',\n",
       " 'The_Final_Curtsey_A_Royal_Memoir_by_the_Queens_Cousin_Kindle_Edition': 'https://www.amazon.ca/Final-Curtsey-Memoir-Queens-Cousin-ebook/dp/B06XRJ3K1K/ref=sr_1_811?qid=1700113139&refinements=p_n_binding_browse-bin%3A6202019011&rnid=2366372011&s=books&sr=1-811',\n",
       " 'Humanly_Possible_Seven_Hundred_Years_of_Humanist_Freethinking_Inquiry_and_Hope_Kindle_Edition': 'https://www.amazon.ca/Humanly-Possible-Hundred-Humanist-Freethinking-ebook/dp/B0B5ST44GQ/ref=sr_1_812?qid=1700113139&refinements=p_n_binding_browse-bin%3A6202019011&rnid=2366372011&s=books&sr=1-812',\n",
       " 'Becoming_Her_Kindle_Edition': 'https://www.amazon.ca/Becoming-Her-Eva-Graxton-ebook/dp/B0BV3FP49D/ref=sr_1_813?qid=1700113139&refinements=p_n_binding_browse-bin%3A6202019011&rnid=2366372011&s=books&sr=1-813',\n",
       " 'When_the_Heart_Waits_Spiritual_Direction_for_Lifes_Sacred_Questions_(Plus)_Kindle_Edition': 'https://www.amazon.ca/When-Heart-Waits-Spiritual-Direction-ebook/dp/B00JOFFNLI/ref=sr_1_814?qid=1700113139&refinements=p_n_binding_browse-bin%3A6202019011&rnid=2366372011&s=books&sr=1-814',\n",
       " 'Child_Bride_The_Untold_Story_of_Priscilla_Beaulieu_Presley_Kindle_Edition': 'https://www.amazon.ca/Child-Bride-Priscilla-Beaulieu-Presley-ebook/dp/B004JHYK4M/ref=sr_1_815?qid=1700113139&refinements=p_n_binding_browse-bin%3A6202019011&rnid=2366372011&s=books&sr=1-815',\n",
       " 'Take_the_Lead_Hanging_On_Letting_Go_and_Conquering_Lifes_Hardest_Climbs_Kindle_Edition': 'https://www.amazon.ca/Take-Lead-Hanging-Letting-Conquering-ebook/dp/B0BRYQGNP1/ref=sr_1_816?qid=1700113139&refinements=p_n_binding_browse-bin%3A6202019011&rnid=2366372011&s=books&sr=1-816',\n",
       " 'The_Man_Who_Mistook_His_Wife_for_a_Hat_And_Other_Clinical_Tales_Kindle_Edition': 'https://www.amazon.ca/Man-Who-Mistook-His-Wife-ebook/dp/B096Z4GGDV/ref=sr_1_817?qid=1700113139&refinements=p_n_binding_browse-bin%3A6202019011&rnid=2366372011&s=books&sr=1-817',\n",
       " 'Lilianas_Invincible_Summer_A_Sisters_Search_for_Justice_Kindle_Edition': 'https://www.amazon.ca/Lilianas-Invincible-Summer-Sisters-Justice-ebook/dp/B09ZRY7M23/ref=sr_1_818?qid=1700113139&refinements=p_n_binding_browse-bin%3A6202019011&rnid=2366372011&s=books&sr=1-818',\n",
       " 'In_the_Garden_of_Beasts_Love_Terror_and_an_American_Family_in_Hitlers_Berlin_Kindle_Edition': 'https://www.amazon.ca/Garden-Beasts-Terror-American-Hitlers-ebook/dp/B004HFRJM6/ref=sr_1_817?qid=1700113146&refinements=p_n_binding_browse-bin%3A6202019011&rnid=2366372011&s=books&sr=1-817',\n",
       " 'Girl_Interrupted_A_Memoir_Kindle_Edition': 'https://www.amazon.ca/Girl-Interrupted-Susanna-Kaysen-ebook/dp/B00D0OR5EC/ref=sr_1_818?qid=1700113146&refinements=p_n_binding_browse-bin%3A6202019011&rnid=2366372011&s=books&sr=1-818',\n",
       " 'Strangers_to_Ourselves_Unsettled_Minds_and_the_Stories_That_Make_Us_Kindle_Edition': 'https://www.amazon.ca/Strangers-Ourselves-Unsettled-Minds-Stories-ebook/dp/B09PZV28JG/ref=sr_1_819?qid=1700113146&refinements=p_n_binding_browse-bin%3A6202019011&rnid=2366372011&s=books&sr=1-819',\n",
       " 'Bukowski_A_Life_Kindle_Edition': 'https://www.amazon.ca/Bukowski-Life-Centennial-Neeli-Cherkovski-ebook/dp/B08528MG9Q/ref=sr_1_820?qid=1700113146&refinements=p_n_binding_browse-bin%3A6202019011&rnid=2366372011&s=books&sr=1-820',\n",
       " 'Sans_filtre_SANS_FILTRE_[NUM]_(French_Edition)_Kindle_Edition': 'https://www.amazon.ca/Sans-filtre-SANS-FILTRE-French-ebook/dp/B0BB2YBNMP/ref=sr_1_821?qid=1700113146&refinements=p_n_binding_browse-bin%3A6202019011&rnid=2366372011&s=books&sr=1-821',\n",
       " 'Wind_Sand_And_Stars_(Harvest_Book)_Kindle_Edition': 'https://www.amazon.ca/Wind-Sand-Stars-Harvest-Book-ebook/dp/B009SS1QIA/ref=sr_1_822?qid=1700113146&refinements=p_n_binding_browse-bin%3A6202019011&rnid=2366372011&s=books&sr=1-822',\n",
       " 'The_White_Darkness_Kindle_Edition': 'https://www.amazon.ca/White-Darkness-David-Grann-ebook/dp/B07BPP9TCL/ref=sr_1_823?qid=1700113146&refinements=p_n_binding_browse-bin%3A6202019011&rnid=2366372011&s=books&sr=1-823',\n",
       " 'Generals_and_Admirals_Criminals_and_Crooks_Dishonorable_Leadership_in_the_US_Military_Kindle_Edition': 'https://www.amazon.ca/Generals-Admirals-Criminals-Crooks-Dishonorable-ebook/dp/B0BQMZSDZ6/ref=sr_1_824?qid=1700113146&refinements=p_n_binding_browse-bin%3A6202019011&rnid=2366372011&s=books&sr=1-824',\n",
       " 'The_Civil_War_A_Narrative_Volume_1_Fort_Sumter_to_Perryville_(Vintage_Civil_War_Library)_Kindle_Edition': 'https://www.amazon.ca/Civil-War-Narrative-Perryville-Vintage-ebook/dp/B004C43GGU/ref=sr_1_827?qid=1700113146&refinements=p_n_binding_browse-bin%3A6202019011&rnid=2366372011&s=books&sr=1-827',\n",
       " 'The_Diana_Chronicles_Kindle_Edition': 'https://www.amazon.ca/Diana-Chronicles-Tina-Brown-ebook/dp/B000SCHAJY/ref=sr_1_828?qid=1700113146&refinements=p_n_binding_browse-bin%3A6202019011&rnid=2366372011&s=books&sr=1-828',\n",
       " 'The_Unexpected_Joy_of_Being_Sober_THE_SUNDAY_TIMES_BESTSELLER_Kindle_Edition': 'https://www.amazon.ca/Unexpected-Joy-Being-Sober-ebook/dp/B073TVX3SX/ref=sr_1_829?qid=1700113146&refinements=p_n_binding_browse-bin%3A6202019011&rnid=2366372011&s=books&sr=1-829',\n",
       " 'Runaway_Surviving_against_all_the_odds_Kindle_Edition': 'https://www.amazon.ca/Runaway-Surviving-against-all-odds-ebook/dp/B08HDFXV99/ref=sr_1_830?qid=1700113146&refinements=p_n_binding_browse-bin%3A6202019011&rnid=2366372011&s=books&sr=1-830',\n",
       " 'O_doce_veneno_do_escorpião_O_diário_de_uma_garota_de_programa_(Portuguese_Edition)_Kindle_Edition': 'https://www.amazon.ca/doce-veneno-escorpi%C3%A3o-programa-Portuguese-ebook/dp/B00AHGEWYW/ref=sr_1_831?qid=1700113146&refinements=p_n_binding_browse-bin%3A6202019011&rnid=2366372011&s=books&sr=1-831',\n",
       " 'The_Fortunate_Pilgrim_A_Novel_Kindle_Edition': 'https://www.amazon.ca/Fortunate-Pilgrim-Novel-Mario-Puzo-ebook/dp/B000FC28V2/ref=sr_1_832?qid=1700113146&refinements=p_n_binding_browse-bin%3A6202019011&rnid=2366372011&s=books&sr=1-832',\n",
       " 'The_Gift_14_Lessons_to_Save_Your_Life_Kindle_Edition': 'https://www.amazon.ca/Gift-Lessons-Save-Your-Life-ebook/dp/B084GB4L4P/ref=sr_1_833?qid=1700113146&refinements=p_n_binding_browse-bin%3A6202019011&rnid=2366372011&s=books&sr=1-833',\n",
       " 'Paranormal_My_Life_in_Pursuit_of_the_Afterlife_Kindle_Edition': 'https://www.amazon.ca/Paranormal-My-Life-Pursuit-Afterlife-ebook/dp/B005HG4W92/ref=sr_1_834?qid=1700113146&refinements=p_n_binding_browse-bin%3A6202019011&rnid=2366372011&s=books&sr=1-834',\n",
       " 'The_Big_Reveal_An_Illustrated_Manifesto_of_Drag_Kindle_Edition': 'https://www.amazon.ca/Big-Reveal-Illustrated-Manifesto-Drag-ebook/dp/B0BYNVKH31/ref=sr_1_833?qid=1700113154&refinements=p_n_binding_browse-bin%3A6202019011&rnid=2366372011&s=books&sr=1-833',\n",
       " 'Transland_Consent_Kink_and_Pleasure_Kindle_Edition': 'https://www.amazon.ca/Transland-Consent-Pleasure-Mx-Sly-ebook/dp/B0CCW9D4F9/ref=sr_1_834?qid=1700113154&refinements=p_n_binding_browse-bin%3A6202019011&rnid=2366372011&s=books&sr=1-834',\n",
       " 'Alone_on_the_Ice_The_Greatest_Survival_Story_in_the_History_of_Exploration_1st_Edition_Kindle_Edition': 'https://www.amazon.ca/Alone-Ice-Greatest-Survival-Exploration-ebook/dp/B007Q6XJL8/ref=sr_1_835?qid=1700113154&refinements=p_n_binding_browse-bin%3A6202019011&rnid=2366372011&s=books&sr=1-835',\n",
       " 'The_Life_and_Loves_of_a_He_Devil_A_Memoir_Kindle_Edition': 'https://www.amazon.ca/Life-Loves-He-Devil-Memoir-ebook/dp/B00LLIJ4S4/ref=sr_1_836?qid=1700113154&refinements=p_n_binding_browse-bin%3A6202019011&rnid=2366372011&s=books&sr=1-836',\n",
       " 'JAMES_COOK_An_Outstanding_Explorer_and_Cartographer_The_Entire_Life_Story_Biography_Facts_&_Quotes_(Great_Biographies_Book_2)_Kindle_Edition': 'https://www.amazon.ca/JAMES-COOK-Outstanding-Cartographer-Biographies-ebook/dp/B07W6PTF1F/ref=sr_1_837?qid=1700113154&refinements=p_n_binding_browse-bin%3A6202019011&rnid=2366372011&s=books&sr=1-837',\n",
       " 'JOAN_COLLINS_BIOGRAPHY_BOOK_Behind_the_Shoulder_Pads_A_Life_of_Glamour_Grit_and_Enduring_Grace_Kindle_Edition': 'https://www.amazon.ca/JOAN-COLLINS-BIOGRAPHY-BOOK-Shoulder-ebook/dp/B0CLK6GS2X/ref=sr_1_838?qid=1700113154&refinements=p_n_binding_browse-bin%3A6202019011&rnid=2366372011&s=books&sr=1-838',\n",
       " 'The_Cult_of_We_WeWork_Adam_Neumann_and_the_Great_Startup_Delusion_Kindle_Edition': 'https://www.amazon.ca/Cult-We-Neumann-Startup-Delusion-ebook/dp/B08FHC77MT/ref=sr_1_839?qid=1700113154&refinements=p_n_binding_browse-bin%3A6202019011&rnid=2366372011&s=books&sr=1-839',\n",
       " 'Charlie_Chaplin_vs_America_When_Art_Sex_and_Politics_Collided_Kindle_Edition': 'https://www.amazon.ca/Charlie-Chaplin-vs-America-Politics-ebook/dp/B0BV157PXK/ref=sr_1_840?qid=1700113154&refinements=p_n_binding_browse-bin%3A6202019011&rnid=2366372011&s=books&sr=1-840',\n",
       " 'Rooted_Life_at_the_Crossroads_of_Science_Nature_and_Spirit_Kindle_Edition': 'https://www.amazon.ca/Rooted-Crossroads-Science-Nature-Spirit-ebook/dp/B08KQ4CMNV/ref=sr_1_843?qid=1700113154&refinements=p_n_binding_browse-bin%3A6202019011&rnid=2366372011&s=books&sr=1-843',\n",
       " 'Lonely_Hearts_of_the_Cosmos_The_Story_of_the_Scientific_Quest_for_the_Secret_of_the_Universe_Kindle_Edition': 'https://www.amazon.ca/Lonely-Hearts-Cosmos-Scientific-Universe-ebook/dp/B09LV5JCTJ/ref=sr_1_844?qid=1700113154&refinements=p_n_binding_browse-bin%3A6202019011&rnid=2366372011&s=books&sr=1-844',\n",
       " 'Scar_Tissue_Kindle_Edition': 'https://www.amazon.ca/Scar-Tissue-Anthony-Kiedis-ebook/dp/B000FC2KL0/ref=sr_1_845?qid=1700113154&refinements=p_n_binding_browse-bin%3A6202019011&rnid=2366372011&s=books&sr=1-845',\n",
       " 'The_Napoleon_of_Crime_The_Life_and_Times_of_Adam_Worth_Master_Thief_Kindle_Edition': 'https://www.amazon.ca/Napoleon-Crime-Times-Worth-Master-ebook/dp/B08CD17Z35/ref=sr_1_846?qid=1700113154&refinements=p_n_binding_browse-bin%3A6202019011&rnid=2366372011&s=books&sr=1-846',\n",
       " '60_Songs_That_Explain_the_90s_Kindle_Edition': 'https://www.amazon.ca/60-Songs-That-Explain-90s-ebook/dp/B0C5X255CM/ref=sr_1_847?qid=1700113154&refinements=p_n_binding_browse-bin%3A6202019011&rnid=2366372011&s=books&sr=1-847',\n",
       " 'Plus_rien_ne_pourra_me_blesser_Maîtrisez_votre_esprit_et_défiez_le_destin_(French_Edition)_Kindle_Edition': 'https://www.amazon.ca/Plus-rien-pourra-blesser-Ma%C3%AEtrisez-ebook/dp/B0CK12BGTD/ref=sr_1_848?qid=1700113154&refinements=p_n_binding_browse-bin%3A6202019011&rnid=2366372011&s=books&sr=1-848',\n",
       " 'First_Star_I_See_Tonight_Kindle_Edition': 'https://www.amazon.ca/First-Star-I-See-Tonight-ebook/dp/B018QLY6QS/ref=sr_1_849?qid=1700113154&refinements=p_n_binding_browse-bin%3A6202019011&rnid=2366372011&s=books&sr=1-849',\n",
       " 'To_Shake_the_Sleeping_Self_A_Journey_from_Oregon_to_Patagonia_and_a_Quest_for_a_Life_with_No_Regret_Kindle_Edition': 'https://www.amazon.ca/Shake-Sleeping-Self-Journey-Patagonia-ebook/dp/B072HZR519/ref=sr_1_850?qid=1700113154&refinements=p_n_binding_browse-bin%3A6202019011&rnid=2366372011&s=books&sr=1-850',\n",
       " 'The_Fire_Next_Time_(Vintage_International)_Kindle_Edition': 'https://www.amazon.ca/Fire-Next-Time-Vintage-International-ebook/dp/B00EGMV00W/ref=sr_1_849?qid=1700113162&refinements=p_n_binding_browse-bin%3A6202019011&rnid=2366372011&s=books&sr=1-849',\n",
       " 'Stay_True_A_Memoir_(Pulitzer_Prize_Winner)_Kindle_Edition': 'https://www.amazon.ca/Stay-True-Memoir-Hua-Hsu-ebook/dp/B09N6QRVR7/ref=sr_1_850?qid=1700113162&refinements=p_n_binding_browse-bin%3A6202019011&rnid=2366372011&s=books&sr=1-850',\n",
       " 'Team_of_Rivals_The_Political_Genius_of_Abraham_Lincoln_Kindle_Edition': 'https://www.amazon.ca/Team-Rivals-Political-Abraham-Lincoln-ebook/dp/B000N2HBSO/ref=sr_1_851?qid=1700113162&refinements=p_n_binding_browse-bin%3A6202019011&rnid=2366372011&s=books&sr=1-851',\n",
       " 'Fit_Fifty_and_Fired_Up_Kindle_Edition': 'https://www.amazon.ca/Fit-Fifty-Fired-Nigel-Marsh-ebook/dp/B008N4HYH2/ref=sr_1_852?qid=1700113162&refinements=p_n_binding_browse-bin%3A6202019011&rnid=2366372011&s=books&sr=1-852',\n",
       " 'Gator_Country_Deception_Danger_and_Alligators_in_the_Everglades_Kindle_Edition': 'https://www.amazon.ca/Gator-Country-Deception-Alligators-Everglades-ebook/dp/B0BPQSP8D2/ref=sr_1_853?qid=1700113162&refinements=p_n_binding_browse-bin%3A6202019011&rnid=2366372011&s=books&sr=1-853',\n",
       " 'In_the_Shadow_of_the_Empress_The_Defiant_Lives_of_Maria_Theresa_Mother_of_Marie_Antoinette_and_Her_Daughters_Kindle_Edition': 'https://www.amazon.ca/Shadow-Empress-Defiant-Antoinette-Daughters-ebook/dp/B08RYKFN6L/ref=sr_1_854?qid=1700113162&refinements=p_n_binding_browse-bin%3A6202019011&rnid=2366372011&s=books&sr=1-854',\n",
       " 'A_Little_Bit_Broken_A_Memoir_Kindle_Edition': 'https://www.amazon.ca/Little-Bit-Broken-Memoir-ebook/dp/B09XCQ51F5/ref=sr_1_855?qid=1700113162&refinements=p_n_binding_browse-bin%3A6202019011&rnid=2366372011&s=books&sr=1-855',\n",
       " 'King_A_Life_Kindle_Edition': 'https://www.amazon.ca/King-Life-Jonathan-Eig-ebook/dp/B0BBD5GXTF/ref=sr_1_856?qid=1700113162&refinements=p_n_binding_browse-bin%3A6202019011&rnid=2366372011&s=books&sr=1-856',\n",
       " 'Judging_Edward_Teller_Kindle_Edition': 'https://www.amazon.ca/Judging-Edward-Teller-Influential-Scientists-ebook/dp/B004772YYW/ref=sr_1_859?qid=1700113162&refinements=p_n_binding_browse-bin%3A6202019011&rnid=2366372011&s=books&sr=1-859',\n",
       " 'The_Parts_We_Dont_Talk_About!_My_life_as_a_Doctor_Patient_&_Caregiver_Kindle_Edition': 'https://www.amazon.ca/Parts-Dont-Talk-About-Caregiver-ebook/dp/B0C5BYSJJK/ref=sr_1_860?qid=1700113162&refinements=p_n_binding_browse-bin%3A6202019011&rnid=2366372011&s=books&sr=1-860',\n",
       " 'Coal_Miners_Daughter_Kindle_Edition': 'https://www.amazon.ca/Coal-Miners-Daughter-Loretta-Lynn-ebook/dp/B084MDJMFV/ref=sr_1_861?qid=1700113162&refinements=p_n_binding_browse-bin%3A6202019011&rnid=2366372011&s=books&sr=1-861',\n",
       " 'Dont_Panic_Douglas_Adams_&_The_Hitchhikers_Guide_to_the_Galaxy_Kindle_Edition': 'https://www.amazon.ca/Dont-Panic-Douglas-Hitchhikers-Galaxy-ebook/dp/B07HY7YH7R/ref=sr_1_862?qid=1700113162&refinements=p_n_binding_browse-bin%3A6202019011&rnid=2366372011&s=books&sr=1-862',\n",
       " 'A_Million_Little_Pieces_Kindle_Edition': 'https://www.amazon.ca/Million-Little-Pieces-James-Frey-ebook/dp/B000FC1MOQ/ref=sr_1_863?qid=1700113162&refinements=p_n_binding_browse-bin%3A6202019011&rnid=2366372011&s=books&sr=1-863',\n",
       " 'The_Reason_I_Jump_The_Inner_Voice_of_a_Thirteen__Year__Old_Boy_with_Autism_Kindle_Edition': 'https://www.amazon.ca/Reason-Jump-Inner-Thirteen-Year-Old-Autism-ebook/dp/B00B3GMH06/ref=sr_1_864?qid=1700113162&refinements=p_n_binding_browse-bin%3A6202019011&rnid=2366372011&s=books&sr=1-864',\n",
       " 'The_Grass_Is_Always_Greener_Over_the_Septic_Tank_Kindle_Edition': 'https://www.amazon.ca/Grass-Always-Greener-Over-Septic-ebook/dp/B00ARQXXEC/ref=sr_1_865?qid=1700113162&refinements=p_n_binding_browse-bin%3A6202019011&rnid=2366372011&s=books&sr=1-865',\n",
       " 'Notebooks_of_a_Wandering_Monk_Kindle_Edition': 'https://www.amazon.ca/Notebooks-Wandering-Monk-Matthieu-Ricard-ebook/dp/B0BRM8ZDJS/ref=sr_1_866?qid=1700113162&refinements=p_n_binding_browse-bin%3A6202019011&rnid=2366372011&s=books&sr=1-866',\n",
       " 'Holy_Sh!t_Were_Alive_Now_What?_Kindle_Edition': 'https://www.amazon.ca/Holy-Sh-Were-Alive-What-ebook/dp/B099DH91MZ/ref=sr_1_865?qid=1700113171&refinements=p_n_binding_browse-bin%3A6202019011&rnid=2366372011&s=books&sr=1-865',\n",
       " 'Freeing_Teresa_A_True_Story_about_Fighting_Ableism_Kindle_Edition': 'https://www.amazon.ca/Freeing-Teresa-Story-Fighting-Ableism-ebook/dp/B0CJWXVFP3/ref=sr_1_866?qid=1700113171&refinements=p_n_binding_browse-bin%3A6202019011&rnid=2366372011&s=books&sr=1-866',\n",
       " 'Surfing_the_Waves_of_Alzheimers_Principles_of_Caregiving_That_Kept_Me_Upright_Kindle_Edition': 'https://www.amazon.ca/Surfing-Waves-Alzheimers-Principles-Caregiving-ebook/dp/B08GCZBL2K/ref=sr_1_867?qid=1700113171&refinements=p_n_binding_browse-bin%3A6202019011&rnid=2366372011&s=books&sr=1-867',\n",
       " 'The_Sound_of_Gravel_A_Memoir_Kindle_Edition': 'https://www.amazon.ca/Sound-Gravel-Memoir-Ruth-Wariner-ebook/dp/B00ZOO3SMY/ref=sr_1_868?qid=1700113171&refinements=p_n_binding_browse-bin%3A6202019011&rnid=2366372011&s=books&sr=1-868',\n",
       " 'Behind_the_Shoulder_Pads_Tales_I_Tell_My_Friends_Kindle_Edition': 'https://www.amazon.ca/Behind-Shoulder-Pads-Tales-Friends-ebook/dp/B0CDXZ1NQ9/ref=sr_1_869?qid=1700113171&refinements=p_n_binding_browse-bin%3A6202019011&rnid=2366372011&s=books&sr=1-869',\n",
       " 'A_Land_So_Strange_The_Epic_Journey_of_Cabeza_de_Vaca_Kindle_Edition': 'https://www.amazon.ca/Land-So-Strange-Journey-Cabeza-ebook/dp/B0097CWIMK/ref=sr_1_870?qid=1700113171&refinements=p_n_binding_browse-bin%3A6202019011&rnid=2366372011&s=books&sr=1-870',\n",
       " 'Angels_in_My_Hair_The_True_Story_of_a_Modern__Day_Irish_Mystic_Kindle_Edition': 'https://www.amazon.ca/Angels-My-Hair-Modern-Day-Mystic-ebook/dp/B0026OR1TQ/ref=sr_1_871?qid=1700113171&refinements=p_n_binding_browse-bin%3A6202019011&rnid=2366372011&s=books&sr=1-871',\n",
       " 'Peace_by_Chocolate_The_Hadhad_Family’s_Remarkable_Journey_from_Syria_to_Canada_Kindle_Edition': 'https://www.amazon.ca/Peace-Chocolate-Familys-Remarkable-Journey-ebook/dp/B09VCWQSBF/ref=sr_1_872?qid=1700113171&refinements=p_n_binding_browse-bin%3A6202019011&rnid=2366372011&s=books&sr=1-872',\n",
       " 'Thoughts_For_The_Day_Kindle_Edition': 'https://www.amazon.ca/Thoughts-Day-Charles-Handy-ebook/dp/B004URRYDK/ref=sr_1_875?qid=1700113171&refinements=p_n_binding_browse-bin%3A6202019011&rnid=2366372011&s=books&sr=1-875',\n",
       " 'Radical_A_Life_of_My_Own_Kindle_Edition': 'https://www.amazon.ca/Radical-Life-Own-Xiaolu-Guo-ebook/dp/B0BZ63S652/ref=sr_1_876?qid=1700113171&refinements=p_n_binding_browse-bin%3A6202019011&rnid=2366372011&s=books&sr=1-876',\n",
       " 'A_Cree_Healer_and_His_Medicine_Bundle_Revelations_of_Indigenous_Wisdom____Healing_Plants_Practices_and_Stories_1st_Edition_Kindle_Edition': 'https://www.amazon.ca/Cree-Healer-Medicine-Bundle-Wisdom-Healing-ebook/dp/B00NKDKI1U/ref=sr_1_877?qid=1700113171&refinements=p_n_binding_browse-bin%3A6202019011&rnid=2366372011&s=books&sr=1-877',\n",
       " 'The_Master_Plan_My_Journey_from_Life_in_Prison_to_a_Life_of_Purpose_Kindle_Edition': 'https://www.amazon.ca/Master-Plan-Journey-Prison-Purpose-ebook/dp/B07FRTZXBS/ref=sr_1_878?qid=1700113171&refinements=p_n_binding_browse-bin%3A6202019011&rnid=2366372011&s=books&sr=1-878',\n",
       " 'El_arribista_del_poder_La_historia_no_publicitaria_de_Massa_(Singular)_(Spanish_Edition)_Kindle_Edition': 'https://www.amazon.ca/El-arribista-del-poder-publicitaria-ebook/dp/B0BZBFGR63/ref=sr_1_879?qid=1700113171&refinements=p_n_binding_browse-bin%3A6202019011&rnid=2366372011&s=books&sr=1-879',\n",
       " 'Oliver_Mtukudzi_Living_Tuku_Music_in_Zimbabwe_(African_Expressive_Cultures)_Kindle_Edition': 'https://www.amazon.ca/Oliver-Mtukudzi-Zimbabwe-Expressive-Cultures-ebook/dp/B01MCTKYL3/ref=sr_1_880?qid=1700113171&refinements=p_n_binding_browse-bin%3A6202019011&rnid=2366372011&s=books&sr=1-880',\n",
       " 'Profusely_Illustrated_A_Memoir_Kindle_Edition': 'https://www.amazon.ca/Profusely-Illustrated-Memoir-Edward-Sorel-ebook/dp/B08WC7HK6K/ref=sr_1_881?qid=1700113171&refinements=p_n_binding_browse-bin%3A6202019011&rnid=2366372011&s=books&sr=1-881',\n",
       " 'Caesars_Wives_Sex_Power_and_Politics_in_the_Roman_Empire_Reprint_Edition_Kindle_Edition': 'https://www.amazon.ca/Caesars-Wives-Power-Politics-Empire-ebook/dp/B003V1WTQ8/ref=sr_1_882?qid=1700113171&refinements=p_n_binding_browse-bin%3A6202019011&rnid=2366372011&s=books&sr=1-882',\n",
       " 'Surprised_by_Oxford_A_Memoir_Kindle_Edition': 'https://www.amazon.ca/Surprised-Oxford-Memoir-Carolyn-Weber-ebook/dp/B005EH36RI/ref=sr_1_881?qid=1700113179&refinements=p_n_binding_browse-bin%3A6202019011&rnid=2366372011&s=books&sr=1-881',\n",
       " 'University_of_Berkshire_Hathaway_30_Years_of_Lessons_Learned_from_Warren_Buffett_&_Charlie_Munger_at_the_Annual_Shareholders_Meeting_Kindle_Edition': 'https://www.amazon.ca/University-Berkshire-Hathaway-Lessons-Shareholders-ebook/dp/B06XT89563/ref=sr_1_882?qid=1700113179&refinements=p_n_binding_browse-bin%3A6202019011&rnid=2366372011&s=books&sr=1-882',\n",
       " 'Undisputed_A_Champions_Life_Kindle_Edition': 'https://www.amazon.ca/Undisputed-Champions-Life-Donovan-Bailey-ebook/dp/B0BZ7D3QBJ/ref=sr_1_883?qid=1700113179&refinements=p_n_binding_browse-bin%3A6202019011&rnid=2366372011&s=books&sr=1-883',\n",
       " 'Ma_vie_en_trois_actes_MA_VIE_EN_TROIS_ACTES_[NUM]_(10_Sur_10)_(French_Edition)_Kindle_Edition': 'https://www.amazon.ca/vie-trois-actes-Sur-French-ebook/dp/B00STR1352/ref=sr_1_884?qid=1700113179&refinements=p_n_binding_browse-bin%3A6202019011&rnid=2366372011&s=books&sr=1-884',\n",
       " 'Alan_Watts_A_Life_from_Beginning_to_End_Kindle_Edition': 'https://www.amazon.ca/Alan-Watts-Life-Beginning-End-ebook/dp/B0CLKZ6JN6/ref=sr_1_885?qid=1700113179&refinements=p_n_binding_browse-bin%3A6202019011&rnid=2366372011&s=books&sr=1-885',\n",
       " 'The_Story_of_Philosophy_Kindle_Edition': 'https://www.amazon.ca/Story-Philosophy-Will-Durant-ebook/dp/B0B9RG22BL/ref=sr_1_886?qid=1700113179&refinements=p_n_binding_browse-bin%3A6202019011&rnid=2366372011&s=books&sr=1-886',\n",
       " 'Living_the_Beatles_Legend_The_Untold_Story_of_Mal_Evans_Kindle_Edition': 'https://www.amazon.ca/Living-Beatles-Legend-Untold-Story-ebook/dp/B0BH5SHCCW/ref=sr_1_887?qid=1700113179&refinements=p_n_binding_browse-bin%3A6202019011&rnid=2366372011&s=books&sr=1-887',\n",
       " 'The_Liberator_One_World_War_II_Soldiers_500__Day_Odyssey_from_the_Beaches_of_Sicily_to_the_Gates_of_Dachau_Kindle_Edition': 'https://www.amazon.ca/Liberator-Soldiers-500-Day-Odyssey-Beaches-ebook/dp/B0083DJTXK/ref=sr_1_888?qid=1700113179&refinements=p_n_binding_browse-bin%3A6202019011&rnid=2366372011&s=books&sr=1-888',\n",
       " 'Break_Point_SAS_Who_Dares_Wins_Hosts_Incredible_True_Story_Kindle_Edition': 'https://www.amazon.ca/Break-Point-Incredible-Perfect-Summer-ebook/dp/B07N5761FM/ref=sr_1_891?qid=1700113179&refinements=p_n_binding_browse-bin%3A6202019011&rnid=2366372011&s=books&sr=1-891',\n",
       " 'What_We_See_When_We_Read_Kindle_Edition': 'https://www.amazon.ca/What-We-See-When-Read-ebook/dp/B00IHMFAKS/ref=sr_1_892?qid=1700113179&refinements=p_n_binding_browse-bin%3A6202019011&rnid=2366372011&s=books&sr=1-892',\n",
       " 'MAN_VS_CRAZY_a_memoir_of_mental_illness_maturity_and_mortality_Kindle_Edition': 'https://www.amazon.ca/MAN-VS-CRAZY-maturity-mortality-ebook/dp/B0BFG8XT5R/ref=sr_1_893?qid=1700113179&refinements=p_n_binding_browse-bin%3A6202019011&rnid=2366372011&s=books&sr=1-893',\n",
       " 'Somewhere_Towards_The_End_Kindle_Edition': 'https://www.amazon.ca/Somewhere-Towards-End-Diana-Athill-ebook/dp/B002ROKQLA/ref=sr_1_894?qid=1700113179&refinements=p_n_binding_browse-bin%3A6202019011&rnid=2366372011&s=books&sr=1-894',\n",
       " 'The_Woman_They_Could_Not_Silence_One_Woman_Her_Incredible_Fight_for_Freedom_and_the_Men_Who_Tried_to_Make_Her_Disappear_(Womens_History_Month_True_Story_about_an_Inspirational_Woman)_Kindle_Edition': 'https://www.amazon.ca/Woman-They-Could-Not-Silence-ebook/dp/B08LR174TM/ref=sr_1_895?qid=1700113179&refinements=p_n_binding_browse-bin%3A6202019011&rnid=2366372011&s=books&sr=1-895',\n",
       " 'The_Battle_of_the_Narrow_Seas_The_History_of_Light_Coastal_Forces_in_the_Channel_and_North_Sea_1939–1945_Kindle_Edition': 'https://www.amazon.ca/Battle-Narrow-Seas-History-1939-1945-ebook/dp/B00LWF60A6/ref=sr_1_896?qid=1700113179&refinements=p_n_binding_browse-bin%3A6202019011&rnid=2366372011&s=books&sr=1-896',\n",
       " 'The_Truth_About_Stories_A_Native_Narrative_(The_CBC_Massey_Lectures)_Kindle_Edition': 'https://www.amazon.ca/Truth-About-Stories-Narrative-Lectures-ebook/dp/B09391J4YP/ref=sr_1_897?qid=1700113179&refinements=p_n_binding_browse-bin%3A6202019011&rnid=2366372011&s=books&sr=1-897',\n",
       " 'Don_Quixote_Kindle_Edition': 'https://www.amazon.ca/Don-Quixote-Miguel-Cervantes-ebook/dp/B001R1LCKS/ref=sr_1_898?qid=1700113179&refinements=p_n_binding_browse-bin%3A6202019011&rnid=2366372011&s=books&sr=1-898',\n",
       " 'World_Travel_An_Irreverent_Guide_Kindle_Edition': 'https://www.amazon.ca/World-Travel-Irreverent-Anthony-Bourdain-ebook/dp/B083SN8RF7/ref=sr_1_897?qid=1700113186&refinements=p_n_binding_browse-bin%3A6202019011&rnid=2366372011&s=books&sr=1-897',\n",
       " 'What_I_Talk_About_When_I_Talk_About_Running_A_Memoir_Kindle_Edition': 'https://www.amazon.ca/What-Talk-About-When-Running-ebook/dp/B0031TZBQU/ref=sr_1_898?qid=1700113186&refinements=p_n_binding_browse-bin%3A6202019011&rnid=2366372011&s=books&sr=1-898',\n",
       " 'My_Appetite_for_Destruction_Sex_and_Drugs_and_Guns_N_Roses_Kindle_Edition': 'https://www.amazon.ca/My-Appetite-Destruction-Drugs-Roses-ebook/dp/B003TLN1EE/ref=sr_1_899?qid=1700113186&refinements=p_n_binding_browse-bin%3A6202019011&rnid=2366372011&s=books&sr=1-899',\n",
       " 'A_Flat_Place_Moving_Through_Empty_Landscapes_Naming_Complex_Trauma_Kindle_Edition': 'https://www.amazon.ca/Flat-Place-Through-Landscapes-Complex-ebook/dp/B0BDDPXRK9/ref=sr_1_900?qid=1700113186&refinements=p_n_binding_browse-bin%3A6202019011&rnid=2366372011&s=books&sr=1-900',\n",
       " 'Some_People_Need_Killing_A_Memoir_of_Murder_in_My_Country_Kindle_Edition': 'https://www.amazon.ca/Some-People-Need-Killing-Country-ebook/dp/B0C13MDPN1/ref=sr_1_901?qid=1700113186&refinements=p_n_binding_browse-bin%3A6202019011&rnid=2366372011&s=books&sr=1-901',\n",
       " 'Hendo_The_American_Athlete_Kindle_Edition': 'https://www.amazon.ca/Hendo-American-Athlete-Dan-Henderson-ebook/dp/B0BZQDQRRF/ref=sr_1_902?qid=1700113186&refinements=p_n_binding_browse-bin%3A6202019011&rnid=2366372011&s=books&sr=1-902',\n",
       " 'Bloody_Minded_My_Life_in_Cycling_Kindle_Edition': 'https://www.amazon.ca/Bloody-Minded-My-Life-Cycling-ebook/dp/B0BZRQ5T8S/ref=sr_1_903?qid=1700113186&refinements=p_n_binding_browse-bin%3A6202019011&rnid=2366372011&s=books&sr=1-903',\n",
       " 'Prisoner_of_Tehran_A_Memoir_Kindle_Edition': 'https://www.amazon.ca/Prisoner-Tehran-Memoir-Marina-Nemat-ebook/dp/B00480OBU8/ref=sr_1_904?qid=1700113186&refinements=p_n_binding_browse-bin%3A6202019011&rnid=2366372011&s=books&sr=1-904',\n",
       " 'Drinking_Games_A_Memoir_Kindle_Edition': 'https://www.amazon.ca/Drinking-Games-Memoir-Sarah-Levy-ebook/dp/B09Y46HRHZ/ref=sr_1_907?qid=1700113186&refinements=p_n_binding_browse-bin%3A6202019011&rnid=2366372011&s=books&sr=1-907',\n",
       " 'What_I_Was_Doing_While_You_Were_Breeding_A_Memoir_Kindle_Edition': 'https://www.amazon.ca/What-Doing-While-Were-Breeding-ebook/dp/B00GVZZN32/ref=sr_1_908?qid=1700113186&refinements=p_n_binding_browse-bin%3A6202019011&rnid=2366372011&s=books&sr=1-908',\n",
       " 'A_Carnival_of_Snackery_Diaries_(2003__2020)_Kindle_Edition': 'https://www.amazon.ca/Carnival-Snackery-Diaries-2003-2020-ebook/dp/B08X4BB2FF/ref=sr_1_909?qid=1700113186&refinements=p_n_binding_browse-bin%3A6202019011&rnid=2366372011&s=books&sr=1-909',\n",
       " 'Paper_Trails_From_the_Backwoods_to_the_Front_Page_a_Life_in_Stories_Kindle_Edition': 'https://www.amazon.ca/Paper-Trails-Backwoods-Front-Stories-ebook/dp/B0BMWS9V17/ref=sr_1_910?qid=1700113186&refinements=p_n_binding_browse-bin%3A6202019011&rnid=2366372011&s=books&sr=1-910',\n",
       " 'To_Die_For_A_Novel_Kindle_Edition': 'https://www.amazon.ca/Die-Novel-Joyce-Maynard-ebook/dp/B007S7JYWS/ref=sr_1_911?qid=1700113186&refinements=p_n_binding_browse-bin%3A6202019011&rnid=2366372011&s=books&sr=1-911',\n",
       " 'The_Twat_Files_A_hilarious_sort__of_memoir_of_mistakes_mishaps_and_mess__ups_Kindle_Edition': 'https://www.amazon.ca/Twat-Files-hilarious-sort-mistakes-ebook/dp/B0C7K4QFXH/ref=sr_1_912?qid=1700113186&refinements=p_n_binding_browse-bin%3A6202019011&rnid=2366372011&s=books&sr=1-912',\n",
       " 'The_Near_and_the_Dear_Stories_of_Neem_Karoli_Baba_and_His_Devotees_Kindle_Edition': 'https://www.amazon.ca/Near-Dear-Stories-Karoli-Devotees-ebook/dp/B00M8ERRXE/ref=sr_1_913?qid=1700113186&refinements=p_n_binding_browse-bin%3A6202019011&rnid=2366372011&s=books&sr=1-913',\n",
       " 'The_Snakehead_An_Epic_Tale_of_the_Chinatown_Underworld_and_the_American_Dream_Kindle_Edition': 'https://www.amazon.ca/Snakehead-Chinatown-Underworld-American-Dream-ebook/dp/B002HMJZAA/ref=sr_1_914?qid=1700113186&refinements=p_n_binding_browse-bin%3A6202019011&rnid=2366372011&s=books&sr=1-914',\n",
       " 'My_Friend_Anna_The_True_Story_of_a_Fake_Heiress_Kindle_Edition': 'https://www.amazon.ca/My-Friend-Anna-Story-Heiress-ebook/dp/B07ND3TRVX/ref=sr_1_913?qid=1700113194&refinements=p_n_binding_browse-bin%3A6202019011&rnid=2366372011&s=books&sr=1-913',\n",
       " 'The_Sixth_Family_Kindle_Edition': 'https://www.amazon.ca/Sixth-Family-Adrian-Humphreys-ebook/dp/B00G98R18G/ref=sr_1_914?qid=1700113194&refinements=p_n_binding_browse-bin%3A6202019011&rnid=2366372011&s=books&sr=1-914',\n",
       " 'If_We_Break_A_Memoir_of_Marriage_Addiction_and_Healing_Kindle_Edition': 'https://www.amazon.ca/If-We-Break-Marriage-Addiction-ebook/dp/B09M31ZBGP/ref=sr_1_915?qid=1700113194&refinements=p_n_binding_browse-bin%3A6202019011&rnid=2366372011&s=books&sr=1-915',\n",
       " 'John_Kindle_Edition': 'https://www.amazon.ca/John-Cynthia-Lennon-ebook/dp/B00GVFNMLM/ref=sr_1_916?qid=1700113194&refinements=p_n_binding_browse-bin%3A6202019011&rnid=2366372011&s=books&sr=1-916',\n",
       " 'Le_Monstre_MONSTRE___LE_[NUM]_(French_Edition)_Kindle_Edition': 'https://www.amazon.ca/Monstre-French-Ingrid-Falaise-ebook/dp/B0167J29YM/ref=sr_1_917?qid=1700113194&refinements=p_n_binding_browse-bin%3A6202019011&rnid=2366372011&s=books&sr=1-917',\n",
       " 'Playin_Possum_My_Memories_of_George_Jones_Kindle_Edition': 'https://www.amazon.ca/Playin-Possum-Memories-George-Jones-ebook/dp/B0C6KYSQ2W/ref=sr_1_918?qid=1700113194&refinements=p_n_binding_browse-bin%3A6202019011&rnid=2366372011&s=books&sr=1-918',\n",
       " 'Into_the_Void_From_Birth_to_Black_Sabbath—And_Beyond_Kindle_Edition': 'https://www.amazon.ca/Into-Void-Birth-Sabbath-Beyond-ebook/dp/B0BK9FWZQS/ref=sr_1_919?qid=1700113194&refinements=p_n_binding_browse-bin%3A6202019011&rnid=2366372011&s=books&sr=1-919',\n",
       " 'The_Comfort_of_Crows_A_Backyard_Year_Kindle_Edition': 'https://www.amazon.ca/Comfort-Crows-Backyard-Year-ebook/dp/B0BW644M4N/ref=sr_1_920?qid=1700113194&refinements=p_n_binding_browse-bin%3A6202019011&rnid=2366372011&s=books&sr=1-920',\n",
       " 'Leaders_Profiles_and_Reminiscences_of_Men_Who_Have_Shaped_the_Modern_World_Kindle_Edition': 'https://www.amazon.ca/Leaders-Profiles-Reminiscences-Shaped-Modern-ebook/dp/B00AHE2476/ref=sr_1_923?qid=1700113194&refinements=p_n_binding_browse-bin%3A6202019011&rnid=2366372011&s=books&sr=1-923',\n",
       " 'Stalin_New_Biography_of_a_Dictator_Kindle_Edition': 'https://www.amazon.ca/Stalin-Biography-Dictator-Oleg-Khlevniuk-ebook/dp/B00WUNWELI/ref=sr_1_924?qid=1700113194&refinements=p_n_binding_browse-bin%3A6202019011&rnid=2366372011&s=books&sr=1-924',\n",
       " 'The_Courage_to_Face_Covid__19_Preventing_Hospitalization_and_Death_While_Battling_the_Bio__Pharmaceutical_Complex_Kindle_Edition': 'https://www.amazon.ca/Courage-Face-Covid-19-Hospitalization-Bio-Pharmaceutical-ebook/dp/B09ZBJLWD9/ref=sr_1_925?qid=1700113194&refinements=p_n_binding_browse-bin%3A6202019011&rnid=2366372011&s=books&sr=1-925',\n",
       " 'The_Search_for_Cleopatra_The_True_Story_of_Historys_Most_Intriguing_Woman_Kindle_Edition': 'https://www.amazon.ca/Search-Cleopatra-Story-Historys-Intriguing-ebook/dp/B00IQY3DBA/ref=sr_1_926?qid=1700113194&refinements=p_n_binding_browse-bin%3A6202019011&rnid=2366372011&s=books&sr=1-926',\n",
       " 'World_Within_a_Song_Music_That_Changed_My_Life_and_Life_That_Changed_My_Music_Kindle_Edition': 'https://www.amazon.ca/World-Within-Song-Music-Changed-ebook/dp/B0BV69DC1Q/ref=sr_1_927?qid=1700113194&refinements=p_n_binding_browse-bin%3A6202019011&rnid=2366372011&s=books&sr=1-927',\n",
       " 'The_Devil_and_Sherlock_Holmes_Kindle_Edition': 'https://www.amazon.ca/Devil-Sherlock-Holmes-David-Grann-ebook/dp/B0036S4E3M/ref=sr_1_928?qid=1700113194&refinements=p_n_binding_browse-bin%3A6202019011&rnid=2366372011&s=books&sr=1-928',\n",
       " 'Doglapan_The_Hard_Truth_about_Life_and_Start__Ups_Kindle_Edition': 'https://www.amazon.ca/Doglapan-Hard-Truth-about-Start-Ups-ebook/dp/B0BN23PQ6N/ref=sr_1_929?qid=1700113194&refinements=p_n_binding_browse-bin%3A6202019011&rnid=2366372011&s=books&sr=1-929',\n",
       " 'A_Man_Called_Intrepid_The_Incredible_True_Story_of_the_Master_Spy_Who_Helped_Win_World_War_II_Kindle_Edition': 'https://www.amazon.ca/Man-Called-Intrepid-Incredible-Master-ebook/dp/B00HX1K1J4/ref=sr_1_930?qid=1700113194&refinements=p_n_binding_browse-bin%3A6202019011&rnid=2366372011&s=books&sr=1-930',\n",
       " 'Love_and_Genetics_A_true_story_of_adoption_surrogacy_and_the_meaning_of_family_Kindle_Edition': 'https://www.amazon.ca/Love-Genetics-adoption-surrogacy-meaning-ebook/dp/B09LWFNJKB/ref=sr_1_929?qid=1700113202&refinements=p_n_binding_browse-bin%3A6202019011&rnid=2366372011&s=books&sr=1-929',\n",
       " 'The_Shift_Change_Your_Perspective_Not_Yourself_Kindle_Edition': 'https://www.amazon.ca/Shift-Change-Your-Perspective-Yourself-ebook/dp/B0BTDVHDY6/ref=sr_1_930?qid=1700113202&refinements=p_n_binding_browse-bin%3A6202019011&rnid=2366372011&s=books&sr=1-930',\n",
       " 'Judgment_Ridge_The_True_Story_Behind_the_Dartmouth_Murders_Kindle_Edition': 'https://www.amazon.ca/Judgment-Ridge-Behind-Dartmouth-Murders-ebook/dp/B001QIGZL8/ref=sr_1_931?qid=1700113202&refinements=p_n_binding_browse-bin%3A6202019011&rnid=2366372011&s=books&sr=1-931',\n",
       " 'Invisible_Boy_A_Memoir_of_Self__Discovery_Kindle_Edition': 'https://www.amazon.ca/Invisible-Boy-Self-Discovery-Harrison-Mooney-ebook/dp/B09NW5DVTL/ref=sr_1_932?qid=1700113202&refinements=p_n_binding_browse-bin%3A6202019011&rnid=2366372011&s=books&sr=1-932',\n",
       " 'Terminer_en_beauté_(French_Edition)_Kindle_Edition': 'https://www.amazon.ca/Terminer-beaut%C3%A9-French-Jacqueline-Jencquel-ebook/dp/B08B3CT7MW/ref=sr_1_933?qid=1700113202&refinements=p_n_binding_browse-bin%3A6202019011&rnid=2366372011&s=books&sr=1-933',\n",
       " 'Golden_Age_Of_Zen_Zen_Masters_Of_The_T_Zen_Masters_of_the_Tang_Dynasty_(Spiritual_Masters)_Kindle_Edition': 'https://www.amazon.ca/Golden-Age-Zen-Masters-Spiritual-ebook/dp/B004KKXNVY/ref=sr_1_934?qid=1700113202&refinements=p_n_binding_browse-bin%3A6202019011&rnid=2366372011&s=books&sr=1-934',\n",
       " 'Russ_&_Daughters_Reflections_and_Recipes_from_the_House_That_Herring_Built_Kindle_Edition': 'https://www.amazon.ca/Russ-Daughters-Reflections-Recipes-Herring-ebook/dp/B00985DYJ2/ref=sr_1_935?qid=1700113202&refinements=p_n_binding_browse-bin%3A6202019011&rnid=2366372011&s=books&sr=1-935',\n",
       " 'Scars_and_Stripes_An_Unapologetically_American_Story_of_Fighting_the_Taliban_UFC_Warriors_and_Myself_Kindle_Edition': 'https://www.amazon.ca/Scars-Stripes-Unapologetically-American-Fighting-ebook/dp/B09JPKCC8V/ref=sr_1_936?qid=1700113202&refinements=p_n_binding_browse-bin%3A6202019011&rnid=2366372011&s=books&sr=1-936',\n",
       " 'The_Beauty_of_Living_Twice_Kindle_Edition': 'https://www.amazon.ca/Beauty-Living-Twice-Sharon-Stone-ebook/dp/B08CTHSG1R/ref=sr_1_939?qid=1700113202&refinements=p_n_binding_browse-bin%3A6202019011&rnid=2366372011&s=books&sr=1-939',\n",
       " 'Tracers_in_the_Dark_The_Global_Hunt_for_the_Crime_Lords_of_Cryptocurrency_Kindle_Edition': 'https://www.amazon.ca/Tracers-Dark-Global-Crime-Cryptocurrency-ebook/dp/B09SKW8WRV/ref=sr_1_940?qid=1700113202&refinements=p_n_binding_browse-bin%3A6202019011&rnid=2366372011&s=books&sr=1-940',\n",
       " 'The_Last_Girl_My_Story_of_Captivity_and_My_Fight_Against_the_Islamic_State_Kindle_Edition': 'https://www.amazon.ca/Last-Girl-Captivity-Against-Islamic-ebook/dp/B06WLJZRDN/ref=sr_1_941?qid=1700113202&refinements=p_n_binding_browse-bin%3A6202019011&rnid=2366372011&s=books&sr=1-941',\n",
       " 'Boy_Kings_of_Texas_A_Memoir_Kindle_Edition': 'https://www.amazon.ca/Boy-Kings-Texas-Domingo-Martinez-ebook/dp/B00MJD6PGE/ref=sr_1_942?qid=1700113202&refinements=p_n_binding_browse-bin%3A6202019011&rnid=2366372011&s=books&sr=1-942',\n",
       " 'Whatever_Next?_Lessons_from_an_Unexpected_Life_Kindle_Edition': 'https://www.amazon.ca/Whatever-Next-Lessons-Unexpected-Life-ebook/dp/B09TZYY897/ref=sr_1_943?qid=1700113202&refinements=p_n_binding_browse-bin%3A6202019011&rnid=2366372011&s=books&sr=1-943',\n",
       " 'Energy_Follows_Thought_The_Stories_Behind_My_Songs_Kindle_Edition': 'https://www.amazon.ca/Energy-Follows-Thought-Stories-Behind-ebook/dp/B0BWYVTGBY/ref=sr_1_944?qid=1700113202&refinements=p_n_binding_browse-bin%3A6202019011&rnid=2366372011&s=books&sr=1-944',\n",
       " '馬斯克傳_唯一不設限、全公開傳記_(Traditional_Chinese_Edition)_Kindle_Edition': 'https://www.amazon.ca/%E9%A6%AC%E6%96%AF%E5%85%8B%E5%82%B3-%E5%94%AF%E4%B8%80%E4%B8%8D%E8%A8%AD%E9%99%90%E3%80%81%E5%85%A8%E5%85%AC%E9%96%8B%E5%82%B3%E8%A8%98-Traditional-%E8%8F%AF%E7%89%B9-%E8%89%BE%E8%96%A9%E5%85%8B%E6%A3%AE-ebook/dp/B0CKWZCQPB/ref=sr_1_945?qid=1700113202&refinements=p_n_binding_browse-bin%3A6202019011&rnid=2366372011&s=books&sr=1-945',\n",
       " 'Becoming_Kin_An_Indigenous_Call_to_Unforgetting_the_Past_and_Reimagining_Our_Future_Kindle_Edition': 'https://www.amazon.ca/Becoming-Kin-Indigenous-Unforgetting-Reimagining-ebook/dp/B09RQ1SX64/ref=sr_1_946?qid=1700113202&refinements=p_n_binding_browse-bin%3A6202019011&rnid=2366372011&s=books&sr=1-946',\n",
       " 'It_Was_All_a_Lie_How_the_Republican_Party_Became_Donald_Trump_Kindle_Edition': 'https://www.amazon.ca/Was-All-Lie-Republican-Became-ebook/dp/B07ZY73FTN/ref=sr_1_945?qid=1700113209&refinements=p_n_binding_browse-bin%3A6202019011&rnid=2366372011&s=books&sr=1-945',\n",
       " 'Without_My_Children_Kindle_Edition': 'https://www.amazon.ca/Without-My-Children-Sonia-Lamarche-ebook/dp/B0B3GL26P5/ref=sr_1_946?qid=1700113209&refinements=p_n_binding_browse-bin%3A6202019011&rnid=2366372011&s=books&sr=1-946',\n",
       " 'Tecumseh_A_Life_Kindle_Edition': 'https://www.amazon.ca/Tecumseh-Life-John-Sugden-ebook/dp/B00DFFMZ00/ref=sr_1_947?qid=1700113209&refinements=p_n_binding_browse-bin%3A6202019011&rnid=2366372011&s=books&sr=1-947',\n",
       " 'Feeding_the_Soul_(Because_Its_My_Business)_Finding_Our_Way_to_Joy_Love_and_Freedom_(A_Feeding_the_Soul_Book)_Kindle_Edition': 'https://www.amazon.ca/Feeding-Soul-Because-Its-Business-ebook/dp/B08WLVW9F1/ref=sr_1_948?qid=1700113209&refinements=p_n_binding_browse-bin%3A6202019011&rnid=2366372011&s=books&sr=1-948',\n",
       " 'Landbridge_life_in_fragments_Kindle_Edition': 'https://www.amazon.ca/Landbridge-life-fragments-Y-Dang-Troeung-ebook/dp/B0BZ3M8TDH/ref=sr_1_949?qid=1700113209&refinements=p_n_binding_browse-bin%3A6202019011&rnid=2366372011&s=books&sr=1-949',\n",
       " 'From_Harvey_River_Kindle_Edition': 'https://www.amazon.ca/Harvey-River-Lorna-Goodison-ebook/dp/B00395ZZAS/ref=sr_1_950?qid=1700113209&refinements=p_n_binding_browse-bin%3A6202019011&rnid=2366372011&s=books&sr=1-950',\n",
       " 'Hitlers_Pope_The_Secret_History_of_Pius_XII_Kindle_Edition': 'https://www.amazon.ca/Hitlers-Pope-Secret-History-Pius-ebook/dp/B000QUCO5I/ref=sr_1_951?qid=1700113209&refinements=p_n_binding_browse-bin%3A6202019011&rnid=2366372011&s=books&sr=1-951',\n",
       " 'Tall_Tales_and_Wee_Stories_The_Best_of_Billy_Connolly_Kindle_Edition': 'https://www.amazon.ca/Tall-Tales-Wee-Stories-Connolly-ebook/dp/B07W3M4S6D/ref=sr_1_952?qid=1700113209&refinements=p_n_binding_browse-bin%3A6202019011&rnid=2366372011&s=books&sr=1-952',\n",
       " 'Winter_Solstice_An_Essay_Kindle_Edition': 'https://www.amazon.ca/Winter-Solstice-Essay-Nina-MacLaughlin-ebook/dp/B0C35GMS8S/ref=sr_1_955?qid=1700113209&refinements=p_n_binding_browse-bin%3A6202019011&rnid=2366372011&s=books&sr=1-955',\n",
       " 'Tudo_passará_A_vida_de_Nelson_Ned_o_Pequeno_Gigante_da_Canção_(Portuguese_Edition)_Kindle_Edition': 'https://www.amazon.ca/Tudo-passar%C3%A1-Pequeno-Gigante-Portuguese-ebook/dp/B0CHXHMBCK/ref=sr_1_956?qid=1700113209&refinements=p_n_binding_browse-bin%3A6202019011&rnid=2366372011&s=books&sr=1-956',\n",
       " 'See_No_Stranger_A_Memoir_and_Manifesto_of_Revolutionary_Love_Kindle_Edition': 'https://www.amazon.ca/See-No-Stranger-Manifesto-Revolutionary-ebook/dp/B07YK1T4FN/ref=sr_1_957?qid=1700113209&refinements=p_n_binding_browse-bin%3A6202019011&rnid=2366372011&s=books&sr=1-957',\n",
       " 'Old_Pilot_Bold_Pilot_Kindle_Edition': 'https://www.amazon.ca/Old-Pilot-Bold-Blaine-Bjarnarson-ebook/dp/B0CLVPHKRK/ref=sr_1_958?qid=1700113209&refinements=p_n_binding_browse-bin%3A6202019011&rnid=2366372011&s=books&sr=1-958',\n",
       " 'My_Life_in_Full_Work_Family_and_Our_Future_Kindle_Edition': 'https://www.amazon.ca/My-Life-Full-Family-Future-ebook/dp/B08YN8H8GF/ref=sr_1_959?qid=1700113209&refinements=p_n_binding_browse-bin%3A6202019011&rnid=2366372011&s=books&sr=1-959',\n",
       " 'Stalked_A_dangerous_predator_A_life_lived_in_fear_A_terrifying_true_story_Kindle_Edition': 'https://www.amazon.ca/Stalked-dangerous-predator-terrifying-story-ebook/dp/B00LB89SI0/ref=sr_1_960?qid=1700113209&refinements=p_n_binding_browse-bin%3A6202019011&rnid=2366372011&s=books&sr=1-960',\n",
       " 'After_All___A_True_Story_Kindle_Edition': 'https://www.amazon.ca/After-All-Story-Maria-Trautman-ebook/dp/B08KBSH81R/ref=sr_1_961?qid=1700113209&refinements=p_n_binding_browse-bin%3A6202019011&rnid=2366372011&s=books&sr=1-961',\n",
       " 'A_Fighters_Heart_One_Mans_Journey_Through_the_World_of_Fighting_Kindle_Edition': 'https://www.amazon.ca/Fighters-Heart-Journey-Through-Fighting-ebook/dp/B005TJMDWU/ref=sr_1_962?qid=1700113209&refinements=p_n_binding_browse-bin%3A6202019011&rnid=2366372011&s=books&sr=1-962',\n",
       " 'This_Is_the_Story_of_a_Happy_Marriage_A_Reeses_Book_Club_Pick_Kindle_Edition': 'https://www.amazon.ca/This-Story-Happy-Marriage-Patchett-ebook/dp/B00BATKV2M/ref=sr_1_961?qid=1700113216&refinements=p_n_binding_browse-bin%3A6202019011&rnid=2366372011&s=books&sr=1-961',\n",
       " 'Blood_and_Oil_Mohammed_bin_Salmans_Ruthless_Quest_for_Global_Power_Kindle_Edition': 'https://www.amazon.ca/Blood-Oil-Mohammed-Salmans-Ruthless-ebook/dp/B085C6V4JP/ref=sr_1_962?qid=1700113216&refinements=p_n_binding_browse-bin%3A6202019011&rnid=2366372011&s=books&sr=1-962',\n",
       " 'Life_in_Five_Senses_How_Exploring_the_Senses_Got_Me_Out_of_My_Head_and_Into_the_World_Kindle_Edition': 'https://www.amazon.ca/Life-Five-Senses-Exploring-World-ebook/dp/B0B6Z5LGYW/ref=sr_1_963?qid=1700113216&refinements=p_n_binding_browse-bin%3A6202019011&rnid=2366372011&s=books&sr=1-963',\n",
       " 'The_Witching_Year_A_Memoir_of_Earnest_Fumbling_Through_Modern_Witchcraft_Kindle_Edition': 'https://www.amazon.ca/Witching-Year-Earnest-Fumbling-Witchcraft-ebook/dp/B0BTZ9KRC6/ref=sr_1_964?qid=1700113216&refinements=p_n_binding_browse-bin%3A6202019011&rnid=2366372011&s=books&sr=1-964',\n",
       " 'Jean_Le_Cam_Toutes_voiles_dehors_(French_Edition)_Kindle_Edition': 'https://www.amazon.ca/Jean-Toutes-voiles-dehors-French-ebook/dp/B09DRKJ5BT/ref=sr_1_965?qid=1700113216&refinements=p_n_binding_browse-bin%3A6202019011&rnid=2366372011&s=books&sr=1-965',\n",
       " 'Nine_Parts_of_Desire_The_Hidden_World_of_Islamic_Women_Kindle_Edition': 'https://www.amazon.ca/Nine-Parts-Desire-Hidden-Islamic-ebook/dp/B00395ZZD0/ref=sr_1_966?qid=1700113216&refinements=p_n_binding_browse-bin%3A6202019011&rnid=2366372011&s=books&sr=1-966',\n",
       " 'When_the_Sun_Bursts_The_Enigma_of_Schizophrenia_Kindle_Edition': 'https://www.amazon.ca/When-Sun-Bursts-Enigma-Schizophrenia-ebook/dp/B016WX7RZO/ref=sr_1_967?qid=1700113216&refinements=p_n_binding_browse-bin%3A6202019011&rnid=2366372011&s=books&sr=1-967',\n",
       " 'Triumph_of_Hope_From_Theresienstadt_and_Auschwitz_to_Israel_Kindle_Edition': 'https://www.amazon.ca/Triumph-Hope-Theresienstadt-Auschwitz-Israel-ebook/dp/B00H8AYFBA/ref=sr_1_968?qid=1700113216&refinements=p_n_binding_browse-bin%3A6202019011&rnid=2366372011&s=books&sr=1-968',\n",
       " 'Hermit_of_Peking_The_hidden_life_of_Sir_Edmund_Backhouse_Kindle_Edition': 'https://www.amazon.ca/Hermit-Peking-hidden-Edmund-Backhouse-ebook/dp/B08P3YBZ6Z/ref=sr_1_971?qid=1700113216&refinements=p_n_binding_browse-bin%3A6202019011&rnid=2366372011&s=books&sr=1-971',\n",
       " 'Lightning_Sky_A_US_Fighter_Pilot_Captured_during_WWII_and_His_Fathers_Quest_to_Find_Him_Kindle_Edition': 'https://www.amazon.ca/Lightning-Sky-Fighter-Captured-Fathers-ebook/dp/B07G6SSJ7V/ref=sr_1_972?qid=1700113216&refinements=p_n_binding_browse-bin%3A6202019011&rnid=2366372011&s=books&sr=1-972',\n",
       " 'Dirt_Adventures_in_Lyon_as_a_Chef_in_Training_Father_and_Sleuth_Looking_for_the_Secret_of_French_cooking_Kindle_Edition': 'https://www.amazon.ca/Dirt-Adventures-Training-Looking-cooking-ebook/dp/B081M5G9KD/ref=sr_1_973?qid=1700113216&refinements=p_n_binding_browse-bin%3A6202019011&rnid=2366372011&s=books&sr=1-973',\n",
       " 'We_Were_Invincible_Testimony_of_an_Ex__Commando_Kindle_Edition': 'https://www.amazon.ca/We-Were-Invincible-Testimony-Ex-Commando-ebook/dp/B00AEEEVPM/ref=sr_1_974?qid=1700113216&refinements=p_n_binding_browse-bin%3A6202019011&rnid=2366372011&s=books&sr=1-974',\n",
       " 'The_Liars_Club_A_Memoir_Kindle_Edition': 'https://www.amazon.ca/Liars-Club-Memoir-Mary-Karr-ebook/dp/B008LY24II/ref=sr_1_975?qid=1700113216&refinements=p_n_binding_browse-bin%3A6202019011&rnid=2366372011&s=books&sr=1-975',\n",
       " 'Détecteur_de_mensonges_La_vie_fascinante_de_Jacques_Landry_virtuose_de_l’interrogatoire_(French_Edition)_Kindle_Edition': 'https://www.amazon.ca/D%C3%A9tecteur-mensonges-fascinante-virtuose-linterrogatoire-ebook/dp/B0CHT9HK9H/ref=sr_1_976?qid=1700113216&refinements=p_n_binding_browse-bin%3A6202019011&rnid=2366372011&s=books&sr=1-976',\n",
       " 'The_Diary_of_a_Young_Girl_The_Definitive_Edition_Kindle_Edition': 'https://www.amazon.ca/Diary-Young-Girl-Definitive-ebook/dp/B0B1PZQ6PX/ref=sr_1_977?qid=1700113216&refinements=p_n_binding_browse-bin%3A6202019011&rnid=2366372011&s=books&sr=1-977',\n",
       " 'The_Joys_of_Compounding_The_Passionate_Pursuit_of_Lifelong_Learning_Revised_and_Updated_(Heilbrunn_Center_for_Graham_&_Dodd_Investing_Series)_Kindle_Edition': 'https://www.amazon.ca/Joys-Compounding-Passionate-Heilbrunn-Investing-ebook/dp/B081KB6NT6/ref=sr_1_978?qid=1700113216&refinements=p_n_binding_browse-bin%3A6202019011&rnid=2366372011&s=books&sr=1-978',\n",
       " 'A_Death_in_Malta_An_Assassination_and_a_Familys_Quest_for_Justice_Kindle_Edition': 'https://www.amazon.ca/Death-Malta-Assassination-Familys-Justice-ebook/dp/B0BV68QJ2J/ref=sr_1_977?qid=1700113224&refinements=p_n_binding_browse-bin%3A6202019011&rnid=2366372011&s=books&sr=1-977',\n",
       " 'Rise_to_Greatness_The_History_of_Canada_From_the_Vikings_to_the_Present_Kindle_Edition': 'https://www.amazon.ca/Rise-Greatness-History-Vikings-Present-ebook/dp/B00NDTUD2A/ref=sr_1_978?qid=1700113224&refinements=p_n_binding_browse-bin%3A6202019011&rnid=2366372011&s=books&sr=1-978',\n",
       " 'Jesus_and_John_Wayne_How_White_Evangelicals_Corrupted_a_Faith_and_Fractured_a_Nation_Kindle_Edition': 'https://www.amazon.ca/Jesus-John-Wayne-Evangelicals-Corrupted-ebook/dp/B07ZTSVLX3/ref=sr_1_979?qid=1700113224&refinements=p_n_binding_browse-bin%3A6202019011&rnid=2366372011&s=books&sr=1-979',\n",
       " 'What_I_Learned_About_Politics_Inside_the_Rise__and_Collapse__of_Nova_Scotias_NDP_Government_Kindle_Edition': 'https://www.amazon.ca/Learned-About-Politics-Rise-Collapse-ebook/dp/B00NA8YI4S/ref=sr_1_980?qid=1700113224&refinements=p_n_binding_browse-bin%3A6202019011&rnid=2366372011&s=books&sr=1-980',\n",
       " 'Alone_Lost_Overboard_in_the_Indian_Ocean_Kindle_Edition': 'https://www.amazon.ca/Alone-Lost-Overboard-Indian-Ocean-ebook/dp/B071YCDWP2/ref=sr_1_981?qid=1700113224&refinements=p_n_binding_browse-bin%3A6202019011&rnid=2366372011&s=books&sr=1-981',\n",
       " 'Churchill_Walking_with_Destiny_Kindle_Edition': 'https://www.amazon.ca/Churchill-Walking-Destiny-Andrew-Roberts-ebook/dp/B07FX4C69J/ref=sr_1_982?qid=1700113224&refinements=p_n_binding_browse-bin%3A6202019011&rnid=2366372011&s=books&sr=1-982',\n",
       " 'Hal_Moore_A_Soldier_Once____And_Always_(Leadership_in_Action_Book_4)_Kindle_Edition': 'https://www.amazon.ca/Hal-Moore-Soldier-Once-Always-ebook/dp/B00GAL89QK/ref=sr_1_983?qid=1700113224&refinements=p_n_binding_browse-bin%3A6202019011&rnid=2366372011&s=books&sr=1-983',\n",
       " 'A_Foot_Soldier_for_Patton_The_Story_of_a_\"Red_Diamond\"_Infantryman_with_the_US_Third_Army_Kindle_Edition': 'https://www.amazon.ca/Foot-Soldier-Patton-Diamond-Infantryman-ebook/dp/B06XPNZZLH/ref=sr_1_984?qid=1700113224&refinements=p_n_binding_browse-bin%3A6202019011&rnid=2366372011&s=books&sr=1-984',\n",
       " 'Goodbye_Vietnam_Kindle_Edition': 'https://www.amazon.ca/Goodbye-Vietnam-William-Broyles-ebook/dp/B00BT3U4SA/ref=sr_1_987?qid=1700113224&refinements=p_n_binding_browse-bin%3A6202019011&rnid=2366372011&s=books&sr=1-987',\n",
       " 'Social_Life_in_Old_New_Orleans_Kindle_Edition': 'https://www.amazon.ca/Social-Life-Old-New-Orleans-ebook/dp/B0BQZ8DWRK/ref=sr_1_988?qid=1700113224&refinements=p_n_binding_browse-bin%3A6202019011&rnid=2366372011&s=books&sr=1-988',\n",
       " 'Sergeant_York_An_American_Hero_Kindle_Edition': 'https://www.amazon.ca/Sergeant-York-American-David-Lee-ebook/dp/B00IX41WZC/ref=sr_1_989?qid=1700113224&refinements=p_n_binding_browse-bin%3A6202019011&rnid=2366372011&s=books&sr=1-989',\n",
       " 'The_Girl_with_the_Lower_Back_Tattoo_Kindle_Edition': 'https://www.amazon.ca/Girl-Lower-Back-Tattoo-ebook/dp/B01CIM1L0U/ref=sr_1_990?qid=1700113224&refinements=p_n_binding_browse-bin%3A6202019011&rnid=2366372011&s=books&sr=1-990',\n",
       " 'North_Finding_My_Way_While_Running_the_Appalachian_Trail_Kindle_Edition': 'https://www.amazon.ca/North-Finding-While-Running-Appalachian-ebook/dp/B01N6Z44OZ/ref=sr_1_991?qid=1700113224&refinements=p_n_binding_browse-bin%3A6202019011&rnid=2366372011&s=books&sr=1-991',\n",
       " 'But_I_Trusted_You_Ann_Rules_Crime_Files_#14_Kindle_Edition': 'https://www.amazon.ca/But-Trusted-You-Rules-Crime-ebook/dp/B002UXRGKM/ref=sr_1_992?qid=1700113224&refinements=p_n_binding_browse-bin%3A6202019011&rnid=2366372011&s=books&sr=1-992',\n",
       " 'Trail_of_the_Lost_The_Relentless_Search_to_Bring_Home_the_Missing_Hikers_of_the_Pacific_Crest_Trail_Kindle_Edition': 'https://www.amazon.ca/Trail-Lost-Relentless-Missing-Pacific-ebook/dp/B0BP2MYKMT/ref=sr_1_993?qid=1700113224&refinements=p_n_binding_browse-bin%3A6202019011&rnid=2366372011&s=books&sr=1-993',\n",
       " 'Destined_to_Survive_A_Dieppe_Veterans_Story_Kindle_Edition': 'https://www.amazon.ca/Destined-Survive-Dieppe-Veterans-Story-ebook/dp/B00AKAE8AI/ref=sr_1_994?qid=1700113224&refinements=p_n_binding_browse-bin%3A6202019011&rnid=2366372011&s=books&sr=1-994',\n",
       " 'Nothing_Is_Strange_with_You_The_Life_and_Crimes_of_Gordon_Stewart_Northcott_Kindle_Edition': 'https://www.amazon.ca/Nothing-Strange-You-Stewart-Northcott-ebook/dp/B079KGVM32/ref=sr_1_993?qid=1700113231&refinements=p_n_binding_browse-bin%3A6202019011&rnid=2366372011&s=books&sr=1-993',\n",
       " 'First_Family_Abigail_and_John_Adams_Kindle_Edition': 'https://www.amazon.ca/First-Family-Abigail-John-Adams-ebook/dp/B003F3PLLW/ref=sr_1_994?qid=1700113231&refinements=p_n_binding_browse-bin%3A6202019011&rnid=2366372011&s=books&sr=1-994',\n",
       " 'The_Military_Life_&_Times_of_General_Sir_Miles_Dempsey_GBE_KCB_DSO_MC_Montys_Army_Commander_Kindle_Edition': 'https://www.amazon.ca/Military-Times-General-Miles-Dempsey-ebook/dp/B00ADXJW12/ref=sr_1_995?qid=1700113231&refinements=p_n_binding_browse-bin%3A6202019011&rnid=2366372011&s=books&sr=1-995',\n",
       " 'Kingdom_of_Fear_Loathsome_Secrets_of_a_Star__Crossed_Child_in_the_Final_Days_of_the_American_Century_Kindle_Edition': 'https://www.amazon.ca/Kingdom-Fear-Loathsome-Star-Crossed-American-ebook/dp/B005HF3P2S/ref=sr_1_996?qid=1700113231&refinements=p_n_binding_browse-bin%3A6202019011&rnid=2366372011&s=books&sr=1-996',\n",
       " 'Rambling_Man_My_Life_on_the_Road_Kindle_Edition': 'https://www.amazon.ca/Rambling-Man-My-Life-Road-ebook/dp/B0CBRP8XQT/ref=sr_1_997?qid=1700113231&refinements=p_n_binding_browse-bin%3A6202019011&rnid=2366372011&s=books&sr=1-997',\n",
       " 'The_Blue_Shirts_Adrien_Arcand_and_Fascist_Anti__Semitism_in_Canada_(Canadian_Studies)_Kindle_Edition': 'https://www.amazon.ca/Blue-Shirts-Fascist-Anti-Semitism-Canadian-ebook/dp/B07CCFXYZC/ref=sr_1_998?qid=1700113231&refinements=p_n_binding_browse-bin%3A6202019011&rnid=2366372011&s=books&sr=1-998',\n",
       " 'Jacob_Isaac_Segal_A_Montreal_Yiddish_Poet_and_His_Milieu_(Canadian_Studies)_Kindle_Edition': 'https://www.amazon.ca/Jacob-Isaac-Segal-Montreal-Canadian-ebook/dp/B076FDZDFH/ref=sr_1_999?qid=1700113231&refinements=p_n_binding_browse-bin%3A6202019011&rnid=2366372011&s=books&sr=1-999',\n",
       " 'Itinéraire_dun_flic_de_terrain_Des_cités_jusquau_Bataclan_(French_Edition)_Kindle_Edition': 'https://www.amazon.ca/Itin%C3%A9raire-dun-flic-terrain-Bataclan-ebook/dp/B0CLBR8XHH/ref=sr_1_1000?qid=1700113231&refinements=p_n_binding_browse-bin%3A6202019011&rnid=2366372011&s=books&sr=1-1000',\n",
       " 'The_Real_Work_On_the_Mystery_of_Mastery_Kindle_Edition': 'https://www.amazon.ca/Real-Work-Mystery-Mastery-ebook/dp/B0B3GP2S88/ref=sr_1_1003?qid=1700113231&refinements=p_n_binding_browse-bin%3A6202019011&rnid=2366372011&s=books&sr=1-1003',\n",
       " 'How_to_Live_A_Life_of_Montaigne_in_one_question_and_twenty_attempts_at_an_answer_Kindle_Edition': 'https://www.amazon.ca/How-Live-Montaigne-question-attempts-ebook/dp/B004URRVBK/ref=sr_1_1004?qid=1700113231&refinements=p_n_binding_browse-bin%3A6202019011&rnid=2366372011&s=books&sr=1-1004',\n",
       " 'Elon_Musk_Tesla_SpaceX_and_the_Quest_for_a_Fantastic_Future_Kindle_Edition': 'https://www.amazon.ca/Elon-Musk-SpaceX-Fantastic-Future-ebook/dp/B00KVI76ZS/ref=sr_1_1005?qid=1700113231&refinements=p_n_binding_browse-bin%3A6202019011&rnid=2366372011&s=books&sr=1-1005',\n",
       " 'Its_What_I_Do_A_Photographers_Life_of_Love_and_War_Kindle_Edition': 'https://www.amazon.ca/Its-What-Do-Photographers-Life-ebook/dp/B00L9B7CSM/ref=sr_1_1006?qid=1700113231&refinements=p_n_binding_browse-bin%3A6202019011&rnid=2366372011&s=books&sr=1-1006',\n",
       " 'The_Patriarch_The_Remarkable_Life_and_Turbulent_Times_of_Joseph_P_Kennedy_Kindle_Edition': 'https://www.amazon.ca/Patriarch-Remarkable-Turbulent-Joseph-Kennedy-ebook/dp/B007V65PBA/ref=sr_1_1007?qid=1700113231&refinements=p_n_binding_browse-bin%3A6202019011&rnid=2366372011&s=books&sr=1-1007',\n",
       " ...}"
      ]
     },
     "execution_count": 163,
     "metadata": {},
     "output_type": "execute_result"
    }
   ],
   "source": [
    "bookTitleUrlDict"
   ]
  }
 ],
 "metadata": {
  "kernelspec": {
   "display_name": ".venv",
   "language": "python",
   "name": "python3"
  },
  "language_info": {
   "codemirror_mode": {
    "name": "ipython",
    "version": 3
   },
   "file_extension": ".py",
   "mimetype": "text/x-python",
   "name": "python",
   "nbconvert_exporter": "python",
   "pygments_lexer": "ipython3",
   "version": "3.11.2"
  }
 },
 "nbformat": 4,
 "nbformat_minor": 2
}
